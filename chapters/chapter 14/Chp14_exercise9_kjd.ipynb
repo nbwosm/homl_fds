{
  "nbformat": 4,
  "nbformat_minor": 0,
  "metadata": {
    "colab": {
      "name": "HOML Ch.14 Exercise 9.ipynb",
      "provenance": [],
      "collapsed_sections": []
    },
    "kernelspec": {
      "name": "python3",
      "display_name": "Python 3"
    },
    "language_info": {
      "name": "python"
    },
    "accelerator": "GPU"
  },
  "cells": [
    {
      "cell_type": "markdown",
      "metadata": {
        "id": "uGjm01GPNN7v"
      },
      "source": [
        "# HOML Ch.14 Exercise 9\n",
        "\n",
        "### Exercise: Build your own CNN from scratch and try to achieve the highest possible accuracy on MNIST."
      ]
    },
    {
      "cell_type": "code",
      "metadata": {
        "id": "Tac89nr0uJo7"
      },
      "source": [
        "import tensorflow as tf\n",
        "from tensorflow import keras\n",
        "from tensorflow.keras import layers"
      ],
      "execution_count": null,
      "outputs": []
    },
    {
      "cell_type": "code",
      "metadata": {
        "id": "MDqM3Y8muJwq"
      },
      "source": [
        "import os\n",
        "import random\n",
        "import numpy as np\n",
        "import pandas as pd\n",
        "import matplotlib.pyplot as plt\n",
        "%matplotlib inline\n",
        "import seaborn as sns\n",
        "sns.set()"
      ],
      "execution_count": null,
      "outputs": []
    },
    {
      "cell_type": "code",
      "metadata": {
        "id": "CXru0BQblRam"
      },
      "source": [
        "tf.random.set_seed(999)\n",
        "np.random.seed(999)"
      ],
      "execution_count": null,
      "outputs": []
    },
    {
      "cell_type": "markdown",
      "metadata": {
        "id": "6ENbAoKpNlFu"
      },
      "source": [
        "Let's start by loading the dataset, rescaling it, and splitting it into training, validation, and test sets."
      ]
    },
    {
      "cell_type": "code",
      "metadata": {
        "colab": {
          "base_uri": "https://localhost:8080/"
        },
        "id": "_a_EJucerJPA",
        "outputId": "71cb0a9b-a15f-41a8-a071-8b10c377e36f"
      },
      "source": [
        "(X_train_all, y_train_all), (X_test, y_test) = keras.datasets.mnist.load_data()\n",
        "X_train_all = X_train_all / 255.\n",
        "X_test = X_test / 255.\n",
        "X_train, X_val = X_train_all[:-5000], X_train_all[-5000:]\n",
        "y_train, y_val = y_train_all[:-5000], y_train_all[-5000:]"
      ],
      "execution_count": null,
      "outputs": [
        {
          "output_type": "stream",
          "text": [
            "Downloading data from https://storage.googleapis.com/tensorflow/tf-keras-datasets/mnist.npz\n",
            "11493376/11490434 [==============================] - 0s 0us/step\n"
          ],
          "name": "stdout"
        }
      ]
    },
    {
      "cell_type": "markdown",
      "metadata": {
        "id": "ryapX02QORpL"
      },
      "source": [
        "We need to convert this to a 2d array, which we can do with np.newaxis."
      ]
    },
    {
      "cell_type": "code",
      "metadata": {
        "id": "gJRPz7gAsOXH"
      },
      "source": [
        "# Add additional dimensions: https://note.nkmk.me/en/python-numpy-newaxis/\n",
        "X_train = X_train[..., np.newaxis]\n",
        "X_val = X_val[..., np.newaxis]\n",
        "X_test = X_test[..., np.newaxis]"
      ],
      "execution_count": null,
      "outputs": []
    },
    {
      "cell_type": "markdown",
      "metadata": {
        "id": "Nsv6Ny0GOqvY"
      },
      "source": [
        "To construct our model, we're going to build upon a model that the author built with which he achieved 99.2% accuracy. We'll add an additional Conv2D 128 layer to the existing Conv2D layers and repeat the three layers, putting a max pooling layer after each set of three convolutional layers. \n",
        "\n",
        "The author mentioned that 99.5% accuracy may be possible if batch normalization, which standardizes the inputs and speeds up training, is added (in addition to data augmentation, a learning rate scheduler, and using an ensemble model). So, we've added a couple of batch norm layers - one after the Flatten layer and another after the Dense ReLU layer."
      ]
    },
    {
      "cell_type": "code",
      "metadata": {
        "id": "BiZDYnAxsOc-"
      },
      "source": [
        "model = keras.models.Sequential([\n",
        "    keras.layers.Conv2D(32, kernel_size=3, padding=\"same\", activation=\"relu\"),\n",
        "    keras.layers.Conv2D(64, kernel_size=3, padding=\"same\", activation=\"relu\"),\n",
        "    keras.layers.Conv2D(128, kernel_size=3, padding=\"same\", activation=\"relu\"),\n",
        "    keras.layers.MaxPool2D(),\n",
        "    keras.layers.Conv2D(32, kernel_size=3, padding=\"same\", activation=\"relu\"),\n",
        "    keras.layers.Conv2D(64, kernel_size=3, padding=\"same\", activation=\"relu\"),\n",
        "    keras.layers.Conv2D(128, kernel_size=3, padding=\"same\", activation=\"relu\"),\n",
        "    keras.layers.MaxPool2D(),\n",
        "    keras.layers.Flatten(),\n",
        "    keras.layers.BatchNormalization(),\n",
        "    keras.layers.Dropout(0.25),\n",
        "    keras.layers.Dense(128, activation=\"relu\"),\n",
        "    keras.layers.BatchNormalization(),\n",
        "    keras.layers.Dropout(0.5),\n",
        "    keras.layers.Dense(10, activation=\"softmax\")\n",
        "])"
      ],
      "execution_count": null,
      "outputs": []
    },
    {
      "cell_type": "markdown",
      "metadata": {
        "id": "Q7rJCUGmQlYc"
      },
      "source": [
        "We'll add a Model Checkpoint callback to save the model with the best validation loss."
      ]
    },
    {
      "cell_type": "code",
      "metadata": {
        "id": "fvl_csSUhS1R"
      },
      "source": [
        "mod_chkpnt = keras.callbacks.ModelCheckpoint(\"mnist_model.h5\", save_best_only=True)"
      ],
      "execution_count": null,
      "outputs": []
    },
    {
      "cell_type": "markdown",
      "metadata": {
        "id": "T8WZgBPURfYG"
      },
      "source": [
        "We'll use a Nadam optimizer with the default learning rate of 0.001."
      ]
    },
    {
      "cell_type": "code",
      "metadata": {
        "id": "vHuXyw_fuzhJ"
      },
      "source": [
        "optimizer = keras.optimizers.Nadam(learning_rate=0.001)\n",
        "model.compile(loss=\"sparse_categorical_crossentropy\", optimizer=optimizer,\n",
        "              metrics=[\"accuracy\"])"
      ],
      "execution_count": null,
      "outputs": []
    },
    {
      "cell_type": "code",
      "metadata": {
        "colab": {
          "base_uri": "https://localhost:8080/"
        },
        "id": "JzzyIizMu1GC",
        "outputId": "25617006-2e8f-4fe0-fe71-8f7f678802bd"
      },
      "source": [
        "model.fit(X_train, y_train, epochs=10, validation_data=(X_val, y_val), callbacks=[mod_chkpnt])"
      ],
      "execution_count": null,
      "outputs": [
        {
          "output_type": "stream",
          "text": [
            "Epoch 1/10\n",
            "1719/1719 [==============================] - 51s 10ms/step - loss: 0.1438 - accuracy: 0.9572 - val_loss: 0.0443 - val_accuracy: 0.9864\n",
            "Epoch 2/10\n",
            "1719/1719 [==============================] - 17s 10ms/step - loss: 0.0664 - accuracy: 0.9797 - val_loss: 0.0398 - val_accuracy: 0.9900\n",
            "Epoch 3/10\n",
            "1719/1719 [==============================] - 17s 10ms/step - loss: 0.0559 - accuracy: 0.9831 - val_loss: 0.0341 - val_accuracy: 0.9898\n",
            "Epoch 4/10\n",
            "1719/1719 [==============================] - 17s 10ms/step - loss: 0.0463 - accuracy: 0.9856 - val_loss: 0.0433 - val_accuracy: 0.9896\n",
            "Epoch 5/10\n",
            "1719/1719 [==============================] - 17s 10ms/step - loss: 0.0409 - accuracy: 0.9878 - val_loss: 0.0312 - val_accuracy: 0.9928\n",
            "Epoch 6/10\n",
            "1719/1719 [==============================] - 17s 10ms/step - loss: 0.0366 - accuracy: 0.9888 - val_loss: 0.0340 - val_accuracy: 0.9902\n",
            "Epoch 7/10\n",
            "1719/1719 [==============================] - 17s 10ms/step - loss: 0.0367 - accuracy: 0.9888 - val_loss: 0.0292 - val_accuracy: 0.9928\n",
            "Epoch 8/10\n",
            "1719/1719 [==============================] - 17s 10ms/step - loss: 0.0312 - accuracy: 0.9904 - val_loss: 0.0244 - val_accuracy: 0.9946\n",
            "Epoch 9/10\n",
            "1719/1719 [==============================] - 17s 10ms/step - loss: 0.0325 - accuracy: 0.9894 - val_loss: 0.0276 - val_accuracy: 0.9928\n",
            "Epoch 10/10\n",
            "1719/1719 [==============================] - 17s 10ms/step - loss: 0.0288 - accuracy: 0.9914 - val_loss: 0.0288 - val_accuracy: 0.9922\n"
          ],
          "name": "stdout"
        },
        {
          "output_type": "execute_result",
          "data": {
            "text/plain": [
              "<tensorflow.python.keras.callbacks.History at 0x7f5640387f90>"
            ]
          },
          "metadata": {
            "tags": []
          },
          "execution_count": 9
        }
      ]
    },
    {
      "cell_type": "code",
      "metadata": {
        "id": "7Vr5BBMEjJ30"
      },
      "source": [
        "model = keras.models.load_model(\"mnist_model.h5\")"
      ],
      "execution_count": null,
      "outputs": []
    },
    {
      "cell_type": "code",
      "metadata": {
        "colab": {
          "base_uri": "https://localhost:8080/"
        },
        "id": "WwkpxEpwsOfy",
        "outputId": "b99e8e47-5875-4196-e2a1-ae95451b1ecd"
      },
      "source": [
        "model.evaluate(X_test, y_test)"
      ],
      "execution_count": null,
      "outputs": [
        {
          "output_type": "stream",
          "text": [
            "313/313 [==============================] - 1s 4ms/step - loss: 0.0189 - accuracy: 0.9937\n"
          ],
          "name": "stdout"
        },
        {
          "output_type": "execute_result",
          "data": {
            "text/plain": [
              "[0.018855394795536995, 0.9937000274658203]"
            ]
          },
          "metadata": {
            "tags": []
          },
          "execution_count": 11
        }
      ]
    },
    {
      "cell_type": "markdown",
      "metadata": {
        "id": "M64hP_YORv87"
      },
      "source": [
        "With the additonal layers, we've already achieved a slightly higher accuracy than the author - 99.3%. The author suggested that we can potentially achieve at least 99.5% accuracy if we also use a learning rate scheduler to find an optimal learning rate. Let's try that below."
      ]
    },
    {
      "cell_type": "code",
      "metadata": {
        "id": "J6225gORsOaE"
      },
      "source": [
        "keras.backend.clear_session()\n",
        "tf.random.set_seed(999)\n",
        "np.random.seed(999)"
      ],
      "execution_count": null,
      "outputs": []
    },
    {
      "cell_type": "code",
      "metadata": {
        "colab": {
          "base_uri": "https://localhost:8080/"
        },
        "id": "M7-Wf_7slRl5",
        "outputId": "3becdd6f-7dda-42eb-d873-23bce2c04148"
      },
      "source": [
        "# Learning rate scheduler that drops the learning rate based on the factor and patience (after how many epochs)\n",
        "lr_scheduler = keras.callbacks.ReduceLROnPlateau(factor=0.3, patience=3)\n",
        "\n",
        "model = keras.models.Sequential([\n",
        "    keras.layers.Conv2D(32, kernel_size=3, padding=\"same\", activation=\"relu\"),\n",
        "    keras.layers.Conv2D(64, kernel_size=3, padding=\"same\", activation=\"relu\"),\n",
        "    keras.layers.Conv2D(128, kernel_size=3, padding=\"same\", activation=\"relu\"),\n",
        "    keras.layers.MaxPool2D(),\n",
        "    keras.layers.Conv2D(32, kernel_size=3, padding=\"same\", activation=\"relu\"),\n",
        "    keras.layers.Conv2D(64, kernel_size=3, padding=\"same\", activation=\"relu\"),\n",
        "    keras.layers.Conv2D(128, kernel_size=3, padding=\"same\", activation=\"relu\"),\n",
        "    keras.layers.MaxPool2D(),\n",
        "    keras.layers.Flatten(),\n",
        "    keras.layers.BatchNormalization(),\n",
        "    keras.layers.Dropout(0.25),\n",
        "    keras.layers.Dense(128, activation=\"relu\"),\n",
        "    keras.layers.BatchNormalization(),\n",
        "    keras.layers.Dropout(0.5),\n",
        "    keras.layers.Dense(10, activation=\"softmax\")\n",
        "])\n",
        "\n",
        "optimizer = keras.optimizers.Nadam(learning_rate=0.001)\n",
        "model.compile(loss=\"sparse_categorical_crossentropy\", optimizer=optimizer, metrics=[\"accuracy\"])\n",
        "\n",
        "n_epochs = 25\n",
        "\n",
        "history = model.fit(X_train, y_train, epochs=n_epochs,\n",
        "                    validation_data=(X_val, y_val),\n",
        "                    callbacks=[lr_scheduler])"
      ],
      "execution_count": null,
      "outputs": [
        {
          "output_type": "stream",
          "text": [
            "Epoch 1/25\n",
            "1719/1719 [==============================] - 19s 10ms/step - loss: 0.1448 - accuracy: 0.9564 - val_loss: 0.0347 - val_accuracy: 0.9908\n",
            "Epoch 2/25\n",
            "1719/1719 [==============================] - 17s 10ms/step - loss: 0.0692 - accuracy: 0.9795 - val_loss: 0.0412 - val_accuracy: 0.9890\n",
            "Epoch 3/25\n",
            "1719/1719 [==============================] - 17s 10ms/step - loss: 0.0561 - accuracy: 0.9834 - val_loss: 0.0291 - val_accuracy: 0.9900\n",
            "Epoch 4/25\n",
            "1719/1719 [==============================] - 17s 10ms/step - loss: 0.0480 - accuracy: 0.9849 - val_loss: 0.0535 - val_accuracy: 0.9844\n",
            "Epoch 5/25\n",
            "1719/1719 [==============================] - 17s 10ms/step - loss: 0.0434 - accuracy: 0.9869 - val_loss: 0.0357 - val_accuracy: 0.9918\n",
            "Epoch 6/25\n",
            "1719/1719 [==============================] - 17s 10ms/step - loss: 0.0388 - accuracy: 0.9875 - val_loss: 0.0395 - val_accuracy: 0.9890\n",
            "Epoch 7/25\n",
            "1719/1719 [==============================] - 17s 10ms/step - loss: 0.0243 - accuracy: 0.9923 - val_loss: 0.0212 - val_accuracy: 0.9942\n",
            "Epoch 8/25\n",
            "1719/1719 [==============================] - 17s 10ms/step - loss: 0.0198 - accuracy: 0.9940 - val_loss: 0.0220 - val_accuracy: 0.9944\n",
            "Epoch 9/25\n",
            "1719/1719 [==============================] - 17s 10ms/step - loss: 0.0155 - accuracy: 0.9954 - val_loss: 0.0269 - val_accuracy: 0.9938\n",
            "Epoch 10/25\n",
            "1719/1719 [==============================] - 17s 10ms/step - loss: 0.0156 - accuracy: 0.9953 - val_loss: 0.0212 - val_accuracy: 0.9952\n",
            "Epoch 11/25\n",
            "1719/1719 [==============================] - 17s 10ms/step - loss: 0.0113 - accuracy: 0.9965 - val_loss: 0.0208 - val_accuracy: 0.9954\n",
            "Epoch 12/25\n",
            "1719/1719 [==============================] - 17s 10ms/step - loss: 0.0089 - accuracy: 0.9972 - val_loss: 0.0187 - val_accuracy: 0.9952\n",
            "Epoch 13/25\n",
            "1719/1719 [==============================] - 17s 10ms/step - loss: 0.0080 - accuracy: 0.9973 - val_loss: 0.0209 - val_accuracy: 0.9956\n",
            "Epoch 14/25\n",
            "1719/1719 [==============================] - 17s 10ms/step - loss: 0.0078 - accuracy: 0.9974 - val_loss: 0.0218 - val_accuracy: 0.9952\n",
            "Epoch 15/25\n",
            "1719/1719 [==============================] - 17s 10ms/step - loss: 0.0067 - accuracy: 0.9980 - val_loss: 0.0217 - val_accuracy: 0.9954\n",
            "Epoch 16/25\n",
            "1719/1719 [==============================] - 17s 10ms/step - loss: 0.0062 - accuracy: 0.9983 - val_loss: 0.0215 - val_accuracy: 0.9954\n",
            "Epoch 17/25\n",
            "1719/1719 [==============================] - 17s 10ms/step - loss: 0.0063 - accuracy: 0.9982 - val_loss: 0.0210 - val_accuracy: 0.9956\n",
            "Epoch 18/25\n",
            "1719/1719 [==============================] - 17s 10ms/step - loss: 0.0054 - accuracy: 0.9983 - val_loss: 0.0215 - val_accuracy: 0.9960\n",
            "Epoch 19/25\n",
            "1719/1719 [==============================] - 17s 10ms/step - loss: 0.0049 - accuracy: 0.9985 - val_loss: 0.0216 - val_accuracy: 0.9956\n",
            "Epoch 20/25\n",
            "1719/1719 [==============================] - 17s 10ms/step - loss: 0.0055 - accuracy: 0.9982 - val_loss: 0.0210 - val_accuracy: 0.9958\n",
            "Epoch 21/25\n",
            "1719/1719 [==============================] - 17s 10ms/step - loss: 0.0045 - accuracy: 0.9987 - val_loss: 0.0210 - val_accuracy: 0.9954\n",
            "Epoch 22/25\n",
            "1719/1719 [==============================] - 17s 10ms/step - loss: 0.0057 - accuracy: 0.9982 - val_loss: 0.0211 - val_accuracy: 0.9956\n",
            "Epoch 23/25\n",
            "1719/1719 [==============================] - 17s 10ms/step - loss: 0.0048 - accuracy: 0.9987 - val_loss: 0.0208 - val_accuracy: 0.9956\n",
            "Epoch 24/25\n",
            "1719/1719 [==============================] - 17s 10ms/step - loss: 0.0050 - accuracy: 0.9985 - val_loss: 0.0207 - val_accuracy: 0.9954\n",
            "Epoch 25/25\n",
            "1719/1719 [==============================] - 17s 10ms/step - loss: 0.0049 - accuracy: 0.9986 - val_loss: 0.0207 - val_accuracy: 0.9958\n"
          ],
          "name": "stdout"
        }
      ]
    },
    {
      "cell_type": "code",
      "metadata": {
        "colab": {
          "base_uri": "https://localhost:8080/",
          "height": 628
        },
        "id": "g5urZ1cLlRpI",
        "outputId": "86f8496c-f8f5-4b9b-e19f-ddc0b9ef3be9"
      },
      "source": [
        "# Graph learning rate scheduler results\n",
        "plt.figure(figsize=(15, 10))\n",
        "plt.plot(history.epoch, history.history[\"lr\"], \"bo-\")\n",
        "plt.xlabel(\"Epoch\")\n",
        "plt.ylabel(\"Learning Rate\", color='b')\n",
        "plt.tick_params('y', colors='b')\n",
        "plt.gca().set_xlim(0, n_epochs - 1)\n",
        "plt.grid(True)\n",
        "\n",
        "ax2 = plt.gca().twinx()\n",
        "ax2.plot(history.epoch, history.history[\"val_loss\"], \"r^-\")\n",
        "ax2.set_ylabel('Validation Loss', color='r')\n",
        "ax2.tick_params('y', colors='r')\n",
        "\n",
        "plt.title(\"Reduce LR on Plateau\", fontsize=14)\n",
        "plt.show()"
      ],
      "execution_count": null,
      "outputs": [
        {
          "output_type": "display_data",
          "data": {
            "image/png": "[encoded data removed]",
            "text/plain": [
              "<Figure size 1080x720 with 2 Axes>"
            ]
          },
          "metadata": {
            "tags": []
          }
        }
      ]
    },
    {
      "cell_type": "markdown",
      "metadata": {
        "id": "wdr_01iYStAb"
      },
      "source": [
        "The learning scheduler rate results suggest that our optimal learning rate should be 0.0001. Let's rerun the model with this new value."
      ]
    },
    {
      "cell_type": "code",
      "metadata": {
        "id": "Ef2WY7WYlRru"
      },
      "source": [
        "keras.backend.clear_session()\n",
        "tf.random.set_seed(999)\n",
        "np.random.seed(999)"
      ],
      "execution_count": null,
      "outputs": []
    },
    {
      "cell_type": "code",
      "metadata": {
        "id": "icErbTAflRum"
      },
      "source": [
        "model = keras.models.Sequential([\n",
        "    keras.layers.Conv2D(32, kernel_size=3, padding=\"same\", activation=\"relu\"),\n",
        "    keras.layers.Conv2D(64, kernel_size=3, padding=\"same\", activation=\"relu\"),\n",
        "    keras.layers.Conv2D(128, kernel_size=3, padding=\"same\", activation=\"relu\"),\n",
        "    keras.layers.MaxPool2D(),\n",
        "    keras.layers.Conv2D(32, kernel_size=3, padding=\"same\", activation=\"relu\"),\n",
        "    keras.layers.Conv2D(64, kernel_size=3, padding=\"same\", activation=\"relu\"),\n",
        "    keras.layers.Conv2D(128, kernel_size=3, padding=\"same\", activation=\"relu\"),\n",
        "    keras.layers.MaxPool2D(),\n",
        "    keras.layers.Flatten(),\n",
        "    keras.layers.BatchNormalization(),\n",
        "    keras.layers.Dropout(0.25),\n",
        "    keras.layers.Dense(128, activation=\"relu\"),\n",
        "    keras.layers.BatchNormalization(),\n",
        "    keras.layers.Dropout(0.5),\n",
        "    keras.layers.Dense(10, activation=\"softmax\")\n",
        "])\n",
        "\n",
        "optimizer = keras.optimizers.Nadam(learning_rate=0.0001)\n",
        "model.compile(loss=\"sparse_categorical_crossentropy\", optimizer=optimizer,\n",
        "              metrics=[\"accuracy\"])"
      ],
      "execution_count": null,
      "outputs": []
    },
    {
      "cell_type": "code",
      "metadata": {
        "colab": {
          "base_uri": "https://localhost:8080/"
        },
        "id": "1q509XIbNXSK",
        "outputId": "0530e23f-cb42-46e7-d41f-c28cbb49f6d9"
      },
      "source": [
        "model.fit(X_train, y_train, epochs=15, validation_data=(X_val, y_val), callbacks=[mod_chkpnt])"
      ],
      "execution_count": null,
      "outputs": [
        {
          "output_type": "stream",
          "text": [
            "Epoch 1/15\n",
            "1719/1719 [==============================] - 19s 10ms/step - loss: 0.2333 - accuracy: 0.9288 - val_loss: 0.0424 - val_accuracy: 0.9884\n",
            "Epoch 2/15\n",
            "1719/1719 [==============================] - 17s 10ms/step - loss: 0.0809 - accuracy: 0.9758 - val_loss: 0.0315 - val_accuracy: 0.9914\n",
            "Epoch 3/15\n",
            "1719/1719 [==============================] - 17s 10ms/step - loss: 0.0589 - accuracy: 0.9825 - val_loss: 0.0261 - val_accuracy: 0.9920\n",
            "Epoch 4/15\n",
            "1719/1719 [==============================] - 17s 10ms/step - loss: 0.0472 - accuracy: 0.9857 - val_loss: 0.0383 - val_accuracy: 0.9880\n",
            "Epoch 5/15\n",
            "1719/1719 [==============================] - 17s 10ms/step - loss: 0.0406 - accuracy: 0.9876 - val_loss: 0.0290 - val_accuracy: 0.9912\n",
            "Epoch 6/15\n",
            "1719/1719 [==============================] - 17s 10ms/step - loss: 0.0342 - accuracy: 0.9901 - val_loss: 0.0270 - val_accuracy: 0.9924\n",
            "Epoch 7/15\n",
            "1719/1719 [==============================] - 17s 10ms/step - loss: 0.0297 - accuracy: 0.9910 - val_loss: 0.0218 - val_accuracy: 0.9942\n",
            "Epoch 8/15\n",
            "1719/1719 [==============================] - 17s 10ms/step - loss: 0.0268 - accuracy: 0.9916 - val_loss: 0.0200 - val_accuracy: 0.9944\n",
            "Epoch 9/15\n",
            "1719/1719 [==============================] - 17s 10ms/step - loss: 0.0220 - accuracy: 0.9934 - val_loss: 0.0208 - val_accuracy: 0.9942\n",
            "Epoch 10/15\n",
            "1719/1719 [==============================] - 17s 10ms/step - loss: 0.0196 - accuracy: 0.9939 - val_loss: 0.0193 - val_accuracy: 0.9956\n",
            "Epoch 11/15\n",
            "1719/1719 [==============================] - 17s 10ms/step - loss: 0.0204 - accuracy: 0.9937 - val_loss: 0.0203 - val_accuracy: 0.9944\n",
            "Epoch 12/15\n",
            "1719/1719 [==============================] - 17s 10ms/step - loss: 0.0167 - accuracy: 0.9949 - val_loss: 0.0190 - val_accuracy: 0.9954\n",
            "Epoch 13/15\n",
            "1719/1719 [==============================] - 17s 10ms/step - loss: 0.0155 - accuracy: 0.9952 - val_loss: 0.0284 - val_accuracy: 0.9930\n",
            "Epoch 14/15\n",
            "1719/1719 [==============================] - 17s 10ms/step - loss: 0.0145 - accuracy: 0.9956 - val_loss: 0.0192 - val_accuracy: 0.9950\n",
            "Epoch 15/15\n",
            "1719/1719 [==============================] - 17s 10ms/step - loss: 0.0125 - accuracy: 0.9956 - val_loss: 0.0238 - val_accuracy: 0.9938\n"
          ],
          "name": "stdout"
        },
        {
          "output_type": "execute_result",
          "data": {
            "text/plain": [
              "<tensorflow.python.keras.callbacks.History at 0x7f55f88e0e10>"
            ]
          },
          "metadata": {
            "tags": []
          },
          "execution_count": 17
        }
      ]
    },
    {
      "cell_type": "code",
      "metadata": {
        "id": "fTfpSupDlRxa"
      },
      "source": [
        "model = keras.models.load_model(\"mnist_model.h5\")"
      ],
      "execution_count": null,
      "outputs": []
    },
    {
      "cell_type": "code",
      "metadata": {
        "colab": {
          "base_uri": "https://localhost:8080/"
        },
        "id": "ERpz1GmJlR0X",
        "outputId": "cbe24000-9eff-4208-c9c9-c28e18cc82d9"
      },
      "source": [
        "model.evaluate(X_test, y_test)"
      ],
      "execution_count": null,
      "outputs": [
        {
          "output_type": "stream",
          "text": [
            "313/313 [==============================] - 1s 4ms/step - loss: 0.0152 - accuracy: 0.9951\n"
          ],
          "name": "stdout"
        },
        {
          "output_type": "execute_result",
          "data": {
            "text/plain": [
              "[0.01516395527869463, 0.9951000213623047]"
            ]
          },
          "metadata": {
            "tags": []
          },
          "execution_count": 20
        }
      ]
    },
    {
      "cell_type": "markdown",
      "metadata": {
        "id": "Jh2Kn3nSccbg"
      },
      "source": [
        "As the author suggested, the learning rate scheduler helped. We were able to achieve 99.5% accuracy. He also recommended trying data augmentation and building an ensemble model. For the sake of time, we'll save those suggestions for a later time if we choose to revisit this exercise."
      ]
    }
  ]
}
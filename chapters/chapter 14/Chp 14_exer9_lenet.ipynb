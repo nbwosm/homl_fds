{
 "cells": [
  {
   "cell_type": "markdown",
   "metadata": {},
   "source": [
    "## Chapter 14: exercise 9 create CNN from scratch"
   ]
  },
  {
   "cell_type": "code",
   "execution_count": 4,
   "metadata": {
    "id": "m-9fDyU6asAQ"
   },
   "outputs": [],
   "source": [
    "import numpy as np\n",
    "import pandas as pd\n",
    "import os\n",
    "import sklearn\n",
    "import tensorflow as tf\n",
    "from tensorflow import keras"
   ]
  },
  {
   "cell_type": "code",
   "execution_count": 5,
   "metadata": {
    "id": "SnGd31qaawUq"
   },
   "outputs": [],
   "source": [
    "# To plot pretty figures\n",
    "%matplotlib inline\n",
    "import matplotlib as mpl\n",
    "import matplotlib.pyplot as plt\n",
    "mpl.rc('axes', labelsize=14)\n",
    "mpl.rc('xtick', labelsize=12)\n",
    "mpl.rc('ytick', labelsize=12)"
   ]
  },
  {
   "cell_type": "code",
   "execution_count": 6,
   "metadata": {
    "colab": {
     "base_uri": "https://localhost:8080/"
    },
    "id": "nt2Rz05Ha0j5",
    "outputId": "ed03acc8-af69-49a1-b47d-8578ec007130"
   },
   "outputs": [
    {
     "name": "stdout",
     "output_type": "stream",
     "text": [
      "Downloading data from https://storage.googleapis.com/tensorflow/tf-keras-datasets/train-labels-idx1-ubyte.gz\n",
      "32768/29515 [=================================] - 0s 0us/step\n",
      "Downloading data from https://storage.googleapis.com/tensorflow/tf-keras-datasets/train-images-idx3-ubyte.gz\n",
      "26427392/26421880 [==============================] - 1s 0us/step\n",
      "Downloading data from https://storage.googleapis.com/tensorflow/tf-keras-datasets/t10k-labels-idx1-ubyte.gz\n",
      "8192/5148 [===============================================] - 0s 0us/step\n",
      "Downloading data from https://storage.googleapis.com/tensorflow/tf-keras-datasets/t10k-images-idx3-ubyte.gz\n",
      "4423680/4422102 [==============================] - 0s 0us/step\n"
     ]
    }
   ],
   "source": [
    "(X_train_full, y_train_full), (X_test, y_test) = keras.datasets.fashion_mnist.load_data()\n",
    "X_train, X_valid = X_train_full[:-5000], X_train_full[-5000:]\n",
    "y_train, y_valid = y_train_full[:-5000], y_train_full[-5000:]\n",
    "\n",
    "X_mean = X_train.mean(axis=0, keepdims=True)\n",
    "X_std = X_train.std(axis=0, keepdims=True) + 1e-7\n",
    "X_train = (X_train - X_mean) / X_std\n",
    "X_valid = (X_valid - X_mean) / X_std\n",
    "X_test = (X_test - X_mean) / X_std\n",
    "\n",
    "X_train = X_train[..., np.newaxis]\n",
    "X_valid = X_valid[..., np.newaxis]\n",
    "X_test = X_test[..., np.newaxis]"
   ]
  },
  {
   "cell_type": "code",
   "execution_count": 7,
   "metadata": {
    "id": "uSZf_JN-a5NJ"
   },
   "outputs": [],
   "source": [
    "keras.backend.clear_session()\n",
    "np.random.seed(42)\n",
    "tf.random.set_seed(42)"
   ]
  },
  {
   "cell_type": "code",
   "execution_count": 8,
   "metadata": {
    "id": "rAy-rWbCa82o"
   },
   "outputs": [],
   "source": [
    "from functools import partial\n",
    "\n",
    "LeNetConv2D = partial(keras.layers.Conv2D,\n",
    "                      kernel_size=5, activation='tanh', \n",
    "                      strides=1, padding=\"SAME\")\n",
    "\n",
    "model = keras.models.Sequential([\n",
    "    keras.layers.ZeroPadding2D(padding=((1,1),(1,1))),\n",
    "    LeNetConv2D(filters=6, input_shape=[32, 32, 1]),\n",
    "    keras.layers.AvgPool2D(pool_size=6, strides=2, padding='same'),\n",
    "    LeNetConv2D(filters=16),\n",
    "    keras.layers.AvgPool2D(pool_size=16, strides=2, padding='same'),\n",
    "    LeNetConv2D(filters=120),\n",
    "    keras.layers.Flatten(),\n",
    "    keras.layers.Dense(units=84, activation='tanh'),\n",
    "    keras.layers.Dense(units=10, activation='softmax')\n",
    "])"
   ]
  },
  {
   "cell_type": "code",
   "execution_count": 9,
   "metadata": {
    "colab": {
     "base_uri": "https://localhost:8080/"
    },
    "id": "gwDP35GlbL0o",
    "outputId": "0c211df5-e15f-43b1-be84-07628be0b51c"
   },
   "outputs": [
    {
     "name": "stdout",
     "output_type": "stream",
     "text": [
      "Epoch 1/10\n",
      "1719/1719 [==============================] - 44s 8ms/step - loss: 0.6546 - accuracy: 0.7576 - val_loss: 0.5349 - val_accuracy: 0.8024\n",
      "Epoch 2/10\n",
      "1719/1719 [==============================] - 13s 8ms/step - loss: 0.4889 - accuracy: 0.8224 - val_loss: 0.4670 - val_accuracy: 0.8224\n",
      "Epoch 3/10\n",
      "1719/1719 [==============================] - 13s 8ms/step - loss: 0.4367 - accuracy: 0.8411 - val_loss: 0.4162 - val_accuracy: 0.8478\n",
      "Epoch 4/10\n",
      "1719/1719 [==============================] - 13s 8ms/step - loss: 0.4041 - accuracy: 0.8527 - val_loss: 0.3987 - val_accuracy: 0.8564\n",
      "Epoch 5/10\n",
      "1719/1719 [==============================] - 13s 8ms/step - loss: 0.3836 - accuracy: 0.8608 - val_loss: 0.3815 - val_accuracy: 0.8606\n",
      "Epoch 6/10\n",
      "1719/1719 [==============================] - 13s 8ms/step - loss: 0.3735 - accuracy: 0.8638 - val_loss: 0.3939 - val_accuracy: 0.8584\n",
      "Epoch 7/10\n",
      "1719/1719 [==============================] - 13s 8ms/step - loss: 0.3643 - accuracy: 0.8677 - val_loss: 0.3722 - val_accuracy: 0.8590\n",
      "Epoch 8/10\n",
      "1719/1719 [==============================] - 13s 8ms/step - loss: 0.3568 - accuracy: 0.8693 - val_loss: 0.3547 - val_accuracy: 0.8704\n",
      "Epoch 9/10\n",
      "1719/1719 [==============================] - 13s 8ms/step - loss: 0.3552 - accuracy: 0.8698 - val_loss: 0.3636 - val_accuracy: 0.8630\n",
      "Epoch 10/10\n",
      "1719/1719 [==============================] - 13s 8ms/step - loss: 0.3532 - accuracy: 0.8707 - val_loss: 0.3623 - val_accuracy: 0.8644\n"
     ]
    }
   ],
   "source": [
    "model.compile(loss=\"sparse_categorical_crossentropy\", optimizer=\"nadam\", metrics=[\"accuracy\"])\n",
    "history = model.fit(X_train, y_train, epochs=10, validation_data=(X_valid, y_valid))"
   ]
  },
  {
   "cell_type": "code",
   "execution_count": 10,
   "metadata": {
    "colab": {
     "base_uri": "https://localhost:8080/",
     "height": 382
    },
    "id": "LOPRUuXpbWAo",
    "outputId": "832adee2-4e69-43e7-bc92-9e2e98a1036c"
   },
   "outputs": [
    {
     "data": {
      "image/png": "[encoded data removed]",
      "text/plain": [
       "<Figure size 864x432 with 1 Axes>"
      ]
     },
     "metadata": {
      "needs_background": "light",
      "tags": []
     },
     "output_type": "display_data"
    }
   ],
   "source": [
    "pd.DataFrame(history.history).plot(figsize = (12,6))\n",
    "plt.grid(True)\n",
    "plt.gca().set_ylim(0,1)\n",
    "plt.show()"
   ]
  },
  {
   "cell_type": "code",
   "execution_count": null,
   "metadata": {
    "id": "jFSbE3Idcg-Z"
   },
   "outputs": [],
   "source": []
  }
 ],
 "metadata": {
  "accelerator": "GPU",
  "colab": {
   "name": "Untitled0.ipynb",
   "provenance": []
  },
  "kernelspec": {
   "display_name": "Python 3",
   "language": "python",
   "name": "python3"
  },
  "language_info": {
   "codemirror_mode": {
    "name": "ipython",
    "version": 3
   },
   "file_extension": ".py",
   "mimetype": "text/x-python",
   "name": "python",
   "nbconvert_exporter": "python",
   "pygments_lexer": "ipython3",
   "version": "3.8.3"
  }
 },
 "nbformat": 4,
 "nbformat_minor": 4
}

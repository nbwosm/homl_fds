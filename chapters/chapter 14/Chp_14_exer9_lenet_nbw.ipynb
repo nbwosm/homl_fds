{
 "cells": [
  {
   "cell_type": "markdown",
   "metadata": {
    "id": "nxTugohGvVxd"
   },
   "source": [
    "## Chapter 14: exercise 9 create CNN from scratch"
   ]
  },
  {
   "cell_type": "code",
   "execution_count": 1,
   "metadata": {
    "id": "m-9fDyU6asAQ"
   },
   "outputs": [],
   "source": [
    "import numpy as np\n",
    "import pandas as pd\n",
    "import os\n",
    "import sklearn\n",
    "import tensorflow as tf\n",
    "from tensorflow import keras"
   ]
  },
  {
   "cell_type": "code",
   "execution_count": 2,
   "metadata": {
    "id": "SnGd31qaawUq"
   },
   "outputs": [],
   "source": [
    "# To plot pretty figures\n",
    "%matplotlib inline\n",
    "import matplotlib as mpl\n",
    "import matplotlib.pyplot as plt\n",
    "mpl.rc('axes', labelsize=14)\n",
    "mpl.rc('xtick', labelsize=12)\n",
    "mpl.rc('ytick', labelsize=12)"
   ]
  },
  {
   "cell_type": "code",
   "execution_count": 3,
   "metadata": {
    "colab": {
     "base_uri": "https://localhost:8080/"
    },
    "id": "nt2Rz05Ha0j5",
    "outputId": "069e6e4d-3fc1-4391-96c8-47da9b47290f"
   },
   "outputs": [
    {
     "name": "stdout",
     "output_type": "stream",
     "text": [
      "Downloading data from https://storage.googleapis.com/tensorflow/tf-keras-datasets/train-labels-idx1-ubyte.gz\n",
      "32768/29515 [=================================] - 0s 0us/step\n",
      "Downloading data from https://storage.googleapis.com/tensorflow/tf-keras-datasets/train-images-idx3-ubyte.gz\n",
      "26427392/26421880 [==============================] - 0s 0us/step\n",
      "Downloading data from https://storage.googleapis.com/tensorflow/tf-keras-datasets/t10k-labels-idx1-ubyte.gz\n",
      "8192/5148 [===============================================] - 0s 0us/step\n",
      "Downloading data from https://storage.googleapis.com/tensorflow/tf-keras-datasets/t10k-images-idx3-ubyte.gz\n",
      "4423680/4422102 [==============================] - 0s 0us/step\n"
     ]
    }
   ],
   "source": [
    "(X_train_full, y_train_full), (X_test, y_test) = keras.datasets.fashion_mnist.load_data()\n",
    "X_train, X_valid = X_train_full[:-5000], X_train_full[-5000:]\n",
    "y_train, y_valid = y_train_full[:-5000], y_train_full[-5000:]\n",
    "\n",
    "X_mean = X_train.mean(axis=0, keepdims=True)\n",
    "X_std = X_train.std(axis=0, keepdims=True) + 1e-7\n",
    "X_train = (X_train - X_mean) / X_std\n",
    "X_valid = (X_valid - X_mean) / X_std\n",
    "X_test = (X_test - X_mean) / X_std\n",
    "\n",
    "X_train = X_train[..., np.newaxis]\n",
    "X_valid = X_valid[..., np.newaxis]\n",
    "X_test = X_test[..., np.newaxis]"
   ]
  },
  {
   "cell_type": "code",
   "execution_count": 4,
   "metadata": {
    "id": "uSZf_JN-a5NJ"
   },
   "outputs": [],
   "source": [
    "keras.backend.clear_session()\n",
    "np.random.seed(42)\n",
    "tf.random.set_seed(42)"
   ]
  },
  {
   "cell_type": "code",
   "execution_count": 5,
   "metadata": {
    "id": "rAy-rWbCa82o"
   },
   "outputs": [],
   "source": [
    "from functools import partial\n",
    "\n",
    "LeNetConv2D = partial(keras.layers.Conv2D,\n",
    "                      kernel_size=5, activation='tanh', \n",
    "                      strides=1, padding=\"SAME\")\n",
    "\n",
    "model = keras.models.Sequential([\n",
    "    keras.layers.ZeroPadding2D(padding=((1,1),(1,1))),\n",
    "    LeNetConv2D(filters=6, input_shape=[32, 32, 1]),\n",
    "    keras.layers.AvgPool2D(pool_size=6, strides=2, padding='same'),\n",
    "    LeNetConv2D(filters=16),\n",
    "    keras.layers.AvgPool2D(pool_size=16, strides=2, padding='same'),\n",
    "    LeNetConv2D(filters=120),\n",
    "    keras.layers.Flatten(),\n",
    "    keras.layers.Dense(units=84, activation='tanh'),\n",
    "    keras.layers.Dense(units=10, activation='softmax')\n",
    "])"
   ]
  },
  {
   "cell_type": "code",
   "execution_count": 6,
   "metadata": {
    "colab": {
     "base_uri": "https://localhost:8080/"
    },
    "id": "gwDP35GlbL0o",
    "outputId": "0595415f-d6be-481d-bcd4-b54342c518e5"
   },
   "outputs": [
    {
     "name": "stdout",
     "output_type": "stream",
     "text": [
      "Epoch 1/10\n",
      "1719/1719 [==============================] - 40s 5ms/step - loss: 0.6546 - accuracy: 0.7577 - val_loss: 0.5323 - val_accuracy: 0.8032\n",
      "Epoch 2/10\n",
      "1719/1719 [==============================] - 8s 5ms/step - loss: 0.4885 - accuracy: 0.8222 - val_loss: 0.4585 - val_accuracy: 0.8266\n",
      "Epoch 3/10\n",
      "1719/1719 [==============================] - 8s 5ms/step - loss: 0.4348 - accuracy: 0.8424 - val_loss: 0.4235 - val_accuracy: 0.8474\n",
      "Epoch 4/10\n",
      "1719/1719 [==============================] - 8s 5ms/step - loss: 0.4042 - accuracy: 0.8530 - val_loss: 0.3914 - val_accuracy: 0.8532\n",
      "Epoch 5/10\n",
      "1719/1719 [==============================] - 8s 5ms/step - loss: 0.3835 - accuracy: 0.8597 - val_loss: 0.3905 - val_accuracy: 0.8484\n",
      "Epoch 6/10\n",
      "1719/1719 [==============================] - 8s 5ms/step - loss: 0.3740 - accuracy: 0.8641 - val_loss: 0.3919 - val_accuracy: 0.8568\n",
      "Epoch 7/10\n",
      "1719/1719 [==============================] - 8s 5ms/step - loss: 0.3670 - accuracy: 0.8664 - val_loss: 0.3769 - val_accuracy: 0.8618\n",
      "Epoch 8/10\n",
      "1719/1719 [==============================] - 8s 5ms/step - loss: 0.3599 - accuracy: 0.8672 - val_loss: 0.3573 - val_accuracy: 0.8680\n",
      "Epoch 9/10\n",
      "1719/1719 [==============================] - 8s 5ms/step - loss: 0.3558 - accuracy: 0.8702 - val_loss: 0.3827 - val_accuracy: 0.8558\n",
      "Epoch 10/10\n",
      "1719/1719 [==============================] - 8s 5ms/step - loss: 0.3543 - accuracy: 0.8701 - val_loss: 0.3801 - val_accuracy: 0.8564\n"
     ]
    }
   ],
   "source": [
    "model.compile(loss=\"sparse_categorical_crossentropy\", optimizer=\"nadam\", metrics=[\"accuracy\"])\n",
    "history = model.fit(X_train, y_train, epochs=10, validation_data=(X_valid, y_valid))"
   ]
  },
  {
   "cell_type": "code",
   "execution_count": 7,
   "metadata": {
    "colab": {
     "base_uri": "https://localhost:8080/",
     "height": 382
    },
    "id": "LOPRUuXpbWAo",
    "outputId": "d194e8e3-2ddf-44be-a5cd-a78991b44c66"
   },
   "outputs": [
    {
     "data": {
      "image/png": "[encoded data removed]",
      "text/plain": [
       "<Figure size 864x432 with 1 Axes>"
      ]
     },
     "metadata": {
      "needs_background": "light",
      "tags": []
     },
     "output_type": "display_data"
    }
   ],
   "source": [
    "pd.DataFrame(history.history).plot(figsize = (12,6))\n",
    "plt.grid(True)\n",
    "plt.gca().set_ylim(0,1)\n",
    "plt.show()"
   ]
  },
  {
   "cell_type": "markdown",
   "metadata": {
    "id": "jFSbE3Idcg-Z"
   },
   "source": [
    "### Different instantiation"
   ]
  },
  {
   "cell_type": "code",
   "execution_count": 8,
   "metadata": {
    "id": "8FvXokVhwKSk"
   },
   "outputs": [],
   "source": [
    "keras.backend.clear_session()\n",
    "np.random.seed(42)\n",
    "tf.random.set_seed(42)"
   ]
  },
  {
   "cell_type": "code",
   "execution_count": 9,
   "metadata": {
    "id": "YzMKWhuQvVxh"
   },
   "outputs": [],
   "source": [
    "from functools import partial\n",
    "\n",
    "LeNetConv2D = partial(keras.layers.Conv2D,\n",
    "                      kernel_size=5, activation='tanh', \n",
    "                      strides=1, padding=\"valid\")\n",
    "\n",
    "model = keras.models.Sequential([\n",
    "    keras.layers.ZeroPadding2D(padding=((1,1),(1,1))),\n",
    "    LeNetConv2D(filters=6, input_shape=[32, 32, 1]),\n",
    "    keras.layers.AvgPool2D(pool_size=2, strides=2, padding='valid'),\n",
    "    LeNetConv2D(filters=16, input_shape=[14,14,6]),\n",
    "    keras.layers.AvgPool2D(pool_size=2, strides=2, padding='valid'),\n",
    "    keras.layers.Flatten(),\n",
    "    keras.layers.Dense(units=120, activation='tanh'),\n",
    "    keras.layers.Dense(units=84, activation='tanh'),\n",
    "    keras.layers.Dense(units=10, activation='softmax')\n",
    "])"
   ]
  },
  {
   "cell_type": "code",
   "execution_count": 10,
   "metadata": {
    "colab": {
     "base_uri": "https://localhost:8080/"
    },
    "id": "61Vxk_EavVxi",
    "outputId": "39caad55-5974-45ff-85fc-76551b3c1fe5"
   },
   "outputs": [
    {
     "name": "stdout",
     "output_type": "stream",
     "text": [
      "Epoch 1/20\n",
      "1719/1719 [==============================] - 8s 4ms/step - loss: 0.5110 - accuracy: 0.8134 - val_loss: 0.4073 - val_accuracy: 0.8482\n",
      "Epoch 2/20\n",
      "1719/1719 [==============================] - 7s 4ms/step - loss: 0.3738 - accuracy: 0.8639 - val_loss: 0.3778 - val_accuracy: 0.8546\n",
      "Epoch 3/20\n",
      "1719/1719 [==============================] - 7s 4ms/step - loss: 0.3325 - accuracy: 0.8785 - val_loss: 0.3281 - val_accuracy: 0.8796\n",
      "Epoch 4/20\n",
      "1719/1719 [==============================] - 7s 4ms/step - loss: 0.3040 - accuracy: 0.8884 - val_loss: 0.3250 - val_accuracy: 0.8752\n",
      "Epoch 5/20\n",
      "1719/1719 [==============================] - 7s 4ms/step - loss: 0.2836 - accuracy: 0.8948 - val_loss: 0.3171 - val_accuracy: 0.8830\n",
      "Epoch 6/20\n",
      "1719/1719 [==============================] - 7s 4ms/step - loss: 0.2676 - accuracy: 0.9006 - val_loss: 0.3168 - val_accuracy: 0.8844\n",
      "Epoch 7/20\n",
      "1719/1719 [==============================] - 7s 4ms/step - loss: 0.2513 - accuracy: 0.9060 - val_loss: 0.3192 - val_accuracy: 0.8844\n",
      "Epoch 8/20\n",
      "1719/1719 [==============================] - 7s 4ms/step - loss: 0.2371 - accuracy: 0.9106 - val_loss: 0.3080 - val_accuracy: 0.8880\n",
      "Epoch 9/20\n",
      "1719/1719 [==============================] - 7s 4ms/step - loss: 0.2254 - accuracy: 0.9153 - val_loss: 0.3260 - val_accuracy: 0.8816\n",
      "Epoch 10/20\n",
      "1719/1719 [==============================] - 7s 4ms/step - loss: 0.2126 - accuracy: 0.9198 - val_loss: 0.3220 - val_accuracy: 0.8804\n",
      "Epoch 11/20\n",
      "1719/1719 [==============================] - 7s 4ms/step - loss: 0.2021 - accuracy: 0.9243 - val_loss: 0.3207 - val_accuracy: 0.8858\n",
      "Epoch 12/20\n",
      "1719/1719 [==============================] - 7s 4ms/step - loss: 0.1915 - accuracy: 0.9270 - val_loss: 0.3274 - val_accuracy: 0.8878\n",
      "Epoch 13/20\n",
      "1719/1719 [==============================] - 7s 4ms/step - loss: 0.1809 - accuracy: 0.9325 - val_loss: 0.3178 - val_accuracy: 0.8862\n",
      "Epoch 14/20\n",
      "1719/1719 [==============================] - 7s 4ms/step - loss: 0.1715 - accuracy: 0.9365 - val_loss: 0.3351 - val_accuracy: 0.8866\n",
      "Epoch 15/20\n",
      "1719/1719 [==============================] - 7s 4ms/step - loss: 0.1625 - accuracy: 0.9393 - val_loss: 0.3366 - val_accuracy: 0.8842\n",
      "Epoch 16/20\n",
      "1719/1719 [==============================] - 7s 4ms/step - loss: 0.1539 - accuracy: 0.9433 - val_loss: 0.3318 - val_accuracy: 0.8858\n",
      "Epoch 17/20\n",
      "1719/1719 [==============================] - 7s 4ms/step - loss: 0.1460 - accuracy: 0.9453 - val_loss: 0.3486 - val_accuracy: 0.8888\n",
      "Epoch 18/20\n",
      "1719/1719 [==============================] - 7s 4ms/step - loss: 0.1391 - accuracy: 0.9483 - val_loss: 0.3433 - val_accuracy: 0.8870\n",
      "Epoch 19/20\n",
      "1719/1719 [==============================] - 7s 4ms/step - loss: 0.1303 - accuracy: 0.9527 - val_loss: 0.3598 - val_accuracy: 0.8868\n",
      "Epoch 20/20\n",
      "1719/1719 [==============================] - 7s 4ms/step - loss: 0.1228 - accuracy: 0.9562 - val_loss: 0.3781 - val_accuracy: 0.8840\n"
     ]
    }
   ],
   "source": [
    "model.compile(loss=\"sparse_categorical_crossentropy\", optimizer=\"nadam\", metrics=[\"accuracy\"])\n",
    "history = model.fit(X_train, y_train, epochs=20, validation_data=(X_valid, y_valid))"
   ]
  },
  {
   "cell_type": "code",
   "execution_count": 11,
   "metadata": {
    "colab": {
     "base_uri": "https://localhost:8080/",
     "height": 382
    },
    "id": "aW20iuQLvVxi",
    "outputId": "5ef7832e-efe2-4c1e-db33-e22620be3a27"
   },
   "outputs": [
    {
     "data": {
      "image/png": "[encoded data removed]",
      "text/plain": [
       "<Figure size 864x432 with 1 Axes>"
      ]
     },
     "metadata": {
      "needs_background": "light",
      "tags": []
     },
     "output_type": "display_data"
    }
   ],
   "source": [
    "pd.DataFrame(history.history).plot(figsize = (12,6))\n",
    "plt.grid(True)\n",
    "plt.gca().set_ylim(0,1)\n",
    "plt.show()"
   ]
  },
  {
   "cell_type": "code",
   "execution_count": null,
   "metadata": {
    "id": "KjhgT5ANvVxi"
   },
   "outputs": [],
   "source": []
  }
 ],
 "metadata": {
  "accelerator": "GPU",
  "colab": {
   "name": "Chp 14_exer9_fauxlenet.ipynb",
   "provenance": []
  },
  "kernelspec": {
   "display_name": "Python 3",
   "language": "python",
   "name": "python3"
  },
  "language_info": {
   "codemirror_mode": {
    "name": "ipython",
    "version": 3
   },
   "file_extension": ".py",
   "mimetype": "text/x-python",
   "name": "python",
   "nbconvert_exporter": "python",
   "pygments_lexer": "ipython3",
   "version": "3.8.3"
  }
 },
 "nbformat": 4,
 "nbformat_minor": 0
}

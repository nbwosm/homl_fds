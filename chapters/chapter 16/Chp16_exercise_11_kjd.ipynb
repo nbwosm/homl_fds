{
  "nbformat": 4,
  "nbformat_minor": 0,
  "metadata": {
    "colab": {
      "name": "HOML Ch16 Exercise11.ipynb",
      "provenance": [],
      "collapsed_sections": []
    },
    "kernelspec": {
      "name": "python3",
      "display_name": "Python 3"
    },
    "language_info": {
      "name": "python"
    },
    "accelerator": "GPU",
    "widgets": {
      "application/vnd.jupyter.widget-state+json": {
        "0b942ea9e0bf427585bdf8cfac86a984": {
          "model_module": "@jupyter-widgets/controls",
          "model_name": "HBoxModel",
          "state": {
            "_view_name": "HBoxView",
            "_dom_classes": [],
            "_model_name": "HBoxModel",
            "_view_module": "@jupyter-widgets/controls",
            "_model_module_version": "1.5.0",
            "_view_count": null,
            "_view_module_version": "1.5.0",
            "box_style": "",
            "layout": "IPY_MODEL_9e4053c508b745ed932e81b8cfde9f2c",
            "_model_module": "@jupyter-widgets/controls",
            "children": [
              "IPY_MODEL_aff09848bdc94290ae4b3296181b79e7",
              "IPY_MODEL_4d34ca1fcbe84c7199fd9fca328a338f"
            ]
          }
        },
        "9e4053c508b745ed932e81b8cfde9f2c": {
          "model_module": "@jupyter-widgets/base",
          "model_name": "LayoutModel",
          "state": {
            "_view_name": "LayoutView",
            "grid_template_rows": null,
            "right": null,
            "justify_content": null,
            "_view_module": "@jupyter-widgets/base",
            "overflow": null,
            "_model_module_version": "1.2.0",
            "_view_count": null,
            "flex_flow": null,
            "width": null,
            "min_width": null,
            "border": null,
            "align_items": null,
            "bottom": null,
            "_model_module": "@jupyter-widgets/base",
            "top": null,
            "grid_column": null,
            "overflow_y": null,
            "overflow_x": null,
            "grid_auto_flow": null,
            "grid_area": null,
            "grid_template_columns": null,
            "flex": null,
            "_model_name": "LayoutModel",
            "justify_items": null,
            "grid_row": null,
            "max_height": null,
            "align_content": null,
            "visibility": null,
            "align_self": null,
            "height": null,
            "min_height": null,
            "padding": null,
            "grid_auto_rows": null,
            "grid_gap": null,
            "max_width": null,
            "order": null,
            "_view_module_version": "1.2.0",
            "grid_template_areas": null,
            "object_position": null,
            "object_fit": null,
            "grid_auto_columns": null,
            "margin": null,
            "display": null,
            "left": null
          }
        },
        "aff09848bdc94290ae4b3296181b79e7": {
          "model_module": "@jupyter-widgets/controls",
          "model_name": "FloatProgressModel",
          "state": {
            "_view_name": "ProgressView",
            "style": "IPY_MODEL_9f7edbb6a02f4f09930ec33c89faac76",
            "_dom_classes": [],
            "description": "Downloading: 100%",
            "_model_name": "FloatProgressModel",
            "bar_style": "success",
            "max": 1042301,
            "_view_module": "@jupyter-widgets/controls",
            "_model_module_version": "1.5.0",
            "value": 1042301,
            "_view_count": null,
            "_view_module_version": "1.5.0",
            "orientation": "horizontal",
            "min": 0,
            "description_tooltip": null,
            "_model_module": "@jupyter-widgets/controls",
            "layout": "IPY_MODEL_c65f611eeef84c58a28bf63b3443d867"
          }
        },
        "4d34ca1fcbe84c7199fd9fca328a338f": {
          "model_module": "@jupyter-widgets/controls",
          "model_name": "HTMLModel",
          "state": {
            "_view_name": "HTMLView",
            "style": "IPY_MODEL_6d6276088421433e9b98bdce2c4d6c82",
            "_dom_classes": [],
            "description": "",
            "_model_name": "HTMLModel",
            "placeholder": "​",
            "_view_module": "@jupyter-widgets/controls",
            "_model_module_version": "1.5.0",
            "value": " 1.04M/1.04M [00:02&lt;00:00, 370kB/s]",
            "_view_count": null,
            "_view_module_version": "1.5.0",
            "description_tooltip": null,
            "_model_module": "@jupyter-widgets/controls",
            "layout": "IPY_MODEL_9f718b4596604cea87cec03c610a0279"
          }
        },
        "9f7edbb6a02f4f09930ec33c89faac76": {
          "model_module": "@jupyter-widgets/controls",
          "model_name": "ProgressStyleModel",
          "state": {
            "_view_name": "StyleView",
            "_model_name": "ProgressStyleModel",
            "description_width": "initial",
            "_view_module": "@jupyter-widgets/base",
            "_model_module_version": "1.5.0",
            "_view_count": null,
            "_view_module_version": "1.2.0",
            "bar_color": null,
            "_model_module": "@jupyter-widgets/controls"
          }
        },
        "c65f611eeef84c58a28bf63b3443d867": {
          "model_module": "@jupyter-widgets/base",
          "model_name": "LayoutModel",
          "state": {
            "_view_name": "LayoutView",
            "grid_template_rows": null,
            "right": null,
            "justify_content": null,
            "_view_module": "@jupyter-widgets/base",
            "overflow": null,
            "_model_module_version": "1.2.0",
            "_view_count": null,
            "flex_flow": null,
            "width": null,
            "min_width": null,
            "border": null,
            "align_items": null,
            "bottom": null,
            "_model_module": "@jupyter-widgets/base",
            "top": null,
            "grid_column": null,
            "overflow_y": null,
            "overflow_x": null,
            "grid_auto_flow": null,
            "grid_area": null,
            "grid_template_columns": null,
            "flex": null,
            "_model_name": "LayoutModel",
            "justify_items": null,
            "grid_row": null,
            "max_height": null,
            "align_content": null,
            "visibility": null,
            "align_self": null,
            "height": null,
            "min_height": null,
            "padding": null,
            "grid_auto_rows": null,
            "grid_gap": null,
            "max_width": null,
            "order": null,
            "_view_module_version": "1.2.0",
            "grid_template_areas": null,
            "object_position": null,
            "object_fit": null,
            "grid_auto_columns": null,
            "margin": null,
            "display": null,
            "left": null
          }
        },
        "6d6276088421433e9b98bdce2c4d6c82": {
          "model_module": "@jupyter-widgets/controls",
          "model_name": "DescriptionStyleModel",
          "state": {
            "_view_name": "StyleView",
            "_model_name": "DescriptionStyleModel",
            "description_width": "",
            "_view_module": "@jupyter-widgets/base",
            "_model_module_version": "1.5.0",
            "_view_count": null,
            "_view_module_version": "1.2.0",
            "_model_module": "@jupyter-widgets/controls"
          }
        },
        "9f718b4596604cea87cec03c610a0279": {
          "model_module": "@jupyter-widgets/base",
          "model_name": "LayoutModel",
          "state": {
            "_view_name": "LayoutView",
            "grid_template_rows": null,
            "right": null,
            "justify_content": null,
            "_view_module": "@jupyter-widgets/base",
            "overflow": null,
            "_model_module_version": "1.2.0",
            "_view_count": null,
            "flex_flow": null,
            "width": null,
            "min_width": null,
            "border": null,
            "align_items": null,
            "bottom": null,
            "_model_module": "@jupyter-widgets/base",
            "top": null,
            "grid_column": null,
            "overflow_y": null,
            "overflow_x": null,
            "grid_auto_flow": null,
            "grid_area": null,
            "grid_template_columns": null,
            "flex": null,
            "_model_name": "LayoutModel",
            "justify_items": null,
            "grid_row": null,
            "max_height": null,
            "align_content": null,
            "visibility": null,
            "align_self": null,
            "height": null,
            "min_height": null,
            "padding": null,
            "grid_auto_rows": null,
            "grid_gap": null,
            "max_width": null,
            "order": null,
            "_view_module_version": "1.2.0",
            "grid_template_areas": null,
            "object_position": null,
            "object_fit": null,
            "grid_auto_columns": null,
            "margin": null,
            "display": null,
            "left": null
          }
        },
        "3a27329537a447249f9a44b98c0ac199": {
          "model_module": "@jupyter-widgets/controls",
          "model_name": "HBoxModel",
          "state": {
            "_view_name": "HBoxView",
            "_dom_classes": [],
            "_model_name": "HBoxModel",
            "_view_module": "@jupyter-widgets/controls",
            "_model_module_version": "1.5.0",
            "_view_count": null,
            "_view_module_version": "1.5.0",
            "box_style": "",
            "layout": "IPY_MODEL_b29a30db9cd84741a3b31d833e622448",
            "_model_module": "@jupyter-widgets/controls",
            "children": [
              "IPY_MODEL_7929bb4796004f1e8e9fe0e5de0be20b",
              "IPY_MODEL_eff73d2d63024ab4aabfb876000f53f7"
            ]
          }
        },
        "b29a30db9cd84741a3b31d833e622448": {
          "model_module": "@jupyter-widgets/base",
          "model_name": "LayoutModel",
          "state": {
            "_view_name": "LayoutView",
            "grid_template_rows": null,
            "right": null,
            "justify_content": null,
            "_view_module": "@jupyter-widgets/base",
            "overflow": null,
            "_model_module_version": "1.2.0",
            "_view_count": null,
            "flex_flow": null,
            "width": null,
            "min_width": null,
            "border": null,
            "align_items": null,
            "bottom": null,
            "_model_module": "@jupyter-widgets/base",
            "top": null,
            "grid_column": null,
            "overflow_y": null,
            "overflow_x": null,
            "grid_auto_flow": null,
            "grid_area": null,
            "grid_template_columns": null,
            "flex": null,
            "_model_name": "LayoutModel",
            "justify_items": null,
            "grid_row": null,
            "max_height": null,
            "align_content": null,
            "visibility": null,
            "align_self": null,
            "height": null,
            "min_height": null,
            "padding": null,
            "grid_auto_rows": null,
            "grid_gap": null,
            "max_width": null,
            "order": null,
            "_view_module_version": "1.2.0",
            "grid_template_areas": null,
            "object_position": null,
            "object_fit": null,
            "grid_auto_columns": null,
            "margin": null,
            "display": null,
            "left": null
          }
        },
        "7929bb4796004f1e8e9fe0e5de0be20b": {
          "model_module": "@jupyter-widgets/controls",
          "model_name": "FloatProgressModel",
          "state": {
            "_view_name": "ProgressView",
            "style": "IPY_MODEL_6b974b227b1646b98671d1c06c660d87",
            "_dom_classes": [],
            "description": "Downloading: 100%",
            "_model_name": "FloatProgressModel",
            "bar_style": "success",
            "max": 456318,
            "_view_module": "@jupyter-widgets/controls",
            "_model_module_version": "1.5.0",
            "value": 456318,
            "_view_count": null,
            "_view_module_version": "1.5.0",
            "orientation": "horizontal",
            "min": 0,
            "description_tooltip": null,
            "_model_module": "@jupyter-widgets/controls",
            "layout": "IPY_MODEL_c89e5e3a5bcd45aaa72e7e6fc85a0d14"
          }
        },
        "eff73d2d63024ab4aabfb876000f53f7": {
          "model_module": "@jupyter-widgets/controls",
          "model_name": "HTMLModel",
          "state": {
            "_view_name": "HTMLView",
            "style": "IPY_MODEL_a63aaac2e5d04f00bc8cb67e98e30c09",
            "_dom_classes": [],
            "description": "",
            "_model_name": "HTMLModel",
            "placeholder": "​",
            "_view_module": "@jupyter-widgets/controls",
            "_model_module_version": "1.5.0",
            "value": " 456k/456k [00:02&lt;00:00, 224kB/s]",
            "_view_count": null,
            "_view_module_version": "1.5.0",
            "description_tooltip": null,
            "_model_module": "@jupyter-widgets/controls",
            "layout": "IPY_MODEL_1e144bfe71204292955e0a8c65a01c8a"
          }
        },
        "6b974b227b1646b98671d1c06c660d87": {
          "model_module": "@jupyter-widgets/controls",
          "model_name": "ProgressStyleModel",
          "state": {
            "_view_name": "StyleView",
            "_model_name": "ProgressStyleModel",
            "description_width": "initial",
            "_view_module": "@jupyter-widgets/base",
            "_model_module_version": "1.5.0",
            "_view_count": null,
            "_view_module_version": "1.2.0",
            "bar_color": null,
            "_model_module": "@jupyter-widgets/controls"
          }
        },
        "c89e5e3a5bcd45aaa72e7e6fc85a0d14": {
          "model_module": "@jupyter-widgets/base",
          "model_name": "LayoutModel",
          "state": {
            "_view_name": "LayoutView",
            "grid_template_rows": null,
            "right": null,
            "justify_content": null,
            "_view_module": "@jupyter-widgets/base",
            "overflow": null,
            "_model_module_version": "1.2.0",
            "_view_count": null,
            "flex_flow": null,
            "width": null,
            "min_width": null,
            "border": null,
            "align_items": null,
            "bottom": null,
            "_model_module": "@jupyter-widgets/base",
            "top": null,
            "grid_column": null,
            "overflow_y": null,
            "overflow_x": null,
            "grid_auto_flow": null,
            "grid_area": null,
            "grid_template_columns": null,
            "flex": null,
            "_model_name": "LayoutModel",
            "justify_items": null,
            "grid_row": null,
            "max_height": null,
            "align_content": null,
            "visibility": null,
            "align_self": null,
            "height": null,
            "min_height": null,
            "padding": null,
            "grid_auto_rows": null,
            "grid_gap": null,
            "max_width": null,
            "order": null,
            "_view_module_version": "1.2.0",
            "grid_template_areas": null,
            "object_position": null,
            "object_fit": null,
            "grid_auto_columns": null,
            "margin": null,
            "display": null,
            "left": null
          }
        },
        "a63aaac2e5d04f00bc8cb67e98e30c09": {
          "model_module": "@jupyter-widgets/controls",
          "model_name": "DescriptionStyleModel",
          "state": {
            "_view_name": "StyleView",
            "_model_name": "DescriptionStyleModel",
            "description_width": "",
            "_view_module": "@jupyter-widgets/base",
            "_model_module_version": "1.5.0",
            "_view_count": null,
            "_view_module_version": "1.2.0",
            "_model_module": "@jupyter-widgets/controls"
          }
        },
        "1e144bfe71204292955e0a8c65a01c8a": {
          "model_module": "@jupyter-widgets/base",
          "model_name": "LayoutModel",
          "state": {
            "_view_name": "LayoutView",
            "grid_template_rows": null,
            "right": null,
            "justify_content": null,
            "_view_module": "@jupyter-widgets/base",
            "overflow": null,
            "_model_module_version": "1.2.0",
            "_view_count": null,
            "flex_flow": null,
            "width": null,
            "min_width": null,
            "border": null,
            "align_items": null,
            "bottom": null,
            "_model_module": "@jupyter-widgets/base",
            "top": null,
            "grid_column": null,
            "overflow_y": null,
            "overflow_x": null,
            "grid_auto_flow": null,
            "grid_area": null,
            "grid_template_columns": null,
            "flex": null,
            "_model_name": "LayoutModel",
            "justify_items": null,
            "grid_row": null,
            "max_height": null,
            "align_content": null,
            "visibility": null,
            "align_self": null,
            "height": null,
            "min_height": null,
            "padding": null,
            "grid_auto_rows": null,
            "grid_gap": null,
            "max_width": null,
            "order": null,
            "_view_module_version": "1.2.0",
            "grid_template_areas": null,
            "object_position": null,
            "object_fit": null,
            "grid_auto_columns": null,
            "margin": null,
            "display": null,
            "left": null
          }
        },
        "f8b5f0fdbcd443adac0c4961f79722a8": {
          "model_module": "@jupyter-widgets/controls",
          "model_name": "HBoxModel",
          "state": {
            "_view_name": "HBoxView",
            "_dom_classes": [],
            "_model_name": "HBoxModel",
            "_view_module": "@jupyter-widgets/controls",
            "_model_module_version": "1.5.0",
            "_view_count": null,
            "_view_module_version": "1.5.0",
            "box_style": "",
            "layout": "IPY_MODEL_5dd376a2b7e34fef889810229b6476fd",
            "_model_module": "@jupyter-widgets/controls",
            "children": [
              "IPY_MODEL_6ce357483fc4497b9429cc857081d531",
              "IPY_MODEL_9fccd7ecd6424a49b917ead9aa4a4174"
            ]
          }
        },
        "5dd376a2b7e34fef889810229b6476fd": {
          "model_module": "@jupyter-widgets/base",
          "model_name": "LayoutModel",
          "state": {
            "_view_name": "LayoutView",
            "grid_template_rows": null,
            "right": null,
            "justify_content": null,
            "_view_module": "@jupyter-widgets/base",
            "overflow": null,
            "_model_module_version": "1.2.0",
            "_view_count": null,
            "flex_flow": null,
            "width": null,
            "min_width": null,
            "border": null,
            "align_items": null,
            "bottom": null,
            "_model_module": "@jupyter-widgets/base",
            "top": null,
            "grid_column": null,
            "overflow_y": null,
            "overflow_x": null,
            "grid_auto_flow": null,
            "grid_area": null,
            "grid_template_columns": null,
            "flex": null,
            "_model_name": "LayoutModel",
            "justify_items": null,
            "grid_row": null,
            "max_height": null,
            "align_content": null,
            "visibility": null,
            "align_self": null,
            "height": null,
            "min_height": null,
            "padding": null,
            "grid_auto_rows": null,
            "grid_gap": null,
            "max_width": null,
            "order": null,
            "_view_module_version": "1.2.0",
            "grid_template_areas": null,
            "object_position": null,
            "object_fit": null,
            "grid_auto_columns": null,
            "margin": null,
            "display": null,
            "left": null
          }
        },
        "6ce357483fc4497b9429cc857081d531": {
          "model_module": "@jupyter-widgets/controls",
          "model_name": "FloatProgressModel",
          "state": {
            "_view_name": "ProgressView",
            "style": "IPY_MODEL_775b2ba35f2240bcb608e11f0ef6e2eb",
            "_dom_classes": [],
            "description": "Downloading: 100%",
            "_model_name": "FloatProgressModel",
            "bar_style": "success",
            "max": 1355256,
            "_view_module": "@jupyter-widgets/controls",
            "_model_module_version": "1.5.0",
            "value": 1355256,
            "_view_count": null,
            "_view_module_version": "1.5.0",
            "orientation": "horizontal",
            "min": 0,
            "description_tooltip": null,
            "_model_module": "@jupyter-widgets/controls",
            "layout": "IPY_MODEL_647364e9f21641ed9b58e79872c1f615"
          }
        },
        "9fccd7ecd6424a49b917ead9aa4a4174": {
          "model_module": "@jupyter-widgets/controls",
          "model_name": "HTMLModel",
          "state": {
            "_view_name": "HTMLView",
            "style": "IPY_MODEL_d7eb7bc376a94a7aaf6b9f26069f1803",
            "_dom_classes": [],
            "description": "",
            "_model_name": "HTMLModel",
            "placeholder": "​",
            "_view_module": "@jupyter-widgets/controls",
            "_model_module_version": "1.5.0",
            "value": " 1.36M/1.36M [00:00&lt;00:00, 4.34MB/s]",
            "_view_count": null,
            "_view_module_version": "1.5.0",
            "description_tooltip": null,
            "_model_module": "@jupyter-widgets/controls",
            "layout": "IPY_MODEL_3024ace0ffb244f182074c0a304258e2"
          }
        },
        "775b2ba35f2240bcb608e11f0ef6e2eb": {
          "model_module": "@jupyter-widgets/controls",
          "model_name": "ProgressStyleModel",
          "state": {
            "_view_name": "StyleView",
            "_model_name": "ProgressStyleModel",
            "description_width": "initial",
            "_view_module": "@jupyter-widgets/base",
            "_model_module_version": "1.5.0",
            "_view_count": null,
            "_view_module_version": "1.2.0",
            "bar_color": null,
            "_model_module": "@jupyter-widgets/controls"
          }
        },
        "647364e9f21641ed9b58e79872c1f615": {
          "model_module": "@jupyter-widgets/base",
          "model_name": "LayoutModel",
          "state": {
            "_view_name": "LayoutView",
            "grid_template_rows": null,
            "right": null,
            "justify_content": null,
            "_view_module": "@jupyter-widgets/base",
            "overflow": null,
            "_model_module_version": "1.2.0",
            "_view_count": null,
            "flex_flow": null,
            "width": null,
            "min_width": null,
            "border": null,
            "align_items": null,
            "bottom": null,
            "_model_module": "@jupyter-widgets/base",
            "top": null,
            "grid_column": null,
            "overflow_y": null,
            "overflow_x": null,
            "grid_auto_flow": null,
            "grid_area": null,
            "grid_template_columns": null,
            "flex": null,
            "_model_name": "LayoutModel",
            "justify_items": null,
            "grid_row": null,
            "max_height": null,
            "align_content": null,
            "visibility": null,
            "align_self": null,
            "height": null,
            "min_height": null,
            "padding": null,
            "grid_auto_rows": null,
            "grid_gap": null,
            "max_width": null,
            "order": null,
            "_view_module_version": "1.2.0",
            "grid_template_areas": null,
            "object_position": null,
            "object_fit": null,
            "grid_auto_columns": null,
            "margin": null,
            "display": null,
            "left": null
          }
        },
        "d7eb7bc376a94a7aaf6b9f26069f1803": {
          "model_module": "@jupyter-widgets/controls",
          "model_name": "DescriptionStyleModel",
          "state": {
            "_view_name": "StyleView",
            "_model_name": "DescriptionStyleModel",
            "description_width": "",
            "_view_module": "@jupyter-widgets/base",
            "_model_module_version": "1.5.0",
            "_view_count": null,
            "_view_module_version": "1.2.0",
            "_model_module": "@jupyter-widgets/controls"
          }
        },
        "3024ace0ffb244f182074c0a304258e2": {
          "model_module": "@jupyter-widgets/base",
          "model_name": "LayoutModel",
          "state": {
            "_view_name": "LayoutView",
            "grid_template_rows": null,
            "right": null,
            "justify_content": null,
            "_view_module": "@jupyter-widgets/base",
            "overflow": null,
            "_model_module_version": "1.2.0",
            "_view_count": null,
            "flex_flow": null,
            "width": null,
            "min_width": null,
            "border": null,
            "align_items": null,
            "bottom": null,
            "_model_module": "@jupyter-widgets/base",
            "top": null,
            "grid_column": null,
            "overflow_y": null,
            "overflow_x": null,
            "grid_auto_flow": null,
            "grid_area": null,
            "grid_template_columns": null,
            "flex": null,
            "_model_name": "LayoutModel",
            "justify_items": null,
            "grid_row": null,
            "max_height": null,
            "align_content": null,
            "visibility": null,
            "align_self": null,
            "height": null,
            "min_height": null,
            "padding": null,
            "grid_auto_rows": null,
            "grid_gap": null,
            "max_width": null,
            "order": null,
            "_view_module_version": "1.2.0",
            "grid_template_areas": null,
            "object_position": null,
            "object_fit": null,
            "grid_auto_columns": null,
            "margin": null,
            "display": null,
            "left": null
          }
        },
        "c8f1a445a8334c3fb885760730cb4e60": {
          "model_module": "@jupyter-widgets/controls",
          "model_name": "HBoxModel",
          "state": {
            "_view_name": "HBoxView",
            "_dom_classes": [],
            "_model_name": "HBoxModel",
            "_view_module": "@jupyter-widgets/controls",
            "_model_module_version": "1.5.0",
            "_view_count": null,
            "_view_module_version": "1.5.0",
            "box_style": "",
            "layout": "IPY_MODEL_af1f1820c8e94082afbc831c04554aa7",
            "_model_module": "@jupyter-widgets/controls",
            "children": [
              "IPY_MODEL_a095b4fe09824ab990ecf2118d86d76f",
              "IPY_MODEL_ca986fd2e96c4a70bf951cba8bbc66b9"
            ]
          }
        },
        "af1f1820c8e94082afbc831c04554aa7": {
          "model_module": "@jupyter-widgets/base",
          "model_name": "LayoutModel",
          "state": {
            "_view_name": "LayoutView",
            "grid_template_rows": null,
            "right": null,
            "justify_content": null,
            "_view_module": "@jupyter-widgets/base",
            "overflow": null,
            "_model_module_version": "1.2.0",
            "_view_count": null,
            "flex_flow": null,
            "width": null,
            "min_width": null,
            "border": null,
            "align_items": null,
            "bottom": null,
            "_model_module": "@jupyter-widgets/base",
            "top": null,
            "grid_column": null,
            "overflow_y": null,
            "overflow_x": null,
            "grid_auto_flow": null,
            "grid_area": null,
            "grid_template_columns": null,
            "flex": null,
            "_model_name": "LayoutModel",
            "justify_items": null,
            "grid_row": null,
            "max_height": null,
            "align_content": null,
            "visibility": null,
            "align_self": null,
            "height": null,
            "min_height": null,
            "padding": null,
            "grid_auto_rows": null,
            "grid_gap": null,
            "max_width": null,
            "order": null,
            "_view_module_version": "1.2.0",
            "grid_template_areas": null,
            "object_position": null,
            "object_fit": null,
            "grid_auto_columns": null,
            "margin": null,
            "display": null,
            "left": null
          }
        },
        "a095b4fe09824ab990ecf2118d86d76f": {
          "model_module": "@jupyter-widgets/controls",
          "model_name": "FloatProgressModel",
          "state": {
            "_view_name": "ProgressView",
            "style": "IPY_MODEL_38f804637006413d9021db5d9063aba1",
            "_dom_classes": [],
            "description": "Downloading: 100%",
            "_model_name": "FloatProgressModel",
            "bar_style": "success",
            "max": 665,
            "_view_module": "@jupyter-widgets/controls",
            "_model_module_version": "1.5.0",
            "value": 665,
            "_view_count": null,
            "_view_module_version": "1.5.0",
            "orientation": "horizontal",
            "min": 0,
            "description_tooltip": null,
            "_model_module": "@jupyter-widgets/controls",
            "layout": "IPY_MODEL_733953396749482a85328aac985aff33"
          }
        },
        "ca986fd2e96c4a70bf951cba8bbc66b9": {
          "model_module": "@jupyter-widgets/controls",
          "model_name": "HTMLModel",
          "state": {
            "_view_name": "HTMLView",
            "style": "IPY_MODEL_7663f5fce67e4278be6b5b7fec6b620f",
            "_dom_classes": [],
            "description": "",
            "_model_name": "HTMLModel",
            "placeholder": "​",
            "_view_module": "@jupyter-widgets/controls",
            "_model_module_version": "1.5.0",
            "value": " 665/665 [00:00&lt;00:00, 1.67kB/s]",
            "_view_count": null,
            "_view_module_version": "1.5.0",
            "description_tooltip": null,
            "_model_module": "@jupyter-widgets/controls",
            "layout": "IPY_MODEL_159587aac3944e8ab6251fb149abf8d5"
          }
        },
        "38f804637006413d9021db5d9063aba1": {
          "model_module": "@jupyter-widgets/controls",
          "model_name": "ProgressStyleModel",
          "state": {
            "_view_name": "StyleView",
            "_model_name": "ProgressStyleModel",
            "description_width": "initial",
            "_view_module": "@jupyter-widgets/base",
            "_model_module_version": "1.5.0",
            "_view_count": null,
            "_view_module_version": "1.2.0",
            "bar_color": null,
            "_model_module": "@jupyter-widgets/controls"
          }
        },
        "733953396749482a85328aac985aff33": {
          "model_module": "@jupyter-widgets/base",
          "model_name": "LayoutModel",
          "state": {
            "_view_name": "LayoutView",
            "grid_template_rows": null,
            "right": null,
            "justify_content": null,
            "_view_module": "@jupyter-widgets/base",
            "overflow": null,
            "_model_module_version": "1.2.0",
            "_view_count": null,
            "flex_flow": null,
            "width": null,
            "min_width": null,
            "border": null,
            "align_items": null,
            "bottom": null,
            "_model_module": "@jupyter-widgets/base",
            "top": null,
            "grid_column": null,
            "overflow_y": null,
            "overflow_x": null,
            "grid_auto_flow": null,
            "grid_area": null,
            "grid_template_columns": null,
            "flex": null,
            "_model_name": "LayoutModel",
            "justify_items": null,
            "grid_row": null,
            "max_height": null,
            "align_content": null,
            "visibility": null,
            "align_self": null,
            "height": null,
            "min_height": null,
            "padding": null,
            "grid_auto_rows": null,
            "grid_gap": null,
            "max_width": null,
            "order": null,
            "_view_module_version": "1.2.0",
            "grid_template_areas": null,
            "object_position": null,
            "object_fit": null,
            "grid_auto_columns": null,
            "margin": null,
            "display": null,
            "left": null
          }
        },
        "7663f5fce67e4278be6b5b7fec6b620f": {
          "model_module": "@jupyter-widgets/controls",
          "model_name": "DescriptionStyleModel",
          "state": {
            "_view_name": "StyleView",
            "_model_name": "DescriptionStyleModel",
            "description_width": "",
            "_view_module": "@jupyter-widgets/base",
            "_model_module_version": "1.5.0",
            "_view_count": null,
            "_view_module_version": "1.2.0",
            "_model_module": "@jupyter-widgets/controls"
          }
        },
        "159587aac3944e8ab6251fb149abf8d5": {
          "model_module": "@jupyter-widgets/base",
          "model_name": "LayoutModel",
          "state": {
            "_view_name": "LayoutView",
            "grid_template_rows": null,
            "right": null,
            "justify_content": null,
            "_view_module": "@jupyter-widgets/base",
            "overflow": null,
            "_model_module_version": "1.2.0",
            "_view_count": null,
            "flex_flow": null,
            "width": null,
            "min_width": null,
            "border": null,
            "align_items": null,
            "bottom": null,
            "_model_module": "@jupyter-widgets/base",
            "top": null,
            "grid_column": null,
            "overflow_y": null,
            "overflow_x": null,
            "grid_auto_flow": null,
            "grid_area": null,
            "grid_template_columns": null,
            "flex": null,
            "_model_name": "LayoutModel",
            "justify_items": null,
            "grid_row": null,
            "max_height": null,
            "align_content": null,
            "visibility": null,
            "align_self": null,
            "height": null,
            "min_height": null,
            "padding": null,
            "grid_auto_rows": null,
            "grid_gap": null,
            "max_width": null,
            "order": null,
            "_view_module_version": "1.2.0",
            "grid_template_areas": null,
            "object_position": null,
            "object_fit": null,
            "grid_auto_columns": null,
            "margin": null,
            "display": null,
            "left": null
          }
        },
        "c92a8d6c39b648ebb89a3fe5885f8c5a": {
          "model_module": "@jupyter-widgets/controls",
          "model_name": "HBoxModel",
          "state": {
            "_view_name": "HBoxView",
            "_dom_classes": [],
            "_model_name": "HBoxModel",
            "_view_module": "@jupyter-widgets/controls",
            "_model_module_version": "1.5.0",
            "_view_count": null,
            "_view_module_version": "1.5.0",
            "box_style": "",
            "layout": "IPY_MODEL_a72b5a4bed394d37999479c985a3493d",
            "_model_module": "@jupyter-widgets/controls",
            "children": [
              "IPY_MODEL_93ab2b599bc4427287b788c220083c26",
              "IPY_MODEL_427fab1a99f640069dd20776709fc57f"
            ]
          }
        },
        "a72b5a4bed394d37999479c985a3493d": {
          "model_module": "@jupyter-widgets/base",
          "model_name": "LayoutModel",
          "state": {
            "_view_name": "LayoutView",
            "grid_template_rows": null,
            "right": null,
            "justify_content": null,
            "_view_module": "@jupyter-widgets/base",
            "overflow": null,
            "_model_module_version": "1.2.0",
            "_view_count": null,
            "flex_flow": null,
            "width": null,
            "min_width": null,
            "border": null,
            "align_items": null,
            "bottom": null,
            "_model_module": "@jupyter-widgets/base",
            "top": null,
            "grid_column": null,
            "overflow_y": null,
            "overflow_x": null,
            "grid_auto_flow": null,
            "grid_area": null,
            "grid_template_columns": null,
            "flex": null,
            "_model_name": "LayoutModel",
            "justify_items": null,
            "grid_row": null,
            "max_height": null,
            "align_content": null,
            "visibility": null,
            "align_self": null,
            "height": null,
            "min_height": null,
            "padding": null,
            "grid_auto_rows": null,
            "grid_gap": null,
            "max_width": null,
            "order": null,
            "_view_module_version": "1.2.0",
            "grid_template_areas": null,
            "object_position": null,
            "object_fit": null,
            "grid_auto_columns": null,
            "margin": null,
            "display": null,
            "left": null
          }
        },
        "93ab2b599bc4427287b788c220083c26": {
          "model_module": "@jupyter-widgets/controls",
          "model_name": "FloatProgressModel",
          "state": {
            "_view_name": "ProgressView",
            "style": "IPY_MODEL_bceb789432ef410cb2bf5b4cab4dac83",
            "_dom_classes": [],
            "description": "Downloading: 100%",
            "_model_name": "FloatProgressModel",
            "bar_style": "success",
            "max": 497933648,
            "_view_module": "@jupyter-widgets/controls",
            "_model_module_version": "1.5.0",
            "value": 497933648,
            "_view_count": null,
            "_view_module_version": "1.5.0",
            "orientation": "horizontal",
            "min": 0,
            "description_tooltip": null,
            "_model_module": "@jupyter-widgets/controls",
            "layout": "IPY_MODEL_b26319d05d35417495759f3e326f25b5"
          }
        },
        "427fab1a99f640069dd20776709fc57f": {
          "model_module": "@jupyter-widgets/controls",
          "model_name": "HTMLModel",
          "state": {
            "_view_name": "HTMLView",
            "style": "IPY_MODEL_29303fdbdcde4738b8be9373f38c9370",
            "_dom_classes": [],
            "description": "",
            "_model_name": "HTMLModel",
            "placeholder": "​",
            "_view_module": "@jupyter-widgets/controls",
            "_model_module_version": "1.5.0",
            "value": " 498M/498M [00:09&lt;00:00, 51.0MB/s]",
            "_view_count": null,
            "_view_module_version": "1.5.0",
            "description_tooltip": null,
            "_model_module": "@jupyter-widgets/controls",
            "layout": "IPY_MODEL_29124036e590427fbb9b6be53376d0f9"
          }
        },
        "bceb789432ef410cb2bf5b4cab4dac83": {
          "model_module": "@jupyter-widgets/controls",
          "model_name": "ProgressStyleModel",
          "state": {
            "_view_name": "StyleView",
            "_model_name": "ProgressStyleModel",
            "description_width": "initial",
            "_view_module": "@jupyter-widgets/base",
            "_model_module_version": "1.5.0",
            "_view_count": null,
            "_view_module_version": "1.2.0",
            "bar_color": null,
            "_model_module": "@jupyter-widgets/controls"
          }
        },
        "b26319d05d35417495759f3e326f25b5": {
          "model_module": "@jupyter-widgets/base",
          "model_name": "LayoutModel",
          "state": {
            "_view_name": "LayoutView",
            "grid_template_rows": null,
            "right": null,
            "justify_content": null,
            "_view_module": "@jupyter-widgets/base",
            "overflow": null,
            "_model_module_version": "1.2.0",
            "_view_count": null,
            "flex_flow": null,
            "width": null,
            "min_width": null,
            "border": null,
            "align_items": null,
            "bottom": null,
            "_model_module": "@jupyter-widgets/base",
            "top": null,
            "grid_column": null,
            "overflow_y": null,
            "overflow_x": null,
            "grid_auto_flow": null,
            "grid_area": null,
            "grid_template_columns": null,
            "flex": null,
            "_model_name": "LayoutModel",
            "justify_items": null,
            "grid_row": null,
            "max_height": null,
            "align_content": null,
            "visibility": null,
            "align_self": null,
            "height": null,
            "min_height": null,
            "padding": null,
            "grid_auto_rows": null,
            "grid_gap": null,
            "max_width": null,
            "order": null,
            "_view_module_version": "1.2.0",
            "grid_template_areas": null,
            "object_position": null,
            "object_fit": null,
            "grid_auto_columns": null,
            "margin": null,
            "display": null,
            "left": null
          }
        },
        "29303fdbdcde4738b8be9373f38c9370": {
          "model_module": "@jupyter-widgets/controls",
          "model_name": "DescriptionStyleModel",
          "state": {
            "_view_name": "StyleView",
            "_model_name": "DescriptionStyleModel",
            "description_width": "",
            "_view_module": "@jupyter-widgets/base",
            "_model_module_version": "1.5.0",
            "_view_count": null,
            "_view_module_version": "1.2.0",
            "_model_module": "@jupyter-widgets/controls"
          }
        },
        "29124036e590427fbb9b6be53376d0f9": {
          "model_module": "@jupyter-widgets/base",
          "model_name": "LayoutModel",
          "state": {
            "_view_name": "LayoutView",
            "grid_template_rows": null,
            "right": null,
            "justify_content": null,
            "_view_module": "@jupyter-widgets/base",
            "overflow": null,
            "_model_module_version": "1.2.0",
            "_view_count": null,
            "flex_flow": null,
            "width": null,
            "min_width": null,
            "border": null,
            "align_items": null,
            "bottom": null,
            "_model_module": "@jupyter-widgets/base",
            "top": null,
            "grid_column": null,
            "overflow_y": null,
            "overflow_x": null,
            "grid_auto_flow": null,
            "grid_area": null,
            "grid_template_columns": null,
            "flex": null,
            "_model_name": "LayoutModel",
            "justify_items": null,
            "grid_row": null,
            "max_height": null,
            "align_content": null,
            "visibility": null,
            "align_self": null,
            "height": null,
            "min_height": null,
            "padding": null,
            "grid_auto_rows": null,
            "grid_gap": null,
            "max_width": null,
            "order": null,
            "_view_module_version": "1.2.0",
            "grid_template_areas": null,
            "object_position": null,
            "object_fit": null,
            "grid_auto_columns": null,
            "margin": null,
            "display": null,
            "left": null
          }
        }
      }
    }
  },
  "cells": [
    {
      "cell_type": "markdown",
      "metadata": {
        "id": "A57mmr2iMZWv"
      },
      "source": [
        "# HOML Chapter 16 Exercise 11\n",
        "\n",
        "### Exercise: Use one of the recent language models (e.g., GPT) to generate more convincing Shakespearean text."
      ]
    },
    {
      "cell_type": "code",
      "metadata": {
        "id": "FHnduJF0lEdK"
      },
      "source": [
        "import tensorflow as tf\n",
        "from tensorflow import keras\n",
        "from tensorflow.keras import layers"
      ],
      "execution_count": null,
      "outputs": []
    },
    {
      "cell_type": "code",
      "metadata": {
        "id": "IE8FEP67lEkN"
      },
      "source": [
        "# Random seeds from both numpy and tensorflow\n",
        "from numpy.random import seed\n",
        "seed(99)\n",
        "tf.random.set_seed(99)"
      ],
      "execution_count": null,
      "outputs": []
    },
    {
      "cell_type": "markdown",
      "metadata": {
        "id": "DOdgMnOFtDdm"
      },
      "source": [
        "We'll use GPT2 to generate Shakespearean text (the author uses the original GPT). We're running this on Google Colab. Using a variation of the author's code to import the GPT2 model and tokenizer from Hugging Face, we ran into problems with versioning. Fortunately, the author linked to a post from Hugging Face in which GPT2 is correctly implemented and which resolved our issue. https://huggingface.co/blog/how-to-generate"
      ]
    },
    {
      "cell_type": "markdown",
      "metadata": {
        "id": "-39Kyj5mvRg4"
      },
      "source": [
        "We'll start by installing the transformers. We'll also load the model, tokenizer, and pretrained weights."
      ]
    },
    {
      "cell_type": "code",
      "metadata": {
        "colab": {
          "base_uri": "https://localhost:8080/"
        },
        "id": "Gg4PUJMYrHbk",
        "outputId": "36673713-697b-4e8a-b56c-e224c2011e62"
      },
      "source": [
        "!pip install -q git+https://github.com/huggingface/transformers.git"
      ],
      "execution_count": null,
      "outputs": [
        {
          "output_type": "stream",
          "text": [
            "  Installing build dependencies ... \u001b[?25l\u001b[?25hdone\n",
            "  Getting requirements to build wheel ... \u001b[?25l\u001b[?25hdone\n",
            "    Preparing wheel metadata ... \u001b[?25l\u001b[?25hdone\n",
            "\u001b[K     |████████████████████████████████| 3.3MB 7.2MB/s \n",
            "\u001b[K     |████████████████████████████████| 901kB 49.5MB/s \n",
            "\u001b[K     |████████████████████████████████| 645kB 51.3MB/s \n",
            "\u001b[?25h  Building wheel for transformers (PEP 517) ... \u001b[?25l\u001b[?25hdone\n"
          ],
          "name": "stdout"
        }
      ]
    },
    {
      "cell_type": "code",
      "metadata": {
        "colab": {
          "base_uri": "https://localhost:8080/",
          "height": 330,
          "referenced_widgets": [
            "0b942ea9e0bf427585bdf8cfac86a984",
            "9e4053c508b745ed932e81b8cfde9f2c",
            "aff09848bdc94290ae4b3296181b79e7",
            "4d34ca1fcbe84c7199fd9fca328a338f",
            "9f7edbb6a02f4f09930ec33c89faac76",
            "c65f611eeef84c58a28bf63b3443d867",
            "6d6276088421433e9b98bdce2c4d6c82",
            "9f718b4596604cea87cec03c610a0279",
            "3a27329537a447249f9a44b98c0ac199",
            "b29a30db9cd84741a3b31d833e622448",
            "7929bb4796004f1e8e9fe0e5de0be20b",
            "eff73d2d63024ab4aabfb876000f53f7",
            "6b974b227b1646b98671d1c06c660d87",
            "c89e5e3a5bcd45aaa72e7e6fc85a0d14",
            "a63aaac2e5d04f00bc8cb67e98e30c09",
            "1e144bfe71204292955e0a8c65a01c8a",
            "f8b5f0fdbcd443adac0c4961f79722a8",
            "5dd376a2b7e34fef889810229b6476fd",
            "6ce357483fc4497b9429cc857081d531",
            "9fccd7ecd6424a49b917ead9aa4a4174",
            "775b2ba35f2240bcb608e11f0ef6e2eb",
            "647364e9f21641ed9b58e79872c1f615",
            "d7eb7bc376a94a7aaf6b9f26069f1803",
            "3024ace0ffb244f182074c0a304258e2",
            "c8f1a445a8334c3fb885760730cb4e60",
            "af1f1820c8e94082afbc831c04554aa7",
            "a095b4fe09824ab990ecf2118d86d76f",
            "ca986fd2e96c4a70bf951cba8bbc66b9",
            "38f804637006413d9021db5d9063aba1",
            "733953396749482a85328aac985aff33",
            "7663f5fce67e4278be6b5b7fec6b620f",
            "159587aac3944e8ab6251fb149abf8d5",
            "c92a8d6c39b648ebb89a3fe5885f8c5a",
            "a72b5a4bed394d37999479c985a3493d",
            "93ab2b599bc4427287b788c220083c26",
            "427fab1a99f640069dd20776709fc57f",
            "bceb789432ef410cb2bf5b4cab4dac83",
            "b26319d05d35417495759f3e326f25b5",
            "29303fdbdcde4738b8be9373f38c9370",
            "29124036e590427fbb9b6be53376d0f9"
          ]
        },
        "id": "WUabdq5PreFJ",
        "outputId": "074940a4-2400-4454-eea1-acb9561468d9"
      },
      "source": [
        "\n",
        "from transformers import TFGPT2LMHeadModel, GPT2Tokenizer\n",
        "\n",
        "tokenizer = GPT2Tokenizer.from_pretrained(\"gpt2\")\n",
        "\n",
        "# add the EOS token as PAD token to avoid warnings\n",
        "# pad_token_id: The id of the `padding` token.\n",
        "# eos_token_id: The id of the `end-of-sequence` token.\n",
        "model = TFGPT2LMHeadModel.from_pretrained(\"gpt2\", pad_token_id=tokenizer.eos_token_id)"
      ],
      "execution_count": null,
      "outputs": [
        {
          "output_type": "display_data",
          "data": {
            "application/vnd.jupyter.widget-view+json": {
              "model_id": "0b942ea9e0bf427585bdf8cfac86a984",
              "version_minor": 0,
              "version_major": 2
            },
            "text/plain": [
              "HBox(children=(FloatProgress(value=0.0, description='Downloading', max=1042301.0, style=ProgressStyle(descript…"
            ]
          },
          "metadata": {
            "tags": []
          }
        },
        {
          "output_type": "stream",
          "text": [
            "\n"
          ],
          "name": "stdout"
        },
        {
          "output_type": "display_data",
          "data": {
            "application/vnd.jupyter.widget-view+json": {
              "model_id": "3a27329537a447249f9a44b98c0ac199",
              "version_minor": 0,
              "version_major": 2
            },
            "text/plain": [
              "HBox(children=(FloatProgress(value=0.0, description='Downloading', max=456318.0, style=ProgressStyle(descripti…"
            ]
          },
          "metadata": {
            "tags": []
          }
        },
        {
          "output_type": "stream",
          "text": [
            "\n"
          ],
          "name": "stdout"
        },
        {
          "output_type": "display_data",
          "data": {
            "application/vnd.jupyter.widget-view+json": {
              "model_id": "f8b5f0fdbcd443adac0c4961f79722a8",
              "version_minor": 0,
              "version_major": 2
            },
            "text/plain": [
              "HBox(children=(FloatProgress(value=0.0, description='Downloading', max=1355256.0, style=ProgressStyle(descript…"
            ]
          },
          "metadata": {
            "tags": []
          }
        },
        {
          "output_type": "stream",
          "text": [
            "\n"
          ],
          "name": "stdout"
        },
        {
          "output_type": "display_data",
          "data": {
            "application/vnd.jupyter.widget-view+json": {
              "model_id": "c8f1a445a8334c3fb885760730cb4e60",
              "version_minor": 0,
              "version_major": 2
            },
            "text/plain": [
              "HBox(children=(FloatProgress(value=0.0, description='Downloading', max=665.0, style=ProgressStyle(description_…"
            ]
          },
          "metadata": {
            "tags": []
          }
        },
        {
          "output_type": "stream",
          "text": [
            "\n"
          ],
          "name": "stdout"
        },
        {
          "output_type": "display_data",
          "data": {
            "application/vnd.jupyter.widget-view+json": {
              "model_id": "c92a8d6c39b648ebb89a3fe5885f8c5a",
              "version_minor": 0,
              "version_major": 2
            },
            "text/plain": [
              "HBox(children=(FloatProgress(value=0.0, description='Downloading', max=497933648.0, style=ProgressStyle(descri…"
            ]
          },
          "metadata": {
            "tags": []
          }
        },
        {
          "output_type": "stream",
          "text": [
            "\n"
          ],
          "name": "stdout"
        },
        {
          "output_type": "stream",
          "text": [
            "All model checkpoint layers were used when initializing TFGPT2LMHeadModel.\n",
            "\n",
            "All the layers of TFGPT2LMHeadModel were initialized from the model checkpoint at gpt2.\n",
            "If your task is similar to the task the model of the checkpoint was trained on, you can already use TFGPT2LMHeadModel for predictions without further training.\n"
          ],
          "name": "stderr"
        }
      ]
    },
    {
      "cell_type": "markdown",
      "metadata": {
        "id": "j8c-jCoa7W2f"
      },
      "source": [
        "Let's now tokenize and encode the sample text. To start,  we'll use the same text the author did to allow us to compare our results to his."
      ]
    },
    {
      "cell_type": "code",
      "metadata": {
        "id": "Go9SpyKksA1z"
      },
      "source": [
        "# encode context the generation is conditioned on\n",
        "input_ids = tokenizer.encode('This royal throne of kings, this sceptred isle', return_tensors='tf')"
      ],
      "execution_count": null,
      "outputs": []
    },
    {
      "cell_type": "markdown",
      "metadata": {
        "id": "GtSQiSAsfoB6"
      },
      "source": [
        "We'll be using both Top-K and Top-p sampling. GPT2 uses Top-K sampling, which filters the K most likely words and distributes the probability mass only among those K words. Unlike Top-K, Top-p sampling only chooses from among the smallest set of words whose probability exceeds p probability and distributes the probability mass among those words. Top-p has the advantage of being dynamic in that the set of words can increase and decrease based on the next word's probability distribution.\n",
        "\n",
        "Both Top-K and Top-p can be used together to both disallow low ranked words while also being dynamic. By setting do_sample=True, we allow the model to pick the next word based upon its probability distribution. \n",
        "\n",
        "We played around with a range of values for top_k and top_p settings. Generally, having a top_k value that was either too low (below 10) or too high (above 50) led to less coherent sentences. The same was true for top_p values that were too low (below 0.75). It also helped to have a larger max_length value - keeping it above 20 allowed for at least one complete sentence per sequence.  \n",
        "\n",
        "Additional hyperparameter documentation can be found here: https://huggingface.co/transformers/main_classes/model.html?highlight=generate"
      ]
    },
    {
      "cell_type": "code",
      "metadata": {
        "colab": {
          "base_uri": "https://localhost:8080/"
        },
        "id": "6YKjeV4hsniJ",
        "outputId": "b56c505b-368d-4bdb-aff4-e6a87cd04e28"
      },
      "source": [
        "# random seed setting would be included here if we hadn't already set it earlier\n",
        "\n",
        "# set top_k = 30 and set top_p = 0.95 and num_return_sequences = 5\n",
        "sample_outputs = model.generate(\n",
        "    input_ids,\n",
        "    do_sample=True, \n",
        "    max_length=50 + len(input_ids[0]),\n",
        "    top_k=30, \n",
        "    top_p=0.95, \n",
        "    num_return_sequences=5\n",
        ")\n",
        "\n",
        "print(\"Output:\\n\" + 100 * '-')\n",
        "for i, sample_output in enumerate(sample_outputs):\n",
        "  print(\"{}: {}\".format(i, tokenizer.decode(sample_output, skip_special_tokens=True)))"
      ],
      "execution_count": null,
      "outputs": [
        {
          "output_type": "stream",
          "text": [
            "Output:\n",
            "----------------------------------------------------------------------------------------------------\n",
            "0: This royal throne of kings, this sceptred isle of kings, it has made a large tower. But this castle is not a castle of kings, but a great stone tower, and you see that these things are not really castles of kings, but of stone towers, which is not the way in\n",
            "1: This royal throne of kings, this sceptred isle with the head of the serpent in its face. He has three heads on both sides: the left is covered with a yellow covering, the right with a silver covering, and the centre with two gold covers. He has two arms, one on the\n",
            "2: This royal throne of kings, this sceptred isle of the people of the land of the Holy Ghost. A statue of this saint, made of brass, is situated in an enclosure for the people of the land of the Holy Ghost. The royal throne of kings, which has stood upright since the times\n",
            "3: This royal throne of kings, this sceptred isle where kings of England and France come together and live together. The King of England is not just a great ruler, he is also one who is the most powerful and the greatest person in the world. He will not only fight, he will fight with\n",
            "4: This royal throne of kings, this sceptred isle, with all its jewels, is the head of every king of the world, and the head of a king of England, who holds the head of a house.\" This is the crown of heaven, which the king of Egypt, the king of the\n"
          ],
          "name": "stdout"
        }
      ]
    },
    {
      "cell_type": "markdown",
      "metadata": {
        "id": "1F3NltVZpNKE"
      },
      "source": [
        "Now, just for fun,  let's try a few more Shakespeare quotes. Let's start with asking the model to complete some famous lines."
      ]
    },
    {
      "cell_type": "code",
      "metadata": {
        "id": "usjO4mq7NTMb"
      },
      "source": [
        "# encode context the generation is conditioned on\n",
        "# Beware the Ides of March\n",
        "input_ids = tokenizer.encode('Beware the Ides of', return_tensors='tf')"
      ],
      "execution_count": null,
      "outputs": []
    },
    {
      "cell_type": "code",
      "metadata": {
        "id": "XUwaY-ZwNTPQ",
        "colab": {
          "base_uri": "https://localhost:8080/"
        },
        "outputId": "f8ab75e0-2233-4eb6-e4a9-60cc67dff42d"
      },
      "source": [
        "# set top_k = 30 and set top_p = 0.95 and num_return_sequences = 5\n",
        "sample_outputs = model.generate(\n",
        "    input_ids,\n",
        "    do_sample=True, \n",
        "    max_length=50 + len(input_ids[0]),\n",
        "    top_k=30, \n",
        "    top_p=0.95, \n",
        "    num_return_sequences=5\n",
        ")\n",
        "\n",
        "print(\"Output:\\n\" + 100 * '-')\n",
        "for i, sample_output in enumerate(sample_outputs):\n",
        "  print(\"{}: {}\".format(i, tokenizer.decode(sample_output, skip_special_tokens=True)))"
      ],
      "execution_count": null,
      "outputs": [
        {
          "output_type": "stream",
          "text": [
            "Output:\n",
            "----------------------------------------------------------------------------------------------------\n",
            "0: Beware the Ides of Mandu and his allies.\n",
            "\n",
            "You may be able to find the full game at the Steam Store.\n",
            "\n",
            "The first edition of Baldur's Gate II: Enhanced Edition is now available from EA to download on Steam.\n",
            "\n",
            "A new\n",
            "1: Beware the Ides of the Universe in your quest for immortality and self-restraint, and that the world won't remember you!\n",
            "\n",
            "This mod is designed as a complete retexture of the original Skyrim texture pack. The files used will be used to produce any mods\n",
            "2: Beware the Ides of the Gods\n",
            "\n",
            "And those who would deny those\n",
            "\n",
            "I said that the gods will not be\n",
            "\n",
            "For you are not the God of the Jews,\n",
            "\n",
            "You are the God of the Muslims,\n",
            "\n",
            "You are the God of the\n",
            "3: Beware the Ides of Hercules!\" A couple of years later, a few people took an interest in it.\n",
            "\n",
            "The most famous and powerful image of the original \"Puppet\" in Disney history has the red head of Jesus on a red velvet robe, with the inscription\n",
            "4: Beware the Ides of April\n",
            "\n",
            "It's been said before, but the most common fallacy in political theory is that it takes all your problems to solve, even when they can be solved with no problems whatsoever. The problem with that is that the solutions will never ever be\n"
          ],
          "name": "stdout"
        }
      ]
    },
    {
      "cell_type": "code",
      "metadata": {
        "id": "jj6SuT49NTR_"
      },
      "source": [
        " # ‘Friends, Romans, countrymen, lend me your ears: I come to bury Caesar, not to praise him.’\n",
        " input_ids = tokenizer.encode('‘Friends, Romans, countrymen, lend me your ears:', return_tensors='tf')"
      ],
      "execution_count": null,
      "outputs": []
    },
    {
      "cell_type": "code",
      "metadata": {
        "colab": {
          "base_uri": "https://localhost:8080/"
        },
        "id": "PC_dB3zfwk3U",
        "outputId": "44cbabbb-1520-4086-c3bc-fbea3bcc68f5"
      },
      "source": [
        "# set top_k = 30 and set top_p = 0.95 and num_return_sequences = 5\n",
        "sample_outputs = model.generate(\n",
        "    input_ids,\n",
        "    do_sample=True, \n",
        "    max_length=50 + len(input_ids[0]),\n",
        "    top_k=30, \n",
        "    top_p=0.95, \n",
        "    num_return_sequences=5\n",
        ")\n",
        "\n",
        "print(\"Output:\\n\" + 100 * '-')\n",
        "for i, sample_output in enumerate(sample_outputs):\n",
        "  print(\"{}: {}\".format(i, tokenizer.decode(sample_output, skip_special_tokens=True)))"
      ],
      "execution_count": null,
      "outputs": [
        {
          "output_type": "stream",
          "text": [
            "Output:\n",
            "----------------------------------------------------------------------------------------------------\n",
            "0: ‘Friends, Romans, countrymen, lend me your ears: I need not ask for this, nor do I ask for this in vain: do I ask for this not for what I am able to do? For that is not your desire, but the love for my fellow-creatures. Therefore, O\n",
            "1: ‘Friends, Romans, countrymen, lend me your ears: they shall not deceive you: I am a stranger.\" Then they made him sit down, and spoke with such reverence that all the people were overcome with pity. The king went on with the rest of the people, and told them everything. The people\n",
            "2: ‘Friends, Romans, countrymen, lend me your ears: you are a friend of mine; but I ask your forgiveness.\n",
            "\n",
            "The last sentence of this passage is probably the most important: If you are a friend of mine, you have to forgive me, not only for my actions but for your deeds\n",
            "3: ‘Friends, Romans, countrymen, lend me your ears: For I was a poor fellow. But he made my life miserable.\n",
            "\n",
            "(8) This book is an excerpt of the Thesis, in which the subject is the life of the Roman general, and the writer says that in fact all Roman\n",
            "4: ‘Friends, Romans, countrymen, lend me your ears: but I am more of an idiot.\"\n",
            "\n",
            "\"Well, if you're going to lend me my ears, you ought to let me know where I can be in the house.\"\n",
            "\n",
            "\"Come and see me. I'm coming for dinner\n"
          ],
          "name": "stdout"
        }
      ]
    },
    {
      "cell_type": "code",
      "metadata": {
        "id": "fSOSMJGmwnP9"
      },
      "source": [
        " # ‘There are more things in heaven and earth, Horatio, than are dreamt of in your philosophy.’\n",
        " input_ids = tokenizer.encode('There are more things in heaven and earth, Horatio,', return_tensors='tf')"
      ],
      "execution_count": null,
      "outputs": []
    },
    {
      "cell_type": "code",
      "metadata": {
        "colab": {
          "base_uri": "https://localhost:8080/"
        },
        "id": "_fdFJLElxQDu",
        "outputId": "261bc1a4-5154-4fa3-8044-04cf238ff61d"
      },
      "source": [
        "# set top_k = 30 and set top_p = 0.95 and num_return_sequences = 5\n",
        "sample_outputs = model.generate(\n",
        "    input_ids,\n",
        "    do_sample=True, \n",
        "    max_length=50 + len(input_ids[0]),\n",
        "    top_k=30, \n",
        "    top_p=0.95, \n",
        "    num_return_sequences=5\n",
        ")\n",
        "\n",
        "print(\"Output:\\n\" + 100 * '-')\n",
        "for i, sample_output in enumerate(sample_outputs):\n",
        "  print(\"{}: {}\".format(i, tokenizer.decode(sample_output, skip_special_tokens=True)))"
      ],
      "execution_count": null,
      "outputs": [
        {
          "output_type": "stream",
          "text": [
            "Output:\n",
            "----------------------------------------------------------------------------------------------------\n",
            "0: There are more things in heaven and earth, Horatio, which are not in heaven, but which are in heaven. So I can say that the first things in heaven are heaven itself, and the second things are heaven and earth. But I can say that the latter are not all things which are in heaven\n",
            "1: There are more things in heaven and earth, Horatio, than that we could do with our bodies. When he gave us that body, he was a man of great love. He could hear the humbleness of our hearts, the beauty of our feet, the sweetness of our taste, the lightness\n",
            "2: There are more things in heaven and earth, Horatio, and he will save me; and I will see him, and I will find him, and I will give him all I have in heaven.\"\n",
            "\n",
            "In that same way, there are more things than the number of times God's Word was uttered\n",
            "3: There are more things in heaven and earth, Horatio, the king of the children of men,\" he says. \"But there are a hundred things beyond those.\"\n",
            "\n",
            "In his sermon, Horatio makes the same claim, saying that he has found the \"one thing which was impossible\" to accomplish.\n",
            "4: There are more things in heaven and earth, Horatio, if not all the great things and all the powers, in which there are some in heaven and some in earth, and that is all that I know,\" says Hosea.\n",
            "\n",
            "Hosea died in the year 786. He was\n"
          ],
          "name": "stdout"
        }
      ]
    },
    {
      "cell_type": "code",
      "metadata": {
        "id": "ujIIJhu8JCQw"
      },
      "source": [
        " # 'To be, or not to be: that is the question.'\n",
        " input_ids = tokenizer.encode('To be or not to be:', return_tensors='tf')"
      ],
      "execution_count": null,
      "outputs": []
    },
    {
      "cell_type": "code",
      "metadata": {
        "colab": {
          "base_uri": "https://localhost:8080/"
        },
        "id": "cy4d9GLrJCbD",
        "outputId": "53cf4651-d2a3-4ce0-81ee-9fd521dd1963"
      },
      "source": [
        "# set top_k = 30 and set top_p = 0.95 and num_return_sequences = 5\n",
        "sample_outputs = model.generate(\n",
        "    input_ids,\n",
        "    do_sample=True, \n",
        "    max_length=50 + len(input_ids[0]),\n",
        "    top_k=30, \n",
        "    top_p=0.95, \n",
        "    num_return_sequences=5\n",
        ")\n",
        "\n",
        "print(\"Output:\\n\" + 100 * '-')\n",
        "for i, sample_output in enumerate(sample_outputs):\n",
        "  print(\"{}: {}\".format(i, tokenizer.decode(sample_output, skip_special_tokens=True)))"
      ],
      "execution_count": null,
      "outputs": [
        {
          "output_type": "stream",
          "text": [
            "Output:\n",
            "----------------------------------------------------------------------------------------------------\n",
            "0: To be or not to be: The difference between this and the current state of the situation is much smaller than the difference between the present state of affairs is.\n",
            "\n",
            "What's the difference?\n",
            "\n",
            "This is a major technical difference because it is based on a technical question: Does\n",
            "1: To be or not to be: this can be either:\n",
            "\n",
            "1) a very short period of time (eg: 20+ minutes) for the user to get something in the app and use it as the basis for the app itself to be installed and used. This will allow\n",
            "2: To be or not to be:\n",
            "\n",
            "The reason why so many people go to sleep on nights when their sleep is poor, and for the most part are not able to get back to sleep with their loved ones, is because a lot of people have to go to sleep too late\n",
            "3: To be or not to be:\n",
            "\n",
            "1. You must be born with a \"girly\" name or a \"lucky\" name or a \"honest\" name that is in keeping with the law.\n",
            "\n",
            "2. In addition, you must provide full credit\n",
            "4: To be or not to be: It's hard to have an answer to this, but maybe there's someone out there, just waiting to see how the next iteration of what's coming out will look.\n",
            "\n",
            "And, in the end, the answer is not one I can get\n"
          ],
          "name": "stdout"
        }
      ]
    },
    {
      "cell_type": "markdown",
      "metadata": {
        "id": "-eSxu9g9HT4K"
      },
      "source": [
        "Now, let's see how the model continues after a question."
      ]
    },
    {
      "cell_type": "code",
      "metadata": {
        "id": "PDoLxDPHxTWz"
      },
      "source": [
        " # 'Romeo, Romeo! Wherefore art thou Romeo?'\n",
        " input_ids = tokenizer.encode('Romeo, Romeo! Wherefore art thou Romeo?', return_tensors='tf')"
      ],
      "execution_count": null,
      "outputs": []
    },
    {
      "cell_type": "code",
      "metadata": {
        "colab": {
          "base_uri": "https://localhost:8080/"
        },
        "id": "Gnfq93tDHjaM",
        "outputId": "f9cf0804-d007-4048-b712-b8dc2e4557e6"
      },
      "source": [
        "# set top_k = 30 and set top_p = 0.95 and num_return_sequences = 5\n",
        "sample_outputs = model.generate(\n",
        "    input_ids,\n",
        "    do_sample=True, \n",
        "    max_length=50 + len(input_ids[0]),\n",
        "    top_k=30, \n",
        "    top_p=0.95, \n",
        "    num_return_sequences=5\n",
        ")\n",
        "\n",
        "print(\"Output:\\n\" + 100 * '-')\n",
        "for i, sample_output in enumerate(sample_outputs):\n",
        "  print(\"{}: {}\".format(i, tokenizer.decode(sample_output, skip_special_tokens=True)))"
      ],
      "execution_count": null,
      "outputs": [
        {
          "output_type": "stream",
          "text": [
            "Output:\n",
            "----------------------------------------------------------------------------------------------------\n",
            "0: Romeo, Romeo! Wherefore art thou Romeo? Behold it is that I am a poet, and that he has come to me, and to all my heart, the one from whom, in order that he may sing, he may take from me, and that I may receive the gifts of\n",
            "1: Romeo, Romeo! Wherefore art thou Romeo?\n",
            "\n",
            "Lion, how can I tell thee? I will tell thee only how much I love Romeo!\n",
            "\n",
            "O, Romeo. What shall thou? And why art thou such an ugly brute!\n",
            "\n",
            "Romeo, for I,\n",
            "2: Romeo, Romeo! Wherefore art thou Romeo? O Romeo: and is this the same O Romeo that is in heaven? And how much shall it concern thee in thy soul that thou art in heaven?\n",
            "\n",
            "The one who has died for aught is a murderer.\n",
            "\n",
            "And this will\n",
            "3: Romeo, Romeo! Wherefore art thou Romeo? Thou art the first to say? And how art thou Romeo? And how are we to understand the question? Is it possible that we do not comprehend it; but it appears only as if we were to ask? But what does it seem that we\n",
            "4: Romeo, Romeo! Wherefore art thou Romeo? What dost thou? O man, thou art Romeo, and art in a position to make such a judgment upon me as to say unto my Lord, Thou art the Son of God.\n",
            "\n",
            "12 Now, for my good pleasure, I now\n"
          ],
          "name": "stdout"
        }
      ]
    },
    {
      "cell_type": "code",
      "metadata": {
        "id": "_lpPabfHHx6o"
      },
      "source": [
        " # 'Et tu, Brute?'\n",
        " input_ids = tokenizer.encode('Et tu, Brute?', return_tensors='tf')"
      ],
      "execution_count": null,
      "outputs": []
    },
    {
      "cell_type": "code",
      "metadata": {
        "colab": {
          "base_uri": "https://localhost:8080/"
        },
        "id": "rjuxFznwILdj",
        "outputId": "15173671-41ad-4436-c2f5-5a55c32e0238"
      },
      "source": [
        "# set top_k = 30 and set top_p = 0.95 and num_return_sequences = 5\n",
        "sample_outputs = model.generate(\n",
        "    input_ids,\n",
        "    do_sample=True, \n",
        "    max_length=50 + len(input_ids[0]),\n",
        "    top_k=30, \n",
        "    top_p=0.95, \n",
        "    num_return_sequences=5\n",
        ")\n",
        "\n",
        "print(\"Output:\\n\" + 100 * '-')\n",
        "for i, sample_output in enumerate(sample_outputs):\n",
        "  print(\"{}: {}\".format(i, tokenizer.decode(sample_output, skip_special_tokens=True)))"
      ],
      "execution_count": null,
      "outputs": [
        {
          "output_type": "stream",
          "text": [
            "Output:\n",
            "----------------------------------------------------------------------------------------------------\n",
            "0: Et tu, Brute?\n",
            "\n",
            "In your time you'll be called a \"Culture Warrior.\" This has nothing to do with being the leader of the \"Culture Warrior.\" You need to get it right. Be the leader of your tribe! It's hard to get\n",
            "1: Et tu, Brute? The Emperor's wrath is not limited to the emperor himself; he may also be held to be at home within the Imperial realm of the Fereldan, where the two great Houses share a common fate. A few years ago, an Imperial High\n",
            "2: Et tu, Brute?\n",
            "\n",
            "Brute? Brute! Brute, I can't believe I'm here so late.\n",
            "\n",
            "My name's Tasha and I've been doing this all day.\n",
            "\n",
            "Yeah, that was funny.\n",
            "\n",
            "I'm from\n",
            "3: Et tu, Brute? You're going to go home,\" she says, laughing, \"or at least you'll let us out.\" She goes up to the door to leave but the door behind her is locked, so she keeps walking and waits until she's about thirty-\n",
            "4: Et tu, Brute?\n",
            "\n",
            "(I thought so.)\n",
            "\n",
            "Brutus: What did he mean by this?\n",
            "\n",
            "Brute: Well, it would seem to be a way of talking about something you have already seen.\n",
            "\n",
            "Brigadier: He\n"
          ],
          "name": "stdout"
        }
      ]
    },
    {
      "cell_type": "markdown",
      "metadata": {
        "id": "I4whQ5yXJ5LC"
      },
      "source": [
        "After several examples, many of our sequences end up being largely nonsense. Many of them are humorous because they don't make a lot of sense and/or are clearly things that Shakespeare would have never written. But there are a few sequences that seem passable. \n",
        "\n",
        "To take this exercise further, it may be worth playing around with additional the hyperparameters or trying other transformers such as BERT, RoBERTa, XLM, DistilBert, or XLNet. "
      ]
    }
  ]
}
{
 "cells": [
  {
   "cell_type": "markdown",
   "metadata": {},
   "source": [
    "# Chapter 10 exercise"
   ]
  },
  {
   "cell_type": "markdown",
   "metadata": {},
   "source": [
    "Train an MLP on the MNIST dataset. See if you can get over 98% precision. Search for optimal learning rate by growing the learning rate exponentially, plotting the loss, and finding the point where the loss shoots up. \n",
    "\n",
    "Add checkpoints, early stopping, and plot learning curves using Tensorboard."
   ]
  },
  {
   "cell_type": "code",
   "execution_count": 1,
   "metadata": {},
   "outputs": [],
   "source": [
    "import numpy as np\n",
    "import tensorflow as tf\n",
    "from tensorflow import keras"
   ]
  },
  {
   "cell_type": "code",
   "execution_count": 2,
   "metadata": {},
   "outputs": [],
   "source": [
    "(X_train_full, y_train_full), (X_test, y_test) = keras.datasets.mnist.load_data()"
   ]
  },
  {
   "cell_type": "code",
   "execution_count": 3,
   "metadata": {},
   "outputs": [
    {
     "data": {
      "text/plain": [
       "(60000, 28, 28)"
      ]
     },
     "execution_count": 3,
     "metadata": {},
     "output_type": "execute_result"
    }
   ],
   "source": [
    "X_train_full.shape"
   ]
  },
  {
   "cell_type": "code",
   "execution_count": 4,
   "metadata": {},
   "outputs": [
    {
     "data": {
      "text/plain": [
       "dtype('uint8')"
      ]
     },
     "execution_count": 4,
     "metadata": {},
     "output_type": "execute_result"
    }
   ],
   "source": [
    "X_train_full.dtype"
   ]
  },
  {
   "cell_type": "code",
   "execution_count": 5,
   "metadata": {},
   "outputs": [],
   "source": [
    "X_valid, X_train = X_train_full[:5000]/255.0, X_train_full[5000:]/255.0\n",
    "y_valid, y_train = y_train_full[:5000], y_train_full[5000:]"
   ]
  },
  {
   "cell_type": "code",
   "execution_count": 6,
   "metadata": {},
   "outputs": [
    {
     "data": {
      "image/png": "[encoded data removed]",
      "text/plain": [
       "<Figure size 432x288 with 1 Axes>"
      ]
     },
     "metadata": {
      "needs_background": "light"
     },
     "output_type": "display_data"
    }
   ],
   "source": [
    "import matplotlib.pyplot as plt\n",
    "%matplotlib inline\n",
    "\n",
    "plt.imshow(X_train[0], cmap=\"binary\")\n",
    "plt.axis('off')\n",
    "plt.show()"
   ]
  },
  {
   "cell_type": "code",
   "execution_count": 7,
   "metadata": {},
   "outputs": [
    {
     "data": {
      "text/plain": [
       "(5000, 28, 28)"
      ]
     },
     "execution_count": 7,
     "metadata": {},
     "output_type": "execute_result"
    }
   ],
   "source": [
    "X_valid.shape"
   ]
  },
  {
   "cell_type": "code",
   "execution_count": 8,
   "metadata": {},
   "outputs": [
    {
     "data": {
      "text/plain": [
       "(55000,)"
      ]
     },
     "execution_count": 8,
     "metadata": {},
     "output_type": "execute_result"
    }
   ],
   "source": [
    "y_train.shape"
   ]
  },
  {
   "cell_type": "code",
   "execution_count": 9,
   "metadata": {},
   "outputs": [],
   "source": [
    "model = keras.models.Sequential([\n",
    "    keras.layers.Flatten(input_shape=[28,28]),\n",
    "    keras.layers.Dense(300, activation='relu'),\n",
    "    keras.layers.Dense(100, activation='relu'),\n",
    "    keras.layers.Dense(10, activation='softmax')\n",
    "])"
   ]
  },
  {
   "cell_type": "code",
   "execution_count": 10,
   "metadata": {
    "scrolled": true
   },
   "outputs": [
    {
     "name": "stdout",
     "output_type": "stream",
     "text": [
      "Epoch 1/20\n",
      "1719/1719 [==============================] - 2s 991us/step - loss: 0.6128 - accuracy: 0.8457 - val_loss: 0.2976 - val_accuracy: 0.9208\n",
      "Epoch 2/20\n",
      "1719/1719 [==============================] - 2s 919us/step - loss: 0.2858 - accuracy: 0.9193 - val_loss: 0.2392 - val_accuracy: 0.9348\n",
      "Epoch 3/20\n",
      "1719/1719 [==============================] - 2s 926us/step - loss: 0.2324 - accuracy: 0.9340 - val_loss: 0.1997 - val_accuracy: 0.9446\n",
      "Epoch 4/20\n",
      "1719/1719 [==============================] - 2s 926us/step - loss: 0.1990 - accuracy: 0.9435 - val_loss: 0.1758 - val_accuracy: 0.9522\n",
      "Epoch 5/20\n",
      "1719/1719 [==============================] - 2s 952us/step - loss: 0.1736 - accuracy: 0.9504 - val_loss: 0.1582 - val_accuracy: 0.9578\n",
      "Epoch 6/20\n",
      "1719/1719 [==============================] - 2s 956us/step - loss: 0.1547 - accuracy: 0.9554 - val_loss: 0.1415 - val_accuracy: 0.9620\n",
      "Epoch 7/20\n",
      "1719/1719 [==============================] - 2s 931us/step - loss: 0.1389 - accuracy: 0.9600 - val_loss: 0.1320 - val_accuracy: 0.9650\n",
      "Epoch 8/20\n",
      "1719/1719 [==============================] - 2s 922us/step - loss: 0.1262 - accuracy: 0.9639 - val_loss: 0.1246 - val_accuracy: 0.9662\n",
      "Epoch 9/20\n",
      "1719/1719 [==============================] - 2s 928us/step - loss: 0.1148 - accuracy: 0.9679 - val_loss: 0.1149 - val_accuracy: 0.9694\n",
      "Epoch 10/20\n",
      "1719/1719 [==============================] - 2s 922us/step - loss: 0.1056 - accuracy: 0.9702 - val_loss: 0.1098 - val_accuracy: 0.9704\n",
      "Epoch 11/20\n",
      "1719/1719 [==============================] - 2s 924us/step - loss: 0.0974 - accuracy: 0.9727 - val_loss: 0.1063 - val_accuracy: 0.9702\n",
      "Epoch 12/20\n",
      "1719/1719 [==============================] - 2s 940us/step - loss: 0.0900 - accuracy: 0.9751 - val_loss: 0.0991 - val_accuracy: 0.9730\n",
      "Epoch 13/20\n",
      "1719/1719 [==============================] - 2s 926us/step - loss: 0.0835 - accuracy: 0.9767 - val_loss: 0.0939 - val_accuracy: 0.9738\n",
      "Epoch 14/20\n",
      "1719/1719 [==============================] - 2s 935us/step - loss: 0.0775 - accuracy: 0.9785 - val_loss: 0.0936 - val_accuracy: 0.9750\n",
      "Epoch 15/20\n",
      "1719/1719 [==============================] - 2s 924us/step - loss: 0.0726 - accuracy: 0.9800 - val_loss: 0.0903 - val_accuracy: 0.9748\n",
      "Epoch 16/20\n",
      "1719/1719 [==============================] - 2s 924us/step - loss: 0.0674 - accuracy: 0.9814 - val_loss: 0.0845 - val_accuracy: 0.9762\n",
      "Epoch 17/20\n",
      "1719/1719 [==============================] - 2s 924us/step - loss: 0.0631 - accuracy: 0.9829 - val_loss: 0.0835 - val_accuracy: 0.9770\n",
      "Epoch 18/20\n",
      "1719/1719 [==============================] - 2s 942us/step - loss: 0.0593 - accuracy: 0.9836 - val_loss: 0.0807 - val_accuracy: 0.9774\n",
      "Epoch 19/20\n",
      "1719/1719 [==============================] - 2s 959us/step - loss: 0.0553 - accuracy: 0.9851 - val_loss: 0.0804 - val_accuracy: 0.9772\n",
      "Epoch 20/20\n",
      "1719/1719 [==============================] - 2s 924us/step - loss: 0.0519 - accuracy: 0.9865 - val_loss: 0.0791 - val_accuracy: 0.9768\n"
     ]
    }
   ],
   "source": [
    "model.compile(loss='sparse_categorical_crossentropy',\n",
    "              optimizer='sgd',\n",
    "              metrics=['accuracy'])\n",
    "\n",
    "history = model.fit(X_train, y_train, epochs=20, validation_data=(X_valid, y_valid))"
   ]
  },
  {
   "cell_type": "markdown",
   "metadata": {},
   "source": [
    "Close to 98% accuracy, but not there."
   ]
  },
  {
   "cell_type": "code",
   "execution_count": 11,
   "metadata": {},
   "outputs": [],
   "source": [
    "import pandas as pd\n",
    "import matplotlib.pyplot as plt\n",
    "%matplotlib inline"
   ]
  },
  {
   "cell_type": "code",
   "execution_count": 12,
   "metadata": {},
   "outputs": [
    {
     "data": {
      "image/png": "[encoded data removed]",
      "text/plain": [
       "<Figure size 864x432 with 1 Axes>"
      ]
     },
     "metadata": {
      "needs_background": "light"
     },
     "output_type": "display_data"
    }
   ],
   "source": [
    "pd.DataFrame(history.history).plot(figsize=(12,6))\n",
    "plt.grid(True)\n",
    "plt.gca().set_ylim(0,1)\n",
    "plt.xlabel('Epoch')\n",
    "plt.ylabel('Accuracy')\n",
    "plt.title('Keras model')\n",
    "plt.show()"
   ]
  },
  {
   "cell_type": "markdown",
   "metadata": {},
   "source": [
    "Evaluate on test set"
   ]
  },
  {
   "cell_type": "code",
   "execution_count": 13,
   "metadata": {},
   "outputs": [
    {
     "name": "stdout",
     "output_type": "stream",
     "text": [
      "313/313 [==============================] - 0s 1ms/step - loss: 13.5514 - accuracy: 0.9719\n"
     ]
    },
    {
     "data": {
      "text/plain": [
       "[13.551373481750488, 0.9718999862670898]"
      ]
     },
     "execution_count": 13,
     "metadata": {},
     "output_type": "execute_result"
    }
   ],
   "source": [
    "mse_test = model.evaluate(X_test, y_test)\n",
    "mse_test"
   ]
  },
  {
   "cell_type": "markdown",
   "metadata": {},
   "source": [
    "## Callbacks and early stopping"
   ]
  },
  {
   "cell_type": "code",
   "execution_count": 18,
   "metadata": {},
   "outputs": [],
   "source": [
    "keras.backend.clear_session()\n",
    "np.random.seed(42)\n",
    "tf.random.set_seed(42)"
   ]
  },
  {
   "cell_type": "markdown",
   "metadata": {},
   "source": [
    "### Callback"
   ]
  },
  {
   "cell_type": "code",
   "execution_count": 19,
   "metadata": {},
   "outputs": [],
   "source": [
    "model = keras.models.Sequential([\n",
    "    keras.layers.Flatten(input_shape=[28,28]),\n",
    "    keras.layers.Dense(300, activation='relu'),\n",
    "    keras.layers.Dense(100, activation='relu'),\n",
    "    keras.layers.Dense(10, activation='softmax')\n",
    "])"
   ]
  },
  {
   "cell_type": "code",
   "execution_count": 20,
   "metadata": {
    "scrolled": true
   },
   "outputs": [
    {
     "name": "stdout",
     "output_type": "stream",
     "text": [
      "Epoch 1/20\n",
      "1719/1719 [==============================] - 2s 1ms/step - loss: 1.8046 - accuracy: 0.5294 - val_loss: 1.2379 - val_accuracy: 0.7800\n",
      "Epoch 2/20\n",
      "1719/1719 [==============================] - 2s 949us/step - loss: 0.9248 - accuracy: 0.8169 - val_loss: 0.6932 - val_accuracy: 0.8482\n",
      "Epoch 3/20\n",
      "1719/1719 [==============================] - 2s 952us/step - loss: 0.6128 - accuracy: 0.8555 - val_loss: 0.5203 - val_accuracy: 0.8720\n",
      "Epoch 4/20\n",
      "1719/1719 [==============================] - 2s 952us/step - loss: 0.4978 - accuracy: 0.8726 - val_loss: 0.4417 - val_accuracy: 0.8894\n",
      "Epoch 5/20\n",
      "1719/1719 [==============================] - 2s 952us/step - loss: 0.4391 - accuracy: 0.8833 - val_loss: 0.3974 - val_accuracy: 0.8956\n",
      "Epoch 6/20\n",
      "1719/1719 [==============================] - 2s 961us/step - loss: 0.4031 - accuracy: 0.8905 - val_loss: 0.3683 - val_accuracy: 0.9016\n",
      "Epoch 7/20\n",
      "1719/1719 [==============================] - 2s 954us/step - loss: 0.3779 - accuracy: 0.8951 - val_loss: 0.3468 - val_accuracy: 0.9046\n",
      "Epoch 8/20\n",
      "1719/1719 [==============================] - 2s 947us/step - loss: 0.3590 - accuracy: 0.8998 - val_loss: 0.3307 - val_accuracy: 0.9098\n",
      "Epoch 9/20\n",
      "1719/1719 [==============================] - 2s 938us/step - loss: 0.3437 - accuracy: 0.9033 - val_loss: 0.3181 - val_accuracy: 0.9118\n",
      "Epoch 10/20\n",
      "1719/1719 [==============================] - 2s 959us/step - loss: 0.3312 - accuracy: 0.9065 - val_loss: 0.3063 - val_accuracy: 0.9142\n",
      "Epoch 11/20\n",
      "1719/1719 [==============================] - 2s 956us/step - loss: 0.3202 - accuracy: 0.9089 - val_loss: 0.2958 - val_accuracy: 0.9176\n",
      "Epoch 12/20\n",
      "1719/1719 [==============================] - 2s 992us/step - loss: 0.3106 - accuracy: 0.9120 - val_loss: 0.2873 - val_accuracy: 0.9200\n",
      "Epoch 13/20\n",
      "1719/1719 [==============================] - 2s 1ms/step - loss: 0.3020 - accuracy: 0.9139 - val_loss: 0.2799 - val_accuracy: 0.9224\n",
      "Epoch 14/20\n",
      "1719/1719 [==============================] - 2s 1ms/step - loss: 0.2943 - accuracy: 0.9160 - val_loss: 0.2737 - val_accuracy: 0.9246\n",
      "Epoch 15/20\n",
      "1719/1719 [==============================] - 2s 984us/step - loss: 0.2872 - accuracy: 0.9180 - val_loss: 0.2667 - val_accuracy: 0.9252\n",
      "Epoch 16/20\n",
      "1719/1719 [==============================] - 2s 984us/step - loss: 0.2804 - accuracy: 0.9198 - val_loss: 0.2610 - val_accuracy: 0.9262\n",
      "Epoch 17/20\n",
      "1719/1719 [==============================] - 2s 980us/step - loss: 0.2744 - accuracy: 0.9214 - val_loss: 0.2550 - val_accuracy: 0.9276\n",
      "Epoch 18/20\n",
      "1719/1719 [==============================] - 2s 977us/step - loss: 0.2686 - accuracy: 0.9238 - val_loss: 0.2503 - val_accuracy: 0.9300\n",
      "Epoch 19/20\n",
      "1719/1719 [==============================] - 2s 984us/step - loss: 0.2631 - accuracy: 0.9250 - val_loss: 0.2458 - val_accuracy: 0.9320\n",
      "Epoch 20/20\n",
      "1719/1719 [==============================] - 2s 991us/step - loss: 0.2578 - accuracy: 0.9267 - val_loss: 0.2423 - val_accuracy: 0.9346\n"
     ]
    }
   ],
   "source": [
    "model.compile(loss=\"sparse_categorical_crossentropy\", optimizer=keras.optimizers.SGD(lr=1e-3), metrics=['accuracy'])\n",
    "checkpoint_cb = keras.callbacks.ModelCheckpoint(\"my_keras_model.h5\", save_best_only=True)\n",
    "history = model.fit(X_train, y_train, epochs=20,\n",
    "                    validation_data=(X_valid, y_valid),\n",
    "                    callbacks=[checkpoint_cb])\n",
    "model = keras.models.load_model(\"my_keras_model.h5\") # rollback to best model"
   ]
  },
  {
   "cell_type": "markdown",
   "metadata": {},
   "source": [
    "Performed worse with callback. Learning rate was 0.001 vs. default in previous model at 0.01"
   ]
  },
  {
   "cell_type": "code",
   "execution_count": 21,
   "metadata": {},
   "outputs": [
    {
     "name": "stdout",
     "output_type": "stream",
     "text": [
      "313/313 [==============================] - 0s 690us/step - loss: 33.1855 - accuracy: 0.1024\n"
     ]
    }
   ],
   "source": [
    "mse_test = model.evaluate(X_test, y_test)"
   ]
  },
  {
   "cell_type": "markdown",
   "metadata": {},
   "source": [
    "Accuracy is atrocious on the test set. Seems strange."
   ]
  },
  {
   "cell_type": "markdown",
   "metadata": {},
   "source": [
    "### Early stopping"
   ]
  },
  {
   "cell_type": "code",
   "execution_count": null,
   "metadata": {},
   "outputs": [],
   "source": [
    "Try early stopping with 100 epochs."
   ]
  },
  {
   "cell_type": "code",
   "execution_count": 22,
   "metadata": {
    "scrolled": true
   },
   "outputs": [
    {
     "name": "stdout",
     "output_type": "stream",
     "text": [
      "Epoch 1/100\n",
      "1719/1719 [==============================] - 2s 996us/step - loss: 0.2530 - accuracy: 0.9280 - val_loss: 0.2367 - val_accuracy: 0.9332\n",
      "Epoch 2/100\n",
      "1719/1719 [==============================] - 2s 966us/step - loss: 0.2482 - accuracy: 0.9295 - val_loss: 0.2327 - val_accuracy: 0.9348\n",
      "Epoch 3/100\n",
      "1719/1719 [==============================] - 2s 1ms/step - loss: 0.2438 - accuracy: 0.9304 - val_loss: 0.2289 - val_accuracy: 0.9374\n",
      "Epoch 4/100\n",
      "1719/1719 [==============================] - 2s 991us/step - loss: 0.2395 - accuracy: 0.9320 - val_loss: 0.2256 - val_accuracy: 0.9390\n",
      "Epoch 5/100\n",
      "1719/1719 [==============================] - 2s 989us/step - loss: 0.2353 - accuracy: 0.9330 - val_loss: 0.2219 - val_accuracy: 0.9388\n",
      "Epoch 6/100\n",
      "1719/1719 [==============================] - 2s 1ms/step - loss: 0.2314 - accuracy: 0.9339 - val_loss: 0.2187 - val_accuracy: 0.9386\n",
      "Epoch 7/100\n",
      "1719/1719 [==============================] - 2s 1ms/step - loss: 0.2275 - accuracy: 0.9355 - val_loss: 0.2151 - val_accuracy: 0.9412\n",
      "Epoch 8/100\n",
      "1719/1719 [==============================] - 2s 924us/step - loss: 0.2238 - accuracy: 0.9367 - val_loss: 0.2124 - val_accuracy: 0.9408\n",
      "Epoch 9/100\n",
      "1719/1719 [==============================] - 2s 1ms/step - loss: 0.2202 - accuracy: 0.9376 - val_loss: 0.2094 - val_accuracy: 0.9428\n",
      "Epoch 10/100\n",
      "1719/1719 [==============================] - 2s 1ms/step - loss: 0.2168 - accuracy: 0.9386 - val_loss: 0.2059 - val_accuracy: 0.9424\n",
      "Epoch 11/100\n",
      "1719/1719 [==============================] - 2s 989us/step - loss: 0.2133 - accuracy: 0.9393 - val_loss: 0.2029 - val_accuracy: 0.9440\n",
      "Epoch 12/100\n",
      "1719/1719 [==============================] - 2s 968us/step - loss: 0.2100 - accuracy: 0.9403 - val_loss: 0.2001 - val_accuracy: 0.9444\n",
      "Epoch 13/100\n",
      "1719/1719 [==============================] - 2s 973us/step - loss: 0.2069 - accuracy: 0.9411 - val_loss: 0.1975 - val_accuracy: 0.9448\n",
      "Epoch 14/100\n",
      "1719/1719 [==============================] - 2s 959us/step - loss: 0.2037 - accuracy: 0.9425 - val_loss: 0.1961 - val_accuracy: 0.9452\n",
      "Epoch 15/100\n",
      "1719/1719 [==============================] - 2s 975us/step - loss: 0.2008 - accuracy: 0.9430 - val_loss: 0.1923 - val_accuracy: 0.9468\n",
      "Epoch 16/100\n",
      "1719/1719 [==============================] - 2s 990us/step - loss: 0.1977 - accuracy: 0.9441 - val_loss: 0.1904 - val_accuracy: 0.9470\n",
      "Epoch 17/100\n",
      "1719/1719 [==============================] - 2s 977us/step - loss: 0.1950 - accuracy: 0.9451 - val_loss: 0.1877 - val_accuracy: 0.9488\n",
      "Epoch 18/100\n",
      "1719/1719 [==============================] - 2s 1ms/step - loss: 0.1922 - accuracy: 0.9456 - val_loss: 0.1856 - val_accuracy: 0.9476\n",
      "Epoch 19/100\n",
      "1719/1719 [==============================] - 2s 952us/step - loss: 0.1895 - accuracy: 0.9464 - val_loss: 0.1833 - val_accuracy: 0.9486\n",
      "Epoch 20/100\n",
      "1719/1719 [==============================] - 2s 954us/step - loss: 0.1867 - accuracy: 0.9467 - val_loss: 0.1820 - val_accuracy: 0.9504\n",
      "Epoch 21/100\n",
      "1719/1719 [==============================] - 2s 984us/step - loss: 0.1843 - accuracy: 0.9475 - val_loss: 0.1790 - val_accuracy: 0.9512\n",
      "Epoch 22/100\n",
      "1719/1719 [==============================] - 2s 1ms/step - loss: 0.1818 - accuracy: 0.9486 - val_loss: 0.1771 - val_accuracy: 0.9510\n",
      "Epoch 23/100\n",
      "1719/1719 [==============================] - 2s 1ms/step - loss: 0.1794 - accuracy: 0.9492 - val_loss: 0.1744 - val_accuracy: 0.9528\n",
      "Epoch 24/100\n",
      "1719/1719 [==============================] - 2s 1ms/step - loss: 0.1769 - accuracy: 0.9496 - val_loss: 0.1733 - val_accuracy: 0.9530\n",
      "Epoch 25/100\n",
      "1719/1719 [==============================] - 2s 1ms/step - loss: 0.1747 - accuracy: 0.9503 - val_loss: 0.1708 - val_accuracy: 0.9524\n",
      "Epoch 26/100\n",
      "1719/1719 [==============================] - 2s 1ms/step - loss: 0.1723 - accuracy: 0.9511 - val_loss: 0.1691 - val_accuracy: 0.9540\n",
      "Epoch 27/100\n",
      "1719/1719 [==============================] - 2s 1ms/step - loss: 0.1701 - accuracy: 0.9519 - val_loss: 0.1670 - val_accuracy: 0.9540\n",
      "Epoch 28/100\n",
      "1719/1719 [==============================] - 2s 996us/step - loss: 0.1679 - accuracy: 0.9523 - val_loss: 0.1649 - val_accuracy: 0.9548\n",
      "Epoch 29/100\n",
      "1719/1719 [==============================] - 2s 1ms/step - loss: 0.1657 - accuracy: 0.9527 - val_loss: 0.1632 - val_accuracy: 0.9568\n",
      "Epoch 30/100\n",
      "1719/1719 [==============================] - 2s 1ms/step - loss: 0.1637 - accuracy: 0.9533 - val_loss: 0.1623 - val_accuracy: 0.9568\n",
      "Epoch 31/100\n",
      "1719/1719 [==============================] - 2s 980us/step - loss: 0.1615 - accuracy: 0.9541 - val_loss: 0.1603 - val_accuracy: 0.9566\n",
      "Epoch 32/100\n",
      "1719/1719 [==============================] - 2s 992us/step - loss: 0.1595 - accuracy: 0.9543 - val_loss: 0.1584 - val_accuracy: 0.9568\n",
      "Epoch 33/100\n",
      "1719/1719 [==============================] - 2s 1ms/step - loss: 0.1575 - accuracy: 0.9551 - val_loss: 0.1571 - val_accuracy: 0.9582\n",
      "Epoch 34/100\n",
      "1719/1719 [==============================] - 2s 1ms/step - loss: 0.1556 - accuracy: 0.9562 - val_loss: 0.1554 - val_accuracy: 0.9582\n",
      "Epoch 35/100\n",
      "1719/1719 [==============================] - 2s 975us/step - loss: 0.1536 - accuracy: 0.9566 - val_loss: 0.1540 - val_accuracy: 0.9580\n",
      "Epoch 36/100\n",
      "1719/1719 [==============================] - 2s 1ms/step - loss: 0.1519 - accuracy: 0.9568 - val_loss: 0.1523 - val_accuracy: 0.9586\n",
      "Epoch 37/100\n",
      "1719/1719 [==============================] - 2s 1ms/step - loss: 0.1501 - accuracy: 0.9577 - val_loss: 0.1507 - val_accuracy: 0.9592\n",
      "Epoch 38/100\n",
      "1719/1719 [==============================] - 2s 1ms/step - loss: 0.1482 - accuracy: 0.9582 - val_loss: 0.1491 - val_accuracy: 0.9588\n",
      "Epoch 39/100\n",
      "1719/1719 [==============================] - 2s 1ms/step - loss: 0.1466 - accuracy: 0.9587 - val_loss: 0.1476 - val_accuracy: 0.9592\n",
      "Epoch 40/100\n",
      "1719/1719 [==============================] - 2s 1ms/step - loss: 0.1449 - accuracy: 0.9587 - val_loss: 0.1462 - val_accuracy: 0.9600\n",
      "Epoch 41/100\n",
      "1719/1719 [==============================] - 2s 1ms/step - loss: 0.1432 - accuracy: 0.9597 - val_loss: 0.1451 - val_accuracy: 0.9606\n",
      "Epoch 42/100\n",
      "1719/1719 [==============================] - 2s 996us/step - loss: 0.1416 - accuracy: 0.9603 - val_loss: 0.1440 - val_accuracy: 0.9608\n",
      "Epoch 43/100\n",
      "1719/1719 [==============================] - 2s 1ms/step - loss: 0.1399 - accuracy: 0.9609 - val_loss: 0.1428 - val_accuracy: 0.9610\n",
      "Epoch 44/100\n",
      "1719/1719 [==============================] - 2s 994us/step - loss: 0.1384 - accuracy: 0.9614 - val_loss: 0.1413 - val_accuracy: 0.9620\n",
      "Epoch 45/100\n",
      "1719/1719 [==============================] - 2s 1ms/step - loss: 0.1368 - accuracy: 0.9617 - val_loss: 0.1401 - val_accuracy: 0.9624\n",
      "Epoch 46/100\n",
      "1719/1719 [==============================] - 2s 996us/step - loss: 0.1353 - accuracy: 0.9623 - val_loss: 0.1387 - val_accuracy: 0.9616\n",
      "Epoch 47/100\n",
      "1719/1719 [==============================] - 2s 1ms/step - loss: 0.1338 - accuracy: 0.9626 - val_loss: 0.1380 - val_accuracy: 0.9622\n",
      "Epoch 48/100\n",
      "1719/1719 [==============================] - 2s 1ms/step - loss: 0.1324 - accuracy: 0.9631 - val_loss: 0.1365 - val_accuracy: 0.9626\n",
      "Epoch 49/100\n",
      "1719/1719 [==============================] - 2s 1ms/step - loss: 0.1309 - accuracy: 0.9633 - val_loss: 0.1354 - val_accuracy: 0.9632\n",
      "Epoch 50/100\n",
      "1719/1719 [==============================] - 2s 1ms/step - loss: 0.1295 - accuracy: 0.9639 - val_loss: 0.1349 - val_accuracy: 0.9626\n",
      "Epoch 51/100\n",
      "1719/1719 [==============================] - 2s 1ms/step - loss: 0.1282 - accuracy: 0.9645 - val_loss: 0.1331 - val_accuracy: 0.9632\n",
      "Epoch 52/100\n",
      "1719/1719 [==============================] - 2s 1ms/step - loss: 0.1268 - accuracy: 0.9644 - val_loss: 0.1322 - val_accuracy: 0.9638\n",
      "Epoch 53/100\n",
      "1719/1719 [==============================] - 2s 996us/step - loss: 0.1254 - accuracy: 0.9650 - val_loss: 0.1312 - val_accuracy: 0.9642\n",
      "Epoch 54/100\n",
      "1719/1719 [==============================] - 3s 2ms/step - loss: 0.1242 - accuracy: 0.9655 - val_loss: 0.1300 - val_accuracy: 0.9638\n",
      "Epoch 55/100\n",
      "1719/1719 [==============================] - 5s 3ms/step - loss: 0.1229 - accuracy: 0.9658 - val_loss: 0.1290 - val_accuracy: 0.9644\n",
      "Epoch 56/100\n",
      "1719/1719 [==============================] - 2s 1ms/step - loss: 0.1215 - accuracy: 0.9659 - val_loss: 0.1284 - val_accuracy: 0.9640\n",
      "Epoch 57/100\n",
      "1719/1719 [==============================] - 2s 1ms/step - loss: 0.1204 - accuracy: 0.9665 - val_loss: 0.1270 - val_accuracy: 0.9650\n",
      "Epoch 58/100\n",
      "1719/1719 [==============================] - 2s 1ms/step - loss: 0.1192 - accuracy: 0.9668 - val_loss: 0.1261 - val_accuracy: 0.9652\n",
      "Epoch 59/100\n",
      "1719/1719 [==============================] - 2s 1ms/step - loss: 0.1180 - accuracy: 0.9671 - val_loss: 0.1256 - val_accuracy: 0.9658\n",
      "Epoch 60/100\n",
      "1719/1719 [==============================] - 2s 1ms/step - loss: 0.1168 - accuracy: 0.9674 - val_loss: 0.1243 - val_accuracy: 0.9664\n",
      "Epoch 61/100\n",
      "1719/1719 [==============================] - 2s 1ms/step - loss: 0.1156 - accuracy: 0.9682 - val_loss: 0.1233 - val_accuracy: 0.9660\n",
      "Epoch 62/100\n",
      "1719/1719 [==============================] - 2s 1ms/step - loss: 0.1145 - accuracy: 0.9684 - val_loss: 0.1226 - val_accuracy: 0.9666\n",
      "Epoch 63/100\n",
      "1719/1719 [==============================] - 2s 1ms/step - loss: 0.1134 - accuracy: 0.9688 - val_loss: 0.1214 - val_accuracy: 0.9664\n",
      "Epoch 64/100\n",
      "1719/1719 [==============================] - 2s 1ms/step - loss: 0.1122 - accuracy: 0.9688 - val_loss: 0.1214 - val_accuracy: 0.9670\n",
      "Epoch 65/100\n",
      "1719/1719 [==============================] - 2s 963us/step - loss: 0.1112 - accuracy: 0.9690 - val_loss: 0.1203 - val_accuracy: 0.9670\n",
      "Epoch 66/100\n",
      "1719/1719 [==============================] - 2s 973us/step - loss: 0.1101 - accuracy: 0.9694 - val_loss: 0.1190 - val_accuracy: 0.9672\n",
      "Epoch 67/100\n",
      "1719/1719 [==============================] - 2s 910us/step - loss: 0.1090 - accuracy: 0.9698 - val_loss: 0.1184 - val_accuracy: 0.9676\n",
      "Epoch 68/100\n",
      "1719/1719 [==============================] - 2s 903us/step - loss: 0.1080 - accuracy: 0.9703 - val_loss: 0.1175 - val_accuracy: 0.9668\n",
      "Epoch 69/100\n",
      "1719/1719 [==============================] - 2s 896us/step - loss: 0.1070 - accuracy: 0.9705 - val_loss: 0.1173 - val_accuracy: 0.9682\n",
      "Epoch 70/100\n",
      "1719/1719 [==============================] - 2s 1ms/step - loss: 0.1060 - accuracy: 0.9707 - val_loss: 0.1169 - val_accuracy: 0.9670\n",
      "Epoch 71/100\n",
      "1719/1719 [==============================] - 2s 905us/step - loss: 0.1049 - accuracy: 0.9708 - val_loss: 0.1157 - val_accuracy: 0.9674\n",
      "Epoch 72/100\n",
      "1719/1719 [==============================] - 2s 896us/step - loss: 0.1039 - accuracy: 0.9712 - val_loss: 0.1152 - val_accuracy: 0.9684\n",
      "Epoch 73/100\n",
      "1719/1719 [==============================] - 2s 917us/step - loss: 0.1031 - accuracy: 0.9716 - val_loss: 0.1145 - val_accuracy: 0.9682\n",
      "Epoch 74/100\n",
      "1719/1719 [==============================] - 2s 921us/step - loss: 0.1022 - accuracy: 0.9719 - val_loss: 0.1135 - val_accuracy: 0.9688\n",
      "Epoch 75/100\n",
      "1719/1719 [==============================] - 2s 898us/step - loss: 0.1012 - accuracy: 0.9721 - val_loss: 0.1125 - val_accuracy: 0.9694\n",
      "Epoch 76/100\n",
      "1719/1719 [==============================] - 2s 903us/step - loss: 0.1003 - accuracy: 0.9723 - val_loss: 0.1113 - val_accuracy: 0.9692\n",
      "Epoch 77/100\n",
      "1719/1719 [==============================] - 2s 889us/step - loss: 0.0994 - accuracy: 0.9726 - val_loss: 0.1113 - val_accuracy: 0.9694\n",
      "Epoch 78/100\n",
      "1719/1719 [==============================] - 2s 896us/step - loss: 0.0985 - accuracy: 0.9727 - val_loss: 0.1102 - val_accuracy: 0.9692\n",
      "Epoch 79/100\n",
      "1719/1719 [==============================] - 2s 901us/step - loss: 0.0976 - accuracy: 0.9729 - val_loss: 0.1099 - val_accuracy: 0.9700\n",
      "Epoch 80/100\n",
      "1719/1719 [==============================] - 2s 926us/step - loss: 0.0967 - accuracy: 0.9731 - val_loss: 0.1090 - val_accuracy: 0.9706\n",
      "Epoch 81/100\n",
      "1719/1719 [==============================] - 2s 1ms/step - loss: 0.0958 - accuracy: 0.9734 - val_loss: 0.1086 - val_accuracy: 0.9698\n",
      "Epoch 82/100\n",
      "1719/1719 [==============================] - 2s 910us/step - loss: 0.0951 - accuracy: 0.9739 - val_loss: 0.1077 - val_accuracy: 0.9710\n",
      "Epoch 83/100\n",
      "1719/1719 [==============================] - 2s 928us/step - loss: 0.0942 - accuracy: 0.9740 - val_loss: 0.1072 - val_accuracy: 0.9710\n",
      "Epoch 84/100\n",
      "1719/1719 [==============================] - 2s 939us/step - loss: 0.0934 - accuracy: 0.9743 - val_loss: 0.1066 - val_accuracy: 0.9704\n",
      "Epoch 85/100\n",
      "1719/1719 [==============================] - 2s 908us/step - loss: 0.0925 - accuracy: 0.9743 - val_loss: 0.1061 - val_accuracy: 0.9706\n",
      "Epoch 86/100\n",
      "1719/1719 [==============================] - 2s 908us/step - loss: 0.0918 - accuracy: 0.9746 - val_loss: 0.1057 - val_accuracy: 0.9704\n",
      "Epoch 87/100\n",
      "1719/1719 [==============================] - 2s 912us/step - loss: 0.0910 - accuracy: 0.9751 - val_loss: 0.1052 - val_accuracy: 0.9718\n",
      "Epoch 88/100\n",
      "1719/1719 [==============================] - 2s 938us/step - loss: 0.0902 - accuracy: 0.9750 - val_loss: 0.1041 - val_accuracy: 0.9708\n",
      "Epoch 89/100\n",
      "1719/1719 [==============================] - 2s 1ms/step - loss: 0.0894 - accuracy: 0.9752 - val_loss: 0.1038 - val_accuracy: 0.9706\n",
      "Epoch 90/100\n",
      "1719/1719 [==============================] - 3s 2ms/step - loss: 0.0886 - accuracy: 0.9754 - val_loss: 0.1030 - val_accuracy: 0.9720\n",
      "Epoch 91/100\n",
      "1719/1719 [==============================] - 3s 2ms/step - loss: 0.0880 - accuracy: 0.9755 - val_loss: 0.1030 - val_accuracy: 0.9718\n",
      "Epoch 92/100\n",
      "1719/1719 [==============================] - 3s 2ms/step - loss: 0.0872 - accuracy: 0.9757 - val_loss: 0.1024 - val_accuracy: 0.9716\n",
      "Epoch 93/100\n",
      "1719/1719 [==============================] - 3s 2ms/step - loss: 0.0865 - accuracy: 0.9762 - val_loss: 0.1015 - val_accuracy: 0.9710\n",
      "Epoch 94/100\n",
      "1719/1719 [==============================] - 3s 2ms/step - loss: 0.0857 - accuracy: 0.9760 - val_loss: 0.1013 - val_accuracy: 0.9714\n",
      "Epoch 95/100\n",
      "1719/1719 [==============================] - 3s 2ms/step - loss: 0.0850 - accuracy: 0.9764 - val_loss: 0.1007 - val_accuracy: 0.9720\n",
      "Epoch 96/100\n",
      "1719/1719 [==============================] - 2s 908us/step - loss: 0.0843 - accuracy: 0.9768 - val_loss: 0.1000 - val_accuracy: 0.9710\n",
      "Epoch 97/100\n",
      "1719/1719 [==============================] - 2s 896us/step - loss: 0.0836 - accuracy: 0.9769 - val_loss: 0.0994 - val_accuracy: 0.9712\n",
      "Epoch 98/100\n",
      "1719/1719 [==============================] - 2s 910us/step - loss: 0.0829 - accuracy: 0.9771 - val_loss: 0.0988 - val_accuracy: 0.9718\n",
      "Epoch 99/100\n",
      "1719/1719 [==============================] - 2s 919us/step - loss: 0.0822 - accuracy: 0.9775 - val_loss: 0.0984 - val_accuracy: 0.9726\n",
      "Epoch 100/100\n",
      "1719/1719 [==============================] - 2s 907us/step - loss: 0.0816 - accuracy: 0.9775 - val_loss: 0.0978 - val_accuracy: 0.9724\n"
     ]
    }
   ],
   "source": [
    "model.compile(loss=\"sparse_categorical_crossentropy\", optimizer=keras.optimizers.SGD(lr=1e-3), metrics=['accuracy'])\n",
    "early_stopping_cb = keras.callbacks.EarlyStopping(patience=10,\n",
    "                                                  restore_best_weights=True)\n",
    "history = model.fit(X_train, y_train, epochs=100,\n",
    "                    validation_data=(X_valid, y_valid),\n",
    "                    callbacks=[checkpoint_cb, early_stopping_cb])"
   ]
  },
  {
   "cell_type": "markdown",
   "metadata": {},
   "source": [
    "Better accuracy than callback alone, but not as good as base model. Let's check on the test set."
   ]
  },
  {
   "cell_type": "code",
   "execution_count": 24,
   "metadata": {},
   "outputs": [
    {
     "name": "stdout",
     "output_type": "stream",
     "text": [
      "313/313 [==============================] - 0s 1ms/step - loss: 14.2606 - accuracy: 0.9694\n"
     ]
    }
   ],
   "source": [
    "mse_test = model.evaluate(X_test, y_test)"
   ]
  },
  {
   "cell_type": "markdown",
   "metadata": {},
   "source": [
    "Better, but still not as good as base."
   ]
  },
  {
   "cell_type": "code",
   "execution_count": 25,
   "metadata": {},
   "outputs": [
    {
     "data": {
      "image/png": "[encoded data removed]",
      "text/plain": [
       "<Figure size 864x432 with 1 Axes>"
      ]
     },
     "metadata": {
      "needs_background": "light"
     },
     "output_type": "display_data"
    }
   ],
   "source": [
    "pd.DataFrame(history.history).plot(figsize=(12,6))\n",
    "plt.grid(True)\n",
    "plt.gca().set_ylim(0,1)\n",
    "plt.xlabel('Epoch')\n",
    "plt.ylabel('Accuracy')\n",
    "plt.title('Keras model')\n",
    "plt.show()"
   ]
  },
  {
   "cell_type": "markdown",
   "metadata": {},
   "source": [
    "## Learning rate"
   ]
  },
  {
   "cell_type": "markdown",
   "metadata": {},
   "source": [
    "We'll return to the default learning rate 1e-2, the same as the base model, but implement early stopping and callback on 100 epochs."
   ]
  },
  {
   "cell_type": "code",
   "execution_count": 26,
   "metadata": {},
   "outputs": [],
   "source": [
    "keras.backend.clear_session()\n",
    "np.random.seed(42)\n",
    "tf.random.set_seed(42)"
   ]
  },
  {
   "cell_type": "code",
   "execution_count": 27,
   "metadata": {},
   "outputs": [],
   "source": [
    "model = keras.models.Sequential([\n",
    "    keras.layers.Flatten(input_shape=[28,28]),\n",
    "    keras.layers.Dense(300, activation='relu'),\n",
    "    keras.layers.Dense(100, activation='relu'),\n",
    "    keras.layers.Dense(10, activation='softmax')\n",
    "])"
   ]
  },
  {
   "cell_type": "code",
   "execution_count": 28,
   "metadata": {
    "scrolled": true
   },
   "outputs": [
    {
     "name": "stdout",
     "output_type": "stream",
     "text": [
      "Epoch 1/100\n",
      "1719/1719 [==============================] - 2s 1ms/step - loss: 0.6196 - accuracy: 0.8405 - val_loss: 0.3103 - val_accuracy: 0.9120\n",
      "Epoch 2/100\n",
      "1719/1719 [==============================] - 2s 933us/step - loss: 0.2953 - accuracy: 0.9151 - val_loss: 0.2473 - val_accuracy: 0.9304\n",
      "Epoch 3/100\n",
      "1719/1719 [==============================] - 2s 940us/step - loss: 0.2430 - accuracy: 0.9302 - val_loss: 0.2060 - val_accuracy: 0.9426\n",
      "Epoch 4/100\n",
      "1719/1719 [==============================] - 2s 954us/step - loss: 0.2076 - accuracy: 0.9407 - val_loss: 0.1823 - val_accuracy: 0.9494\n",
      "Epoch 5/100\n",
      "1719/1719 [==============================] - 2s 954us/step - loss: 0.1811 - accuracy: 0.9486 - val_loss: 0.1644 - val_accuracy: 0.9538\n",
      "Epoch 6/100\n",
      "1719/1719 [==============================] - 2s 966us/step - loss: 0.1603 - accuracy: 0.9543 - val_loss: 0.1483 - val_accuracy: 0.9602\n",
      "Epoch 7/100\n",
      "1719/1719 [==============================] - 2s 980us/step - loss: 0.1431 - accuracy: 0.9598 - val_loss: 0.1366 - val_accuracy: 0.9634\n",
      "Epoch 8/100\n",
      "1719/1719 [==============================] - 2s 963us/step - loss: 0.1292 - accuracy: 0.9632 - val_loss: 0.1295 - val_accuracy: 0.9638\n",
      "Epoch 9/100\n",
      "1719/1719 [==============================] - 2s 947us/step - loss: 0.1174 - accuracy: 0.9673 - val_loss: 0.1182 - val_accuracy: 0.9674\n",
      "Epoch 10/100\n",
      "1719/1719 [==============================] - 2s 942us/step - loss: 0.1077 - accuracy: 0.9696 - val_loss: 0.1091 - val_accuracy: 0.9694\n",
      "Epoch 11/100\n",
      "1719/1719 [==============================] - 2s 952us/step - loss: 0.0988 - accuracy: 0.9721 - val_loss: 0.1049 - val_accuracy: 0.9696\n",
      "Epoch 12/100\n",
      "1719/1719 [==============================] - 2s 959us/step - loss: 0.0911 - accuracy: 0.9746 - val_loss: 0.1004 - val_accuracy: 0.9708\n",
      "Epoch 13/100\n",
      "1719/1719 [==============================] - 2s 966us/step - loss: 0.0843 - accuracy: 0.9762 - val_loss: 0.0948 - val_accuracy: 0.9724\n",
      "Epoch 14/100\n",
      "1719/1719 [==============================] - 2s 994us/step - loss: 0.0781 - accuracy: 0.9781 - val_loss: 0.0920 - val_accuracy: 0.9738\n",
      "Epoch 15/100\n",
      "1719/1719 [==============================] - 2s 959us/step - loss: 0.0726 - accuracy: 0.9796 - val_loss: 0.0877 - val_accuracy: 0.9728\n",
      "Epoch 16/100\n",
      "1719/1719 [==============================] - 2s 956us/step - loss: 0.0677 - accuracy: 0.9806 - val_loss: 0.0861 - val_accuracy: 0.9742\n",
      "Epoch 17/100\n",
      "1719/1719 [==============================] - 2s 966us/step - loss: 0.0632 - accuracy: 0.9823 - val_loss: 0.0835 - val_accuracy: 0.9752\n",
      "Epoch 18/100\n",
      "1719/1719 [==============================] - 2s 959us/step - loss: 0.0592 - accuracy: 0.9837 - val_loss: 0.0799 - val_accuracy: 0.9766\n",
      "Epoch 19/100\n",
      "1719/1719 [==============================] - 3s 1ms/step - loss: 0.0555 - accuracy: 0.9849 - val_loss: 0.0783 - val_accuracy: 0.9774\n",
      "Epoch 20/100\n",
      "1719/1719 [==============================] - 6s 3ms/step - loss: 0.0519 - accuracy: 0.9860 - val_loss: 0.0774 - val_accuracy: 0.9764\n",
      "Epoch 21/100\n",
      "1719/1719 [==============================] - 2s 959us/step - loss: 0.0488 - accuracy: 0.9869 - val_loss: 0.0737 - val_accuracy: 0.9788\n",
      "Epoch 22/100\n",
      "1719/1719 [==============================] - 2s 942us/step - loss: 0.0458 - accuracy: 0.9878 - val_loss: 0.0745 - val_accuracy: 0.9780\n",
      "Epoch 23/100\n",
      "1719/1719 [==============================] - 2s 982us/step - loss: 0.0431 - accuracy: 0.9884 - val_loss: 0.0758 - val_accuracy: 0.9768\n",
      "Epoch 24/100\n",
      "1719/1719 [==============================] - 2s 954us/step - loss: 0.0404 - accuracy: 0.9893 - val_loss: 0.0729 - val_accuracy: 0.9770\n",
      "Epoch 25/100\n",
      "1719/1719 [==============================] - 2s 968us/step - loss: 0.0383 - accuracy: 0.9902 - val_loss: 0.0707 - val_accuracy: 0.9792\n",
      "Epoch 26/100\n",
      "1719/1719 [==============================] - 2s 970us/step - loss: 0.0360 - accuracy: 0.9911 - val_loss: 0.0681 - val_accuracy: 0.9796\n",
      "Epoch 27/100\n",
      "1719/1719 [==============================] - 2s 968us/step - loss: 0.0340 - accuracy: 0.9916 - val_loss: 0.0674 - val_accuracy: 0.9804\n",
      "Epoch 28/100\n",
      "1719/1719 [==============================] - 2s 949us/step - loss: 0.0321 - accuracy: 0.9921 - val_loss: 0.0692 - val_accuracy: 0.9800\n",
      "Epoch 29/100\n",
      "1719/1719 [==============================] - 2s 973us/step - loss: 0.0300 - accuracy: 0.9931 - val_loss: 0.0676 - val_accuracy: 0.9794\n",
      "Epoch 30/100\n",
      "1719/1719 [==============================] - 2s 957us/step - loss: 0.0285 - accuracy: 0.9935 - val_loss: 0.0673 - val_accuracy: 0.9792\n",
      "Epoch 31/100\n",
      "1719/1719 [==============================] - 2s 954us/step - loss: 0.0268 - accuracy: 0.9942 - val_loss: 0.0664 - val_accuracy: 0.9798\n",
      "Epoch 32/100\n",
      "1719/1719 [==============================] - 2s 973us/step - loss: 0.0252 - accuracy: 0.9947 - val_loss: 0.0665 - val_accuracy: 0.9802\n",
      "Epoch 33/100\n",
      "1719/1719 [==============================] - 2s 970us/step - loss: 0.0240 - accuracy: 0.9951 - val_loss: 0.0654 - val_accuracy: 0.9810\n",
      "Epoch 34/100\n",
      "1719/1719 [==============================] - 2s 954us/step - loss: 0.0227 - accuracy: 0.9953 - val_loss: 0.0666 - val_accuracy: 0.9800\n",
      "Epoch 35/100\n",
      "1719/1719 [==============================] - 4s 2ms/step - loss: 0.0215 - accuracy: 0.9962 - val_loss: 0.0658 - val_accuracy: 0.9806\n",
      "Epoch 36/100\n",
      "1719/1719 [==============================] - 6s 4ms/step - loss: 0.0202 - accuracy: 0.9964 - val_loss: 0.0675 - val_accuracy: 0.9806\n",
      "Epoch 37/100\n",
      "1719/1719 [==============================] - 2s 956us/step - loss: 0.0192 - accuracy: 0.9969 - val_loss: 0.0641 - val_accuracy: 0.9822\n",
      "Epoch 38/100\n",
      "1719/1719 [==============================] - 2s 970us/step - loss: 0.0183 - accuracy: 0.9970 - val_loss: 0.0652 - val_accuracy: 0.9818\n",
      "Epoch 39/100\n",
      "1719/1719 [==============================] - 2s 952us/step - loss: 0.0173 - accuracy: 0.9974 - val_loss: 0.0654 - val_accuracy: 0.9818\n",
      "Epoch 40/100\n",
      "1719/1719 [==============================] - 2s 959us/step - loss: 0.0164 - accuracy: 0.9976 - val_loss: 0.0656 - val_accuracy: 0.9794\n",
      "Epoch 41/100\n",
      "1719/1719 [==============================] - 2s 961us/step - loss: 0.0157 - accuracy: 0.9978 - val_loss: 0.0637 - val_accuracy: 0.9816\n",
      "Epoch 42/100\n",
      "1719/1719 [==============================] - 2s 963us/step - loss: 0.0149 - accuracy: 0.9978 - val_loss: 0.0645 - val_accuracy: 0.9804\n",
      "Epoch 43/100\n",
      "1719/1719 [==============================] - 2s 947us/step - loss: 0.0142 - accuracy: 0.9982 - val_loss: 0.0679 - val_accuracy: 0.9792\n",
      "Epoch 44/100\n",
      "1719/1719 [==============================] - 2s 962us/step - loss: 0.0135 - accuracy: 0.9983 - val_loss: 0.0641 - val_accuracy: 0.9814\n",
      "Epoch 45/100\n",
      "1719/1719 [==============================] - 2s 952us/step - loss: 0.0128 - accuracy: 0.9983 - val_loss: 0.0646 - val_accuracy: 0.9814\n",
      "Epoch 46/100\n",
      "1719/1719 [==============================] - 2s 961us/step - loss: 0.0123 - accuracy: 0.9985 - val_loss: 0.0648 - val_accuracy: 0.9802\n",
      "Epoch 47/100\n",
      "1719/1719 [==============================] - 2s 963us/step - loss: 0.0117 - accuracy: 0.9987 - val_loss: 0.0644 - val_accuracy: 0.9816\n",
      "Epoch 48/100\n",
      "1719/1719 [==============================] - 2s 982us/step - loss: 0.0111 - accuracy: 0.9990 - val_loss: 0.0664 - val_accuracy: 0.9808\n",
      "Epoch 49/100\n",
      "1719/1719 [==============================] - 2s 956us/step - loss: 0.0106 - accuracy: 0.9990 - val_loss: 0.0643 - val_accuracy: 0.9822\n",
      "Epoch 50/100\n",
      "1719/1719 [==============================] - 2s 989us/step - loss: 0.0102 - accuracy: 0.9990 - val_loss: 0.0658 - val_accuracy: 0.9812\n",
      "Epoch 51/100\n",
      "1719/1719 [==============================] - 2s 1ms/step - loss: 0.0098 - accuracy: 0.9992 - val_loss: 0.0652 - val_accuracy: 0.9812\n"
     ]
    }
   ],
   "source": [
    "model.compile(loss=\"sparse_categorical_crossentropy\", optimizer=keras.optimizers.SGD(lr=1e-2), metrics=['accuracy'])\n",
    "early_stopping_cb = keras.callbacks.EarlyStopping(patience=10,\n",
    "                                                  restore_best_weights=True)\n",
    "history = model.fit(X_train, y_train, epochs=100,\n",
    "                    validation_data=(X_valid, y_valid),\n",
    "                    callbacks=[checkpoint_cb, early_stopping_cb])"
   ]
  },
  {
   "cell_type": "markdown",
   "metadata": {},
   "source": [
    "Accuracy exceeds 98%! So epochs are the key?"
   ]
  },
  {
   "cell_type": "code",
   "execution_count": 29,
   "metadata": {},
   "outputs": [
    {
     "name": "stdout",
     "output_type": "stream",
     "text": [
      "313/313 [==============================] - 0s 1ms/step - loss: 12.6038 - accuracy: 0.9777\n"
     ]
    }
   ],
   "source": [
    "mse_test = model.evaluate(X_test, y_test)"
   ]
  },
  {
   "cell_type": "markdown",
   "metadata": {},
   "source": [
    "Test set accuracy improves as well."
   ]
  },
  {
   "cell_type": "code",
   "execution_count": 30,
   "metadata": {},
   "outputs": [
    {
     "data": {
      "image/png": "[encoded data removed]",
      "text/plain": [
       "<Figure size 864x432 with 1 Axes>"
      ]
     },
     "metadata": {
      "needs_background": "light"
     },
     "output_type": "display_data"
    }
   ],
   "source": [
    "pd.DataFrame(history.history).plot(figsize=(12,6))\n",
    "plt.grid(True)\n",
    "plt.gca().set_ylim(0,1)\n",
    "plt.xlabel('Epoch')\n",
    "plt.ylabel('Accuracy')\n",
    "plt.title('Keras model')\n",
    "plt.show()"
   ]
  },
  {
   "cell_type": "markdown",
   "metadata": {},
   "source": [
    "### With learning rate decay schedule"
   ]
  },
  {
   "cell_type": "markdown",
   "metadata": {},
   "source": [
    "The author says to grow the learning rate exponentially. Yet the keras documentation says the following:\\\n",
    "\"When training a model, it is often recommended to lower the learning rate as the training progresses.\"\\\n",
    "Let's use the default schedule below, but state it explicity, so we can change it later.\\\n",
    "source: https://keras.io/api/optimizers/learning_rate_schedules/exponential_decay/"
   ]
  },
  {
   "cell_type": "code",
   "execution_count": 32,
   "metadata": {},
   "outputs": [],
   "source": [
    "keras.backend.clear_session()\n",
    "np.random.seed(42)\n",
    "tf.random.set_seed(42)"
   ]
  },
  {
   "cell_type": "code",
   "execution_count": 33,
   "metadata": {},
   "outputs": [],
   "source": [
    "model = keras.models.Sequential([\n",
    "    keras.layers.Flatten(input_shape=[28,28]),\n",
    "    keras.layers.Dense(300, activation='relu'),\n",
    "    keras.layers.Dense(100, activation='relu'),\n",
    "    keras.layers.Dense(10, activation='softmax')\n",
    "])"
   ]
  },
  {
   "cell_type": "code",
   "execution_count": 34,
   "metadata": {},
   "outputs": [],
   "source": [
    "lr_schedule = keras.optimizers.schedules.ExponentialDecay(\n",
    "    initial_learning_rate=1e-2,\n",
    "    decay_steps=10000,\n",
    "    decay_rate=0.9)\n",
    "optimizer = keras.optimizers.SGD(learning_rate=lr_schedule)"
   ]
  },
  {
   "cell_type": "markdown",
   "metadata": {},
   "source": [
    "Note: step is a forward and backward evaluation of one batch. So steps per epoch is number of instances in the dataset / batch_size"
   ]
  },
  {
   "cell_type": "code",
   "execution_count": 35,
   "metadata": {
    "scrolled": true
   },
   "outputs": [
    {
     "name": "stdout",
     "output_type": "stream",
     "text": [
      "Epoch 1/100\n",
      "1719/1719 [==============================] - 2s 1ms/step - loss: 0.6204 - accuracy: 0.8402 - val_loss: 0.3111 - val_accuracy: 0.9122\n",
      "Epoch 2/100\n",
      "1719/1719 [==============================] - 2s 980us/step - loss: 0.2964 - accuracy: 0.9149 - val_loss: 0.2487 - val_accuracy: 0.9304\n",
      "Epoch 3/100\n",
      "1719/1719 [==============================] - 2s 1ms/step - loss: 0.2448 - accuracy: 0.9298 - val_loss: 0.2081 - val_accuracy: 0.9426\n",
      "Epoch 4/100\n",
      "1719/1719 [==============================] - 2s 1ms/step - loss: 0.2101 - accuracy: 0.9397 - val_loss: 0.1853 - val_accuracy: 0.9488\n",
      "Epoch 5/100\n",
      "1719/1719 [==============================] - 2s 1ms/step - loss: 0.1845 - accuracy: 0.9477 - val_loss: 0.1680 - val_accuracy: 0.9536\n",
      "Epoch 6/100\n",
      "1719/1719 [==============================] - 2s 1ms/step - loss: 0.1645 - accuracy: 0.9531 - val_loss: 0.1524 - val_accuracy: 0.9582\n",
      "Epoch 7/100\n",
      "1719/1719 [==============================] - 2s 1ms/step - loss: 0.1478 - accuracy: 0.9585 - val_loss: 0.1409 - val_accuracy: 0.9614\n",
      "Epoch 8/100\n",
      "1719/1719 [==============================] - 2s 954us/step - loss: 0.1345 - accuracy: 0.9617 - val_loss: 0.1339 - val_accuracy: 0.9624\n",
      "Epoch 9/100\n",
      "1719/1719 [==============================] - 2s 1ms/step - loss: 0.1232 - accuracy: 0.9654 - val_loss: 0.1234 - val_accuracy: 0.9658\n",
      "Epoch 10/100\n",
      "1719/1719 [==============================] - 2s 1ms/step - loss: 0.1139 - accuracy: 0.9680 - val_loss: 0.1146 - val_accuracy: 0.9674\n",
      "Epoch 11/100\n",
      "1719/1719 [==============================] - 2s 1ms/step - loss: 0.1054 - accuracy: 0.9704 - val_loss: 0.1106 - val_accuracy: 0.9682\n",
      "Epoch 12/100\n",
      "1719/1719 [==============================] - 2s 1ms/step - loss: 0.0983 - accuracy: 0.9729 - val_loss: 0.1057 - val_accuracy: 0.9702\n",
      "Epoch 13/100\n",
      "1719/1719 [==============================] - 2s 1ms/step - loss: 0.0919 - accuracy: 0.9739 - val_loss: 0.1008 - val_accuracy: 0.9710\n",
      "Epoch 14/100\n",
      "1719/1719 [==============================] - 2s 1ms/step - loss: 0.0861 - accuracy: 0.9758 - val_loss: 0.0988 - val_accuracy: 0.9720\n",
      "Epoch 15/100\n",
      "1719/1719 [==============================] - 2s 1ms/step - loss: 0.0809 - accuracy: 0.9773 - val_loss: 0.0935 - val_accuracy: 0.9718\n",
      "Epoch 16/100\n",
      "1719/1719 [==============================] - 2s 1ms/step - loss: 0.0764 - accuracy: 0.9784 - val_loss: 0.0922 - val_accuracy: 0.9728\n",
      "Epoch 17/100\n",
      "1719/1719 [==============================] - 2s 1ms/step - loss: 0.0722 - accuracy: 0.9796 - val_loss: 0.0897 - val_accuracy: 0.9724\n",
      "Epoch 18/100\n",
      "1719/1719 [==============================] - 2s 1ms/step - loss: 0.0685 - accuracy: 0.9809 - val_loss: 0.0864 - val_accuracy: 0.9754\n",
      "Epoch 19/100\n",
      "1719/1719 [==============================] - 2s 1ms/step - loss: 0.0651 - accuracy: 0.9818 - val_loss: 0.0849 - val_accuracy: 0.9748\n",
      "Epoch 20/100\n",
      "1719/1719 [==============================] - 2s 1ms/step - loss: 0.0618 - accuracy: 0.9828 - val_loss: 0.0837 - val_accuracy: 0.9766\n",
      "Epoch 21/100\n",
      "1719/1719 [==============================] - 2s 1ms/step - loss: 0.0589 - accuracy: 0.9835 - val_loss: 0.0797 - val_accuracy: 0.9778\n",
      "Epoch 22/100\n",
      "1719/1719 [==============================] - 2s 1ms/step - loss: 0.0562 - accuracy: 0.9846 - val_loss: 0.0793 - val_accuracy: 0.9756\n",
      "Epoch 23/100\n",
      "1719/1719 [==============================] - 2s 1ms/step - loss: 0.0537 - accuracy: 0.9853 - val_loss: 0.0802 - val_accuracy: 0.9748\n",
      "Epoch 24/100\n",
      "1719/1719 [==============================] - 2s 1ms/step - loss: 0.0511 - accuracy: 0.9862 - val_loss: 0.0778 - val_accuracy: 0.9766\n",
      "Epoch 25/100\n",
      "1719/1719 [==============================] - 2s 1ms/step - loss: 0.0492 - accuracy: 0.9869 - val_loss: 0.0758 - val_accuracy: 0.9776\n",
      "Epoch 26/100\n",
      "1719/1719 [==============================] - 2s 1ms/step - loss: 0.0470 - accuracy: 0.9875 - val_loss: 0.0739 - val_accuracy: 0.9786\n",
      "Epoch 27/100\n",
      "1719/1719 [==============================] - 2s 1ms/step - loss: 0.0452 - accuracy: 0.9881 - val_loss: 0.0723 - val_accuracy: 0.9782\n",
      "Epoch 28/100\n",
      "1719/1719 [==============================] - 2s 1ms/step - loss: 0.0435 - accuracy: 0.9889 - val_loss: 0.0731 - val_accuracy: 0.9792\n",
      "Epoch 29/100\n",
      "1719/1719 [==============================] - 2s 1ms/step - loss: 0.0416 - accuracy: 0.9895 - val_loss: 0.0718 - val_accuracy: 0.9784\n",
      "Epoch 30/100\n",
      "1719/1719 [==============================] - 2s 1ms/step - loss: 0.0402 - accuracy: 0.9895 - val_loss: 0.0715 - val_accuracy: 0.9788\n",
      "Epoch 31/100\n",
      "1719/1719 [==============================] - 2s 1ms/step - loss: 0.0386 - accuracy: 0.9908 - val_loss: 0.0703 - val_accuracy: 0.9790\n",
      "Epoch 32/100\n",
      "1719/1719 [==============================] - 2s 1ms/step - loss: 0.0372 - accuracy: 0.9910 - val_loss: 0.0708 - val_accuracy: 0.9794\n",
      "Epoch 33/100\n",
      "1719/1719 [==============================] - 2s 1ms/step - loss: 0.0360 - accuracy: 0.9913 - val_loss: 0.0692 - val_accuracy: 0.9788\n",
      "Epoch 34/100\n",
      "1719/1719 [==============================] - 2s 1ms/step - loss: 0.0348 - accuracy: 0.9917 - val_loss: 0.0694 - val_accuracy: 0.9786\n",
      "Epoch 35/100\n",
      "1719/1719 [==============================] - 2s 1ms/step - loss: 0.0336 - accuracy: 0.9921 - val_loss: 0.0690 - val_accuracy: 0.9798\n",
      "Epoch 36/100\n",
      "1719/1719 [==============================] - 2s 1ms/step - loss: 0.0324 - accuracy: 0.9925 - val_loss: 0.0699 - val_accuracy: 0.9794\n",
      "Epoch 37/100\n",
      "1719/1719 [==============================] - 2s 1ms/step - loss: 0.0315 - accuracy: 0.9929 - val_loss: 0.0673 - val_accuracy: 0.9810\n",
      "Epoch 38/100\n",
      "1719/1719 [==============================] - 2s 1ms/step - loss: 0.0305 - accuracy: 0.9933 - val_loss: 0.0680 - val_accuracy: 0.9800\n",
      "Epoch 39/100\n",
      "1719/1719 [==============================] - 2s 1ms/step - loss: 0.0295 - accuracy: 0.9935 - val_loss: 0.0678 - val_accuracy: 0.9804\n",
      "Epoch 40/100\n",
      "1719/1719 [==============================] - 2s 1ms/step - loss: 0.0286 - accuracy: 0.9941 - val_loss: 0.0671 - val_accuracy: 0.9794\n",
      "Epoch 41/100\n",
      "1719/1719 [==============================] - 2s 1ms/step - loss: 0.0279 - accuracy: 0.9940 - val_loss: 0.0663 - val_accuracy: 0.9802\n",
      "Epoch 42/100\n",
      "1719/1719 [==============================] - 2s 1ms/step - loss: 0.0271 - accuracy: 0.9943 - val_loss: 0.0670 - val_accuracy: 0.9788\n",
      "Epoch 43/100\n",
      "1719/1719 [==============================] - 2s 1ms/step - loss: 0.0264 - accuracy: 0.9946 - val_loss: 0.0685 - val_accuracy: 0.9788\n",
      "Epoch 44/100\n",
      "1719/1719 [==============================] - 2s 1ms/step - loss: 0.0256 - accuracy: 0.9949 - val_loss: 0.0662 - val_accuracy: 0.9802\n",
      "Epoch 45/100\n",
      "1719/1719 [==============================] - 2s 1ms/step - loss: 0.0249 - accuracy: 0.9951 - val_loss: 0.0664 - val_accuracy: 0.9804\n",
      "Epoch 46/100\n",
      "1719/1719 [==============================] - 2s 1ms/step - loss: 0.0243 - accuracy: 0.9951 - val_loss: 0.0663 - val_accuracy: 0.9802\n",
      "Epoch 47/100\n",
      "1719/1719 [==============================] - 2s 1ms/step - loss: 0.0237 - accuracy: 0.9955 - val_loss: 0.0658 - val_accuracy: 0.9810\n",
      "Epoch 48/100\n",
      "1719/1719 [==============================] - 5s 3ms/step - loss: 0.0231 - accuracy: 0.9958 - val_loss: 0.0670 - val_accuracy: 0.9802\n",
      "Epoch 49/100\n",
      "1719/1719 [==============================] - 3s 2ms/step - loss: 0.0225 - accuracy: 0.9959 - val_loss: 0.0653 - val_accuracy: 0.9818\n",
      "Epoch 50/100\n",
      "1719/1719 [==============================] - 2s 1ms/step - loss: 0.0220 - accuracy: 0.9961 - val_loss: 0.0670 - val_accuracy: 0.9796\n",
      "Epoch 51/100\n",
      "1719/1719 [==============================] - 2s 1ms/step - loss: 0.0215 - accuracy: 0.9963 - val_loss: 0.0656 - val_accuracy: 0.9816\n",
      "Epoch 52/100\n",
      "1719/1719 [==============================] - 2s 1ms/step - loss: 0.0210 - accuracy: 0.9964 - val_loss: 0.0657 - val_accuracy: 0.9808\n",
      "Epoch 53/100\n",
      "1719/1719 [==============================] - 2s 1ms/step - loss: 0.0205 - accuracy: 0.9966 - val_loss: 0.0652 - val_accuracy: 0.9806\n",
      "Epoch 54/100\n",
      "1719/1719 [==============================] - 2s 1ms/step - loss: 0.0201 - accuracy: 0.9966 - val_loss: 0.0652 - val_accuracy: 0.9816\n",
      "Epoch 55/100\n",
      "1719/1719 [==============================] - 2s 1ms/step - loss: 0.0197 - accuracy: 0.9966 - val_loss: 0.0652 - val_accuracy: 0.9806\n",
      "Epoch 56/100\n",
      "1719/1719 [==============================] - 2s 1ms/step - loss: 0.0192 - accuracy: 0.9971 - val_loss: 0.0664 - val_accuracy: 0.9806\n",
      "Epoch 57/100\n",
      "1719/1719 [==============================] - 2s 1ms/step - loss: 0.0189 - accuracy: 0.9971 - val_loss: 0.0649 - val_accuracy: 0.9816\n",
      "Epoch 58/100\n",
      "1719/1719 [==============================] - 2s 1ms/step - loss: 0.0185 - accuracy: 0.9973 - val_loss: 0.0657 - val_accuracy: 0.9806\n",
      "Epoch 59/100\n",
      "1719/1719 [==============================] - 2s 1ms/step - loss: 0.0181 - accuracy: 0.9973 - val_loss: 0.0653 - val_accuracy: 0.9812\n",
      "Epoch 60/100\n",
      "1719/1719 [==============================] - 2s 1ms/step - loss: 0.0178 - accuracy: 0.9974 - val_loss: 0.0653 - val_accuracy: 0.9804\n",
      "Epoch 61/100\n",
      "1719/1719 [==============================] - 2s 1ms/step - loss: 0.0174 - accuracy: 0.9976 - val_loss: 0.0649 - val_accuracy: 0.9814\n",
      "Epoch 62/100\n",
      "1719/1719 [==============================] - 2s 1ms/step - loss: 0.0171 - accuracy: 0.9976 - val_loss: 0.0652 - val_accuracy: 0.9812\n",
      "Epoch 63/100\n",
      "1719/1719 [==============================] - 2s 1ms/step - loss: 0.0168 - accuracy: 0.9977 - val_loss: 0.0650 - val_accuracy: 0.9814\n",
      "Epoch 64/100\n",
      "1719/1719 [==============================] - 2s 1ms/step - loss: 0.0165 - accuracy: 0.9977 - val_loss: 0.0651 - val_accuracy: 0.9814\n",
      "Epoch 65/100\n",
      "1719/1719 [==============================] - 2s 1ms/step - loss: 0.0163 - accuracy: 0.9978 - val_loss: 0.0650 - val_accuracy: 0.9808\n",
      "Epoch 66/100\n",
      "1719/1719 [==============================] - 2s 989us/step - loss: 0.0160 - accuracy: 0.9979 - val_loss: 0.0648 - val_accuracy: 0.9812\n",
      "Epoch 67/100\n",
      "1719/1719 [==============================] - 2s 1ms/step - loss: 0.0158 - accuracy: 0.9979 - val_loss: 0.0649 - val_accuracy: 0.9812\n",
      "Epoch 68/100\n",
      "1719/1719 [==============================] - 2s 1ms/step - loss: 0.0155 - accuracy: 0.9980 - val_loss: 0.0653 - val_accuracy: 0.9814\n",
      "Epoch 69/100\n",
      "1719/1719 [==============================] - 2s 1ms/step - loss: 0.0153 - accuracy: 0.9981 - val_loss: 0.0649 - val_accuracy: 0.9808\n",
      "Epoch 70/100\n",
      "1719/1719 [==============================] - 2s 1ms/step - loss: 0.0151 - accuracy: 0.9981 - val_loss: 0.0650 - val_accuracy: 0.9814\n",
      "Epoch 71/100\n",
      "1719/1719 [==============================] - 2s 1ms/step - loss: 0.0148 - accuracy: 0.9983 - val_loss: 0.0653 - val_accuracy: 0.9808\n",
      "Epoch 72/100\n",
      "1719/1719 [==============================] - 2s 1ms/step - loss: 0.0146 - accuracy: 0.9982 - val_loss: 0.0651 - val_accuracy: 0.9814\n",
      "Epoch 73/100\n",
      "1719/1719 [==============================] - 2s 1ms/step - loss: 0.0144 - accuracy: 0.9983 - val_loss: 0.0649 - val_accuracy: 0.9812\n",
      "Epoch 74/100\n",
      "1719/1719 [==============================] - 2s 1ms/step - loss: 0.0142 - accuracy: 0.9984 - val_loss: 0.0649 - val_accuracy: 0.9808\n",
      "Epoch 75/100\n",
      "1719/1719 [==============================] - 2s 996us/step - loss: 0.0140 - accuracy: 0.9984 - val_loss: 0.0646 - val_accuracy: 0.9810\n",
      "Epoch 76/100\n",
      "1719/1719 [==============================] - 2s 1ms/step - loss: 0.0139 - accuracy: 0.9984 - val_loss: 0.0649 - val_accuracy: 0.9804\n",
      "Epoch 77/100\n",
      "1719/1719 [==============================] - 2s 1ms/step - loss: 0.0137 - accuracy: 0.9985 - val_loss: 0.0648 - val_accuracy: 0.9812\n",
      "Epoch 78/100\n",
      "1719/1719 [==============================] - 3s 1ms/step - loss: 0.0135 - accuracy: 0.9985 - val_loss: 0.0651 - val_accuracy: 0.9808\n",
      "Epoch 79/100\n",
      "1719/1719 [==============================] - 2s 1ms/step - loss: 0.0133 - accuracy: 0.9985 - val_loss: 0.0647 - val_accuracy: 0.9812\n",
      "Epoch 80/100\n",
      "1719/1719 [==============================] - 2s 989us/step - loss: 0.0131 - accuracy: 0.9986 - val_loss: 0.0648 - val_accuracy: 0.9810\n",
      "Epoch 81/100\n",
      "1719/1719 [==============================] - 2s 973us/step - loss: 0.0130 - accuracy: 0.9986 - val_loss: 0.0647 - val_accuracy: 0.9808\n",
      "Epoch 82/100\n",
      "1719/1719 [==============================] - 2s 966us/step - loss: 0.0129 - accuracy: 0.9986 - val_loss: 0.0650 - val_accuracy: 0.9812\n",
      "Epoch 83/100\n",
      "1719/1719 [==============================] - 2s 1ms/step - loss: 0.0127 - accuracy: 0.9987 - val_loss: 0.0647 - val_accuracy: 0.9810\n",
      "Epoch 84/100\n",
      "1719/1719 [==============================] - 2s 987us/step - loss: 0.0126 - accuracy: 0.9987 - val_loss: 0.0649 - val_accuracy: 0.9810\n",
      "Epoch 85/100\n",
      "1719/1719 [==============================] - 2s 1ms/step - loss: 0.0124 - accuracy: 0.9986 - val_loss: 0.0646 - val_accuracy: 0.9812\n",
      "Epoch 86/100\n",
      "1719/1719 [==============================] - 2s 1ms/step - loss: 0.0123 - accuracy: 0.9987 - val_loss: 0.0650 - val_accuracy: 0.9818\n",
      "Epoch 87/100\n",
      "1719/1719 [==============================] - 2s 1ms/step - loss: 0.0122 - accuracy: 0.9988 - val_loss: 0.0650 - val_accuracy: 0.9810\n",
      "Epoch 88/100\n",
      "1719/1719 [==============================] - 2s 1ms/step - loss: 0.0120 - accuracy: 0.9988 - val_loss: 0.0648 - val_accuracy: 0.9814\n",
      "Epoch 89/100\n",
      "1719/1719 [==============================] - 2s 982us/step - loss: 0.0119 - accuracy: 0.9988 - val_loss: 0.0649 - val_accuracy: 0.9810\n",
      "Epoch 90/100\n",
      "1719/1719 [==============================] - 2s 1ms/step - loss: 0.0118 - accuracy: 0.9989 - val_loss: 0.0648 - val_accuracy: 0.9816\n",
      "Epoch 91/100\n",
      "1719/1719 [==============================] - 2s 959us/step - loss: 0.0117 - accuracy: 0.9989 - val_loss: 0.0651 - val_accuracy: 0.9812\n",
      "Epoch 92/100\n",
      "1719/1719 [==============================] - 2s 970us/step - loss: 0.0116 - accuracy: 0.9989 - val_loss: 0.0648 - val_accuracy: 0.9814\n",
      "Epoch 93/100\n",
      "1719/1719 [==============================] - 2s 1ms/step - loss: 0.0115 - accuracy: 0.9989 - val_loss: 0.0651 - val_accuracy: 0.9810\n",
      "Epoch 94/100\n",
      "1719/1719 [==============================] - 2s 996us/step - loss: 0.0114 - accuracy: 0.9990 - val_loss: 0.0652 - val_accuracy: 0.9812\n",
      "Epoch 95/100\n",
      "1719/1719 [==============================] - 2s 984us/step - loss: 0.0113 - accuracy: 0.9990 - val_loss: 0.0649 - val_accuracy: 0.9816\n"
     ]
    }
   ],
   "source": [
    "model.compile(loss=\"sparse_categorical_crossentropy\", optimizer=optimizer, metrics=['accuracy'])\n",
    "early_stopping_cb = keras.callbacks.EarlyStopping(patience=10,\n",
    "                                                  restore_best_weights=True)\n",
    "history = model.fit(X_train, y_train, epochs=100,\n",
    "                    validation_data=(X_valid, y_valid),\n",
    "                    callbacks=[checkpoint_cb, early_stopping_cb])"
   ]
  },
  {
   "cell_type": "markdown",
   "metadata": {},
   "source": [
    "Interesting. Not much improvement."
   ]
  },
  {
   "cell_type": "code",
   "execution_count": 36,
   "metadata": {},
   "outputs": [
    {
     "name": "stdout",
     "output_type": "stream",
     "text": [
      "313/313 [==============================] - 0s 1ms/step - loss: 12.9889 - accuracy: 0.9776\n"
     ]
    }
   ],
   "source": [
    "mse_test = model.evaluate(X_test, y_test)"
   ]
  },
  {
   "cell_type": "code",
   "execution_count": 37,
   "metadata": {},
   "outputs": [
    {
     "data": {
      "image/png": "[encoded data removed]",
      "text/plain": [
       "<Figure size 864x432 with 1 Axes>"
      ]
     },
     "metadata": {
      "needs_background": "light"
     },
     "output_type": "display_data"
    }
   ],
   "source": [
    "pd.DataFrame(history.history).plot(figsize=(12,6))\n",
    "plt.grid(True)\n",
    "plt.gca().set_ylim(0,1)\n",
    "plt.xlabel('Epoch')\n",
    "plt.ylabel('Accuracy')\n",
    "plt.title('Keras model with exponential learning rate decay')\n",
    "plt.show()"
   ]
  },
  {
   "cell_type": "markdown",
   "metadata": {},
   "source": [
    "#### Learning rate decay part 2"
   ]
  },
  {
   "cell_type": "markdown",
   "metadata": {},
   "source": [
    "This time we'll start at a higher learning rate and decay every 1000 steps."
   ]
  },
  {
   "cell_type": "code",
   "execution_count": 38,
   "metadata": {},
   "outputs": [],
   "source": [
    "keras.backend.clear_session()\n",
    "np.random.seed(42)\n",
    "tf.random.set_seed(42)"
   ]
  },
  {
   "cell_type": "code",
   "execution_count": 39,
   "metadata": {},
   "outputs": [],
   "source": [
    "model = keras.models.Sequential([\n",
    "    keras.layers.Flatten(input_shape=[28,28]),\n",
    "    keras.layers.Dense(300, activation='relu'),\n",
    "    keras.layers.Dense(100, activation='relu'),\n",
    "    keras.layers.Dense(10, activation='softmax')\n",
    "])"
   ]
  },
  {
   "cell_type": "code",
   "execution_count": 40,
   "metadata": {},
   "outputs": [],
   "source": [
    "lr_schedule = keras.optimizers.schedules.ExponentialDecay(\n",
    "    initial_learning_rate=0.1,\n",
    "    decay_steps=1000,\n",
    "    decay_rate=0.9)\n",
    "optimizer = keras.optimizers.SGD(learning_rate=lr_schedule)"
   ]
  },
  {
   "cell_type": "code",
   "execution_count": 41,
   "metadata": {
    "scrolled": true
   },
   "outputs": [
    {
     "name": "stdout",
     "output_type": "stream",
     "text": [
      "Epoch 1/100\n",
      "1719/1719 [==============================] - 2s 1ms/step - loss: 0.2757 - accuracy: 0.9184 - val_loss: 0.1286 - val_accuracy: 0.9636\n",
      "Epoch 2/100\n",
      "1719/1719 [==============================] - 2s 1ms/step - loss: 0.1111 - accuracy: 0.9667 - val_loss: 0.0938 - val_accuracy: 0.9730\n",
      "Epoch 3/100\n",
      "1719/1719 [==============================] - 2s 1ms/step - loss: 0.0754 - accuracy: 0.9774 - val_loss: 0.0750 - val_accuracy: 0.9798\n",
      "Epoch 4/100\n",
      "1719/1719 [==============================] - 2s 1ms/step - loss: 0.0546 - accuracy: 0.9840 - val_loss: 0.0711 - val_accuracy: 0.9804\n",
      "Epoch 5/100\n",
      "1719/1719 [==============================] - 2s 1ms/step - loss: 0.0416 - accuracy: 0.9881 - val_loss: 0.0681 - val_accuracy: 0.9812\n",
      "Epoch 6/100\n",
      "1719/1719 [==============================] - 2s 1ms/step - loss: 0.0320 - accuracy: 0.9914 - val_loss: 0.0635 - val_accuracy: 0.9830\n",
      "Epoch 7/100\n",
      "1719/1719 [==============================] - 2s 921us/step - loss: 0.0261 - accuracy: 0.9934 - val_loss: 0.0643 - val_accuracy: 0.9808\n",
      "Epoch 8/100\n",
      "1719/1719 [==============================] - 2s 1ms/step - loss: 0.0216 - accuracy: 0.9952 - val_loss: 0.0632 - val_accuracy: 0.9824\n",
      "Epoch 9/100\n",
      "1719/1719 [==============================] - 2s 928us/step - loss: 0.0186 - accuracy: 0.9960 - val_loss: 0.0624 - val_accuracy: 0.9830\n",
      "Epoch 10/100\n",
      "1719/1719 [==============================] - 2s 921us/step - loss: 0.0164 - accuracy: 0.9968 - val_loss: 0.0598 - val_accuracy: 0.9836\n",
      "Epoch 11/100\n",
      "1719/1719 [==============================] - 2s 927us/step - loss: 0.0146 - accuracy: 0.9975 - val_loss: 0.0608 - val_accuracy: 0.9834\n",
      "Epoch 12/100\n",
      "1719/1719 [==============================] - 2s 924us/step - loss: 0.0134 - accuracy: 0.9979 - val_loss: 0.0604 - val_accuracy: 0.9828\n",
      "Epoch 13/100\n",
      "1719/1719 [==============================] - 2s 919us/step - loss: 0.0125 - accuracy: 0.9982 - val_loss: 0.0612 - val_accuracy: 0.9842\n",
      "Epoch 14/100\n",
      "1719/1719 [==============================] - 2s 914us/step - loss: 0.0118 - accuracy: 0.9985 - val_loss: 0.0613 - val_accuracy: 0.9830\n",
      "Epoch 15/100\n",
      "1719/1719 [==============================] - 2s 910us/step - loss: 0.0113 - accuracy: 0.9985 - val_loss: 0.0612 - val_accuracy: 0.9830\n",
      "Epoch 16/100\n",
      "1719/1719 [==============================] - 2s 921us/step - loss: 0.0109 - accuracy: 0.9987 - val_loss: 0.0606 - val_accuracy: 0.9844\n",
      "Epoch 17/100\n",
      "1719/1719 [==============================] - 2s 919us/step - loss: 0.0105 - accuracy: 0.9988 - val_loss: 0.0612 - val_accuracy: 0.9838\n",
      "Epoch 18/100\n",
      "1719/1719 [==============================] - 2s 949us/step - loss: 0.0102 - accuracy: 0.9989 - val_loss: 0.0612 - val_accuracy: 0.9840\n",
      "Epoch 19/100\n",
      "1719/1719 [==============================] - 2s 917us/step - loss: 0.0100 - accuracy: 0.9989 - val_loss: 0.0610 - val_accuracy: 0.9838\n",
      "Epoch 20/100\n",
      "1719/1719 [==============================] - 2s 920us/step - loss: 0.0098 - accuracy: 0.9990 - val_loss: 0.0610 - val_accuracy: 0.9838\n"
     ]
    }
   ],
   "source": [
    "model.compile(loss=\"sparse_categorical_crossentropy\", optimizer=optimizer, metrics=['accuracy'])\n",
    "early_stopping_cb = keras.callbacks.EarlyStopping(patience=10,\n",
    "                                                  restore_best_weights=True)\n",
    "history = model.fit(X_train, y_train, epochs=100,\n",
    "                    validation_data=(X_valid, y_valid),\n",
    "                    callbacks=[checkpoint_cb, early_stopping_cb])"
   ]
  },
  {
   "cell_type": "markdown",
   "metadata": {},
   "source": [
    "We got an improvement. But it was modest"
   ]
  },
  {
   "cell_type": "code",
   "execution_count": 42,
   "metadata": {},
   "outputs": [
    {
     "name": "stdout",
     "output_type": "stream",
     "text": [
      "313/313 [==============================] - 0s 1ms/step - loss: 11.0974 - accuracy: 0.9793\n"
     ]
    }
   ],
   "source": [
    "mse_test = model.evaluate(X_test, y_test)"
   ]
  },
  {
   "cell_type": "markdown",
   "metadata": {},
   "source": [
    "#### Learning rate growth"
   ]
  },
  {
   "cell_type": "markdown",
   "metadata": {},
   "source": [
    "Here we'll start small and instead of decaying (0.9 rate) we'll increase (1.1 rate). Not sure if the exponential decay scheduler works that way. But let's see."
   ]
  },
  {
   "cell_type": "code",
   "execution_count": 43,
   "metadata": {},
   "outputs": [],
   "source": [
    "keras.backend.clear_session()\n",
    "np.random.seed(42)\n",
    "tf.random.set_seed(42)"
   ]
  },
  {
   "cell_type": "code",
   "execution_count": 44,
   "metadata": {},
   "outputs": [],
   "source": [
    "model = keras.models.Sequential([\n",
    "    keras.layers.Flatten(input_shape=[28,28]),\n",
    "    keras.layers.Dense(300, activation='relu'),\n",
    "    keras.layers.Dense(100, activation='relu'),\n",
    "    keras.layers.Dense(10, activation='softmax')\n",
    "])"
   ]
  },
  {
   "cell_type": "code",
   "execution_count": 45,
   "metadata": {},
   "outputs": [],
   "source": [
    "lr_schedule = keras.optimizers.schedules.ExponentialDecay(\n",
    "    initial_learning_rate=1e-4,\n",
    "    decay_steps=1000,\n",
    "    decay_rate=1.1)\n",
    "optimizer = keras.optimizers.SGD(learning_rate=lr_schedule)"
   ]
  },
  {
   "cell_type": "code",
   "execution_count": 46,
   "metadata": {
    "scrolled": true
   },
   "outputs": [
    {
     "name": "stdout",
     "output_type": "stream",
     "text": [
      "Epoch 1/100\n",
      "   1/1719 [..............................] - ETA: 0s - loss: 2.5649 - accuracy: 0.0625WARNING:tensorflow:Callbacks method `on_train_batch_end` is slow compared to the batch time (batch time: 0.0000s vs `on_train_batch_end` time: 0.0040s). Check your callbacks.\n",
      "1719/1719 [==============================] - 2s 1ms/step - loss: 2.3373 - accuracy: 0.1029 - val_loss: 2.2571 - val_accuracy: 0.1316\n",
      "Epoch 2/100\n",
      "1719/1719 [==============================] - 2s 977us/step - loss: 2.1760 - accuracy: 0.2099 - val_loss: 2.1024 - val_accuracy: 0.3032\n",
      "Epoch 3/100\n",
      "1719/1719 [==============================] - 2s 980us/step - loss: 2.0172 - accuracy: 0.4304 - val_loss: 1.9292 - val_accuracy: 0.5360\n",
      "Epoch 4/100\n",
      "1719/1719 [==============================] - 2s 982us/step - loss: 1.8292 - accuracy: 0.6029 - val_loss: 1.7186 - val_accuracy: 0.6676\n",
      "Epoch 5/100\n",
      "1719/1719 [==============================] - 2s 991us/step - loss: 1.6022 - accuracy: 0.7054 - val_loss: 1.4713 - val_accuracy: 0.7506\n",
      "Epoch 6/100\n",
      "1719/1719 [==============================] - 2s 991us/step - loss: 1.3516 - accuracy: 0.7621 - val_loss: 1.2156 - val_accuracy: 0.7848\n",
      "Epoch 7/100\n",
      "1719/1719 [==============================] - 2s 982us/step - loss: 1.1110 - accuracy: 0.7962 - val_loss: 0.9880 - val_accuracy: 0.8150\n",
      "Epoch 8/100\n",
      "1719/1719 [==============================] - 2s 1ms/step - loss: 0.9091 - accuracy: 0.8208 - val_loss: 0.8087 - val_accuracy: 0.8356\n",
      "Epoch 9/100\n",
      "1719/1719 [==============================] - 2s 1ms/step - loss: 0.7558 - accuracy: 0.8380 - val_loss: 0.6770 - val_accuracy: 0.8522\n",
      "Epoch 10/100\n",
      "1719/1719 [==============================] - 2s 1ms/step - loss: 0.6442 - accuracy: 0.8513 - val_loss: 0.5805 - val_accuracy: 0.8630\n",
      "Epoch 11/100\n",
      "1719/1719 [==============================] - 2s 1ms/step - loss: 0.5627 - accuracy: 0.8632 - val_loss: 0.5090 - val_accuracy: 0.8750\n",
      "Epoch 12/100\n",
      "1719/1719 [==============================] - 2s 1ms/step - loss: 0.5020 - accuracy: 0.8720 - val_loss: 0.4556 - val_accuracy: 0.8878\n",
      "Epoch 13/100\n",
      "1719/1719 [==============================] - 2s 1ms/step - loss: 0.4557 - accuracy: 0.8797 - val_loss: 0.4149 - val_accuracy: 0.8944\n",
      "Epoch 14/100\n",
      "1719/1719 [==============================] - 2s 1ms/step - loss: 0.4194 - accuracy: 0.8868 - val_loss: 0.3826 - val_accuracy: 0.8994\n",
      "Epoch 15/100\n",
      "1719/1719 [==============================] - 2s 1ms/step - loss: 0.3900 - accuracy: 0.8928 - val_loss: 0.3562 - val_accuracy: 0.9026\n",
      "Epoch 16/100\n",
      "1719/1719 [==============================] - 2s 1ms/step - loss: 0.3652 - accuracy: 0.8979 - val_loss: 0.3336 - val_accuracy: 0.9084\n",
      "Epoch 17/100\n",
      "1719/1719 [==============================] - 2s 1ms/step - loss: 0.3439 - accuracy: 0.9032 - val_loss: 0.3132 - val_accuracy: 0.9122\n",
      "Epoch 18/100\n",
      "1719/1719 [==============================] - 2s 1ms/step - loss: 0.3247 - accuracy: 0.9081 - val_loss: 0.2962 - val_accuracy: 0.9170\n",
      "Epoch 19/100\n",
      "1719/1719 [==============================] - 2s 1ms/step - loss: 0.3069 - accuracy: 0.9124 - val_loss: 0.2801 - val_accuracy: 0.9242\n",
      "Epoch 20/100\n",
      "1719/1719 [==============================] - 2s 1ms/step - loss: 0.2898 - accuracy: 0.9170 - val_loss: 0.2667 - val_accuracy: 0.9268\n",
      "Epoch 21/100\n",
      "1719/1719 [==============================] - 2s 1ms/step - loss: 0.2737 - accuracy: 0.9216 - val_loss: 0.2488 - val_accuracy: 0.9308\n",
      "Epoch 22/100\n",
      "1719/1719 [==============================] - 2s 1ms/step - loss: 0.2576 - accuracy: 0.9262 - val_loss: 0.2349 - val_accuracy: 0.9344\n",
      "Epoch 23/100\n",
      "1719/1719 [==============================] - 2s 1ms/step - loss: 0.2416 - accuracy: 0.9310 - val_loss: 0.2204 - val_accuracy: 0.9370\n",
      "Epoch 24/100\n",
      "1719/1719 [==============================] - 2s 1ms/step - loss: 0.2247 - accuracy: 0.9353 - val_loss: 0.2058 - val_accuracy: 0.9440\n",
      "Epoch 25/100\n",
      "1719/1719 [==============================] - 2s 1ms/step - loss: 0.2089 - accuracy: 0.9403 - val_loss: 0.1936 - val_accuracy: 0.9450\n",
      "Epoch 26/100\n",
      "1719/1719 [==============================] - 2s 1ms/step - loss: 0.1924 - accuracy: 0.9456 - val_loss: 0.1784 - val_accuracy: 0.9508\n",
      "Epoch 27/100\n",
      "1719/1719 [==============================] - 2s 1ms/step - loss: 0.1763 - accuracy: 0.9497 - val_loss: 0.1626 - val_accuracy: 0.9558\n",
      "Epoch 28/100\n",
      "1719/1719 [==============================] - 2s 1ms/step - loss: 0.1603 - accuracy: 0.9542 - val_loss: 0.1474 - val_accuracy: 0.9588\n",
      "Epoch 29/100\n",
      "1719/1719 [==============================] - 2s 1ms/step - loss: 0.1442 - accuracy: 0.9589 - val_loss: 0.1373 - val_accuracy: 0.9626\n",
      "Epoch 30/100\n",
      "1719/1719 [==============================] - 2s 1ms/step - loss: 0.1295 - accuracy: 0.9632 - val_loss: 0.1305 - val_accuracy: 0.9658\n",
      "Epoch 31/100\n",
      "1719/1719 [==============================] - 2s 1ms/step - loss: 0.1154 - accuracy: 0.9666 - val_loss: 0.1146 - val_accuracy: 0.9682\n",
      "Epoch 32/100\n",
      "1719/1719 [==============================] - 2s 1ms/step - loss: 0.1026 - accuracy: 0.9704 - val_loss: 0.1183 - val_accuracy: 0.9660\n",
      "Epoch 33/100\n",
      "1719/1719 [==============================] - 2s 1ms/step - loss: 0.0914 - accuracy: 0.9738 - val_loss: 0.0964 - val_accuracy: 0.9714\n",
      "Epoch 34/100\n",
      "1719/1719 [==============================] - 2s 1ms/step - loss: 0.0813 - accuracy: 0.9764 - val_loss: 0.1008 - val_accuracy: 0.9712\n",
      "Epoch 35/100\n",
      "1719/1719 [==============================] - 2s 1ms/step - loss: 0.0710 - accuracy: 0.9790 - val_loss: 0.0851 - val_accuracy: 0.9736\n",
      "Epoch 36/100\n",
      "1719/1719 [==============================] - 2s 1ms/step - loss: 0.0621 - accuracy: 0.9816 - val_loss: 0.0870 - val_accuracy: 0.9750\n",
      "Epoch 37/100\n",
      "1719/1719 [==============================] - 2s 1ms/step - loss: 0.0555 - accuracy: 0.9835 - val_loss: 0.0720 - val_accuracy: 0.9778\n",
      "Epoch 38/100\n",
      "1719/1719 [==============================] - 2s 1ms/step - loss: 0.0503 - accuracy: 0.9852 - val_loss: 0.0782 - val_accuracy: 0.9776\n",
      "Epoch 39/100\n",
      "1719/1719 [==============================] - 2s 1ms/step - loss: 0.0445 - accuracy: 0.9860 - val_loss: 0.0821 - val_accuracy: 0.9748\n",
      "Epoch 40/100\n",
      "1719/1719 [==============================] - 3s 2ms/step - loss: 0.0417 - accuracy: 0.9866 - val_loss: 0.1484 - val_accuracy: 0.9530\n",
      "Epoch 41/100\n",
      "1719/1719 [==============================] - 2s 1ms/step - loss: 0.0404 - accuracy: 0.9866 - val_loss: 0.0773 - val_accuracy: 0.9784\n",
      "Epoch 42/100\n",
      "1719/1719 [==============================] - 2s 1ms/step - loss: 0.0400 - accuracy: 0.9871 - val_loss: 0.0726 - val_accuracy: 0.9782\n",
      "Epoch 43/100\n",
      "1719/1719 [==============================] - 2s 1ms/step - loss: 0.0420 - accuracy: 0.9863 - val_loss: 0.0844 - val_accuracy: 0.9760\n",
      "Epoch 44/100\n",
      "1719/1719 [==============================] - 2s 1ms/step - loss: 0.0415 - accuracy: 0.9867 - val_loss: 0.0908 - val_accuracy: 0.9746\n",
      "Epoch 45/100\n",
      "1719/1719 [==============================] - 2s 1ms/step - loss: 0.0423 - accuracy: 0.9859 - val_loss: 0.1734 - val_accuracy: 0.9558\n",
      "Epoch 46/100\n",
      "1719/1719 [==============================] - 2s 1ms/step - loss: 0.0444 - accuracy: 0.9849 - val_loss: 0.0858 - val_accuracy: 0.9776\n",
      "Epoch 47/100\n",
      "1719/1719 [==============================] - 2s 1ms/step - loss: 0.0453 - accuracy: 0.9853 - val_loss: 0.1018 - val_accuracy: 0.9746\n"
     ]
    }
   ],
   "source": [
    "model.compile(loss=\"sparse_categorical_crossentropy\", optimizer=optimizer, metrics=['accuracy'])\n",
    "early_stopping_cb = keras.callbacks.EarlyStopping(patience=10,\n",
    "                                                  restore_best_weights=True)\n",
    "history = model.fit(X_train, y_train, epochs=100,\n",
    "                    validation_data=(X_valid, y_valid),\n",
    "                    callbacks=[checkpoint_cb, early_stopping_cb])"
   ]
  },
  {
   "cell_type": "markdown",
   "metadata": {},
   "source": [
    "Stopped at 47th epoch. Accuracy worse that prior. We won't bother with the test accuracy or graphing it."
   ]
  },
  {
   "cell_type": "code",
   "execution_count": null,
   "metadata": {},
   "outputs": [],
   "source": []
  },
  {
   "cell_type": "code",
   "execution_count": null,
   "metadata": {},
   "outputs": [],
   "source": []
  },
  {
   "cell_type": "markdown",
   "metadata": {},
   "source": [
    "## Tuning hyperparameters"
   ]
  },
  {
   "cell_type": "markdown",
   "metadata": {},
   "source": [
    "We're now going to tune the hyperparameters with a grid search. But first we need to build a model so that we can input different hyperparameters. We'll include options to increase number of layers, neurons, and learning rate."
   ]
  },
  {
   "cell_type": "code",
   "execution_count": 59,
   "metadata": {},
   "outputs": [],
   "source": [
    "keras.backend.clear_session()\n",
    "np.random.seed(42)\n",
    "tf.random.set_seed(42)"
   ]
  },
  {
   "cell_type": "code",
   "execution_count": 60,
   "metadata": {},
   "outputs": [],
   "source": [
    "def build_model(n_hidden=3, n_neurons=300, learning_rate=1e-2, input_shape=[28,28]):\n",
    "    model = keras.models.Sequential()\n",
    "    model.add(keras.layers.Flatten(input_shape=input_shape))\n",
    "    for layer in range(n_hidden):\n",
    "        model.add(keras.layers.Dense(n_neurons, activation='relu'))\n",
    "    model.add(keras.layers.Dense(10, activation='softmax'))\n",
    "    optimizer = keras.optimizers.SGD(lr=learning_rate)\n",
    "    model.compile(loss='sparse_categorical_crossentropy', optimizer=optimizer, metrics=['accuracy'])\n",
    "    return model"
   ]
  },
  {
   "cell_type": "code",
   "execution_count": 61,
   "metadata": {},
   "outputs": [],
   "source": [
    "keras_clf = keras.wrappers.scikit_learn.KerasClassifier(build_model)"
   ]
  },
  {
   "cell_type": "code",
   "execution_count": 62,
   "metadata": {
    "scrolled": true
   },
   "outputs": [
    {
     "name": "stdout",
     "output_type": "stream",
     "text": [
      "Epoch 1/10\n",
      "1719/1719 [==============================] - 2s 1ms/step - loss: 0.6196 - accuracy: 0.8411 - val_loss: 0.2845 - val_accuracy: 0.9202\n",
      "Epoch 2/10\n",
      "1719/1719 [==============================] - 2s 1ms/step - loss: 0.2693 - accuracy: 0.9218 - val_loss: 0.2180 - val_accuracy: 0.9390\n",
      "Epoch 3/10\n",
      "1719/1719 [==============================] - 4s 2ms/step - loss: 0.2103 - accuracy: 0.9387 - val_loss: 0.1718 - val_accuracy: 0.9504\n",
      "Epoch 4/10\n",
      "1719/1719 [==============================] - 4s 2ms/step - loss: 0.1716 - accuracy: 0.9501 - val_loss: 0.1457 - val_accuracy: 0.9596\n",
      "Epoch 5/10\n",
      "1719/1719 [==============================] - 4s 2ms/step - loss: 0.1447 - accuracy: 0.9577 - val_loss: 0.1306 - val_accuracy: 0.9636\n",
      "Epoch 6/10\n",
      "1719/1719 [==============================] - 4s 2ms/step - loss: 0.1243 - accuracy: 0.9639 - val_loss: 0.1172 - val_accuracy: 0.9668\n",
      "Epoch 7/10\n",
      "1719/1719 [==============================] - 4s 2ms/step - loss: 0.1081 - accuracy: 0.9687 - val_loss: 0.1082 - val_accuracy: 0.9678\n",
      "Epoch 8/10\n",
      "1719/1719 [==============================] - 4s 2ms/step - loss: 0.0957 - accuracy: 0.9721 - val_loss: 0.1081 - val_accuracy: 0.9684\n",
      "Epoch 9/10\n",
      "1719/1719 [==============================] - 4s 2ms/step - loss: 0.0854 - accuracy: 0.9757 - val_loss: 0.0932 - val_accuracy: 0.9726\n",
      "Epoch 10/10\n",
      "1719/1719 [==============================] - 5s 3ms/step - loss: 0.0767 - accuracy: 0.9776 - val_loss: 0.0852 - val_accuracy: 0.9760\n"
     ]
    },
    {
     "data": {
      "text/plain": [
       "<tensorflow.python.keras.callbacks.History at 0x1ee3de5b790>"
      ]
     },
     "execution_count": 62,
     "metadata": {},
     "output_type": "execute_result"
    }
   ],
   "source": [
    "keras_clf.fit(X_train, y_train, epochs=10,\n",
    "              validation_data=(X_valid, y_valid),\n",
    "              callbacks=[keras.callbacks.EarlyStopping(patience=10)])"
   ]
  },
  {
   "cell_type": "markdown",
   "metadata": {},
   "source": [
    "Only 10 Epochs, but still good accuracy. "
   ]
  },
  {
   "cell_type": "code",
   "execution_count": 63,
   "metadata": {},
   "outputs": [
    {
     "name": "stdout",
     "output_type": "stream",
     "text": [
      "313/313 [==============================] - 1s 2ms/step - loss: 14.0408 - accuracy: 0.9701\n"
     ]
    },
    {
     "data": {
      "text/plain": [
       "0.9700999855995178"
      ]
     },
     "execution_count": 63,
     "metadata": {},
     "output_type": "execute_result"
    }
   ],
   "source": [
    "keras_clf.score(X_test,y_test)"
   ]
  },
  {
   "cell_type": "markdown",
   "metadata": {},
   "source": [
    "Let's try with 100 epochs"
   ]
  },
  {
   "cell_type": "code",
   "execution_count": 64,
   "metadata": {
    "scrolled": true
   },
   "outputs": [
    {
     "name": "stdout",
     "output_type": "stream",
     "text": [
      "Epoch 1/100\n",
      "1719/1719 [==============================] - 4s 3ms/step - loss: 0.6178 - accuracy: 0.8394 - val_loss: 0.2808 - val_accuracy: 0.9254\n",
      "Epoch 2/100\n",
      "1719/1719 [==============================] - 4s 2ms/step - loss: 0.2636 - accuracy: 0.9238 - val_loss: 0.2162 - val_accuracy: 0.9398\n",
      "Epoch 3/100\n",
      "1719/1719 [==============================] - 4s 2ms/step - loss: 0.2074 - accuracy: 0.9393 - val_loss: 0.1690 - val_accuracy: 0.9550\n",
      "Epoch 4/100\n",
      "1719/1719 [==============================] - 4s 2ms/step - loss: 0.1711 - accuracy: 0.9506 - val_loss: 0.1442 - val_accuracy: 0.9612\n",
      "Epoch 5/100\n",
      "1719/1719 [==============================] - 4s 2ms/step - loss: 0.1458 - accuracy: 0.9577 - val_loss: 0.1311 - val_accuracy: 0.9640\n",
      "Epoch 6/100\n",
      "1719/1719 [==============================] - 4s 3ms/step - loss: 0.1262 - accuracy: 0.9632 - val_loss: 0.1177 - val_accuracy: 0.9682\n",
      "Epoch 7/100\n",
      "1719/1719 [==============================] - 4s 2ms/step - loss: 0.1106 - accuracy: 0.9686 - val_loss: 0.1075 - val_accuracy: 0.9706\n",
      "Epoch 8/100\n",
      "1719/1719 [==============================] - 4s 2ms/step - loss: 0.0978 - accuracy: 0.9716 - val_loss: 0.1147 - val_accuracy: 0.9664\n",
      "Epoch 9/100\n",
      "1719/1719 [==============================] - 4s 3ms/step - loss: 0.0876 - accuracy: 0.9745 - val_loss: 0.0945 - val_accuracy: 0.9744\n",
      "Epoch 10/100\n",
      "1719/1719 [==============================] - 4s 2ms/step - loss: 0.0789 - accuracy: 0.9774 - val_loss: 0.0869 - val_accuracy: 0.9758\n",
      "Epoch 11/100\n",
      "1719/1719 [==============================] - 4s 2ms/step - loss: 0.0705 - accuracy: 0.9800 - val_loss: 0.0855 - val_accuracy: 0.9748\n",
      "Epoch 12/100\n",
      "1719/1719 [==============================] - 4s 3ms/step - loss: 0.0636 - accuracy: 0.9822 - val_loss: 0.0856 - val_accuracy: 0.9752\n",
      "Epoch 13/100\n",
      "1719/1719 [==============================] - 4s 2ms/step - loss: 0.0581 - accuracy: 0.9835 - val_loss: 0.0789 - val_accuracy: 0.9772\n",
      "Epoch 14/100\n",
      "1719/1719 [==============================] - 4s 2ms/step - loss: 0.0520 - accuracy: 0.9851 - val_loss: 0.0769 - val_accuracy: 0.9776\n",
      "Epoch 15/100\n",
      "1719/1719 [==============================] - 4s 2ms/step - loss: 0.0476 - accuracy: 0.9868 - val_loss: 0.0757 - val_accuracy: 0.9754\n",
      "Epoch 16/100\n",
      "1719/1719 [==============================] - 4s 2ms/step - loss: 0.0429 - accuracy: 0.9880 - val_loss: 0.0753 - val_accuracy: 0.9776\n",
      "Epoch 17/100\n",
      "1719/1719 [==============================] - 4s 2ms/step - loss: 0.0391 - accuracy: 0.9895 - val_loss: 0.0737 - val_accuracy: 0.9782\n",
      "Epoch 18/100\n",
      "1719/1719 [==============================] - 4s 2ms/step - loss: 0.0358 - accuracy: 0.9907 - val_loss: 0.0729 - val_accuracy: 0.9790\n",
      "Epoch 19/100\n",
      "1719/1719 [==============================] - 4s 2ms/step - loss: 0.0321 - accuracy: 0.9918 - val_loss: 0.0731 - val_accuracy: 0.9784\n",
      "Epoch 20/100\n",
      "1719/1719 [==============================] - 4s 2ms/step - loss: 0.0291 - accuracy: 0.9927 - val_loss: 0.0752 - val_accuracy: 0.9762\n",
      "Epoch 21/100\n",
      "1719/1719 [==============================] - 4s 2ms/step - loss: 0.0263 - accuracy: 0.9934 - val_loss: 0.0706 - val_accuracy: 0.9794\n",
      "Epoch 22/100\n",
      "1719/1719 [==============================] - 5s 3ms/step - loss: 0.0237 - accuracy: 0.9947 - val_loss: 0.0785 - val_accuracy: 0.9776\n",
      "Epoch 23/100\n",
      "1719/1719 [==============================] - 4s 2ms/step - loss: 0.0219 - accuracy: 0.9951 - val_loss: 0.0778 - val_accuracy: 0.9758\n",
      "Epoch 24/100\n",
      "1719/1719 [==============================] - 4s 3ms/step - loss: 0.0195 - accuracy: 0.9960 - val_loss: 0.0742 - val_accuracy: 0.9786\n",
      "Epoch 25/100\n",
      "1719/1719 [==============================] - 4s 3ms/step - loss: 0.0180 - accuracy: 0.9963 - val_loss: 0.0721 - val_accuracy: 0.9786\n",
      "Epoch 26/100\n",
      "1719/1719 [==============================] - 4s 2ms/step - loss: 0.0161 - accuracy: 0.9968 - val_loss: 0.0703 - val_accuracy: 0.9802\n",
      "Epoch 27/100\n",
      "1719/1719 [==============================] - 4s 3ms/step - loss: 0.0147 - accuracy: 0.9972 - val_loss: 0.0707 - val_accuracy: 0.9798\n",
      "Epoch 28/100\n",
      "1719/1719 [==============================] - 4s 2ms/step - loss: 0.0133 - accuracy: 0.9979 - val_loss: 0.0730 - val_accuracy: 0.9784\n",
      "Epoch 29/100\n",
      "1719/1719 [==============================] - 4s 2ms/step - loss: 0.0118 - accuracy: 0.9983 - val_loss: 0.0703 - val_accuracy: 0.9802\n",
      "Epoch 30/100\n",
      "1719/1719 [==============================] - 4s 2ms/step - loss: 0.0106 - accuracy: 0.9986 - val_loss: 0.0709 - val_accuracy: 0.9802\n",
      "Epoch 31/100\n",
      "1719/1719 [==============================] - 4s 2ms/step - loss: 0.0098 - accuracy: 0.9987 - val_loss: 0.0747 - val_accuracy: 0.9784\n",
      "Epoch 32/100\n",
      "1719/1719 [==============================] - 4s 2ms/step - loss: 0.0088 - accuracy: 0.9989 - val_loss: 0.0718 - val_accuracy: 0.9796\n",
      "Epoch 33/100\n",
      "1719/1719 [==============================] - 4s 2ms/step - loss: 0.0081 - accuracy: 0.9992 - val_loss: 0.0722 - val_accuracy: 0.9788\n",
      "Epoch 34/100\n",
      "1719/1719 [==============================] - 4s 2ms/step - loss: 0.0074 - accuracy: 0.9992 - val_loss: 0.0738 - val_accuracy: 0.9798\n",
      "Epoch 35/100\n",
      "1719/1719 [==============================] - 4s 2ms/step - loss: 0.0067 - accuracy: 0.9994 - val_loss: 0.0734 - val_accuracy: 0.9804\n",
      "Epoch 36/100\n",
      "1719/1719 [==============================] - 4s 2ms/step - loss: 0.0060 - accuracy: 0.9996 - val_loss: 0.0745 - val_accuracy: 0.9790\n",
      "Epoch 37/100\n",
      "1719/1719 [==============================] - 4s 2ms/step - loss: 0.0055 - accuracy: 0.9995 - val_loss: 0.0735 - val_accuracy: 0.9806\n",
      "Epoch 38/100\n",
      "1719/1719 [==============================] - 4s 2ms/step - loss: 0.0052 - accuracy: 0.9996 - val_loss: 0.0758 - val_accuracy: 0.9806\n",
      "Epoch 39/100\n",
      "1719/1719 [==============================] - 4s 2ms/step - loss: 0.0047 - accuracy: 0.9998 - val_loss: 0.0762 - val_accuracy: 0.9806\n"
     ]
    },
    {
     "data": {
      "text/plain": [
       "<tensorflow.python.keras.callbacks.History at 0x1ee2006dd30>"
      ]
     },
     "execution_count": 64,
     "metadata": {},
     "output_type": "execute_result"
    }
   ],
   "source": [
    "keras_clf.fit(X_train, y_train, epochs=100,\n",
    "              validation_data=(X_valid, y_valid),\n",
    "              callbacks=[keras.callbacks.EarlyStopping(patience=10)])"
   ]
  },
  {
   "cell_type": "markdown",
   "metadata": {},
   "source": [
    "Achieved a tad bit over 98%. Let's look at test set."
   ]
  },
  {
   "cell_type": "code",
   "execution_count": 65,
   "metadata": {},
   "outputs": [
    {
     "name": "stdout",
     "output_type": "stream",
     "text": [
      "313/313 [==============================] - 1s 2ms/step - loss: 18.3264 - accuracy: 0.9753\n"
     ]
    },
    {
     "data": {
      "text/plain": [
       "0.9753000140190125"
      ]
     },
     "execution_count": 65,
     "metadata": {},
     "output_type": "execute_result"
    }
   ],
   "source": [
    "keras_clf.score(X_test, y_test)"
   ]
  },
  {
   "cell_type": "code",
   "execution_count": 67,
   "metadata": {
    "scrolled": true
   },
   "outputs": [
    {
     "name": "stdout",
     "output_type": "stream",
     "text": [
      "Fitting 3 folds for each of 8 candidates, totalling 24 fits\n"
     ]
    },
    {
     "name": "stderr",
     "output_type": "stream",
     "text": [
      "[Parallel(n_jobs=1)]: Using backend SequentialBackend with 1 concurrent workers.\n"
     ]
    },
    {
     "name": "stdout",
     "output_type": "stream",
     "text": [
      "Epoch 1/10\n",
      "1146/1146 [==============================] - 3s 2ms/step - loss: 2.1237 - accuracy: 0.4138 - val_loss: 1.8766 - val_accuracy: 0.6308\n",
      "Epoch 2/10\n",
      "1146/1146 [==============================] - 3s 2ms/step - loss: 1.5065 - accuracy: 0.7256 - val_loss: 1.1172 - val_accuracy: 0.7940\n",
      "Epoch 3/10\n",
      "1146/1146 [==============================] - 3s 2ms/step - loss: 0.8890 - accuracy: 0.8233 - val_loss: 0.7050 - val_accuracy: 0.8426\n",
      "Epoch 4/10\n",
      "1146/1146 [==============================] - 3s 2ms/step - loss: 0.6233 - accuracy: 0.8541 - val_loss: 0.5413 - val_accuracy: 0.8694\n",
      "Epoch 5/10\n",
      "1146/1146 [==============================] - 3s 2ms/step - loss: 0.5079 - accuracy: 0.8710 - val_loss: 0.4611 - val_accuracy: 0.8822\n",
      "Epoch 6/10\n",
      "1146/1146 [==============================] - 3s 2ms/step - loss: 0.4454 - accuracy: 0.8813 - val_loss: 0.4120 - val_accuracy: 0.8904\n",
      "Epoch 7/10\n",
      "1146/1146 [==============================] - 3s 2ms/step - loss: 0.4060 - accuracy: 0.8876 - val_loss: 0.3806 - val_accuracy: 0.8946\n",
      "Epoch 8/10\n",
      "1146/1146 [==============================] - 3s 2ms/step - loss: 0.3783 - accuracy: 0.8936 - val_loss: 0.3558 - val_accuracy: 0.9014\n",
      "Epoch 9/10\n",
      "1146/1146 [==============================] - 3s 2ms/step - loss: 0.3572 - accuracy: 0.8990 - val_loss: 0.3371 - val_accuracy: 0.9052\n",
      "Epoch 10/10\n",
      "1146/1146 [==============================] - 3s 2ms/step - loss: 0.3406 - accuracy: 0.9036 - val_loss: 0.3232 - val_accuracy: 0.9084\n",
      "573/573 [==============================] - 1s 2ms/step - loss: 0.3450 - accuracy: 0.9026\n",
      "Epoch 1/10\n",
      "1146/1146 [==============================] - 3s 2ms/step - loss: 2.1058 - accuracy: 0.3757 - val_loss: 1.8483 - val_accuracy: 0.6794\n",
      "Epoch 2/10\n",
      "1146/1146 [==============================] - 3s 2ms/step - loss: 1.4849 - accuracy: 0.7439 - val_loss: 1.1043 - val_accuracy: 0.7954\n",
      "Epoch 3/10\n",
      "1146/1146 [==============================] - 3s 2ms/step - loss: 0.8774 - accuracy: 0.8169 - val_loss: 0.6993 - val_accuracy: 0.8428\n",
      "Epoch 4/10\n",
      "1146/1146 [==============================] - 3s 2ms/step - loss: 0.6218 - accuracy: 0.8497 - val_loss: 0.5437 - val_accuracy: 0.8674\n",
      "Epoch 5/10\n",
      "1146/1146 [==============================] - 3s 2ms/step - loss: 0.5116 - accuracy: 0.8687 - val_loss: 0.4652 - val_accuracy: 0.8802\n",
      "Epoch 6/10\n",
      "1146/1146 [==============================] - 3s 2ms/step - loss: 0.4501 - accuracy: 0.8792 - val_loss: 0.4150 - val_accuracy: 0.8924\n",
      "Epoch 7/10\n",
      "1146/1146 [==============================] - 3s 2ms/step - loss: 0.4109 - accuracy: 0.8874 - val_loss: 0.3843 - val_accuracy: 0.8976\n",
      "Epoch 8/10\n",
      "1146/1146 [==============================] - 3s 2ms/step - loss: 0.3830 - accuracy: 0.8936 - val_loss: 0.3614 - val_accuracy: 0.9022\n",
      "Epoch 9/10\n",
      "1146/1146 [==============================] - 3s 2ms/step - loss: 0.3624 - accuracy: 0.8985 - val_loss: 0.3428 - val_accuracy: 0.9040\n",
      "Epoch 10/10\n",
      "1146/1146 [==============================] - 4s 3ms/step - loss: 0.3458 - accuracy: 0.9029 - val_loss: 0.3270 - val_accuracy: 0.9062\n",
      "  1/573 [..............................] - ETA: 0s - loss: 0.2529 - accuracy: 0.9375WARNING:tensorflow:Callbacks method `on_test_batch_end` is slow compared to the batch time (batch time: 0.0000s vs `on_test_batch_end` time: 0.0040s). Check your callbacks.\n",
      "573/573 [==============================] - 1s 2ms/step - loss: 0.3640 - accuracy: 0.8959\n",
      "Epoch 1/10\n",
      "1146/1146 [==============================] - 4s 3ms/step - loss: 2.1096 - accuracy: 0.3967 - val_loss: 1.8462 - val_accuracy: 0.6548\n",
      "Epoch 2/10\n",
      "1146/1146 [==============================] - 4s 3ms/step - loss: 1.4833 - accuracy: 0.7108 - val_loss: 1.1100 - val_accuracy: 0.7760\n",
      "Epoch 3/10\n",
      "1146/1146 [==============================] - 4s 3ms/step - loss: 0.8953 - accuracy: 0.8038 - val_loss: 0.7100 - val_accuracy: 0.8352\n",
      "Epoch 4/10\n",
      "1146/1146 [==============================] - 2s 2ms/step - loss: 0.6368 - accuracy: 0.8442 - val_loss: 0.5512 - val_accuracy: 0.8606\n",
      "Epoch 5/10\n",
      "1146/1146 [==============================] - 2s 1ms/step - loss: 0.5228 - accuracy: 0.8645 - val_loss: 0.4689 - val_accuracy: 0.8774\n",
      "Epoch 6/10\n",
      "1146/1146 [==============================] - 2s 1ms/step - loss: 0.4599 - accuracy: 0.8780 - val_loss: 0.4198 - val_accuracy: 0.8914\n",
      "Epoch 7/10\n",
      "1146/1146 [==============================] - 2s 1ms/step - loss: 0.4203 - accuracy: 0.8871 - val_loss: 0.3870 - val_accuracy: 0.9000\n",
      "Epoch 8/10\n",
      "1146/1146 [==============================] - 2s 1ms/step - loss: 0.3923 - accuracy: 0.8937 - val_loss: 0.3651 - val_accuracy: 0.9018\n",
      "Epoch 9/10\n",
      "1146/1146 [==============================] - 2s 1ms/step - loss: 0.3714 - accuracy: 0.8987 - val_loss: 0.3446 - val_accuracy: 0.9078\n",
      "Epoch 10/10\n",
      "1146/1146 [==============================] - 2s 1ms/step - loss: 0.3542 - accuracy: 0.9031 - val_loss: 0.3308 - val_accuracy: 0.9102\n",
      "573/573 [==============================] - 0s 871us/step - loss: 0.3412 - accuracy: 0.9026\n",
      "Epoch 1/10\n",
      "1146/1146 [==============================] - 3s 3ms/step - loss: 2.0510 - accuracy: 0.4627 - val_loss: 1.7448 - val_accuracy: 0.6992\n",
      "Epoch 2/10\n",
      "1146/1146 [==============================] - 3s 3ms/step - loss: 1.3667 - accuracy: 0.7574 - val_loss: 0.9997 - val_accuracy: 0.8122\n",
      "Epoch 3/10\n",
      "1146/1146 [==============================] - 3s 3ms/step - loss: 0.8146 - accuracy: 0.8267 - val_loss: 0.6545 - val_accuracy: 0.8486\n",
      "Epoch 4/10\n",
      "1146/1146 [==============================] - 3s 3ms/step - loss: 0.5920 - accuracy: 0.8539 - val_loss: 0.5139 - val_accuracy: 0.8736\n",
      "Epoch 5/10\n",
      "1146/1146 [==============================] - 3s 3ms/step - loss: 0.4911 - accuracy: 0.8716 - val_loss: 0.4423 - val_accuracy: 0.8838\n",
      "Epoch 6/10\n",
      "1146/1146 [==============================] - 3s 3ms/step - loss: 0.4342 - accuracy: 0.8831 - val_loss: 0.3978 - val_accuracy: 0.8936\n",
      "Epoch 7/10\n",
      "1146/1146 [==============================] - 3s 3ms/step - loss: 0.3974 - accuracy: 0.8897 - val_loss: 0.3678 - val_accuracy: 0.9008\n",
      "Epoch 8/10\n",
      "1146/1146 [==============================] - 3s 3ms/step - loss: 0.3710 - accuracy: 0.8969 - val_loss: 0.3445 - val_accuracy: 0.9044\n",
      "Epoch 9/10\n",
      "1146/1146 [==============================] - 4s 3ms/step - loss: 0.3509 - accuracy: 0.9011 - val_loss: 0.3273 - val_accuracy: 0.9098\n",
      "Epoch 10/10\n",
      "1146/1146 [==============================] - 3s 3ms/step - loss: 0.3350 - accuracy: 0.9056 - val_loss: 0.3142 - val_accuracy: 0.9128\n",
      "573/573 [==============================] - 1s 1ms/step - loss: 0.3422 - accuracy: 0.9025\n",
      "Epoch 1/10\n",
      "1146/1146 [==============================] - 4s 3ms/step - loss: 2.0403 - accuracy: 0.5130 - val_loss: 1.7113 - val_accuracy: 0.7046\n",
      "Epoch 2/10\n",
      "1146/1146 [==============================] - 4s 3ms/step - loss: 1.3249 - accuracy: 0.7590 - val_loss: 0.9717 - val_accuracy: 0.8092\n",
      "Epoch 3/10\n",
      "1146/1146 [==============================] - 3s 3ms/step - loss: 0.7902 - accuracy: 0.8302 - val_loss: 0.6422 - val_accuracy: 0.8512\n",
      "Epoch 4/10\n",
      "1146/1146 [==============================] - 3s 3ms/step - loss: 0.5773 - accuracy: 0.8587 - val_loss: 0.5081 - val_accuracy: 0.8722\n",
      "Epoch 5/10\n",
      "1146/1146 [==============================] - 3s 3ms/step - loss: 0.4811 - accuracy: 0.8753 - val_loss: 0.4389 - val_accuracy: 0.8858\n",
      "Epoch 6/10\n",
      "1146/1146 [==============================] - 3s 3ms/step - loss: 0.4266 - accuracy: 0.8856 - val_loss: 0.3938 - val_accuracy: 0.8948\n",
      "Epoch 7/10\n",
      "1146/1146 [==============================] - 3s 3ms/step - loss: 0.3915 - accuracy: 0.8937 - val_loss: 0.3661 - val_accuracy: 0.8998\n",
      "Epoch 8/10\n",
      "1146/1146 [==============================] - 8s 7ms/step - loss: 0.3662 - accuracy: 0.8991 - val_loss: 0.3448 - val_accuracy: 0.9040\n",
      "Epoch 9/10\n",
      "1146/1146 [==============================] - 4s 3ms/step - loss: 0.3471 - accuracy: 0.9034 - val_loss: 0.3270 - val_accuracy: 0.9076\n",
      "Epoch 10/10\n",
      "1146/1146 [==============================] - 3s 3ms/step - loss: 0.3315 - accuracy: 0.9070 - val_loss: 0.3128 - val_accuracy: 0.9118\n",
      "573/573 [==============================] - 1s 1ms/step - loss: 0.3461 - accuracy: 0.9011\n",
      "Epoch 1/10\n",
      "1146/1146 [==============================] - 4s 3ms/step - loss: 2.0007 - accuracy: 0.5246 - val_loss: 1.6324 - val_accuracy: 0.7162\n",
      "Epoch 2/10\n",
      "1146/1146 [==============================] - 3s 3ms/step - loss: 1.2444 - accuracy: 0.7746 - val_loss: 0.9000 - val_accuracy: 0.8200\n",
      "Epoch 3/10\n",
      "1146/1146 [==============================] - 3s 3ms/step - loss: 0.7507 - accuracy: 0.8371 - val_loss: 0.6082 - val_accuracy: 0.8620\n",
      "Epoch 4/10\n",
      "1146/1146 [==============================] - 3s 3ms/step - loss: 0.5623 - accuracy: 0.8636 - val_loss: 0.4893 - val_accuracy: 0.8790\n",
      "Epoch 5/10\n",
      "1146/1146 [==============================] - 3s 3ms/step - loss: 0.4743 - accuracy: 0.8792 - val_loss: 0.4227 - val_accuracy: 0.8918\n",
      "Epoch 6/10\n",
      "1146/1146 [==============================] - 3s 3ms/step - loss: 0.4232 - accuracy: 0.8877 - val_loss: 0.3821 - val_accuracy: 0.8988\n",
      "Epoch 7/10\n",
      "1146/1146 [==============================] - 3s 3ms/step - loss: 0.3900 - accuracy: 0.8950 - val_loss: 0.3548 - val_accuracy: 0.9060\n",
      "Epoch 8/10\n",
      "1146/1146 [==============================] - 4s 3ms/step - loss: 0.3657 - accuracy: 0.9006 - val_loss: 0.3367 - val_accuracy: 0.9048\n",
      "Epoch 9/10\n",
      "1146/1146 [==============================] - 3s 3ms/step - loss: 0.3472 - accuracy: 0.9041 - val_loss: 0.3178 - val_accuracy: 0.9144\n",
      "Epoch 10/10\n",
      "1146/1146 [==============================] - 3s 3ms/step - loss: 0.3316 - accuracy: 0.9075 - val_loss: 0.3058 - val_accuracy: 0.9168\n",
      "573/573 [==============================] - 1s 1ms/step - loss: 0.3212 - accuracy: 0.9094\n",
      "Epoch 1/10\n",
      "1146/1146 [==============================] - 3s 3ms/step - loss: 2.2413 - accuracy: 0.2560 - val_loss: 2.1471 - val_accuracy: 0.4874\n",
      "Epoch 2/10\n",
      "1146/1146 [==============================] - 3s 2ms/step - loss: 1.9312 - accuracy: 0.6242 - val_loss: 1.5658 - val_accuracy: 0.7142\n",
      "Epoch 3/10\n",
      "1146/1146 [==============================] - 3s 2ms/step - loss: 1.1509 - accuracy: 0.7570 - val_loss: 0.8105 - val_accuracy: 0.8078\n",
      "Epoch 4/10\n",
      "1146/1146 [==============================] - 3s 2ms/step - loss: 0.6843 - accuracy: 0.8253 - val_loss: 0.5626 - val_accuracy: 0.8496\n",
      "Epoch 5/10\n",
      "1146/1146 [==============================] - 2s 2ms/step - loss: 0.5227 - accuracy: 0.8539 - val_loss: 0.4584 - val_accuracy: 0.8712\n",
      "Epoch 6/10\n",
      "1146/1146 [==============================] - 2s 2ms/step - loss: 0.4427 - accuracy: 0.8723 - val_loss: 0.4007 - val_accuracy: 0.8868\n",
      "Epoch 7/10\n",
      "1146/1146 [==============================] - 2s 2ms/step - loss: 0.3942 - accuracy: 0.8862 - val_loss: 0.3633 - val_accuracy: 0.8956\n",
      "Epoch 8/10\n",
      "1146/1146 [==============================] - 2s 2ms/step - loss: 0.3618 - accuracy: 0.8948 - val_loss: 0.3343 - val_accuracy: 0.9040\n",
      "Epoch 9/10\n",
      "1146/1146 [==============================] - 2s 2ms/step - loss: 0.3370 - accuracy: 0.9019 - val_loss: 0.3143 - val_accuracy: 0.9120\n",
      "Epoch 10/10\n",
      "1146/1146 [==============================] - 2s 2ms/step - loss: 0.3181 - accuracy: 0.9084 - val_loss: 0.3008 - val_accuracy: 0.9158\n",
      "573/573 [==============================] - 1s 1ms/step - loss: 0.3259 - accuracy: 0.9057\n",
      "Epoch 1/10\n",
      "1146/1146 [==============================] - 2s 2ms/step - loss: 2.2454 - accuracy: 0.2940 - val_loss: 2.1745 - val_accuracy: 0.4052\n",
      "Epoch 2/10\n",
      "1146/1146 [==============================] - 2s 2ms/step - loss: 2.0109 - accuracy: 0.5140 - val_loss: 1.7524 - val_accuracy: 0.6406\n",
      "Epoch 3/10\n",
      "1146/1146 [==============================] - 2s 2ms/step - loss: 1.3208 - accuracy: 0.7268 - val_loss: 0.9227 - val_accuracy: 0.7898\n",
      "Epoch 4/10\n",
      "1146/1146 [==============================] - 2s 2ms/step - loss: 0.7466 - accuracy: 0.8107 - val_loss: 0.6148 - val_accuracy: 0.8324\n",
      "Epoch 5/10\n",
      "1146/1146 [==============================] - 2s 2ms/step - loss: 0.5526 - accuracy: 0.8480 - val_loss: 0.4886 - val_accuracy: 0.8638\n",
      "Epoch 6/10\n",
      "1146/1146 [==============================] - 2s 2ms/step - loss: 0.4584 - accuracy: 0.8710 - val_loss: 0.4144 - val_accuracy: 0.8842\n",
      "Epoch 7/10\n",
      "1146/1146 [==============================] - 2s 2ms/step - loss: 0.4025 - accuracy: 0.8865 - val_loss: 0.3741 - val_accuracy: 0.8960\n",
      "Epoch 8/10\n",
      "1146/1146 [==============================] - 2s 2ms/step - loss: 0.3650 - accuracy: 0.8958 - val_loss: 0.3456 - val_accuracy: 0.9020\n",
      "Epoch 9/10\n",
      "1146/1146 [==============================] - 2s 2ms/step - loss: 0.3390 - accuracy: 0.9026 - val_loss: 0.3222 - val_accuracy: 0.9090\n",
      "Epoch 10/10\n",
      "1146/1146 [==============================] - 3s 2ms/step - loss: 0.3190 - accuracy: 0.9086 - val_loss: 0.3046 - val_accuracy: 0.9154\n",
      "573/573 [==============================] - 1s 1ms/step - loss: 0.3370 - accuracy: 0.9007\n",
      "Epoch 1/10\n",
      "1146/1146 [==============================] - 3s 2ms/step - loss: 2.2413 - accuracy: 0.2198 - val_loss: 2.1593 - val_accuracy: 0.4240\n",
      "Epoch 2/10\n",
      "1146/1146 [==============================] - 3s 2ms/step - loss: 1.9631 - accuracy: 0.5784 - val_loss: 1.6536 - val_accuracy: 0.7040\n",
      "Epoch 3/10\n",
      "1146/1146 [==============================] - 2s 2ms/step - loss: 1.2152 - accuracy: 0.7663 - val_loss: 0.8289 - val_accuracy: 0.8262\n",
      "Epoch 4/10\n",
      "1146/1146 [==============================] - 3s 2ms/step - loss: 0.6797 - accuracy: 0.8324 - val_loss: 0.5484 - val_accuracy: 0.8572\n",
      "Epoch 5/10\n",
      "1146/1146 [==============================] - 3s 2ms/step - loss: 0.5099 - accuracy: 0.8598 - val_loss: 0.4443 - val_accuracy: 0.8774\n",
      "Epoch 6/10\n",
      "1146/1146 [==============================] - 3s 2ms/step - loss: 0.4345 - accuracy: 0.8771 - val_loss: 0.3909 - val_accuracy: 0.8904\n",
      "Epoch 7/10\n",
      "1146/1146 [==============================] - 3s 2ms/step - loss: 0.3915 - accuracy: 0.8885 - val_loss: 0.3550 - val_accuracy: 0.9006\n",
      "Epoch 8/10\n",
      "1146/1146 [==============================] - 3s 2ms/step - loss: 0.3617 - accuracy: 0.8964 - val_loss: 0.3338 - val_accuracy: 0.9044\n",
      "Epoch 9/10\n",
      "1146/1146 [==============================] - 3s 2ms/step - loss: 0.3400 - accuracy: 0.9023 - val_loss: 0.3117 - val_accuracy: 0.9112\n",
      "Epoch 10/10\n",
      "1146/1146 [==============================] - 3s 2ms/step - loss: 0.3218 - accuracy: 0.9077 - val_loss: 0.3010 - val_accuracy: 0.9142\n",
      "573/573 [==============================] - 2s 3ms/step - loss: 0.3135 - accuracy: 0.9063\n",
      "Epoch 1/10\n",
      "1146/1146 [==============================] - 6s 5ms/step - loss: 2.2305 - accuracy: 0.3778 - val_loss: 2.1268 - val_accuracy: 0.6054\n",
      "Epoch 2/10\n",
      "1146/1146 [==============================] - 4s 4ms/step - loss: 1.8634 - accuracy: 0.6574 - val_loss: 1.4454 - val_accuracy: 0.7006\n",
      "Epoch 3/10\n",
      "1146/1146 [==============================] - 4s 4ms/step - loss: 1.0446 - accuracy: 0.7648 - val_loss: 0.7461 - val_accuracy: 0.8120\n",
      "Epoch 4/10\n",
      "1146/1146 [==============================] - 5s 5ms/step - loss: 0.6337 - accuracy: 0.8351 - val_loss: 0.5264 - val_accuracy: 0.8584\n",
      "Epoch 5/10\n",
      "1146/1146 [==============================] - 5s 4ms/step - loss: 0.4875 - accuracy: 0.8686 - val_loss: 0.4303 - val_accuracy: 0.8792\n",
      "Epoch 6/10\n",
      "1146/1146 [==============================] - 6s 5ms/step - loss: 0.4140 - accuracy: 0.8847 - val_loss: 0.3776 - val_accuracy: 0.8944\n",
      "Epoch 7/10\n",
      "1146/1146 [==============================] - 5s 4ms/step - loss: 0.3707 - accuracy: 0.8945 - val_loss: 0.3432 - val_accuracy: 0.9042\n",
      "Epoch 8/10\n",
      "1146/1146 [==============================] - 4s 3ms/step - loss: 0.3418 - accuracy: 0.9031 - val_loss: 0.3156 - val_accuracy: 0.9110\n",
      "Epoch 9/10\n",
      "1146/1146 [==============================] - 5s 4ms/step - loss: 0.3199 - accuracy: 0.9083 - val_loss: 0.2969 - val_accuracy: 0.9184\n",
      "Epoch 10/10\n",
      "1146/1146 [==============================] - 4s 4ms/step - loss: 0.3031 - accuracy: 0.9132 - val_loss: 0.2844 - val_accuracy: 0.9210\n",
      "573/573 [==============================] - 1s 1ms/step - loss: 0.3098 - accuracy: 0.9123\n",
      "Epoch 1/10\n",
      "1146/1146 [==============================] - 6s 5ms/step - loss: 2.2379 - accuracy: 0.3130 - val_loss: 2.1528 - val_accuracy: 0.4732\n",
      "Epoch 2/10\n",
      "1146/1146 [==============================] - 5s 4ms/step - loss: 1.9556 - accuracy: 0.5881 - val_loss: 1.6482 - val_accuracy: 0.6816\n",
      "Epoch 3/10\n",
      "1146/1146 [==============================] - 5s 4ms/step - loss: 1.2096 - accuracy: 0.7500 - val_loss: 0.8402 - val_accuracy: 0.8052\n",
      "Epoch 4/10\n",
      "1146/1146 [==============================] - 5s 4ms/step - loss: 0.6785 - accuracy: 0.8318 - val_loss: 0.5606 - val_accuracy: 0.8534\n",
      "Epoch 5/10\n",
      "1146/1146 [==============================] - 5s 4ms/step - loss: 0.5019 - accuracy: 0.8661 - val_loss: 0.4476 - val_accuracy: 0.8778\n",
      "Epoch 6/10\n",
      "1146/1146 [==============================] - 6s 6ms/step - loss: 0.4197 - accuracy: 0.8831 - val_loss: 0.3850 - val_accuracy: 0.8946\n",
      "Epoch 7/10\n",
      "1146/1146 [==============================] - 6s 6ms/step - loss: 0.3736 - accuracy: 0.8952 - val_loss: 0.3505 - val_accuracy: 0.9012\n",
      "Epoch 8/10\n",
      "1146/1146 [==============================] - 4s 4ms/step - loss: 0.3427 - accuracy: 0.9020 - val_loss: 0.3270 - val_accuracy: 0.9042\n",
      "Epoch 9/10\n",
      "1146/1146 [==============================] - 5s 4ms/step - loss: 0.3209 - accuracy: 0.9079 - val_loss: 0.3061 - val_accuracy: 0.9122\n",
      "Epoch 10/10\n",
      "1146/1146 [==============================] - 5s 4ms/step - loss: 0.3035 - accuracy: 0.9133 - val_loss: 0.2896 - val_accuracy: 0.9170\n",
      "573/573 [==============================] - 1s 1ms/step - loss: 0.3216 - accuracy: 0.9067\n",
      "Epoch 1/10\n",
      "1146/1146 [==============================] - 4s 4ms/step - loss: 2.2099 - accuracy: 0.3279 - val_loss: 2.0786 - val_accuracy: 0.5322\n",
      "Epoch 2/10\n",
      "1146/1146 [==============================] - 4s 4ms/step - loss: 1.7700 - accuracy: 0.6792 - val_loss: 1.3222 - val_accuracy: 0.7784\n",
      "Epoch 3/10\n",
      "1146/1146 [==============================] - 4s 4ms/step - loss: 0.9519 - accuracy: 0.8037 - val_loss: 0.6787 - val_accuracy: 0.8368\n",
      "Epoch 4/10\n",
      "1146/1146 [==============================] - 5s 4ms/step - loss: 0.5867 - accuracy: 0.8508 - val_loss: 0.4891 - val_accuracy: 0.8726\n",
      "Epoch 5/10\n",
      "1146/1146 [==============================] - 5s 4ms/step - loss: 0.4652 - accuracy: 0.8728 - val_loss: 0.4102 - val_accuracy: 0.8864\n",
      "Epoch 6/10\n",
      "1146/1146 [==============================] - 5s 4ms/step - loss: 0.4059 - accuracy: 0.8866 - val_loss: 0.3649 - val_accuracy: 0.9008\n",
      "Epoch 7/10\n",
      "1146/1146 [==============================] - 4s 4ms/step - loss: 0.3704 - accuracy: 0.8966 - val_loss: 0.3375 - val_accuracy: 0.9056\n",
      "Epoch 8/10\n",
      "1146/1146 [==============================] - 4s 4ms/step - loss: 0.3442 - accuracy: 0.9039 - val_loss: 0.3180 - val_accuracy: 0.9104\n",
      "Epoch 9/10\n",
      "1146/1146 [==============================] - 4s 4ms/step - loss: 0.3244 - accuracy: 0.9083 - val_loss: 0.2954 - val_accuracy: 0.9196\n",
      "Epoch 10/10\n",
      "1146/1146 [==============================] - 4s 4ms/step - loss: 0.3068 - accuracy: 0.9133 - val_loss: 0.2847 - val_accuracy: 0.9234\n",
      "573/573 [==============================] - 1s 1ms/step - loss: 0.2952 - accuracy: 0.9155\n",
      "Epoch 1/10\n",
      "1146/1146 [==============================] - 2s 1ms/step - loss: 0.7657 - accuracy: 0.8036 - val_loss: 0.3344 - val_accuracy: 0.9098\n",
      "Epoch 2/10\n",
      "1146/1146 [==============================] - 2s 1ms/step - loss: 0.3075 - accuracy: 0.9098 - val_loss: 0.2578 - val_accuracy: 0.9300\n",
      "Epoch 3/10\n",
      "1146/1146 [==============================] - 2s 1ms/step - loss: 0.2473 - accuracy: 0.9270 - val_loss: 0.2185 - val_accuracy: 0.9382\n",
      "Epoch 4/10\n",
      "1146/1146 [==============================] - 2s 1ms/step - loss: 0.2082 - accuracy: 0.9395 - val_loss: 0.1871 - val_accuracy: 0.9472\n",
      "Epoch 5/10\n",
      "1146/1146 [==============================] - 2s 2ms/step - loss: 0.1806 - accuracy: 0.9479 - val_loss: 0.1703 - val_accuracy: 0.9508\n",
      "Epoch 6/10\n",
      "1146/1146 [==============================] - 1s 1ms/step - loss: 0.1590 - accuracy: 0.9543 - val_loss: 0.1564 - val_accuracy: 0.9568\n",
      "Epoch 7/10\n",
      "1146/1146 [==============================] - 2s 1ms/step - loss: 0.1416 - accuracy: 0.9590 - val_loss: 0.1424 - val_accuracy: 0.9624\n",
      "Epoch 8/10\n",
      "1146/1146 [==============================] - 2s 1ms/step - loss: 0.1275 - accuracy: 0.9630 - val_loss: 0.1329 - val_accuracy: 0.9628\n",
      "Epoch 9/10\n",
      "1146/1146 [==============================] - 2s 1ms/step - loss: 0.1145 - accuracy: 0.9671 - val_loss: 0.1217 - val_accuracy: 0.9672\n",
      "Epoch 10/10\n",
      "1146/1146 [==============================] - 1s 1ms/step - loss: 0.1043 - accuracy: 0.9701 - val_loss: 0.1172 - val_accuracy: 0.9674\n",
      "573/573 [==============================] - 1s 883us/step - loss: 0.1380 - accuracy: 0.9582\n",
      "Epoch 1/10\n",
      "1146/1146 [==============================] - 2s 1ms/step - loss: 0.7429 - accuracy: 0.8079 - val_loss: 0.3394 - val_accuracy: 0.8990\n",
      "Epoch 2/10\n",
      "1146/1146 [==============================] - 2s 1ms/step - loss: 0.3081 - accuracy: 0.9113 - val_loss: 0.2559 - val_accuracy: 0.9286\n",
      "Epoch 3/10\n",
      "1146/1146 [==============================] - 1s 1ms/step - loss: 0.2511 - accuracy: 0.9274 - val_loss: 0.2260 - val_accuracy: 0.9350\n",
      "Epoch 4/10\n",
      "1146/1146 [==============================] - 2s 1ms/step - loss: 0.2130 - accuracy: 0.9389 - val_loss: 0.1941 - val_accuracy: 0.9440\n",
      "Epoch 5/10\n",
      "1146/1146 [==============================] - 2s 1ms/step - loss: 0.1846 - accuracy: 0.9468 - val_loss: 0.1765 - val_accuracy: 0.9510\n",
      "Epoch 6/10\n",
      "1146/1146 [==============================] - 2s 1ms/step - loss: 0.1614 - accuracy: 0.9540 - val_loss: 0.1544 - val_accuracy: 0.9568\n",
      "Epoch 7/10\n",
      "1146/1146 [==============================] - 3s 2ms/step - loss: 0.1431 - accuracy: 0.9592 - val_loss: 0.1530 - val_accuracy: 0.9594\n",
      "Epoch 8/10\n",
      "1146/1146 [==============================] - 5s 4ms/step - loss: 0.1280 - accuracy: 0.9639 - val_loss: 0.1362 - val_accuracy: 0.9620\n",
      "Epoch 9/10\n",
      "1146/1146 [==============================] - 2s 1ms/step - loss: 0.1154 - accuracy: 0.9675 - val_loss: 0.1276 - val_accuracy: 0.9638\n",
      "Epoch 10/10\n",
      "1146/1146 [==============================] - 1s 1ms/step - loss: 0.1042 - accuracy: 0.9707 - val_loss: 0.1176 - val_accuracy: 0.9662\n",
      "573/573 [==============================] - 0s 819us/step - loss: 0.1380 - accuracy: 0.9582\n",
      "Epoch 1/10\n",
      "1146/1146 [==============================] - 1s 1ms/step - loss: 0.7664 - accuracy: 0.7996 - val_loss: 0.3307 - val_accuracy: 0.9062\n",
      "Epoch 2/10\n",
      "1146/1146 [==============================] - 6s 5ms/step - loss: 0.3096 - accuracy: 0.9103 - val_loss: 0.2457 - val_accuracy: 0.9340\n",
      "Epoch 3/10\n",
      "1146/1146 [==============================] - 2s 1ms/step - loss: 0.2483 - accuracy: 0.9288 - val_loss: 0.2101 - val_accuracy: 0.9426\n",
      "Epoch 4/10\n",
      "1146/1146 [==============================] - 1s 1ms/step - loss: 0.2082 - accuracy: 0.9402 - val_loss: 0.1859 - val_accuracy: 0.9488\n",
      "Epoch 5/10\n",
      "1146/1146 [==============================] - 1s 1ms/step - loss: 0.1797 - accuracy: 0.9483 - val_loss: 0.1654 - val_accuracy: 0.9554\n",
      "Epoch 6/10\n",
      "1146/1146 [==============================] - 1s 1ms/step - loss: 0.1561 - accuracy: 0.9552 - val_loss: 0.1467 - val_accuracy: 0.9604\n",
      "Epoch 7/10\n",
      "1146/1146 [==============================] - 1s 1ms/step - loss: 0.1387 - accuracy: 0.9603 - val_loss: 0.1365 - val_accuracy: 0.9626\n",
      "Epoch 8/10\n",
      "1146/1146 [==============================] - 1s 1ms/step - loss: 0.1235 - accuracy: 0.9642 - val_loss: 0.1325 - val_accuracy: 0.9636\n",
      "Epoch 9/10\n",
      "1146/1146 [==============================] - 1s 1ms/step - loss: 0.1107 - accuracy: 0.9684 - val_loss: 0.1252 - val_accuracy: 0.9670\n",
      "Epoch 10/10\n",
      "1146/1146 [==============================] - 1s 1ms/step - loss: 0.0994 - accuracy: 0.9720 - val_loss: 0.1139 - val_accuracy: 0.9692\n",
      "573/573 [==============================] - 1s 904us/step - loss: 0.1322 - accuracy: 0.9626\n",
      "Epoch 1/10\n",
      "1146/1146 [==============================] - 3s 3ms/step - loss: 0.7378 - accuracy: 0.8147 - val_loss: 0.3250 - val_accuracy: 0.9102\n",
      "Epoch 2/10\n",
      "1146/1146 [==============================] - 3s 3ms/step - loss: 0.2999 - accuracy: 0.9122 - val_loss: 0.2499 - val_accuracy: 0.9318\n",
      "Epoch 3/10\n",
      "1146/1146 [==============================] - 3s 3ms/step - loss: 0.2408 - accuracy: 0.9295 - val_loss: 0.2085 - val_accuracy: 0.9398\n",
      "Epoch 4/10\n",
      "1146/1146 [==============================] - 3s 3ms/step - loss: 0.2018 - accuracy: 0.9422 - val_loss: 0.1781 - val_accuracy: 0.9502\n",
      "Epoch 5/10\n",
      "1146/1146 [==============================] - 3s 3ms/step - loss: 0.1743 - accuracy: 0.9490 - val_loss: 0.1623 - val_accuracy: 0.9540\n",
      "Epoch 6/10\n",
      "1146/1146 [==============================] - 3s 3ms/step - loss: 0.1523 - accuracy: 0.9566 - val_loss: 0.1480 - val_accuracy: 0.9578\n",
      "Epoch 7/10\n",
      "1146/1146 [==============================] - 4s 3ms/step - loss: 0.1350 - accuracy: 0.9614 - val_loss: 0.1361 - val_accuracy: 0.9618\n",
      "Epoch 8/10\n",
      "1146/1146 [==============================] - 7s 6ms/step - loss: 0.1208 - accuracy: 0.9656 - val_loss: 0.1253 - val_accuracy: 0.9640\n",
      "Epoch 9/10\n",
      "1146/1146 [==============================] - 3s 2ms/step - loss: 0.1081 - accuracy: 0.9690 - val_loss: 0.1155 - val_accuracy: 0.9684\n",
      "Epoch 10/10\n",
      "1146/1146 [==============================] - 3s 2ms/step - loss: 0.0981 - accuracy: 0.9726 - val_loss: 0.1123 - val_accuracy: 0.9688\n",
      "573/573 [==============================] - 1s 1ms/step - loss: 0.1312 - accuracy: 0.9603\n",
      "Epoch 1/10\n",
      "1146/1146 [==============================] - 3s 3ms/step - loss: 0.7156 - accuracy: 0.8264 - val_loss: 0.3250 - val_accuracy: 0.9044\n",
      "Epoch 2/10\n",
      "1146/1146 [==============================] - 3s 3ms/step - loss: 0.2968 - accuracy: 0.9156 - val_loss: 0.2453 - val_accuracy: 0.9322\n",
      "Epoch 3/10\n",
      "1146/1146 [==============================] - 3s 3ms/step - loss: 0.2401 - accuracy: 0.9312 - val_loss: 0.2155 - val_accuracy: 0.9386\n",
      "Epoch 4/10\n",
      "1146/1146 [==============================] - 3s 3ms/step - loss: 0.2030 - accuracy: 0.9425 - val_loss: 0.1850 - val_accuracy: 0.9480\n",
      "Epoch 5/10\n",
      "1146/1146 [==============================] - 3s 3ms/step - loss: 0.1757 - accuracy: 0.9502 - val_loss: 0.1683 - val_accuracy: 0.9524\n",
      "Epoch 6/10\n",
      "1146/1146 [==============================] - 3s 3ms/step - loss: 0.1534 - accuracy: 0.9561 - val_loss: 0.1467 - val_accuracy: 0.9612\n",
      "Epoch 7/10\n",
      "1146/1146 [==============================] - 3s 3ms/step - loss: 0.1358 - accuracy: 0.9615 - val_loss: 0.1471 - val_accuracy: 0.9604\n",
      "Epoch 8/10\n",
      "1146/1146 [==============================] - 3s 3ms/step - loss: 0.1212 - accuracy: 0.9657 - val_loss: 0.1332 - val_accuracy: 0.9622\n",
      "Epoch 9/10\n",
      "1146/1146 [==============================] - ETA: 0s - loss: 0.1093 - accuracy: 0.96 - 3s 3ms/step - loss: 0.1089 - accuracy: 0.9688 - val_loss: 0.1214 - val_accuracy: 0.9660\n",
      "Epoch 10/10\n",
      "1146/1146 [==============================] - 3s 3ms/step - loss: 0.0974 - accuracy: 0.9723 - val_loss: 0.1131 - val_accuracy: 0.9662\n",
      "573/573 [==============================] - 1s 1ms/step - loss: 0.1330 - accuracy: 0.9600\n",
      "Epoch 1/10\n",
      "1146/1146 [==============================] - 3s 3ms/step - loss: 0.7314 - accuracy: 0.8183 - val_loss: 0.3290 - val_accuracy: 0.9052\n",
      "Epoch 2/10\n",
      "1146/1146 [==============================] - 3s 3ms/step - loss: 0.3014 - accuracy: 0.9133 - val_loss: 0.2415 - val_accuracy: 0.9324\n",
      "Epoch 3/10\n",
      "1146/1146 [==============================] - 3s 3ms/step - loss: 0.2417 - accuracy: 0.9298 - val_loss: 0.2059 - val_accuracy: 0.9432\n",
      "Epoch 4/10\n",
      "1146/1146 [==============================] - 3s 3ms/step - loss: 0.2024 - accuracy: 0.9419 - val_loss: 0.1826 - val_accuracy: 0.9478\n",
      "Epoch 5/10\n",
      "1146/1146 [==============================] - 4s 3ms/step - loss: 0.1741 - accuracy: 0.9490 - val_loss: 0.1595 - val_accuracy: 0.9564\n",
      "Epoch 6/10\n",
      "1146/1146 [==============================] - 3s 3ms/step - loss: 0.1503 - accuracy: 0.9556 - val_loss: 0.1433 - val_accuracy: 0.9610\n",
      "Epoch 7/10\n",
      "1146/1146 [==============================] - 3s 3ms/step - loss: 0.1327 - accuracy: 0.9612 - val_loss: 0.1326 - val_accuracy: 0.9622\n",
      "Epoch 8/10\n",
      "1146/1146 [==============================] - 3s 3ms/step - loss: 0.1172 - accuracy: 0.9654 - val_loss: 0.1284 - val_accuracy: 0.9618\n",
      "Epoch 9/10\n",
      "1146/1146 [==============================] - 3s 3ms/step - loss: 0.1042 - accuracy: 0.9698 - val_loss: 0.1182 - val_accuracy: 0.9676\n",
      "Epoch 10/10\n",
      "1146/1146 [==============================] - 3s 3ms/step - loss: 0.0924 - accuracy: 0.9740 - val_loss: 0.1066 - val_accuracy: 0.9694\n",
      "573/573 [==============================] - 1s 1ms/step - loss: 0.1271 - accuracy: 0.9632\n",
      "Epoch 1/10\n",
      "1146/1146 [==============================] - 3s 3ms/step - loss: 0.9085 - accuracy: 0.7524 - val_loss: 0.3472 - val_accuracy: 0.9008\n",
      "Epoch 2/10\n",
      "1146/1146 [==============================] - 3s 3ms/step - loss: 0.2912 - accuracy: 0.9115 - val_loss: 0.2336 - val_accuracy: 0.9336\n",
      "Epoch 3/10\n",
      "1146/1146 [==============================] - 3s 3ms/step - loss: 0.2185 - accuracy: 0.9347 - val_loss: 0.1873 - val_accuracy: 0.9448\n",
      "Epoch 4/10\n",
      "1146/1146 [==============================] - 3s 2ms/step - loss: 0.1745 - accuracy: 0.9477 - val_loss: 0.1558 - val_accuracy: 0.9568\n",
      "Epoch 5/10\n",
      "1146/1146 [==============================] - 3s 2ms/step - loss: 0.1444 - accuracy: 0.9570 - val_loss: 0.1440 - val_accuracy: 0.9586\n",
      "Epoch 6/10\n",
      "1146/1146 [==============================] - 3s 3ms/step - loss: 0.1222 - accuracy: 0.9633 - val_loss: 0.1346 - val_accuracy: 0.9604\n",
      "Epoch 7/10\n",
      "1146/1146 [==============================] - 2s 2ms/step - loss: 0.1046 - accuracy: 0.9686 - val_loss: 0.1168 - val_accuracy: 0.9676\n",
      "Epoch 8/10\n",
      "1146/1146 [==============================] - 3s 2ms/step - loss: 0.0910 - accuracy: 0.9742 - val_loss: 0.1228 - val_accuracy: 0.9618\n",
      "Epoch 9/10\n",
      "1146/1146 [==============================] - 2s 2ms/step - loss: 0.0790 - accuracy: 0.9757 - val_loss: 0.1029 - val_accuracy: 0.9712\n",
      "Epoch 10/10\n",
      "1146/1146 [==============================] - 2s 2ms/step - loss: 0.0684 - accuracy: 0.9799 - val_loss: 0.1153 - val_accuracy: 0.9648\n",
      "573/573 [==============================] - 1s 1ms/step - loss: 0.1260 - accuracy: 0.9613\n",
      "Epoch 1/10\n",
      "1146/1146 [==============================] - 2s 2ms/step - loss: 0.8561 - accuracy: 0.7739 - val_loss: 0.3847 - val_accuracy: 0.8824\n",
      "Epoch 2/10\n",
      "1146/1146 [==============================] - 3s 3ms/step - loss: 0.2803 - accuracy: 0.9180 - val_loss: 0.2176 - val_accuracy: 0.9396\n",
      "Epoch 3/10\n",
      "1146/1146 [==============================] - 2s 2ms/step - loss: 0.2101 - accuracy: 0.9382 - val_loss: 0.1862 - val_accuracy: 0.9470\n",
      "Epoch 4/10\n",
      "1146/1146 [==============================] - 2s 2ms/step - loss: 0.1698 - accuracy: 0.9511 - val_loss: 0.1566 - val_accuracy: 0.9536\n",
      "Epoch 5/10\n",
      "1146/1146 [==============================] - 2s 2ms/step - loss: 0.1416 - accuracy: 0.9591 - val_loss: 0.1388 - val_accuracy: 0.9622\n",
      "Epoch 6/10\n",
      "1146/1146 [==============================] - 2s 2ms/step - loss: 0.1204 - accuracy: 0.9646 - val_loss: 0.1218 - val_accuracy: 0.9682\n",
      "Epoch 7/10\n",
      "1146/1146 [==============================] - 2s 2ms/step - loss: 0.1028 - accuracy: 0.9702 - val_loss: 0.1256 - val_accuracy: 0.9648\n",
      "Epoch 8/10\n",
      "1146/1146 [==============================] - 3s 2ms/step - loss: 0.0894 - accuracy: 0.9735 - val_loss: 0.1065 - val_accuracy: 0.9714\n",
      "Epoch 9/10\n",
      "1146/1146 [==============================] - 4s 3ms/step - loss: 0.0776 - accuracy: 0.9778 - val_loss: 0.1050 - val_accuracy: 0.9706\n",
      "Epoch 10/10\n",
      "1146/1146 [==============================] - 3s 3ms/step - loss: 0.0676 - accuracy: 0.9800 - val_loss: 0.0994 - val_accuracy: 0.9732\n",
      "573/573 [==============================] - 1s 1ms/step - loss: 0.1196 - accuracy: 0.9648\n",
      "Epoch 1/10\n",
      "1146/1146 [==============================] - 2s 2ms/step - loss: 0.9184 - accuracy: 0.7420 - val_loss: 0.3217 - val_accuracy: 0.9060\n",
      "Epoch 2/10\n",
      "1146/1146 [==============================] - 2s 2ms/step - loss: 0.2929 - accuracy: 0.9132 - val_loss: 0.2136 - val_accuracy: 0.9394\n",
      "Epoch 3/10\n",
      "1146/1146 [==============================] - 2s 2ms/step - loss: 0.2194 - accuracy: 0.9348 - val_loss: 0.1774 - val_accuracy: 0.9498\n",
      "Epoch 4/10\n",
      "1146/1146 [==============================] - 2s 2ms/step - loss: 0.1727 - accuracy: 0.9486 - val_loss: 0.1624 - val_accuracy: 0.9514\n",
      "Epoch 5/10\n",
      "1146/1146 [==============================] - 2s 2ms/step - loss: 0.1423 - accuracy: 0.9584 - val_loss: 0.1293 - val_accuracy: 0.9630\n",
      "Epoch 6/10\n",
      "1146/1146 [==============================] - 2s 2ms/step - loss: 0.1190 - accuracy: 0.9647 - val_loss: 0.1264 - val_accuracy: 0.9638\n",
      "Epoch 7/10\n",
      "1146/1146 [==============================] - 2s 2ms/step - loss: 0.1009 - accuracy: 0.9702 - val_loss: 0.1092 - val_accuracy: 0.9698\n",
      "Epoch 8/10\n",
      "1146/1146 [==============================] - 2s 2ms/step - loss: 0.0860 - accuracy: 0.9742 - val_loss: 0.1039 - val_accuracy: 0.9716\n",
      "Epoch 9/10\n",
      "1146/1146 [==============================] - 3s 2ms/step - loss: 0.0733 - accuracy: 0.9788 - val_loss: 0.1082 - val_accuracy: 0.9690\n",
      "Epoch 10/10\n",
      "1146/1146 [==============================] - 2s 2ms/step - loss: 0.0633 - accuracy: 0.9817 - val_loss: 0.0921 - val_accuracy: 0.9742\n",
      "573/573 [==============================] - 1s 1ms/step - loss: 0.1098 - accuracy: 0.9678\n",
      "Epoch 1/10\n",
      "1146/1146 [==============================] - 5s 4ms/step - loss: 0.8262 - accuracy: 0.7749 - val_loss: 0.3142 - val_accuracy: 0.9124\n",
      "Epoch 2/10\n",
      "1146/1146 [==============================] - 6s 5ms/step - loss: 0.2788 - accuracy: 0.9161 - val_loss: 0.2220 - val_accuracy: 0.9380\n",
      "Epoch 3/10\n",
      "1146/1146 [==============================] - 7s 6ms/step - loss: 0.2080 - accuracy: 0.9384 - val_loss: 0.1802 - val_accuracy: 0.9476\n",
      "Epoch 4/10\n",
      "1146/1146 [==============================] - 5s 4ms/step - loss: 0.1638 - accuracy: 0.9525 - val_loss: 0.1421 - val_accuracy: 0.9616\n",
      "Epoch 5/10\n",
      "1146/1146 [==============================] - 5s 4ms/step - loss: 0.1345 - accuracy: 0.9603 - val_loss: 0.1290 - val_accuracy: 0.9628\n",
      "Epoch 6/10\n",
      "1146/1146 [==============================] - 6s 5ms/step - loss: 0.1118 - accuracy: 0.9672 - val_loss: 0.1207 - val_accuracy: 0.9636\n",
      "Epoch 7/10\n",
      "1146/1146 [==============================] - 5s 4ms/step - loss: 0.0941 - accuracy: 0.9730 - val_loss: 0.1047 - val_accuracy: 0.9696\n",
      "Epoch 8/10\n",
      "1146/1146 [==============================] - 4s 4ms/step - loss: 0.0808 - accuracy: 0.9768 - val_loss: 0.1153 - val_accuracy: 0.9672\n",
      "Epoch 9/10\n",
      "1146/1146 [==============================] - 4s 4ms/step - loss: 0.0690 - accuracy: 0.9798 - val_loss: 0.0952 - val_accuracy: 0.9726\n",
      "Epoch 10/10\n",
      "1146/1146 [==============================] - 5s 4ms/step - loss: 0.0586 - accuracy: 0.9831 - val_loss: 0.1026 - val_accuracy: 0.9682\n",
      "573/573 [==============================] - 1s 1ms/step - loss: 0.1168 - accuracy: 0.9638\n",
      "Epoch 1/10\n",
      "1146/1146 [==============================] - 4s 4ms/step - loss: 0.8201 - accuracy: 0.7799 - val_loss: 0.3673 - val_accuracy: 0.8870\n",
      "Epoch 2/10\n",
      "1146/1146 [==============================] - 4s 4ms/step - loss: 0.2769 - accuracy: 0.9192 - val_loss: 0.2163 - val_accuracy: 0.9402\n",
      "Epoch 3/10\n",
      "1146/1146 [==============================] - 4s 4ms/step - loss: 0.2066 - accuracy: 0.9392 - val_loss: 0.1858 - val_accuracy: 0.9470\n",
      "Epoch 4/10\n",
      "1146/1146 [==============================] - 4s 4ms/step - loss: 0.1637 - accuracy: 0.9523 - val_loss: 0.1549 - val_accuracy: 0.9558\n",
      "Epoch 5/10\n",
      "1146/1146 [==============================] - 4s 4ms/step - loss: 0.1336 - accuracy: 0.9612 - val_loss: 0.1359 - val_accuracy: 0.9612\n",
      "Epoch 6/10\n",
      "1146/1146 [==============================] - 4s 4ms/step - loss: 0.1116 - accuracy: 0.9671 - val_loss: 0.1186 - val_accuracy: 0.9674\n",
      "Epoch 7/10\n",
      "1146/1146 [==============================] - 4s 4ms/step - loss: 0.0931 - accuracy: 0.9723 - val_loss: 0.1147 - val_accuracy: 0.9682\n",
      "Epoch 8/10\n",
      "1146/1146 [==============================] - 4s 4ms/step - loss: 0.0803 - accuracy: 0.9762 - val_loss: 0.1077 - val_accuracy: 0.9696\n",
      "Epoch 9/10\n",
      "1146/1146 [==============================] - 4s 4ms/step - loss: 0.0690 - accuracy: 0.9799 - val_loss: 0.0924 - val_accuracy: 0.9728\n",
      "Epoch 10/10\n",
      "1146/1146 [==============================] - 4s 4ms/step - loss: 0.0584 - accuracy: 0.9828 - val_loss: 0.0932 - val_accuracy: 0.9744\n",
      "573/573 [==============================] - 1s 1ms/step - loss: 0.1148 - accuracy: 0.9662\n",
      "Epoch 1/10\n",
      "1146/1146 [==============================] - 5s 4ms/step - loss: 0.7940 - accuracy: 0.7877 - val_loss: 0.3154 - val_accuracy: 0.9076\n",
      "Epoch 2/10\n",
      "1146/1146 [==============================] - 4s 4ms/step - loss: 0.2762 - accuracy: 0.9190 - val_loss: 0.2051 - val_accuracy: 0.9394\n",
      "Epoch 3/10\n",
      "1146/1146 [==============================] - 5s 4ms/step - loss: 0.2074 - accuracy: 0.9394 - val_loss: 0.1758 - val_accuracy: 0.9460\n",
      "Epoch 4/10\n",
      "1146/1146 [==============================] - 5s 4ms/step - loss: 0.1630 - accuracy: 0.9523 - val_loss: 0.1650 - val_accuracy: 0.9506\n",
      "Epoch 5/10\n",
      "1146/1146 [==============================] - 5s 4ms/step - loss: 0.1338 - accuracy: 0.9602 - val_loss: 0.1236 - val_accuracy: 0.9644\n",
      "Epoch 6/10\n",
      "1146/1146 [==============================] - 5s 4ms/step - loss: 0.1115 - accuracy: 0.9675 - val_loss: 0.1191 - val_accuracy: 0.9654\n",
      "Epoch 7/10\n",
      "1146/1146 [==============================] - 5s 4ms/step - loss: 0.0937 - accuracy: 0.9716 - val_loss: 0.1068 - val_accuracy: 0.9684\n",
      "Epoch 8/10\n",
      "1146/1146 [==============================] - 5s 4ms/step - loss: 0.0789 - accuracy: 0.9760 - val_loss: 0.1096 - val_accuracy: 0.9662\n",
      "Epoch 9/10\n",
      "1146/1146 [==============================] - 5s 4ms/step - loss: 0.0673 - accuracy: 0.9801 - val_loss: 0.0992 - val_accuracy: 0.9726\n",
      "Epoch 10/10\n",
      "1146/1146 [==============================] - 6s 6ms/step - loss: 0.0566 - accuracy: 0.9840 - val_loss: 0.0898 - val_accuracy: 0.9736\n",
      "573/573 [==============================] - 1s 2ms/step - loss: 0.1109 - accuracy: 0.9692\n",
      "Epoch 1/10\n"
     ]
    },
    {
     "name": "stderr",
     "output_type": "stream",
     "text": [
      "[Parallel(n_jobs=1)]: Done  24 out of  24 | elapsed: 13.5min finished\n"
     ]
    },
    {
     "name": "stdout",
     "output_type": "stream",
     "text": [
      "1719/1719 [==============================] - 7s 4ms/step - loss: 0.6397 - accuracy: 0.8285 - val_loss: 0.2466 - val_accuracy: 0.9296\n",
      "Epoch 2/10\n",
      "1719/1719 [==============================] - 7s 4ms/step - loss: 0.2308 - accuracy: 0.9316 - val_loss: 0.1758 - val_accuracy: 0.9492\n",
      "Epoch 3/10\n",
      "1719/1719 [==============================] - 8s 5ms/step - loss: 0.1685 - accuracy: 0.9503 - val_loss: 0.1348 - val_accuracy: 0.9622\n",
      "Epoch 4/10\n",
      "1719/1719 [==============================] - 7s 4ms/step - loss: 0.1315 - accuracy: 0.9614 - val_loss: 0.1116 - val_accuracy: 0.9686\n",
      "Epoch 5/10\n",
      "1719/1719 [==============================] - 7s 4ms/step - loss: 0.1079 - accuracy: 0.9679 - val_loss: 0.1057 - val_accuracy: 0.9686\n",
      "Epoch 6/10\n",
      "1719/1719 [==============================] - 7s 4ms/step - loss: 0.0887 - accuracy: 0.9733 - val_loss: 0.0910 - val_accuracy: 0.9742\n",
      "Epoch 7/10\n",
      "1719/1719 [==============================] - 8s 5ms/step - loss: 0.0741 - accuracy: 0.9782 - val_loss: 0.0900 - val_accuracy: 0.9736\n",
      "Epoch 8/10\n",
      "1719/1719 [==============================] - 8s 4ms/step - loss: 0.0617 - accuracy: 0.9814 - val_loss: 0.0967 - val_accuracy: 0.9724\n",
      "Epoch 9/10\n",
      "1719/1719 [==============================] - 8s 5ms/step - loss: 0.0524 - accuracy: 0.9848 - val_loss: 0.0755 - val_accuracy: 0.9784\n",
      "Epoch 10/10\n",
      "1719/1719 [==============================] - 8s 4ms/step - loss: 0.0448 - accuracy: 0.9871 - val_loss: 0.0729 - val_accuracy: 0.9796\n"
     ]
    },
    {
     "data": {
      "text/plain": [
       "GridSearchCV(cv=3,\n",
       "             estimator=<tensorflow.python.keras.wrappers.scikit_learn.KerasClassifier object at 0x000001EE280541C0>,\n",
       "             param_grid={'learning_rate': [0.001, 0.01], 'n_hidden': [3, 5],\n",
       "                         'n_neurons': [300, 500]},\n",
       "             verbose=1)"
      ]
     },
     "execution_count": 67,
     "metadata": {},
     "output_type": "execute_result"
    }
   ],
   "source": [
    "from sklearn.model_selection import GridSearchCV\n",
    "\n",
    "params = {\n",
    "    'n_hidden' : [3, 5],\n",
    "    'n_neurons': [300, 500],\n",
    "    'learning_rate': [1e-3, 1e-2]\n",
    "}\n",
    "\n",
    "grid_cv = GridSearchCV(keras_clf, params, cv=3, verbose=1)\n",
    "grid_cv.fit(X_train, y_train, epochs=10,\n",
    "                 validation_data = (X_valid, y_valid),\n",
    "                 callbacks=[keras.callbacks.EarlyStopping(patience=10)])"
   ]
  },
  {
   "cell_type": "code",
   "execution_count": 68,
   "metadata": {},
   "outputs": [
    {
     "data": {
      "text/plain": [
       "{'learning_rate': 0.01, 'n_hidden': 5, 'n_neurons': 500}"
      ]
     },
     "execution_count": 68,
     "metadata": {},
     "output_type": "execute_result"
    }
   ],
   "source": [
    "grid_cv.best_params_"
   ]
  },
  {
   "cell_type": "code",
   "execution_count": 69,
   "metadata": {},
   "outputs": [
    {
     "data": {
      "text/plain": [
       "0.9664000471433004"
      ]
     },
     "execution_count": 69,
     "metadata": {},
     "output_type": "execute_result"
    }
   ],
   "source": [
    "grid_cv.best_score_"
   ]
  },
  {
   "cell_type": "code",
   "execution_count": 70,
   "metadata": {},
   "outputs": [
    {
     "data": {
      "text/plain": [
       "<tensorflow.python.keras.wrappers.scikit_learn.KerasClassifier at 0x1ee1c259f40>"
      ]
     },
     "execution_count": 70,
     "metadata": {},
     "output_type": "execute_result"
    }
   ],
   "source": [
    "grid_cv.best_estimator_"
   ]
  },
  {
   "cell_type": "code",
   "execution_count": 71,
   "metadata": {},
   "outputs": [
    {
     "name": "stdout",
     "output_type": "stream",
     "text": [
      "313/313 [==============================] - 0s 1ms/step - loss: 12.4643 - accuracy: 0.9732\n"
     ]
    },
    {
     "data": {
      "text/plain": [
       "0.9732000231742859"
      ]
     },
     "execution_count": 71,
     "metadata": {},
     "output_type": "execute_result"
    }
   ],
   "source": [
    "grid_cv.score(X_test, y_test)"
   ]
  },
  {
   "cell_type": "code",
   "execution_count": 72,
   "metadata": {},
   "outputs": [
    {
     "data": {
      "text/plain": [
       "<tensorflow.python.keras.engine.sequential.Sequential at 0x1ee1d314790>"
      ]
     },
     "execution_count": 72,
     "metadata": {},
     "output_type": "execute_result"
    }
   ],
   "source": [
    "model = grid_cv.best_estimator_.model\n",
    "model"
   ]
  },
  {
   "cell_type": "code",
   "execution_count": 73,
   "metadata": {},
   "outputs": [
    {
     "name": "stdout",
     "output_type": "stream",
     "text": [
      "313/313 [==============================] - 0s 2ms/step - loss: 12.4643 - accuracy: 0.9732\n"
     ]
    },
    {
     "data": {
      "text/plain": [
       "[12.464293479919434, 0.9732000231742859]"
      ]
     },
     "execution_count": 73,
     "metadata": {},
     "output_type": "execute_result"
    }
   ],
   "source": [
    "model.evaluate(X_test, y_test)"
   ]
  },
  {
   "cell_type": "code",
   "execution_count": 75,
   "metadata": {},
   "outputs": [
    {
     "name": "stdout",
     "output_type": "stream",
     "text": [
      "157/157 [==============================] - 0s 2ms/step - loss: 0.0729 - accuracy: 0.9796\n"
     ]
    },
    {
     "data": {
      "text/plain": [
       "[0.07292574644088745, 0.9796000123023987]"
      ]
     },
     "execution_count": 75,
     "metadata": {},
     "output_type": "execute_result"
    }
   ],
   "source": [
    "model.evaluate(X_valid, y_valid)"
   ]
  },
  {
   "cell_type": "markdown",
   "metadata": {},
   "source": [
    "Almost 98% accuracy, but only trained on 10 epochs.\\\n",
    "Takeway? More epochs, less tuning?"
   ]
  },
  {
   "cell_type": "code",
   "execution_count": null,
   "metadata": {},
   "outputs": [],
   "source": []
  }
 ],
 "metadata": {
  "kernelspec": {
   "display_name": "Python 3",
   "language": "python",
   "name": "python3"
  },
  "language_info": {
   "codemirror_mode": {
    "name": "ipython",
    "version": 3
   },
   "file_extension": ".py",
   "mimetype": "text/x-python",
   "name": "python",
   "nbconvert_exporter": "python",
   "pygments_lexer": "ipython3",
   "version": "3.8.3"
  }
 },
 "nbformat": 4,
 "nbformat_minor": 4
}

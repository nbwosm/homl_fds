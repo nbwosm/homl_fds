{
  "nbformat": 4,
  "nbformat_minor": 0,
  "metadata": {
    "colab": {
      "name": "HOML Chp10 Exercise 10.ipynb",
      "provenance": [],
      "toc_visible": true
    },
    "kernelspec": {
      "name": "python3",
      "display_name": "Python 3"
    },
    "accelerator": "GPU"
  },
  "cells": [
    {
      "cell_type": "markdown",
      "metadata": {
        "id": "YajotnuojXpa"
      },
      "source": [
        "#HOML Chapter 10 - Exercise 10"
      ]
    },
    {
      "cell_type": "markdown",
      "metadata": {
        "id": "0SzLulSkjXyg"
      },
      "source": [
        "###Exercise: Train a deep MLP on the MNIST dataset (you can load it using keras.datasets.mnist.load_data(). See if you can get over 98% precision. Try searching for the optimal learning rate by using the approach presented in this chapter (i.e., by growing the learning rate exponentially, plotting the loss, and finding the point where the loss shoots up). Try adding all the bells and whistles—save checkpoints, use early stopping, and plot learning curves using TensorBoard."
      ]
    },
    {
      "cell_type": "code",
      "metadata": {
        "id": "dnjMv5aDjv8_"
      },
      "source": [
        "import tensorflow as tf\r\n",
        "from tensorflow import keras\r\n",
        "from tensorflow.keras import layers"
      ],
      "execution_count": null,
      "outputs": []
    },
    {
      "cell_type": "markdown",
      "metadata": {
        "id": "glTW5BHCj-m_"
      },
      "source": [
        "We'll set a couple of random seeds for consistency and reproducibility. "
      ]
    },
    {
      "cell_type": "code",
      "metadata": {
        "id": "_q6IZtESjzhQ"
      },
      "source": [
        "# Random seeds from both numpy and tensorflow\r\n",
        "from numpy.random import seed\r\n",
        "seed(999)\r\n",
        "tf.random.set_seed(999)   "
      ],
      "execution_count": null,
      "outputs": []
    },
    {
      "cell_type": "markdown",
      "metadata": {
        "id": "_FtHR52IkFR_"
      },
      "source": [
        "At times, we'll be mimicing the author's approach to the Fashion MNIST dataset, starting with loading the MNIST dataset and breaking it up into train (which will shortly be split into trianng and validation sets) and test sets.  "
      ]
    },
    {
      "cell_type": "code",
      "metadata": {
        "id": "ACxc95Tsj2_P",
        "colab": {
          "base_uri": "https://localhost:8080/"
        },
        "outputId": "e2e7e5e3-3a6e-44b5-9c03-2542e95376ce"
      },
      "source": [
        "(X_train_all, y_train_all), (X_test, y_test) = keras.datasets.mnist.load_data()"
      ],
      "execution_count": null,
      "outputs": [
        {
          "output_type": "stream",
          "text": [
            "Downloading data from https://storage.googleapis.com/tensorflow/tf-keras-datasets/mnist.npz\n",
            "11493376/11490434 [==============================] - 0s 0us/step\n"
          ],
          "name": "stdout"
        }
      ]
    },
    {
      "cell_type": "code",
      "metadata": {
        "colab": {
          "base_uri": "https://localhost:8080/"
        },
        "id": "q1IFyHnKm_M9",
        "outputId": "96b31a46-a46d-404f-fb12-33e2f3515ef4"
      },
      "source": [
        "X_train_all.shape"
      ],
      "execution_count": null,
      "outputs": [
        {
          "output_type": "execute_result",
          "data": {
            "text/plain": [
              "(60000, 28, 28)"
            ]
          },
          "metadata": {
            "tags": []
          },
          "execution_count": 4
        }
      ]
    },
    {
      "cell_type": "code",
      "metadata": {
        "colab": {
          "base_uri": "https://localhost:8080/"
        },
        "id": "uANAeSUaomMS",
        "outputId": "cbb359fc-ee3b-4cf1-e841-a0d70880a00a"
      },
      "source": [
        "y_test.shape"
      ],
      "execution_count": null,
      "outputs": [
        {
          "output_type": "execute_result",
          "data": {
            "text/plain": [
              "(10000,)"
            ]
          },
          "metadata": {
            "tags": []
          },
          "execution_count": 5
        }
      ]
    },
    {
      "cell_type": "markdown",
      "metadata": {
        "id": "diy8qlQHpGwu"
      },
      "source": [
        "As the author did with the Fashion MNIST dataset, we'll transform part of the training set in to the validation set. We want to allow a large enough number for validation, while also allowing for an adequate training set. At the same time, let's also convert the pixel values between 0 and 1 by dividing them by 255."
      ]
    },
    {
      "cell_type": "code",
      "metadata": {
        "id": "3RFebbhPoo5d"
      },
      "source": [
        "(X_val, X_train) = X_train_all[5000:]/255., X_train_all[:5000]/255.  \r\n",
        "(y_val, y_train) = y_train_all[5000:], y_train_all[:5000]\r\n",
        "X_test = X_test/255. "
      ],
      "execution_count": null,
      "outputs": []
    },
    {
      "cell_type": "code",
      "metadata": {
        "colab": {
          "base_uri": "https://localhost:8080/",
          "height": 373
        },
        "id": "ZgZFqFqtqUps",
        "outputId": "04eb95f3-f8a8-4361-a46f-e2ded2f4daa5"
      },
      "source": [
        "# Display a sample of the training dataset\r\n",
        "\r\n",
        "import matplotlib.pyplot as plt\r\n",
        "\r\n",
        "n_rows = 5\r\n",
        "n_cols = 9\r\n",
        "plt.figure(figsize=(n_cols * 1.2, n_rows * 1.2))\r\n",
        "for row in range(n_rows):\r\n",
        "    for col in range(n_cols):\r\n",
        "        index = n_cols * row + col\r\n",
        "        plt.subplot(n_rows, n_cols, index + 1)\r\n",
        "        plt.imshow(X_train[index], cmap=\"binary\", interpolation=\"nearest\")\r\n",
        "        plt.axis('off')\r\n",
        "        plt.title(y_train[index], fontsize=12)\r\n",
        "plt.subplots_adjust(wspace=0.2, hspace=0.5)\r\n",
        "plt.show()"
      ],
      "execution_count": null,
      "outputs": [
        {
          "output_type": "display_data",
          "data": {
            "image/png": "[encoded data removed]",
            "text/plain": [
              "<Figure size 777.6x432 with 45 Axes>"
            ]
          },
          "metadata": {
            "tags": [],
            "needs_background": "light"
          }
        }
      ]
    },
    {
      "cell_type": "markdown",
      "metadata": {
        "id": "Degzbav7AzHG"
      },
      "source": [
        "Next, let's build a model with at least two hidden layers. Recall that the author mentioned that having too many layers and neurons may lead to overfitting. \r\n",
        "\r\n",
        "*Note: after running multiple trials with various number of layers and neurons, we settlesd upon the same basic model that the author used for the Fashion MNIST dataset. It performed no better or worse than any other combination we tried, but it gave us a means to compare to the author's code later in this notebook for this MNIST dataset. "
      ]
    },
    {
      "cell_type": "code",
      "metadata": {
        "id": "GCF1bDcFq81M"
      },
      "source": [
        "model = keras.models.Sequential()\r\n",
        "model.add(keras.layers.Flatten(input_shape=[28, 28]))\r\n",
        "model.add(keras.layers.Dense(300, activation=\"relu\"))\r\n",
        "model.add(keras.layers.Dense(100, activation='relu'))\r\n",
        "model.add(keras.layers.Dense(10, activation=\"softmax\"))"
      ],
      "execution_count": null,
      "outputs": []
    },
    {
      "cell_type": "code",
      "metadata": {
        "colab": {
          "base_uri": "https://localhost:8080/"
        },
        "id": "frDFWq0x_Hly",
        "outputId": "49c1d3b1-0294-4625-d24f-6dc39660a806"
      },
      "source": [
        "model.layers"
      ],
      "execution_count": null,
      "outputs": [
        {
          "output_type": "execute_result",
          "data": {
            "text/plain": [
              "[<tensorflow.python.keras.layers.core.Flatten at 0x7ff527201c18>,\n",
              " <tensorflow.python.keras.layers.core.Dense at 0x7ff527201438>,\n",
              " <tensorflow.python.keras.layers.core.Dense at 0x7ff5270d8588>,\n",
              " <tensorflow.python.keras.layers.core.Dense at 0x7ff5270e1b00>]"
            ]
          },
          "metadata": {
            "tags": []
          },
          "execution_count": 7
        }
      ]
    },
    {
      "cell_type": "code",
      "metadata": {
        "colab": {
          "base_uri": "https://localhost:8080/"
        },
        "id": "gujVGaDh_eBe",
        "outputId": "3b983f7b-c128-40cb-8c95-6c7bc7540c88"
      },
      "source": [
        "model.summary()"
      ],
      "execution_count": null,
      "outputs": [
        {
          "output_type": "stream",
          "text": [
            "Model: \"sequential\"\n",
            "_________________________________________________________________\n",
            "Layer (type)                 Output Shape              Param #   \n",
            "=================================================================\n",
            "flatten (Flatten)            (None, 784)               0         \n",
            "_________________________________________________________________\n",
            "dense (Dense)                (None, 300)               235500    \n",
            "_________________________________________________________________\n",
            "dense_1 (Dense)              (None, 100)               30100     \n",
            "_________________________________________________________________\n",
            "dense_2 (Dense)              (None, 10)                1010      \n",
            "=================================================================\n",
            "Total params: 266,610\n",
            "Trainable params: 266,610\n",
            "Non-trainable params: 0\n",
            "_________________________________________________________________\n"
          ],
          "name": "stdout"
        }
      ]
    },
    {
      "cell_type": "markdown",
      "metadata": {
        "id": "jDATd8amBHRA"
      },
      "source": [
        "As with the Fashion MNIST dataset, we'll complile our loss with sparse categorical crossentropy and use sgd for the optimizer. If we would hae one-hot encoded our data, categroical crossentropy would have been a better choice. "
      ]
    },
    {
      "cell_type": "code",
      "metadata": {
        "id": "-du3hs73_f_N"
      },
      "source": [
        "model.compile(loss=\"sparse_categorical_crossentropy\",\r\n",
        "              optimizer=\"sgd\",\r\n",
        "              metrics=[\"accuracy\"])"
      ],
      "execution_count": null,
      "outputs": []
    },
    {
      "cell_type": "code",
      "metadata": {
        "colab": {
          "base_uri": "https://localhost:8080/"
        },
        "id": "JI0YPimp_2tB",
        "outputId": "1828f409-9600-4e92-dbbe-12574698a20f"
      },
      "source": [
        "history = model.fit(X_train, y_train, epochs=30,\r\n",
        "                    validation_data=(X_val, y_val))"
      ],
      "execution_count": null,
      "outputs": [
        {
          "output_type": "stream",
          "text": [
            "Epoch 1/30\n",
            "157/157 [==============================] - 4s 19ms/step - loss: 2.0153 - accuracy: 0.4172 - val_loss: 1.2457 - val_accuracy: 0.7570\n",
            "Epoch 2/30\n",
            "157/157 [==============================] - 3s 17ms/step - loss: 1.0444 - accuracy: 0.8019 - val_loss: 0.7458 - val_accuracy: 0.8292\n",
            "Epoch 3/30\n",
            "157/157 [==============================] - 3s 17ms/step - loss: 0.6549 - accuracy: 0.8528 - val_loss: 0.5699 - val_accuracy: 0.8596\n",
            "Epoch 4/30\n",
            "157/157 [==============================] - 3s 17ms/step - loss: 0.4976 - accuracy: 0.8783 - val_loss: 0.4849 - val_accuracy: 0.8724\n",
            "Epoch 5/30\n",
            "157/157 [==============================] - 3s 17ms/step - loss: 0.4149 - accuracy: 0.9008 - val_loss: 0.4474 - val_accuracy: 0.8764\n",
            "Epoch 6/30\n",
            "157/157 [==============================] - 3s 17ms/step - loss: 0.3892 - accuracy: 0.9064 - val_loss: 0.4144 - val_accuracy: 0.8846\n",
            "Epoch 7/30\n",
            "157/157 [==============================] - 3s 17ms/step - loss: 0.3284 - accuracy: 0.9203 - val_loss: 0.4027 - val_accuracy: 0.8855\n",
            "Epoch 8/30\n",
            "157/157 [==============================] - 3s 17ms/step - loss: 0.3283 - accuracy: 0.9141 - val_loss: 0.3779 - val_accuracy: 0.8927\n",
            "Epoch 9/30\n",
            "157/157 [==============================] - 3s 17ms/step - loss: 0.3043 - accuracy: 0.9245 - val_loss: 0.3609 - val_accuracy: 0.8966\n",
            "Epoch 10/30\n",
            "157/157 [==============================] - 3s 17ms/step - loss: 0.2853 - accuracy: 0.9272 - val_loss: 0.3596 - val_accuracy: 0.8949\n",
            "Epoch 11/30\n",
            "157/157 [==============================] - 3s 17ms/step - loss: 0.2782 - accuracy: 0.9323 - val_loss: 0.3403 - val_accuracy: 0.9025\n",
            "Epoch 12/30\n",
            "157/157 [==============================] - 3s 17ms/step - loss: 0.2712 - accuracy: 0.9279 - val_loss: 0.3351 - val_accuracy: 0.9028\n",
            "Epoch 13/30\n",
            "157/157 [==============================] - 3s 17ms/step - loss: 0.2522 - accuracy: 0.9357 - val_loss: 0.3333 - val_accuracy: 0.9019\n",
            "Epoch 14/30\n",
            "157/157 [==============================] - 3s 17ms/step - loss: 0.2322 - accuracy: 0.9427 - val_loss: 0.3242 - val_accuracy: 0.9044\n",
            "Epoch 15/30\n",
            "157/157 [==============================] - 3s 17ms/step - loss: 0.2298 - accuracy: 0.9426 - val_loss: 0.3184 - val_accuracy: 0.9067\n",
            "Epoch 16/30\n",
            "157/157 [==============================] - 3s 17ms/step - loss: 0.2186 - accuracy: 0.9457 - val_loss: 0.3183 - val_accuracy: 0.9069\n",
            "Epoch 17/30\n",
            "157/157 [==============================] - 3s 16ms/step - loss: 0.1919 - accuracy: 0.9484 - val_loss: 0.3266 - val_accuracy: 0.9043\n",
            "Epoch 18/30\n",
            "157/157 [==============================] - 3s 17ms/step - loss: 0.2026 - accuracy: 0.9481 - val_loss: 0.3052 - val_accuracy: 0.9106\n",
            "Epoch 19/30\n",
            "157/157 [==============================] - 3s 17ms/step - loss: 0.2020 - accuracy: 0.9477 - val_loss: 0.3074 - val_accuracy: 0.9088\n",
            "Epoch 20/30\n",
            "157/157 [==============================] - 3s 17ms/step - loss: 0.1864 - accuracy: 0.9522 - val_loss: 0.2984 - val_accuracy: 0.9135\n",
            "Epoch 21/30\n",
            "157/157 [==============================] - 3s 17ms/step - loss: 0.1951 - accuracy: 0.9477 - val_loss: 0.2951 - val_accuracy: 0.9135\n",
            "Epoch 22/30\n",
            "157/157 [==============================] - 3s 17ms/step - loss: 0.1823 - accuracy: 0.9515 - val_loss: 0.2997 - val_accuracy: 0.9114\n",
            "Epoch 23/30\n",
            "157/157 [==============================] - 3s 17ms/step - loss: 0.1814 - accuracy: 0.9520 - val_loss: 0.2963 - val_accuracy: 0.9126\n",
            "Epoch 24/30\n",
            "157/157 [==============================] - 3s 17ms/step - loss: 0.1652 - accuracy: 0.9579 - val_loss: 0.2903 - val_accuracy: 0.9156\n",
            "Epoch 25/30\n",
            "157/157 [==============================] - 3s 17ms/step - loss: 0.1499 - accuracy: 0.9644 - val_loss: 0.2863 - val_accuracy: 0.9164\n",
            "Epoch 26/30\n",
            "157/157 [==============================] - 3s 17ms/step - loss: 0.1577 - accuracy: 0.9576 - val_loss: 0.2848 - val_accuracy: 0.9169\n",
            "Epoch 27/30\n",
            "157/157 [==============================] - 3s 17ms/step - loss: 0.1557 - accuracy: 0.9631 - val_loss: 0.2857 - val_accuracy: 0.9157\n",
            "Epoch 28/30\n",
            "157/157 [==============================] - 3s 17ms/step - loss: 0.1557 - accuracy: 0.9651 - val_loss: 0.2821 - val_accuracy: 0.9168\n",
            "Epoch 29/30\n",
            "157/157 [==============================] - 3s 18ms/step - loss: 0.1516 - accuracy: 0.9637 - val_loss: 0.2781 - val_accuracy: 0.9186\n",
            "Epoch 30/30\n",
            "157/157 [==============================] - 3s 18ms/step - loss: 0.1337 - accuracy: 0.9669 - val_loss: 0.2821 - val_accuracy: 0.9158\n"
          ],
          "name": "stdout"
        }
      ]
    },
    {
      "cell_type": "markdown",
      "metadata": {
        "id": "9NhF-UE-BcUC"
      },
      "source": [
        "We see training accuracy in the mid to high 90's while validation is in the low 90's, suggesting a bit of overfitting. \r\n",
        "\r\n",
        "We'll next graph our results."
      ]
    },
    {
      "cell_type": "code",
      "metadata": {
        "id": "8hCH__We_-B2"
      },
      "source": [
        "# Graphs of accuracy and loss\r\n",
        "import matplotlib.pyplot as plt\r\n",
        "\r\n",
        "def plot_graphs(history, string):\r\n",
        "    plt.figure(figsize=(12, 5))\r\n",
        "    plt.plot(history.history[string])\r\n",
        "    plt.plot(history.history['val_'+string])\r\n",
        "    plt.title('Training and validation')\r\n",
        "    plt.xlabel('Epochs')\r\n",
        "    plt.ylabel(string)\r\n",
        "    plt.legend([string, 'val_'+string])\r\n",
        "    plt.show()"
      ],
      "execution_count": null,
      "outputs": []
    },
    {
      "cell_type": "code",
      "metadata": {
        "colab": {
          "base_uri": "https://localhost:8080/",
          "height": 683
        },
        "id": "x6EOvswzAyRe",
        "outputId": "6a635d86-49fe-42b6-e025-2bf616e4bac1"
      },
      "source": [
        "plot_graphs(history, \"accuracy\")\r\n",
        "plot_graphs(history, \"loss\")"
      ],
      "execution_count": null,
      "outputs": [
        {
          "output_type": "display_data",
          "data": {
            "image/png": "[encoded data removed]",
            "text/plain": [
              "<Figure size 864x360 with 1 Axes>"
            ]
          },
          "metadata": {
            "tags": [],
            "needs_background": "light"
          }
        },
        {
          "output_type": "display_data",
          "data": {
            "image/png": "[encoded data removed]",
            "text/plain": [
              "<Figure size 864x360 with 1 Axes>"
            ]
          },
          "metadata": {
            "tags": [],
            "needs_background": "light"
          }
        }
      ]
    },
    {
      "cell_type": "markdown",
      "metadata": {
        "id": "liTzawC2Bx-Q"
      },
      "source": [
        "The graph also shows some overfitting as the training loss improves at an increasingly faster pace than the validation loss. "
      ]
    },
    {
      "cell_type": "code",
      "metadata": {
        "colab": {
          "base_uri": "https://localhost:8080/"
        },
        "id": "oamIKwdvA1Mj",
        "outputId": "56a08ffd-96db-49f7-828f-c499d99a7385"
      },
      "source": [
        "# Evaluate on the test set\r\n",
        "model.evaluate(X_test, y_test)"
      ],
      "execution_count": null,
      "outputs": [
        {
          "output_type": "stream",
          "text": [
            "313/313 [==============================] - 0s 2ms/step - loss: 0.2691 - accuracy: 0.9194\n"
          ],
          "name": "stdout"
        },
        {
          "output_type": "execute_result",
          "data": {
            "text/plain": [
              "[0.2691424489021301, 0.9193999767303467]"
            ]
          },
          "metadata": {
            "tags": []
          },
          "execution_count": 11
        }
      ]
    },
    {
      "cell_type": "markdown",
      "metadata": {
        "id": "FSz5MD3fCJPW"
      },
      "source": [
        "Evaluating on our test set also results in low 90's accuracy.\r\n",
        "\r\n",
        "Next, let's attempt to increase this accuracy. As a first step, the author recommends plotting the loss of an exponential learning rate. No instruction for how to construct this is given in the text,  so we'll use the author's code."
      ]
    },
    {
      "cell_type": "code",
      "metadata": {
        "id": "NtwKYNPPBD6i"
      },
      "source": [
        "# Expoential learning rate\r\n",
        "K = keras.backend\r\n",
        "\r\n",
        "class ExponentialLearningRate(keras.callbacks.Callback):\r\n",
        "    def __init__(self, factor):\r\n",
        "        self.factor = factor\r\n",
        "        self.rates = []\r\n",
        "        self.losses = []\r\n",
        "    def on_batch_end(self, batch, logs):\r\n",
        "        self.rates.append(K.get_value(self.model.optimizer.lr))\r\n",
        "        self.losses.append(logs[\"loss\"])\r\n",
        "        K.set_value(self.model.optimizer.lr, self.model.optimizer.lr * self.factor)"
      ],
      "execution_count": null,
      "outputs": []
    },
    {
      "cell_type": "code",
      "metadata": {
        "id": "BpzC-ZfWEqNZ"
      },
      "source": [
        "# Clear session to free up additional memory\r\n",
        "keras.backend.clear_session()\r\n",
        "from numpy.random import seed\r\n",
        "seed(999)\r\n",
        "tf.random.set_seed(999)   "
      ],
      "execution_count": null,
      "outputs": []
    },
    {
      "cell_type": "code",
      "metadata": {
        "id": "D0RqYfqk60_c"
      },
      "source": [
        "model = keras.models.Sequential()\r\n",
        "model.add(keras.layers.Flatten(input_shape=[28, 28]))\r\n",
        "model.add(keras.layers.Dense(300, activation=\"relu\"))\r\n",
        "model.add(keras.layers.Dense(100, activation='relu'))\r\n",
        "model.add(keras.layers.Dense(10, activation=\"softmax\"))"
      ],
      "execution_count": null,
      "outputs": []
    },
    {
      "cell_type": "markdown",
      "metadata": {
        "id": "XZZrsrqGMCRd"
      },
      "source": [
        "Starting with a small learning rate, we'll increase it by 5.0% at each iteration."
      ]
    },
    {
      "cell_type": "code",
      "metadata": {
        "id": "ztaUaXzxCr65"
      },
      "source": [
        "exlr = ExponentialLearningRate(factor=1.05)"
      ],
      "execution_count": null,
      "outputs": []
    },
    {
      "cell_type": "code",
      "metadata": {
        "id": "GhNGTmGj67-k"
      },
      "source": [
        "model.compile(loss=\"sparse_categorical_crossentropy\",\r\n",
        "              optimizer=keras.optimizers.SGD(lr=1e-3),\r\n",
        "              metrics=[\"accuracy\"])"
      ],
      "execution_count": null,
      "outputs": []
    },
    {
      "cell_type": "markdown",
      "metadata": {
        "id": "6Rpb5C7bMQXT"
      },
      "source": [
        "We'll train for just one epoch to get a sense of where the loss dips before it spikes again."
      ]
    },
    {
      "cell_type": "code",
      "metadata": {
        "colab": {
          "base_uri": "https://localhost:8080/"
        },
        "id": "8maoAPykDLQf",
        "outputId": "99f8d246-2a7e-4ef4-ddd4-a608355d0e2c"
      },
      "source": [
        "history = model.fit(X_train, y_train, epochs=1,\r\n",
        "                    validation_data=(X_val, y_val),\r\n",
        "                    callbacks=[exlr])"
      ],
      "execution_count": null,
      "outputs": [
        {
          "output_type": "stream",
          "text": [
            "157/157 [==============================] - 3s 19ms/step - loss: 2662832360.5933 - accuracy: 0.3150 - val_loss: 1198777804531079707623424.0000 - val_accuracy: 0.0992\n"
          ],
          "name": "stdout"
        }
      ]
    },
    {
      "cell_type": "code",
      "metadata": {
        "colab": {
          "base_uri": "https://localhost:8080/",
          "height": 355
        },
        "id": "CHUjpR86DSTG",
        "outputId": "6b45a4c1-fdc3-4afd-a52b-087c3046bfa0"
      },
      "source": [
        "# Plot loss against learning rate\r\n",
        "plt.figure(figsize=(10,5))\r\n",
        "plt.plot(exlr.rates, exlr.losses)\r\n",
        "plt.gca().set_xscale('log')\r\n",
        "plt.hlines(min(exlr.losses), min(exlr.rates), max(exlr.rates))\r\n",
        "plt.axis([min(exlr.rates), max(exlr.rates), 0, exlr.losses[0]])\r\n",
        "plt.xlabel(\"Learning rate\")\r\n",
        "plt.ylabel(\"Loss\")\r\n"
      ],
      "execution_count": null,
      "outputs": [
        {
          "output_type": "execute_result",
          "data": {
            "text/plain": [
              "Text(0, 0.5, 'Loss')"
            ]
          },
          "metadata": {
            "tags": []
          },
          "execution_count": 25
        },
        {
          "output_type": "display_data",
          "data": {
            "image/png": "[encoded data removed]",
            "text/plain": [
              "<Figure size 720x360 with 1 Axes>"
            ]
          },
          "metadata": {
            "tags": [],
            "needs_background": "light"
          }
        }
      ]
    },
    {
      "cell_type": "markdown",
      "metadata": {
        "id": "CkL2ipELMqSm"
      },
      "source": [
        "We see the loss shoot up around 6e-1. THe author mentions that we should use a learning rate half of the value where we see an increase, so we'll use 3e-1."
      ]
    },
    {
      "cell_type": "code",
      "metadata": {
        "id": "_qqIgFz17dsQ"
      },
      "source": [
        "keras.backend.clear_session()\r\n",
        "from numpy.random import seed\r\n",
        "seed(999)\r\n",
        "tf.random.set_seed(999)   "
      ],
      "execution_count": null,
      "outputs": []
    },
    {
      "cell_type": "markdown",
      "metadata": {
        "id": "1KJb5ZwQMbet"
      },
      "source": [
        "Next, we'll use a couple of callbacks to potentially improve our results. This includes Tensorboard - the following two cells allow Tensorboard to work on Jupyter Notebook. They don't, however, appear to work with Colab."
      ]
    },
    {
      "cell_type": "code",
      "metadata": {
        "id": "wbG42DAYJ9m1"
      },
      "source": [
        "# Define root directory for Tensorboard logs\r\n",
        "import os\r\n",
        "root_logdir = os.path.join(os.curdir, \"my_logs\")"
      ],
      "execution_count": null,
      "outputs": []
    },
    {
      "cell_type": "code",
      "metadata": {
        "id": "NIwb0mi_J9qE"
      },
      "source": [
        "# Function to create subdirectory path for current date and time \r\n",
        "def get_run_logdir():\r\n",
        " import time\r\n",
        " run_id = time.strftime(\"run_%Y_%m_%d-%H_%M_%S\")\r\n",
        " return os.path.join(root_logdir, run_id)\r\n",
        "run_logdir = get_run_logdir()"
      ],
      "execution_count": null,
      "outputs": []
    },
    {
      "cell_type": "code",
      "metadata": {
        "colab": {
          "base_uri": "https://localhost:8080/",
          "height": 35
        },
        "id": "oWzvCrJNR9ch",
        "outputId": "f1b66313-9df2-4284-b873-8e9b4ef08dcb"
      },
      "source": [
        "# An alternative way to create path for Tensorboard. Unfortunately, it causes issues with both \r\n",
        "# Jupyter Notbook and Colab\r\n",
        "\"\"\"import os\r\n",
        "\r\n",
        "run_index = 1 # increment this at every run\r\n",
        "run_logdir = os.path.join(os.curdir, \"mnist_logs\", \"run_{:03d}\".format(run_index))\r\n",
        "run_logdir\"\"\""
      ],
      "execution_count": null,
      "outputs": [
        {
          "output_type": "execute_result",
          "data": {
            "application/vnd.google.colaboratory.intrinsic+json": {
              "type": "string"
            },
            "text/plain": [
              "'./mnist_logs/run_001'"
            ]
          },
          "metadata": {
            "tags": []
          },
          "execution_count": 21
        }
      ]
    },
    {
      "cell_type": "code",
      "metadata": {
        "id": "SpWifhGKdyKx"
      },
      "source": [
        "model = keras.models.Sequential()\r\n",
        "model.add(keras.layers.Flatten(input_shape=[28, 28]))\r\n",
        "model.add(keras.layers.Dense(300, activation=\"relu\"))\r\n",
        "model.add(keras.layers.Dense(100, activation='relu'))\r\n",
        "model.add(keras.layers.Dense(10, activation=\"softmax\"))"
      ],
      "execution_count": null,
      "outputs": []
    },
    {
      "cell_type": "markdown",
      "metadata": {
        "id": "g4WZMS7iNnQJ"
      },
      "source": [
        "In addition to Tensorboard, we'll also invoke EarlyStopping, which stops our training early if there is no loss improvement for a set number of epochs. We'll also use ModelCheckpoint, which saves the weights of the best performing epoch for use on the test set. "
      ]
    },
    {
      "cell_type": "code",
      "metadata": {
        "id": "JfTTN6UERlRC"
      },
      "source": [
        "# Define callback list\r\n",
        "my_callbacks = [\r\n",
        "    tf.keras.callbacks.EarlyStopping(patience=15),\r\n",
        "    tf.keras.callbacks.ModelCheckpoint(filepath='mnist.h5', save_best_only=True),\r\n",
        "    tf.keras.callbacks.TensorBoard(run_logdir)\r\n",
        "]"
      ],
      "execution_count": null,
      "outputs": []
    },
    {
      "cell_type": "code",
      "metadata": {
        "id": "oTRnQ9qADpqr"
      },
      "source": [
        "model.compile(loss=\"sparse_categorical_crossentropy\",\r\n",
        "              optimizer=keras.optimizers.SGD(lr=3e-1),\r\n",
        "              metrics=[\"accuracy\"])\r\n"
      ],
      "execution_count": null,
      "outputs": []
    },
    {
      "cell_type": "code",
      "metadata": {
        "colab": {
          "base_uri": "https://localhost:8080/"
        },
        "id": "MzOqOL0KEWGz",
        "outputId": "e756a6d0-c9b1-4cab-d672-b36d128c873a"
      },
      "source": [
        "history = model.fit(X_train, y_train, epochs=30, \r\n",
        "                    validation_data=(X_val, y_val),\r\n",
        "                    callbacks=my_callbacks, \r\n",
        "                    verbose=2)"
      ],
      "execution_count": null,
      "outputs": [
        {
          "output_type": "stream",
          "text": [
            "Epoch 1/30\n",
            "157/157 - 3s - loss: 0.6449 - accuracy: 0.7962 - val_loss: 0.3198 - val_accuracy: 0.9015\n",
            "Epoch 2/30\n",
            "157/157 - 3s - loss: 0.2076 - accuracy: 0.9376 - val_loss: 0.2445 - val_accuracy: 0.9245\n",
            "Epoch 3/30\n",
            "157/157 - 2s - loss: 0.1391 - accuracy: 0.9576 - val_loss: 0.2901 - val_accuracy: 0.9117\n",
            "Epoch 4/30\n",
            "157/157 - 2s - loss: 0.0892 - accuracy: 0.9722 - val_loss: 0.2160 - val_accuracy: 0.9359\n",
            "Epoch 5/30\n",
            "157/157 - 2s - loss: 0.0475 - accuracy: 0.9872 - val_loss: 0.2353 - val_accuracy: 0.9321\n",
            "Epoch 6/30\n",
            "157/157 - 2s - loss: 0.0302 - accuracy: 0.9926 - val_loss: 0.5890 - val_accuracy: 0.8624\n",
            "Epoch 7/30\n",
            "157/157 - 3s - loss: 0.0195 - accuracy: 0.9946 - val_loss: 0.2655 - val_accuracy: 0.9279\n",
            "Epoch 8/30\n",
            "157/157 - 2s - loss: 0.0096 - accuracy: 0.9986 - val_loss: 0.2188 - val_accuracy: 0.9442\n",
            "Epoch 9/30\n",
            "157/157 - 2s - loss: 0.0037 - accuracy: 0.9998 - val_loss: 0.2193 - val_accuracy: 0.9457\n",
            "Epoch 10/30\n",
            "157/157 - 2s - loss: 0.0022 - accuracy: 1.0000 - val_loss: 0.2229 - val_accuracy: 0.9463\n",
            "Epoch 11/30\n",
            "157/157 - 2s - loss: 0.0016 - accuracy: 1.0000 - val_loss: 0.2271 - val_accuracy: 0.9463\n",
            "Epoch 12/30\n",
            "157/157 - 2s - loss: 0.0014 - accuracy: 1.0000 - val_loss: 0.2307 - val_accuracy: 0.9464\n",
            "Epoch 13/30\n",
            "157/157 - 2s - loss: 0.0012 - accuracy: 1.0000 - val_loss: 0.2358 - val_accuracy: 0.9462\n",
            "Epoch 14/30\n",
            "157/157 - 2s - loss: 0.0010 - accuracy: 1.0000 - val_loss: 0.2368 - val_accuracy: 0.9463\n",
            "Epoch 15/30\n",
            "157/157 - 2s - loss: 9.1601e-04 - accuracy: 1.0000 - val_loss: 0.2388 - val_accuracy: 0.9463\n",
            "Epoch 16/30\n",
            "157/157 - 2s - loss: 8.1989e-04 - accuracy: 1.0000 - val_loss: 0.2424 - val_accuracy: 0.9462\n",
            "Epoch 17/30\n",
            "157/157 - 2s - loss: 7.5608e-04 - accuracy: 1.0000 - val_loss: 0.2425 - val_accuracy: 0.9465\n",
            "Epoch 18/30\n",
            "157/157 - 2s - loss: 6.9518e-04 - accuracy: 1.0000 - val_loss: 0.2446 - val_accuracy: 0.9464\n",
            "Epoch 19/30\n",
            "157/157 - 2s - loss: 6.3598e-04 - accuracy: 1.0000 - val_loss: 0.2459 - val_accuracy: 0.9463\n"
          ],
          "name": "stdout"
        }
      ]
    },
    {
      "cell_type": "code",
      "metadata": {
        "id": "B5RVDIlLEdoo",
        "colab": {
          "base_uri": "https://localhost:8080/"
        },
        "outputId": "201a1b17-0c47-4afc-e243-44749953e436"
      },
      "source": [
        "model = keras.models.load_model(\"mnist.h5\") # rollback to best model\r\n",
        "model.evaluate(X_test, y_test)"
      ],
      "execution_count": null,
      "outputs": [
        {
          "output_type": "stream",
          "text": [
            "313/313 [==============================] - 1s 2ms/step - loss: 0.2036 - accuracy: 0.9366\n"
          ],
          "name": "stdout"
        },
        {
          "output_type": "execute_result",
          "data": {
            "text/plain": [
              "[0.20358401536941528, 0.9366000294685364]"
            ]
          },
          "metadata": {
            "tags": []
          },
          "execution_count": 33
        }
      ]
    },
    {
      "cell_type": "code",
      "metadata": {
        "colab": {
          "base_uri": "https://localhost:8080/",
          "height": 683
        },
        "id": "y83QxHYNLBxt",
        "outputId": "13cdf5c0-324c-4b1f-d3ec-63a56e6f7619"
      },
      "source": [
        "plot_graphs(history, \"accuracy\")\r\n",
        "plot_graphs(history, \"loss\")"
      ],
      "execution_count": null,
      "outputs": [
        {
          "output_type": "display_data",
          "data": {
            "image/png": "[encoded data removed]",
            "text/plain": [
              "<Figure size 864x360 with 1 Axes>"
            ]
          },
          "metadata": {
            "tags": [],
            "needs_background": "light"
          }
        },
        {
          "output_type": "display_data",
          "data": {
            "image/png": "[encoded data removed]",
            "text/plain": [
              "<Figure size 864x360 with 1 Axes>"
            ]
          },
          "metadata": {
            "tags": [],
            "needs_background": "light"
          }
        }
      ]
    },
    {
      "cell_type": "markdown",
      "metadata": {
        "id": "zYxD9VMAOH1J"
      },
      "source": [
        "While the training is a bit uneven, we do see a small improvement in our test accuracy, though we are still not close to achieving 98% accuracy.\r\n",
        "\r\n",
        "If you wish to view similar graphs as above in Tensorboard, the following code should work in Jupyter Notebook/Lab."
      ]
    },
    {
      "cell_type": "code",
      "metadata": {
        "id": "o3wz27gFLM0d"
      },
      "source": [
        "# Load the Tensorboard logs and view the epoch accuracy and loss. Again, this doesn't seem to work on Colab at the moment. \r\n",
        "%load_ext tensorboard\r\n",
        "%tensorboard --logdir=./my_logs --port=6006"
      ],
      "execution_count": null,
      "outputs": []
    },
    {
      "cell_type": "markdown",
      "metadata": {
        "id": "kyN-aVfnJqYz"
      },
      "source": [
        "Next, we'll do some hyperparameter tuning to improve our accuracy. A couple of useful sites in this regard are listed below. \r\n",
        "\r\n",
        "https://towardsdatascience.com/simple-guide-to-hyperparameter-tuning-in-neural-networks-3fe03dad8594\r\n",
        "https://machinelearningmastery.com/grid-search-hyperparameters-deep-learning-models-python-keras/\r\n"
      ]
    },
    {
      "cell_type": "code",
      "metadata": {
        "id": "a_J15FKVY9W5"
      },
      "source": [
        "keras.backend.clear_session()\r\n",
        "from numpy.random import seed\r\n",
        "seed(999)\r\n",
        "tf.random.set_seed(999)   "
      ],
      "execution_count": null,
      "outputs": []
    },
    {
      "cell_type": "code",
      "metadata": {
        "id": "dS_yj3DLZE9V"
      },
      "source": [
        "import numpy as np\r\n",
        "from sklearn.model_selection import GridSearchCV\r\n",
        "from keras.wrappers.scikit_learn import KerasClassifier"
      ],
      "execution_count": null,
      "outputs": []
    },
    {
      "cell_type": "markdown",
      "metadata": {
        "id": "5Lxx8dK4POF-"
      },
      "source": [
        "We need to first define a wrapper in scikit-learn that creates and returns our sequential model."
      ]
    },
    {
      "cell_type": "code",
      "metadata": {
        "id": "18uwkMT7TXEP"
      },
      "source": [
        "def create_model():\r\n",
        "  # define model\r\n",
        "  model = keras.models.Sequential()\r\n",
        "  model.add(keras.layers.Flatten(input_shape=[28, 28]))\r\n",
        "  model.add(keras.layers.Dense(300, activation=\"relu\"))\r\n",
        "  model.add(keras.layers.Dense(100, activation='relu'))\r\n",
        "  model.add(keras.layers.Dense(10, activation=\"softmax\"))\r\n",
        "    # compile model\r\n",
        "  model.compile(loss='sparse_categorical_crossentropy',\r\n",
        "              optimizer=keras.optimizers.SGD(lr=3e-1),\r\n",
        "              metrics=['accuracy'])\r\n",
        "  return model"
      ],
      "execution_count": null,
      "outputs": []
    },
    {
      "cell_type": "markdown",
      "metadata": {
        "id": "1-jLSlXNP0GN"
      },
      "source": [
        "Now, we need to provide a param_grid dictionary of the hyperparamters that we'll be tuning. In this case, we'll be tuning batch size and the number of epochs.\r\n",
        "\r\n",
        "More useful info from Machine Learning Mastery: \r\n",
        "\r\n",
        "\"By default, accuracy is the score that is optimized, but other scores can be specified in the score argument of the GridSearchCV constructor.\r\n",
        "\r\n",
        "By default, the grid search will only use one thread. By setting the n_jobs argument in the GridSearchCV constructor to -1, the process will use all cores on your machine. Depending on your Keras backend, this may interfere with the main neural network training process.\r\n",
        "\r\n",
        "The GridSearchCV process will then construct and evaluate one model for each combination of parameters. Cross validation is used to evaluate each individual model and the default of 3-fold cross validation is used, although this can be overridden by specifying the cv argument to the GridSearchCV constructor.\""
      ]
    },
    {
      "cell_type": "code",
      "metadata": {
        "colab": {
          "base_uri": "https://localhost:8080/"
        },
        "id": "XXG42rMrTXHp",
        "outputId": "67415c18-2840-43ed-ecf9-1fd7d9c23c4e"
      },
      "source": [
        "%%time\r\n",
        "seed = 999\r\n",
        "np.random.seed(seed)\r\n",
        "\r\n",
        "model_CV = KerasClassifier(build_fn=create_model, verbose=1)\r\n",
        "# define the grid search parameters\r\n",
        "batches = [32, 64]\r\n",
        "epochs = [30, 60]\r\n",
        "\r\n",
        "param_grid = dict(epochs=epochs, batch_size=batches)\r\n",
        "grid = GridSearchCV(estimator=model_CV, param_grid=param_grid, n_jobs=-1, cv=3)\r\n",
        "grid_result = grid.fit(X_train, y_train)"
      ],
      "execution_count": null,
      "outputs": [
        {
          "output_type": "stream",
          "text": [
            "/usr/local/lib/python3.6/dist-packages/joblib/externals/loky/process_executor.py:691: UserWarning: A worker stopped while some jobs were given to the executor. This can be caused by a too short worker timeout or by a memory leak.\n",
            "  \"timeout or by a memory leak.\", UserWarning\n"
          ],
          "name": "stderr"
        },
        {
          "output_type": "stream",
          "text": [
            "Epoch 1/60\n",
            "157/157 [==============================] - 1s 2ms/step - loss: 1.0492 - accuracy: 0.6479\n",
            "Epoch 2/60\n",
            "157/157 [==============================] - 0s 2ms/step - loss: 0.2030 - accuracy: 0.9390\n",
            "Epoch 3/60\n",
            "157/157 [==============================] - 0s 2ms/step - loss: 0.1480 - accuracy: 0.9546\n",
            "Epoch 4/60\n",
            "157/157 [==============================] - 0s 2ms/step - loss: 0.0818 - accuracy: 0.9780\n",
            "Epoch 5/60\n",
            "157/157 [==============================] - 0s 2ms/step - loss: 0.0395 - accuracy: 0.9908\n",
            "Epoch 6/60\n",
            "157/157 [==============================] - 0s 2ms/step - loss: 0.0355 - accuracy: 0.9895\n",
            "Epoch 7/60\n",
            "157/157 [==============================] - 0s 2ms/step - loss: 0.0159 - accuracy: 0.9968\n",
            "Epoch 8/60\n",
            "157/157 [==============================] - 0s 2ms/step - loss: 0.0105 - accuracy: 0.9984\n",
            "Epoch 9/60\n",
            "157/157 [==============================] - 0s 2ms/step - loss: 0.0033 - accuracy: 0.9999\n",
            "Epoch 10/60\n",
            "157/157 [==============================] - 0s 2ms/step - loss: 0.0023 - accuracy: 0.9999\n",
            "Epoch 11/60\n",
            "157/157 [==============================] - 0s 2ms/step - loss: 0.0017 - accuracy: 1.0000\n",
            "Epoch 12/60\n",
            "157/157 [==============================] - 0s 2ms/step - loss: 0.0014 - accuracy: 1.0000\n",
            "Epoch 13/60\n",
            "157/157 [==============================] - 0s 2ms/step - loss: 0.0012 - accuracy: 1.0000\n",
            "Epoch 14/60\n",
            "157/157 [==============================] - 0s 2ms/step - loss: 9.8304e-04 - accuracy: 1.0000\n",
            "Epoch 15/60\n",
            "157/157 [==============================] - 0s 2ms/step - loss: 8.9814e-04 - accuracy: 1.0000\n",
            "Epoch 16/60\n",
            "157/157 [==============================] - 0s 2ms/step - loss: 7.9940e-04 - accuracy: 1.0000\n",
            "Epoch 17/60\n",
            "157/157 [==============================] - 0s 2ms/step - loss: 6.8437e-04 - accuracy: 1.0000\n",
            "Epoch 18/60\n",
            "157/157 [==============================] - 0s 2ms/step - loss: 6.6270e-04 - accuracy: 1.0000\n",
            "Epoch 19/60\n",
            "157/157 [==============================] - 0s 2ms/step - loss: 6.2266e-04 - accuracy: 1.0000\n",
            "Epoch 20/60\n",
            "157/157 [==============================] - 0s 2ms/step - loss: 5.6351e-04 - accuracy: 1.0000\n",
            "Epoch 21/60\n",
            "157/157 [==============================] - 0s 2ms/step - loss: 5.6970e-04 - accuracy: 1.0000\n",
            "Epoch 22/60\n",
            "157/157 [==============================] - 0s 2ms/step - loss: 5.2383e-04 - accuracy: 1.0000\n",
            "Epoch 23/60\n",
            "157/157 [==============================] - 0s 2ms/step - loss: 5.0334e-04 - accuracy: 1.0000\n",
            "Epoch 24/60\n",
            "157/157 [==============================] - 0s 2ms/step - loss: 4.4503e-04 - accuracy: 1.0000\n",
            "Epoch 25/60\n",
            "157/157 [==============================] - 0s 2ms/step - loss: 3.9932e-04 - accuracy: 1.0000\n",
            "Epoch 26/60\n",
            "157/157 [==============================] - 0s 2ms/step - loss: 4.2153e-04 - accuracy: 1.0000\n",
            "Epoch 27/60\n",
            "157/157 [==============================] - 0s 2ms/step - loss: 4.0201e-04 - accuracy: 1.0000\n",
            "Epoch 28/60\n",
            "157/157 [==============================] - 0s 2ms/step - loss: 3.9223e-04 - accuracy: 1.0000\n",
            "Epoch 29/60\n",
            "157/157 [==============================] - 0s 2ms/step - loss: 3.9594e-04 - accuracy: 1.0000\n",
            "Epoch 30/60\n",
            "157/157 [==============================] - 0s 2ms/step - loss: 3.2356e-04 - accuracy: 1.0000\n",
            "Epoch 31/60\n",
            "157/157 [==============================] - 0s 2ms/step - loss: 3.2082e-04 - accuracy: 1.0000\n",
            "Epoch 32/60\n",
            "157/157 [==============================] - 0s 2ms/step - loss: 3.0439e-04 - accuracy: 1.0000\n",
            "Epoch 33/60\n",
            "157/157 [==============================] - 0s 2ms/step - loss: 2.9239e-04 - accuracy: 1.0000\n",
            "Epoch 34/60\n",
            "157/157 [==============================] - 0s 2ms/step - loss: 3.2162e-04 - accuracy: 1.0000\n",
            "Epoch 35/60\n",
            "157/157 [==============================] - 0s 2ms/step - loss: 2.6391e-04 - accuracy: 1.0000\n",
            "Epoch 36/60\n",
            "157/157 [==============================] - 0s 2ms/step - loss: 2.7309e-04 - accuracy: 1.0000\n",
            "Epoch 37/60\n",
            "157/157 [==============================] - 0s 2ms/step - loss: 2.6133e-04 - accuracy: 1.0000\n",
            "Epoch 38/60\n",
            "157/157 [==============================] - 0s 2ms/step - loss: 2.4024e-04 - accuracy: 1.0000\n",
            "Epoch 39/60\n",
            "157/157 [==============================] - 0s 2ms/step - loss: 2.5924e-04 - accuracy: 1.0000\n",
            "Epoch 40/60\n",
            "157/157 [==============================] - 0s 2ms/step - loss: 2.4103e-04 - accuracy: 1.0000\n",
            "Epoch 41/60\n",
            "157/157 [==============================] - 0s 2ms/step - loss: 2.2829e-04 - accuracy: 1.0000\n",
            "Epoch 42/60\n",
            "157/157 [==============================] - 0s 2ms/step - loss: 2.2805e-04 - accuracy: 1.0000\n",
            "Epoch 43/60\n",
            "157/157 [==============================] - 0s 2ms/step - loss: 2.2156e-04 - accuracy: 1.0000\n",
            "Epoch 44/60\n",
            "157/157 [==============================] - 0s 2ms/step - loss: 2.0552e-04 - accuracy: 1.0000\n",
            "Epoch 45/60\n",
            "157/157 [==============================] - 0s 2ms/step - loss: 2.2042e-04 - accuracy: 1.0000\n",
            "Epoch 46/60\n",
            "157/157 [==============================] - 0s 2ms/step - loss: 2.0043e-04 - accuracy: 1.0000\n",
            "Epoch 47/60\n",
            "157/157 [==============================] - 0s 2ms/step - loss: 1.8549e-04 - accuracy: 1.0000\n",
            "Epoch 48/60\n",
            "157/157 [==============================] - 0s 2ms/step - loss: 1.9705e-04 - accuracy: 1.0000\n",
            "Epoch 49/60\n",
            "157/157 [==============================] - 0s 2ms/step - loss: 1.7623e-04 - accuracy: 1.0000\n",
            "Epoch 50/60\n",
            "157/157 [==============================] - 0s 2ms/step - loss: 1.8859e-04 - accuracy: 1.0000\n",
            "Epoch 51/60\n",
            "157/157 [==============================] - 0s 2ms/step - loss: 1.6537e-04 - accuracy: 1.0000\n",
            "Epoch 52/60\n",
            "157/157 [==============================] - 0s 2ms/step - loss: 1.8653e-04 - accuracy: 1.0000\n",
            "Epoch 53/60\n",
            "157/157 [==============================] - 0s 2ms/step - loss: 1.6549e-04 - accuracy: 1.0000\n",
            "Epoch 54/60\n",
            "157/157 [==============================] - 0s 2ms/step - loss: 1.6934e-04 - accuracy: 1.0000\n",
            "Epoch 55/60\n",
            "157/157 [==============================] - 0s 2ms/step - loss: 1.7229e-04 - accuracy: 1.0000\n",
            "Epoch 56/60\n",
            "157/157 [==============================] - 0s 2ms/step - loss: 1.7421e-04 - accuracy: 1.0000\n",
            "Epoch 57/60\n",
            "157/157 [==============================] - 0s 2ms/step - loss: 1.5197e-04 - accuracy: 1.0000\n",
            "Epoch 58/60\n",
            "157/157 [==============================] - 0s 2ms/step - loss: 1.5204e-04 - accuracy: 1.0000\n",
            "Epoch 59/60\n",
            "157/157 [==============================] - 0s 2ms/step - loss: 1.4707e-04 - accuracy: 1.0000\n",
            "Epoch 60/60\n",
            "157/157 [==============================] - 0s 2ms/step - loss: 1.4553e-04 - accuracy: 1.0000\n",
            "CPU times: user 23.7 s, sys: 2.95 s, total: 26.6 s\n",
            "Wall time: 1min 39s\n"
          ],
          "name": "stdout"
        }
      ]
    },
    {
      "cell_type": "code",
      "metadata": {
        "colab": {
          "base_uri": "https://localhost:8080/"
        },
        "id": "q-V2llJdTXLM",
        "outputId": "bd53c5bc-815b-444a-8d25-8f98c73088e3"
      },
      "source": [
        "# print results\r\n",
        "print(f'Best Accuracy for {grid_result.best_score_:.4} using {grid_result.best_params_}')\r\n",
        "means = grid_result.cv_results_['mean_test_score']\r\n",
        "stds = grid_result.cv_results_['std_test_score']\r\n",
        "params = grid_result.cv_results_['params']\r\n",
        "for mean, stdev, param in zip(means, stds, params):\r\n",
        "    print(f'mean={mean:.4}, std={stdev:.4} using {param}')"
      ],
      "execution_count": null,
      "outputs": [
        {
          "output_type": "stream",
          "text": [
            "Best Accuracy for 0.9436 using {'batch_size': 32, 'epochs': 60}\n",
            "mean=0.942, std=0.01008 using {'batch_size': 32, 'epochs': 30}\n",
            "mean=0.9436, std=0.008826 using {'batch_size': 32, 'epochs': 60}\n",
            "mean=0.9382, std=0.01103 using {'batch_size': 64, 'epochs': 30}\n",
            "mean=0.94, std=0.01442 using {'batch_size': 64, 'epochs': 60}\n"
          ],
          "name": "stdout"
        }
      ]
    },
    {
      "cell_type": "markdown",
      "metadata": {
        "id": "1MlnimgXQpOi"
      },
      "source": [
        "We find that using batch size of 32 and 60 epochs provides us with the highest accuracy. Let's now implement this with our model."
      ]
    },
    {
      "cell_type": "code",
      "metadata": {
        "id": "MYoYpaqtTXN5"
      },
      "source": [
        "keras.backend.clear_session()\r\n",
        "from numpy.random import seed\r\n",
        "seed(999)\r\n",
        "tf.random.set_seed(999)   "
      ],
      "execution_count": null,
      "outputs": []
    },
    {
      "cell_type": "code",
      "metadata": {
        "id": "aOPosMXMTXQt"
      },
      "source": [
        "model = keras.models.Sequential()\r\n",
        "model.add(keras.layers.Flatten(input_shape=[28, 28]))\r\n",
        "model.add(keras.layers.Dense(300, activation=\"relu\"))\r\n",
        "model.add(keras.layers.Dense(100, activation='relu'))\r\n",
        "model.add(keras.layers.Dense(10, activation=\"softmax\"))"
      ],
      "execution_count": null,
      "outputs": []
    },
    {
      "cell_type": "code",
      "metadata": {
        "id": "v4IPaIsTTXTV"
      },
      "source": [
        "model.compile(loss=\"sparse_categorical_crossentropy\",\r\n",
        "              optimizer=keras.optimizers.SGD(3e-1),\r\n",
        "              metrics=[\"accuracy\"])"
      ],
      "execution_count": null,
      "outputs": []
    },
    {
      "cell_type": "code",
      "metadata": {
        "colab": {
          "base_uri": "https://localhost:8080/"
        },
        "id": "Nr-DrHPhTXWI",
        "outputId": "5f6e10dd-cca0-40c4-88a4-fdab836c779b"
      },
      "source": [
        "history = model.fit(X_train, y_train, epochs=60, batch_size=32, \r\n",
        "                    validation_data=(X_val, y_val),\r\n",
        "                    callbacks=my_callbacks, \r\n",
        "                    verbose=2)"
      ],
      "execution_count": null,
      "outputs": [
        {
          "output_type": "stream",
          "text": [
            "Epoch 1/60\n",
            "157/157 - 3s - loss: 0.6446 - accuracy: 0.7960 - val_loss: 0.3156 - val_accuracy: 0.9031\n",
            "Epoch 2/60\n",
            "157/157 - 2s - loss: 0.2082 - accuracy: 0.9378 - val_loss: 0.2456 - val_accuracy: 0.9230\n",
            "Epoch 3/60\n",
            "157/157 - 2s - loss: 0.1411 - accuracy: 0.9578 - val_loss: 0.2987 - val_accuracy: 0.9087\n",
            "Epoch 4/60\n",
            "157/157 - 2s - loss: 0.0853 - accuracy: 0.9728 - val_loss: 0.2216 - val_accuracy: 0.9345\n",
            "Epoch 5/60\n",
            "157/157 - 2s - loss: 0.0452 - accuracy: 0.9880 - val_loss: 0.2355 - val_accuracy: 0.9309\n",
            "Epoch 6/60\n",
            "157/157 - 2s - loss: 0.0307 - accuracy: 0.9914 - val_loss: 0.2549 - val_accuracy: 0.9300\n",
            "Epoch 7/60\n",
            "157/157 - 2s - loss: 0.0149 - accuracy: 0.9968 - val_loss: 0.2252 - val_accuracy: 0.9403\n",
            "Epoch 8/60\n",
            "157/157 - 2s - loss: 0.0077 - accuracy: 0.9988 - val_loss: 0.2181 - val_accuracy: 0.9445\n",
            "Epoch 9/60\n",
            "157/157 - 2s - loss: 0.0035 - accuracy: 0.9998 - val_loss: 0.2205 - val_accuracy: 0.9455\n",
            "Epoch 10/60\n",
            "157/157 - 2s - loss: 0.0022 - accuracy: 1.0000 - val_loss: 0.2232 - val_accuracy: 0.9460\n",
            "Epoch 11/60\n",
            "157/157 - 2s - loss: 0.0017 - accuracy: 1.0000 - val_loss: 0.2267 - val_accuracy: 0.9463\n",
            "Epoch 12/60\n",
            "157/157 - 2s - loss: 0.0014 - accuracy: 1.0000 - val_loss: 0.2304 - val_accuracy: 0.9465\n",
            "Epoch 13/60\n",
            "157/157 - 2s - loss: 0.0012 - accuracy: 1.0000 - val_loss: 0.2355 - val_accuracy: 0.9462\n",
            "Epoch 14/60\n",
            "157/157 - 2s - loss: 0.0010 - accuracy: 1.0000 - val_loss: 0.2365 - val_accuracy: 0.9463\n",
            "Epoch 15/60\n",
            "157/157 - 2s - loss: 9.3920e-04 - accuracy: 1.0000 - val_loss: 0.2381 - val_accuracy: 0.9464\n",
            "Epoch 16/60\n",
            "157/157 - 2s - loss: 8.3843e-04 - accuracy: 1.0000 - val_loss: 0.2420 - val_accuracy: 0.9461\n",
            "Epoch 17/60\n",
            "157/157 - 2s - loss: 7.7209e-04 - accuracy: 1.0000 - val_loss: 0.2421 - val_accuracy: 0.9464\n",
            "Epoch 18/60\n",
            "157/157 - 2s - loss: 7.0974e-04 - accuracy: 1.0000 - val_loss: 0.2442 - val_accuracy: 0.9465\n",
            "Epoch 19/60\n",
            "157/157 - 2s - loss: 6.5084e-04 - accuracy: 1.0000 - val_loss: 0.2455 - val_accuracy: 0.9463\n",
            "Epoch 20/60\n",
            "157/157 - 2s - loss: 6.0710e-04 - accuracy: 1.0000 - val_loss: 0.2466 - val_accuracy: 0.9466\n",
            "Epoch 21/60\n",
            "157/157 - 2s - loss: 5.6977e-04 - accuracy: 1.0000 - val_loss: 0.2485 - val_accuracy: 0.9464\n",
            "Epoch 22/60\n",
            "157/157 - 2s - loss: 5.3227e-04 - accuracy: 1.0000 - val_loss: 0.2490 - val_accuracy: 0.9467\n",
            "Epoch 23/60\n",
            "157/157 - 2s - loss: 5.0397e-04 - accuracy: 1.0000 - val_loss: 0.2507 - val_accuracy: 0.9467\n"
          ],
          "name": "stdout"
        }
      ]
    },
    {
      "cell_type": "code",
      "metadata": {
        "colab": {
          "base_uri": "https://localhost:8080/"
        },
        "id": "nCuRo6_MTXYw",
        "outputId": "8a717bd4-1e4a-4c2d-c221-24ba0949e842"
      },
      "source": [
        "model = keras.models.load_model(\"mnist.h5\") # rollback to best model\r\n",
        "model.evaluate(X_test, y_test)"
      ],
      "execution_count": null,
      "outputs": [
        {
          "output_type": "stream",
          "text": [
            "313/313 [==============================] - 1s 2ms/step - loss: 0.2020 - accuracy: 0.9463\n"
          ],
          "name": "stdout"
        },
        {
          "output_type": "execute_result",
          "data": {
            "text/plain": [
              "[0.20200681686401367, 0.9463000297546387]"
            ]
          },
          "metadata": {
            "tags": []
          },
          "execution_count": 38
        }
      ]
    },
    {
      "cell_type": "code",
      "metadata": {
        "colab": {
          "base_uri": "https://localhost:8080/",
          "height": 683
        },
        "id": "cVj5yzsiTXbb",
        "outputId": "0a18fb66-e9ac-46b3-d1b2-0fd95b399b8b"
      },
      "source": [
        "plot_graphs(history, \"accuracy\")\r\n",
        "plot_graphs(history, \"loss\")"
      ],
      "execution_count": null,
      "outputs": [
        {
          "output_type": "display_data",
          "data": {
            "image/png": "[encoded data removed]",
            "text/plain": [
              "<Figure size 864x360 with 1 Axes>"
            ]
          },
          "metadata": {
            "tags": [],
            "needs_background": "light"
          }
        },
        {
          "output_type": "display_data",
          "data": {
            "image/png": "[encoded data removed]",
            "text/plain": [
              "<Figure size 864x360 with 1 Axes>"
            ]
          },
          "metadata": {
            "tags": [],
            "needs_background": "light"
          }
        }
      ]
    },
    {
      "cell_type": "markdown",
      "metadata": {
        "id": "-umYcY11Q6vD"
      },
      "source": [
        "The tuning made a small difference to our accuracy but didn't allow us to  achieve 98% accuracy, likely because a batch size of 32 is already used by default. With additional time, it would be useful to also test the ideal number of neurons in our first hidden layer or even add a dropout layer and test its ideal rate.\r\n",
        "\r\n",
        "*Note: we did test dropout layers (without tuning) several times, but they either made an insignificant improvment in test accuracy or gave abysmally low test accuracy."
      ]
    },
    {
      "cell_type": "markdown",
      "metadata": {
        "id": "9JpY2saOR02m"
      },
      "source": [
        "Finally, let's test the author's own code. "
      ]
    },
    {
      "cell_type": "code",
      "metadata": {
        "id": "WjbnOtqTQyYz"
      },
      "source": [
        "keras.backend.clear_session()\r\n",
        "from numpy.random import seed\r\n",
        "seed(42)\r\n",
        "tf.random.set_seed(42)  "
      ],
      "execution_count": null,
      "outputs": []
    },
    {
      "cell_type": "code",
      "metadata": {
        "id": "6eVwDSDoQyhX"
      },
      "source": [
        "\r\n",
        "model = keras.models.Sequential([\r\n",
        "    keras.layers.Flatten(input_shape=[28, 28]),\r\n",
        "    keras.layers.Dense(300, activation=\"relu\"),\r\n",
        "    keras.layers.Dense(100, activation=\"relu\"),\r\n",
        "    keras.layers.Dense(10, activation=\"softmax\")\r\n",
        "])"
      ],
      "execution_count": null,
      "outputs": []
    },
    {
      "cell_type": "code",
      "metadata": {
        "id": "jj6bVzbXQykU"
      },
      "source": [
        "\r\n",
        "model.compile(loss=\"sparse_categorical_crossentropy\",\r\n",
        "              optimizer=keras.optimizers.SGD(lr=3e-1),\r\n",
        "              metrics=[\"accuracy\"])"
      ],
      "execution_count": null,
      "outputs": []
    },
    {
      "cell_type": "code",
      "metadata": {
        "colab": {
          "base_uri": "https://localhost:8080/"
        },
        "id": "JKY774AcQynK",
        "outputId": "fc1816f6-1b3e-4ee8-d2f0-ddbd43030935"
      },
      "source": [
        "early_stopping_cb = keras.callbacks.EarlyStopping(patience=20)\r\n",
        "checkpoint_cb = keras.callbacks.ModelCheckpoint(\"mnist.h5\", save_best_only=True)\r\n",
        "tensorboard_cb = keras.callbacks.TensorBoard(run_logdir)\r\n",
        "\r\n",
        "history = model.fit(X_train, y_train, epochs=100,\r\n",
        "                    validation_data=(X_val, y_val),\r\n",
        "                    callbacks=[checkpoint_cb, early_stopping_cb, tensorboard_cb])"
      ],
      "execution_count": null,
      "outputs": [
        {
          "output_type": "stream",
          "text": [
            "Epoch 1/100\n",
            "157/157 [==============================] - 5s 29ms/step - loss: 1.0534 - accuracy: 0.6511 - val_loss: 0.5843 - val_accuracy: 0.8182\n",
            "Epoch 2/100\n",
            "157/157 [==============================] - 4s 26ms/step - loss: 0.2396 - accuracy: 0.9292 - val_loss: 0.2702 - val_accuracy: 0.9165\n",
            "Epoch 3/100\n",
            "157/157 [==============================] - 4s 26ms/step - loss: 0.1517 - accuracy: 0.9529 - val_loss: 0.2454 - val_accuracy: 0.9256\n",
            "Epoch 4/100\n",
            "157/157 [==============================] - 4s 27ms/step - loss: 0.0759 - accuracy: 0.9762 - val_loss: 0.2685 - val_accuracy: 0.9221\n",
            "Epoch 5/100\n",
            "157/157 [==============================] - 4s 27ms/step - loss: 0.0442 - accuracy: 0.9879 - val_loss: 0.2258 - val_accuracy: 0.9355\n",
            "Epoch 6/100\n",
            "157/157 [==============================] - 4s 27ms/step - loss: 0.0311 - accuracy: 0.9909 - val_loss: 0.2885 - val_accuracy: 0.9227\n",
            "Epoch 7/100\n",
            "157/157 [==============================] - 4s 26ms/step - loss: 0.0281 - accuracy: 0.9919 - val_loss: 0.2243 - val_accuracy: 0.9416\n",
            "Epoch 8/100\n",
            "157/157 [==============================] - 4s 27ms/step - loss: 0.0079 - accuracy: 0.9991 - val_loss: 0.2173 - val_accuracy: 0.9454\n",
            "Epoch 9/100\n",
            "157/157 [==============================] - 4s 27ms/step - loss: 0.0028 - accuracy: 1.0000 - val_loss: 0.2245 - val_accuracy: 0.9461\n",
            "Epoch 10/100\n",
            "157/157 [==============================] - 4s 26ms/step - loss: 0.0019 - accuracy: 1.0000 - val_loss: 0.2310 - val_accuracy: 0.9461\n",
            "Epoch 11/100\n",
            "157/157 [==============================] - 4s 27ms/step - loss: 0.0016 - accuracy: 1.0000 - val_loss: 0.2342 - val_accuracy: 0.9462\n",
            "Epoch 12/100\n",
            "157/157 [==============================] - 4s 27ms/step - loss: 0.0014 - accuracy: 1.0000 - val_loss: 0.2395 - val_accuracy: 0.9459\n",
            "Epoch 13/100\n",
            "157/157 [==============================] - 4s 26ms/step - loss: 0.0011 - accuracy: 1.0000 - val_loss: 0.2403 - val_accuracy: 0.9461\n",
            "Epoch 14/100\n",
            "157/157 [==============================] - 4s 26ms/step - loss: 9.3715e-04 - accuracy: 1.0000 - val_loss: 0.2434 - val_accuracy: 0.9460\n",
            "Epoch 15/100\n",
            "157/157 [==============================] - 4s 26ms/step - loss: 8.9566e-04 - accuracy: 1.0000 - val_loss: 0.2451 - val_accuracy: 0.9460\n",
            "Epoch 16/100\n",
            "157/157 [==============================] - 4s 26ms/step - loss: 7.4508e-04 - accuracy: 1.0000 - val_loss: 0.2477 - val_accuracy: 0.9459\n",
            "Epoch 17/100\n",
            "157/157 [==============================] - 4s 26ms/step - loss: 7.3879e-04 - accuracy: 1.0000 - val_loss: 0.2496 - val_accuracy: 0.9459\n",
            "Epoch 18/100\n",
            "157/157 [==============================] - 4s 26ms/step - loss: 6.6759e-04 - accuracy: 1.0000 - val_loss: 0.2512 - val_accuracy: 0.9461\n",
            "Epoch 19/100\n",
            "157/157 [==============================] - 4s 26ms/step - loss: 5.9341e-04 - accuracy: 1.0000 - val_loss: 0.2527 - val_accuracy: 0.9461\n",
            "Epoch 20/100\n",
            "157/157 [==============================] - 4s 26ms/step - loss: 6.2657e-04 - accuracy: 1.0000 - val_loss: 0.2540 - val_accuracy: 0.9461\n",
            "Epoch 21/100\n",
            "157/157 [==============================] - 4s 26ms/step - loss: 5.7806e-04 - accuracy: 1.0000 - val_loss: 0.2560 - val_accuracy: 0.9459\n",
            "Epoch 22/100\n",
            "157/157 [==============================] - 4s 27ms/step - loss: 5.3711e-04 - accuracy: 1.0000 - val_loss: 0.2580 - val_accuracy: 0.9458\n",
            "Epoch 23/100\n",
            "157/157 [==============================] - 4s 26ms/step - loss: 4.5839e-04 - accuracy: 1.0000 - val_loss: 0.2585 - val_accuracy: 0.9460\n",
            "Epoch 24/100\n",
            "157/157 [==============================] - 4s 27ms/step - loss: 4.5971e-04 - accuracy: 1.0000 - val_loss: 0.2600 - val_accuracy: 0.9458\n",
            "Epoch 25/100\n",
            "157/157 [==============================] - 4s 27ms/step - loss: 4.2747e-04 - accuracy: 1.0000 - val_loss: 0.2614 - val_accuracy: 0.9460\n",
            "Epoch 26/100\n",
            "157/157 [==============================] - 4s 27ms/step - loss: 4.7512e-04 - accuracy: 1.0000 - val_loss: 0.2625 - val_accuracy: 0.9459\n",
            "Epoch 27/100\n",
            "157/157 [==============================] - 4s 27ms/step - loss: 3.6985e-04 - accuracy: 1.0000 - val_loss: 0.2636 - val_accuracy: 0.9460\n",
            "Epoch 28/100\n",
            "157/157 [==============================] - 4s 26ms/step - loss: 4.0009e-04 - accuracy: 1.0000 - val_loss: 0.2642 - val_accuracy: 0.9460\n"
          ],
          "name": "stdout"
        }
      ]
    },
    {
      "cell_type": "code",
      "metadata": {
        "colab": {
          "base_uri": "https://localhost:8080/"
        },
        "id": "O9rpJg-tQyqE",
        "outputId": "e11ce01a-37ae-463d-a3c3-d277d9170b00"
      },
      "source": [
        "model = keras.models.load_model(\"mnist.h5\") # rollback to best model\r\n",
        "model.evaluate(X_test, y_test)"
      ],
      "execution_count": null,
      "outputs": [
        {
          "output_type": "stream",
          "text": [
            "313/313 [==============================] - 1s 3ms/step - loss: 0.1985 - accuracy: 0.9507\n"
          ],
          "name": "stdout"
        },
        {
          "output_type": "execute_result",
          "data": {
            "text/plain": [
              "[0.1985192447900772, 0.9506999850273132]"
            ]
          },
          "metadata": {
            "tags": []
          },
          "execution_count": 64
        }
      ]
    },
    {
      "cell_type": "markdown",
      "metadata": {
        "id": "ggIh1ohtR-yF"
      },
      "source": [
        "Despite using the same code (and seeding) that the author used, we still are not able to achieve 98% test accuracy, though he managed to do so in his own notebook. In fact, our code is almost identical to the author's (including learning rate), except for the random seeding values. \r\n",
        "\r\n",
        "So it seems safe to assume that both models should be equally effective and only appear not to be so due to the seeding values. "
      ]
    }
  ]
}
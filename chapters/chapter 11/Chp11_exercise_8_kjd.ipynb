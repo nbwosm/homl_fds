{
  "nbformat": 4,
  "nbformat_minor": 0,
  "metadata": {
    "colab": {
      "name": "HOML Ch.11 Exercise 8.ipynb",
      "provenance": [],
      "collapsed_sections": [],
      "toc_visible": true
    },
    "kernelspec": {
      "name": "python3",
      "display_name": "Python 3"
    },
    "accelerator": "GPU"
  },
  "cells": [
    {
      "cell_type": "markdown",
      "metadata": {
        "id": "hY9IQN2vcf6c"
      },
      "source": [
        "#HOML - Ch. 11: Training Deep Neural Networks\r\n",
        "\r\n",
        "##Exercise 8: \r\n",
        "*Practice training a deep neural network on the CIFAR10 image dataset*\r\n"
      ]
    },
    {
      "cell_type": "markdown",
      "metadata": {
        "id": "7VqpTZ65dI4y"
      },
      "source": [
        "##He initialization and ELU activation\r\n",
        "\r\n",
        "*a. Build a DNN with 20 hidden layers of 100 neurons each (that’s too many, but\r\n",
        "it’s the point of this exercise). Use He initialization and the ELU activation\r\n",
        "function.*\r\n"
      ]
    },
    {
      "cell_type": "code",
      "metadata": {
        "id": "liz4pchsSudi"
      },
      "source": [
        "import tensorflow as tf\r\n",
        "from tensorflow import keras\r\n",
        "import numpy as np\r\n",
        "import matplotlib.pyplot as plt"
      ],
      "execution_count": null,
      "outputs": []
    },
    {
      "cell_type": "code",
      "metadata": {
        "id": "Av3CmK-zS21T"
      },
      "source": [
        "# Random seed\r\n",
        "tf.random.set_seed(99)\r\n",
        "np.random.seed(99)"
      ],
      "execution_count": null,
      "outputs": []
    },
    {
      "cell_type": "markdown",
      "metadata": {
        "id": "m57FMVmhUnU8"
      },
      "source": [
        "Let's start by loading the CIFAR10 dataset and separating it into training, validation, and test sets."
      ]
    },
    {
      "cell_type": "code",
      "metadata": {
        "id": "PsW1noyIUmU1",
        "colab": {
          "base_uri": "https://localhost:8080/"
        },
        "outputId": "2214db07-820c-429e-cdc1-59f0e21b4be0"
      },
      "source": [
        "# CIFAR10 dataset\r\n",
        "(X_train_all, y_train_all), (X_test, y_test) = keras.datasets.cifar10.load_data()\r\n",
        "\r\n",
        "X_train = X_train_all[5000:]\r\n",
        "y_train = y_train_all[5000:]\r\n",
        "X_val = X_train_all[:5000]\r\n",
        "y_val = y_train_all[:5000]"
      ],
      "execution_count": null,
      "outputs": [
        {
          "output_type": "stream",
          "text": [
            "Downloading data from https://www.cs.toronto.edu/~kriz/cifar-10-python.tar.gz\n",
            "170500096/170498071 [==============================] - 4s 0us/step\n"
          ],
          "name": "stdout"
        }
      ]
    },
    {
      "cell_type": "markdown",
      "metadata": {
        "id": "ct7zGtsXR4Av"
      },
      "source": [
        "Next, let's build the DNN. We'll use a for loop for the 20 hidden layers rather than listing every single layer. "
      ]
    },
    {
      "cell_type": "code",
      "metadata": {
        "id": "z6w0kFGISFnq"
      },
      "source": [
        "# Input layer size based on CIFAR10 image size\r\n",
        "model = keras.models.Sequential()\r\n",
        "model.add(keras.layers.Flatten(input_shape=[32, 32, 3]))\r\n",
        "for _ in range(20):\r\n",
        "    model.add(keras.layers.Dense(100,\r\n",
        "                                 activation=\"elu\",\r\n",
        "                                 kernel_initializer=\"he_normal\"))"
      ],
      "execution_count": null,
      "outputs": []
    },
    {
      "cell_type": "markdown",
      "metadata": {
        "id": "4MpMIJWydJA7"
      },
      "source": [
        "## Nadam optimization\r\n",
        "\r\n",
        "*b. Using Nadam optimization and early stopping, train the network on the\r\n",
        "CIFAR10 dataset. You can load it with keras.datasets.cifar10.load_\r\n",
        "data(). The dataset is composed of 60,000 32 × 32–pixel color images (50,000\r\n",
        "for training, 10,000 for testing) with 10 classes, so you’ll need a softmax out‐\r\n",
        "put layer with 10 neurons. Remember to search for the right learning rate each\r\n",
        "time you change the model’s architecture or hyperparameters.*"
      ]
    },
    {
      "cell_type": "markdown",
      "metadata": {
        "id": "6F8ZVkYvTWTS"
      },
      "source": [
        "Add the output layer - softmax with 10 neurons."
      ]
    },
    {
      "cell_type": "code",
      "metadata": {
        "id": "H8GKSaMYTVVu"
      },
      "source": [
        "model.add(keras.layers.Dense(10, activation=\"softmax\"))"
      ],
      "execution_count": null,
      "outputs": []
    },
    {
      "cell_type": "markdown",
      "metadata": {
        "id": "JsWPKJ9yToIO"
      },
      "source": [
        "We'll next be building a Nadam optimizer. The author stated that he tried several different learning rates before settling on 5e-5. For the sake of time, let's start in that neighborhood with our performance learning rate scheduler."
      ]
    },
    {
      "cell_type": "code",
      "metadata": {
        "colab": {
          "base_uri": "https://localhost:8080/"
        },
        "id": "2hXte7OT0y8_",
        "outputId": "5071f8b8-0f8f-4d2c-b473-2d5e96efb77a"
      },
      "source": [
        "# Performance learning rate scheduler\r\n",
        "lr_scheduler = keras.callbacks.ReduceLROnPlateau(factor=0.5, patience=3)\r\n",
        "\r\n",
        "model = model\r\n",
        "\r\n",
        "optimizer = keras.optimizers.Nadam(lr=6e-5)\r\n",
        "model.compile(loss=\"sparse_categorical_crossentropy\", optimizer=optimizer, metrics=[\"accuracy\"])\r\n",
        "n_epochs = 50\r\n",
        "history = model.fit(X_train, y_train, epochs=n_epochs,\r\n",
        "                    validation_data=(X_val, y_val),\r\n",
        "                    callbacks=[lr_scheduler])"
      ],
      "execution_count": null,
      "outputs": [
        {
          "output_type": "stream",
          "text": [
            "Epoch 1/50\n",
            "1407/1407 [==============================] - 16s 7ms/step - loss: 7.3662 - accuracy: 0.1387 - val_loss: 2.3087 - val_accuracy: 0.1784\n",
            "Epoch 2/50\n",
            "1407/1407 [==============================] - 10s 7ms/step - loss: 2.0469 - accuracy: 0.2492 - val_loss: 2.0892 - val_accuracy: 0.2420\n",
            "Epoch 3/50\n",
            "1407/1407 [==============================] - 10s 7ms/step - loss: 1.9073 - accuracy: 0.3035 - val_loss: 1.9368 - val_accuracy: 0.2950\n",
            "Epoch 4/50\n",
            "1407/1407 [==============================] - 10s 7ms/step - loss: 1.8281 - accuracy: 0.3360 - val_loss: 1.7770 - val_accuracy: 0.3456\n",
            "Epoch 5/50\n",
            "1407/1407 [==============================] - 10s 7ms/step - loss: 1.7758 - accuracy: 0.3556 - val_loss: 1.7419 - val_accuracy: 0.3600\n",
            "Epoch 6/50\n",
            "1407/1407 [==============================] - 10s 7ms/step - loss: 1.7140 - accuracy: 0.3811 - val_loss: 1.7331 - val_accuracy: 0.3720\n",
            "Epoch 7/50\n",
            "1407/1407 [==============================] - 10s 7ms/step - loss: 1.6803 - accuracy: 0.3874 - val_loss: 1.6917 - val_accuracy: 0.3850\n",
            "Epoch 8/50\n",
            "1407/1407 [==============================] - 10s 7ms/step - loss: 1.6535 - accuracy: 0.4052 - val_loss: 1.6473 - val_accuracy: 0.4022\n",
            "Epoch 9/50\n",
            "1407/1407 [==============================] - 10s 7ms/step - loss: 1.6303 - accuracy: 0.4148 - val_loss: 1.6835 - val_accuracy: 0.3838\n",
            "Epoch 10/50\n",
            "1407/1407 [==============================] - 10s 7ms/step - loss: 1.6019 - accuracy: 0.4146 - val_loss: 1.6513 - val_accuracy: 0.4016\n",
            "Epoch 11/50\n",
            "1407/1407 [==============================] - 10s 7ms/step - loss: 1.5887 - accuracy: 0.4257 - val_loss: 1.6379 - val_accuracy: 0.4152\n",
            "Epoch 12/50\n",
            "1407/1407 [==============================] - 10s 7ms/step - loss: 1.5631 - accuracy: 0.4358 - val_loss: 1.6289 - val_accuracy: 0.4124\n",
            "Epoch 13/50\n",
            "1407/1407 [==============================] - 10s 7ms/step - loss: 1.5420 - accuracy: 0.4414 - val_loss: 1.6355 - val_accuracy: 0.4140\n",
            "Epoch 14/50\n",
            "1407/1407 [==============================] - 10s 7ms/step - loss: 1.5242 - accuracy: 0.4503 - val_loss: 1.5908 - val_accuracy: 0.4234\n",
            "Epoch 15/50\n",
            "1407/1407 [==============================] - 10s 7ms/step - loss: 1.5201 - accuracy: 0.4531 - val_loss: 1.5749 - val_accuracy: 0.4352\n",
            "Epoch 16/50\n",
            "1407/1407 [==============================] - 10s 7ms/step - loss: 1.5008 - accuracy: 0.4577 - val_loss: 1.5730 - val_accuracy: 0.4370\n",
            "Epoch 17/50\n",
            "1407/1407 [==============================] - 10s 7ms/step - loss: 1.4991 - accuracy: 0.4617 - val_loss: 1.5684 - val_accuracy: 0.4434\n",
            "Epoch 18/50\n",
            "1407/1407 [==============================] - 10s 7ms/step - loss: 1.4763 - accuracy: 0.4687 - val_loss: 1.5568 - val_accuracy: 0.4402\n",
            "Epoch 19/50\n",
            "1407/1407 [==============================] - 10s 7ms/step - loss: 1.4572 - accuracy: 0.4746 - val_loss: 1.5617 - val_accuracy: 0.4386\n",
            "Epoch 20/50\n",
            "1407/1407 [==============================] - 10s 7ms/step - loss: 1.4562 - accuracy: 0.4756 - val_loss: 1.5506 - val_accuracy: 0.4412\n",
            "Epoch 21/50\n",
            "1407/1407 [==============================] - 10s 7ms/step - loss: 1.4367 - accuracy: 0.4847 - val_loss: 1.5373 - val_accuracy: 0.4556\n",
            "Epoch 22/50\n",
            "1407/1407 [==============================] - 10s 7ms/step - loss: 1.4184 - accuracy: 0.4917 - val_loss: 1.5495 - val_accuracy: 0.4440\n",
            "Epoch 23/50\n",
            "1407/1407 [==============================] - 10s 7ms/step - loss: 1.4111 - accuracy: 0.4939 - val_loss: 1.5700 - val_accuracy: 0.4428\n",
            "Epoch 24/50\n",
            "1407/1407 [==============================] - 10s 7ms/step - loss: 1.4044 - accuracy: 0.4934 - val_loss: 1.5397 - val_accuracy: 0.4472\n",
            "Epoch 25/50\n",
            "1407/1407 [==============================] - 10s 7ms/step - loss: 1.3612 - accuracy: 0.5102 - val_loss: 1.5297 - val_accuracy: 0.4560\n",
            "Epoch 26/50\n",
            "1407/1407 [==============================] - 10s 7ms/step - loss: 1.3410 - accuracy: 0.5168 - val_loss: 1.5235 - val_accuracy: 0.4602\n",
            "Epoch 27/50\n",
            "1407/1407 [==============================] - 10s 7ms/step - loss: 1.3263 - accuracy: 0.5277 - val_loss: 1.5271 - val_accuracy: 0.4618\n",
            "Epoch 28/50\n",
            "1407/1407 [==============================] - 10s 7ms/step - loss: 1.3246 - accuracy: 0.5257 - val_loss: 1.5039 - val_accuracy: 0.4682\n",
            "Epoch 29/50\n",
            "1407/1407 [==============================] - 10s 7ms/step - loss: 1.3197 - accuracy: 0.5255 - val_loss: 1.5105 - val_accuracy: 0.4708\n",
            "Epoch 30/50\n",
            "1407/1407 [==============================] - 10s 7ms/step - loss: 1.3166 - accuracy: 0.5251 - val_loss: 1.5658 - val_accuracy: 0.4576\n",
            "Epoch 31/50\n",
            "1407/1407 [==============================] - 10s 7ms/step - loss: 1.3083 - accuracy: 0.5304 - val_loss: 1.5467 - val_accuracy: 0.4572\n",
            "Epoch 32/50\n",
            "1407/1407 [==============================] - 10s 7ms/step - loss: 1.2796 - accuracy: 0.5431 - val_loss: 1.5131 - val_accuracy: 0.4672\n",
            "Epoch 33/50\n",
            "1407/1407 [==============================] - 10s 7ms/step - loss: 1.2579 - accuracy: 0.5494 - val_loss: 1.5131 - val_accuracy: 0.4674\n",
            "Epoch 34/50\n",
            "1407/1407 [==============================] - 10s 7ms/step - loss: 1.2557 - accuracy: 0.5491 - val_loss: 1.5108 - val_accuracy: 0.4720\n",
            "Epoch 35/50\n",
            "1407/1407 [==============================] - 10s 7ms/step - loss: 1.2371 - accuracy: 0.5592 - val_loss: 1.5176 - val_accuracy: 0.4678\n",
            "Epoch 36/50\n",
            "1407/1407 [==============================] - 10s 7ms/step - loss: 1.2356 - accuracy: 0.5546 - val_loss: 1.5188 - val_accuracy: 0.4722\n",
            "Epoch 37/50\n",
            "1407/1407 [==============================] - 10s 7ms/step - loss: 1.2306 - accuracy: 0.5592 - val_loss: 1.5222 - val_accuracy: 0.4682\n",
            "Epoch 38/50\n",
            "1407/1407 [==============================] - 10s 7ms/step - loss: 1.2219 - accuracy: 0.5649 - val_loss: 1.5172 - val_accuracy: 0.4710\n",
            "Epoch 39/50\n",
            "1407/1407 [==============================] - 10s 7ms/step - loss: 1.2208 - accuracy: 0.5642 - val_loss: 1.5191 - val_accuracy: 0.4678\n",
            "Epoch 40/50\n",
            "1407/1407 [==============================] - 10s 7ms/step - loss: 1.2203 - accuracy: 0.5629 - val_loss: 1.5179 - val_accuracy: 0.4680\n",
            "Epoch 41/50\n",
            "1407/1407 [==============================] - 10s 7ms/step - loss: 1.2098 - accuracy: 0.5671 - val_loss: 1.5182 - val_accuracy: 0.4720\n",
            "Epoch 42/50\n",
            "1407/1407 [==============================] - 10s 7ms/step - loss: 1.2170 - accuracy: 0.5671 - val_loss: 1.5196 - val_accuracy: 0.4732\n",
            "Epoch 43/50\n",
            "1407/1407 [==============================] - 10s 7ms/step - loss: 1.2191 - accuracy: 0.5650 - val_loss: 1.5208 - val_accuracy: 0.4698\n",
            "Epoch 44/50\n",
            "1407/1407 [==============================] - 10s 7ms/step - loss: 1.2162 - accuracy: 0.5650 - val_loss: 1.5218 - val_accuracy: 0.4702\n",
            "Epoch 45/50\n",
            "1407/1407 [==============================] - 10s 7ms/step - loss: 1.2069 - accuracy: 0.5661 - val_loss: 1.5202 - val_accuracy: 0.4748\n",
            "Epoch 46/50\n",
            "1407/1407 [==============================] - 10s 7ms/step - loss: 1.2065 - accuracy: 0.5689 - val_loss: 1.5211 - val_accuracy: 0.4712\n",
            "Epoch 47/50\n",
            "1407/1407 [==============================] - 10s 7ms/step - loss: 1.1984 - accuracy: 0.5698 - val_loss: 1.5202 - val_accuracy: 0.4716\n",
            "Epoch 48/50\n",
            "1407/1407 [==============================] - 10s 7ms/step - loss: 1.2119 - accuracy: 0.5671 - val_loss: 1.5209 - val_accuracy: 0.4700\n",
            "Epoch 49/50\n",
            "1407/1407 [==============================] - 10s 7ms/step - loss: 1.2121 - accuracy: 0.5661 - val_loss: 1.5219 - val_accuracy: 0.4714\n",
            "Epoch 50/50\n",
            "1407/1407 [==============================] - 10s 7ms/step - loss: 1.2050 - accuracy: 0.5681 - val_loss: 1.5219 - val_accuracy: 0.4716\n"
          ],
          "name": "stdout"
        }
      ]
    },
    {
      "cell_type": "code",
      "metadata": {
        "colab": {
          "base_uri": "https://localhost:8080/",
          "height": 351
        },
        "id": "2YZJOvdq0z8u",
        "outputId": "b9559662-464a-4e4f-84f5-10a26453d659"
      },
      "source": [
        "# Graph of scheduler results\r\n",
        "plt.figure(figsize=(10,5))\r\n",
        "plt.plot(history.epoch, history.history[\"lr\"], \"bo-\")\r\n",
        "plt.xlabel(\"Epoch\")\r\n",
        "plt.ylabel(\"Learning Rate\", color='b')\r\n",
        "plt.tick_params('y', colors='b')\r\n",
        "plt.gca().set_xlim(0, n_epochs - 1)\r\n",
        "plt.grid(True)\r\n",
        "\r\n",
        "ax2 = plt.gca().twinx()\r\n",
        "ax2.plot(history.epoch, history.history[\"val_loss\"], \"r^-\")\r\n",
        "ax2.set_ylabel('Validation Loss', color='r')\r\n",
        "ax2.tick_params('y', colors='r')\r\n",
        "\r\n",
        "plt.title(\"Reduce LR on Plateau\", fontsize=14)\r\n",
        "plt.show()"
      ],
      "execution_count": null,
      "outputs": [
        {
          "output_type": "display_data",
          "data": {
            "image/png": "[encoded data removed]",
            "text/plain": [
              "<Figure size 720x360 with 2 Axes>"
            ]
          },
          "metadata": {
            "tags": [],
            "needs_background": "light"
          }
        }
      ]
    },
    {
      "cell_type": "markdown",
      "metadata": {
        "id": "0ChKwKuxzouI"
      },
      "source": [
        "We'll use the learning rate where the validation loss is lowest. This isn't too far from the learning rate that the author used. We'll then introduce our callbacks - EarlyStopping and ModelCheckpoint. "
      ]
    },
    {
      "cell_type": "code",
      "metadata": {
        "id": "UGKZGjXb00IU"
      },
      "source": [
        "keras.backend.clear_session()\r\n",
        "from numpy.random import seed\r\n",
        "seed(999)\r\n",
        "tf.random.set_seed(999)   "
      ],
      "execution_count": null,
      "outputs": []
    },
    {
      "cell_type": "code",
      "metadata": {
        "id": "thFsQkrhThRa"
      },
      "source": [
        "model.compile(loss=\"sparse_categorical_crossentropy\",\r\n",
        "              optimizer=keras.optimizers.Nadam(lr=1.5e-5),\r\n",
        "              metrics=[\"accuracy\"])"
      ],
      "execution_count": null,
      "outputs": []
    },
    {
      "cell_type": "code",
      "metadata": {
        "id": "4RRrH3uM7iC2"
      },
      "source": [
        "# Define callback list\r\n",
        "cifar10_callbacks = [\r\n",
        "    tf.keras.callbacks.EarlyStopping(patience=20, restore_best_weights=True),\r\n",
        "    tf.keras.callbacks.ModelCheckpoint(filepath='cifar10.h5', save_best_only=True)\r\n",
        "]    "
      ],
      "execution_count": null,
      "outputs": []
    },
    {
      "cell_type": "code",
      "metadata": {
        "colab": {
          "base_uri": "https://localhost:8080/"
        },
        "id": "b1BiwuYX7iTb",
        "outputId": "db8cfc2f-2c13-4ad1-e1f0-c38fafaf5f7e"
      },
      "source": [
        "%%time\r\n",
        "\r\n",
        "history = model.fit(X_train, y_train, epochs=50,\r\n",
        "          validation_data=(X_val, y_val),\r\n",
        "          callbacks=cifar10_callbacks, \r\n",
        "          verbose=1)"
      ],
      "execution_count": null,
      "outputs": [
        {
          "output_type": "stream",
          "text": [
            "Epoch 1/50\n",
            "1407/1407 [==============================] - 13s 7ms/step - loss: 1.2285 - accuracy: 0.5578 - val_loss: 1.5239 - val_accuracy: 0.4694\n",
            "Epoch 2/50\n",
            "1407/1407 [==============================] - 10s 7ms/step - loss: 1.2294 - accuracy: 0.5610 - val_loss: 1.5334 - val_accuracy: 0.4670\n",
            "Epoch 3/50\n",
            "1407/1407 [==============================] - 10s 7ms/step - loss: 1.2214 - accuracy: 0.5622 - val_loss: 1.5300 - val_accuracy: 0.4730\n",
            "Epoch 4/50\n",
            "1407/1407 [==============================] - 10s 7ms/step - loss: 1.2189 - accuracy: 0.5642 - val_loss: 1.5323 - val_accuracy: 0.4678\n",
            "Epoch 5/50\n",
            "1407/1407 [==============================] - 10s 7ms/step - loss: 1.2110 - accuracy: 0.5663 - val_loss: 1.5293 - val_accuracy: 0.4682\n",
            "Epoch 6/50\n",
            "1407/1407 [==============================] - 10s 7ms/step - loss: 1.2153 - accuracy: 0.5631 - val_loss: 1.5371 - val_accuracy: 0.4714\n",
            "Epoch 7/50\n",
            "1407/1407 [==============================] - 10s 7ms/step - loss: 1.2059 - accuracy: 0.5678 - val_loss: 1.5397 - val_accuracy: 0.4622\n",
            "Epoch 8/50\n",
            "1407/1407 [==============================] - 10s 7ms/step - loss: 1.2099 - accuracy: 0.5678 - val_loss: 1.5456 - val_accuracy: 0.4646\n",
            "Epoch 9/50\n",
            "1407/1407 [==============================] - 10s 7ms/step - loss: 1.2119 - accuracy: 0.5699 - val_loss: 1.5415 - val_accuracy: 0.4704\n",
            "Epoch 10/50\n",
            "1407/1407 [==============================] - 10s 7ms/step - loss: 1.2013 - accuracy: 0.5707 - val_loss: 1.5467 - val_accuracy: 0.4642\n",
            "Epoch 11/50\n",
            "1407/1407 [==============================] - 10s 7ms/step - loss: 1.2027 - accuracy: 0.5662 - val_loss: 1.5652 - val_accuracy: 0.4652\n",
            "Epoch 12/50\n",
            "1407/1407 [==============================] - 10s 7ms/step - loss: 1.1993 - accuracy: 0.5680 - val_loss: 1.5509 - val_accuracy: 0.4652\n",
            "Epoch 13/50\n",
            "1407/1407 [==============================] - 10s 7ms/step - loss: 1.1900 - accuracy: 0.5750 - val_loss: 1.5515 - val_accuracy: 0.4702\n",
            "Epoch 14/50\n",
            "1407/1407 [==============================] - 10s 7ms/step - loss: 1.1821 - accuracy: 0.5753 - val_loss: 1.5673 - val_accuracy: 0.4590\n",
            "Epoch 15/50\n",
            "1407/1407 [==============================] - 10s 7ms/step - loss: 1.1900 - accuracy: 0.5715 - val_loss: 1.5656 - val_accuracy: 0.4600\n",
            "Epoch 16/50\n",
            "1407/1407 [==============================] - 10s 7ms/step - loss: 1.1769 - accuracy: 0.5772 - val_loss: 1.5595 - val_accuracy: 0.4684\n",
            "Epoch 17/50\n",
            "1407/1407 [==============================] - 10s 7ms/step - loss: 1.1774 - accuracy: 0.5815 - val_loss: 1.5757 - val_accuracy: 0.4614\n",
            "Epoch 18/50\n",
            "1407/1407 [==============================] - 10s 7ms/step - loss: 1.1701 - accuracy: 0.5813 - val_loss: 1.5749 - val_accuracy: 0.4620\n",
            "Epoch 19/50\n",
            "1407/1407 [==============================] - 10s 7ms/step - loss: 1.1695 - accuracy: 0.5806 - val_loss: 1.5733 - val_accuracy: 0.4568\n",
            "Epoch 20/50\n",
            "1407/1407 [==============================] - 10s 7ms/step - loss: 1.1704 - accuracy: 0.5773 - val_loss: 1.5704 - val_accuracy: 0.4682\n",
            "Epoch 21/50\n",
            "1407/1407 [==============================] - 10s 7ms/step - loss: 1.1613 - accuracy: 0.5841 - val_loss: 1.5834 - val_accuracy: 0.4578\n",
            "CPU times: user 3min 45s, sys: 11.2 s, total: 3min 56s\n",
            "Wall time: 3min 32s\n"
          ],
          "name": "stdout"
        }
      ]
    },
    {
      "cell_type": "code",
      "metadata": {
        "id": "Z1daT5sL_mm8"
      },
      "source": [
        "# Graphs of accuracy and loss\r\n",
        "import matplotlib.pyplot as plt\r\n",
        "\r\n",
        "def plot_graphs(history, string):\r\n",
        "    plt.figure(figsize=(12, 5))\r\n",
        "    plt.plot(history.history[string])\r\n",
        "    plt.plot(history.history['val_'+string])\r\n",
        "    plt.title('Training and validation')\r\n",
        "    plt.xlabel('Epochs')\r\n",
        "    plt.ylabel(string)\r\n",
        "    plt.legend([string, 'val_'+string])\r\n",
        "    plt.show()"
      ],
      "execution_count": null,
      "outputs": []
    },
    {
      "cell_type": "code",
      "metadata": {
        "colab": {
          "base_uri": "https://localhost:8080/",
          "height": 683
        },
        "id": "8BfMu-1H_mr4",
        "outputId": "97728c43-5471-4bd9-c7e0-72880be8e737"
      },
      "source": [
        "plot_graphs(history, \"accuracy\")\r\n",
        "plot_graphs(history, \"loss\")"
      ],
      "execution_count": null,
      "outputs": [
        {
          "output_type": "display_data",
          "data": {
            "image/png": "[encoded data removed]",
            "text/plain": [
              "<Figure size 864x360 with 1 Axes>"
            ]
          },
          "metadata": {
            "tags": [],
            "needs_background": "light"
          }
        },
        {
          "output_type": "display_data",
          "data": {
            "image/png": "[encoded data removed]",
            "text/plain": [
              "<Figure size 864x360 with 1 Axes>"
            ]
          },
          "metadata": {
            "tags": [],
            "needs_background": "light"
          }
        }
      ]
    },
    {
      "cell_type": "code",
      "metadata": {
        "colab": {
          "base_uri": "https://localhost:8080/"
        },
        "id": "BH-2qCFiADO_",
        "outputId": "8d3cb704-101e-4f2f-9f68-de9eecb6c8f4"
      },
      "source": [
        "model = keras.models.load_model(\"cifar10.h5\")\r\n",
        "model.evaluate(X_val, y_val)"
      ],
      "execution_count": null,
      "outputs": [
        {
          "output_type": "stream",
          "text": [
            "157/157 [==============================] - 0s 2ms/step - loss: 1.5239 - accuracy: 0.4694\n"
          ],
          "name": "stdout"
        },
        {
          "output_type": "execute_result",
          "data": {
            "text/plain": [
              "[1.5239131450653076, 0.46939998865127563]"
            ]
          },
          "metadata": {
            "tags": []
          },
          "execution_count": 14
        }
      ]
    },
    {
      "cell_type": "code",
      "metadata": {
        "colab": {
          "base_uri": "https://localhost:8080/"
        },
        "id": "2UNRyzHVADTZ",
        "outputId": "02a64d9b-ff78-44f8-995e-83c39eee45dd"
      },
      "source": [
        "model.evaluate(X_test, y_test)"
      ],
      "execution_count": null,
      "outputs": [
        {
          "output_type": "stream",
          "text": [
            "313/313 [==============================] - 1s 2ms/step - loss: 1.5252 - accuracy: 0.4725\n"
          ],
          "name": "stdout"
        },
        {
          "output_type": "execute_result",
          "data": {
            "text/plain": [
              "[1.5251818895339966, 0.4724999964237213]"
            ]
          },
          "metadata": {
            "tags": []
          },
          "execution_count": 15
        }
      ]
    },
    {
      "cell_type": "markdown",
      "metadata": {
        "id": "k6twl2BWD00u"
      },
      "source": [
        "Our training accuracy is a bit higher than the validation test accuracie, suggesting some amount of overfitting. However, all three are still very low. So, let's see if some other techniques will improve those accuracies, starting with Batch Normalization."
      ]
    },
    {
      "cell_type": "markdown",
      "metadata": {
        "id": "mo6aArfkdJJq"
      },
      "source": [
        "## Batch Normalization\r\n",
        "\r\n",
        "*c. Now try adding Batch Normalization and compare the learning curves: Is it\r\n",
        "converging faster than before? Does it produce a better model? How does it\r\n",
        "affect training speed?*"
      ]
    },
    {
      "cell_type": "code",
      "metadata": {
        "id": "HISb4N2e_HUY"
      },
      "source": [
        "keras.backend.clear_session()\r\n",
        "from numpy.random import seed\r\n",
        "seed(999)\r\n",
        "tf.random.set_seed(999) "
      ],
      "execution_count": null,
      "outputs": []
    },
    {
      "cell_type": "markdown",
      "metadata": {
        "id": "nevigFVO-5Pi"
      },
      "source": [
        "We'll add batch normalization after every dense layer (excluding the output layer) and the first hidden layer. "
      ]
    },
    {
      "cell_type": "code",
      "metadata": {
        "id": "mnXV68nq_X6n"
      },
      "source": [
        "# Modified model with batch normalization\r\n",
        "model = keras.models.Sequential()\r\n",
        "model.add(keras.layers.Flatten(input_shape=[32, 32, 3]))\r\n",
        "model.add(keras.layers.BatchNormalization())\r\n",
        "for _ in range(20):\r\n",
        "    model.add(keras.layers.Dense(100, kernel_initializer=\"he_normal\"))\r\n",
        "    model.add(keras.layers.BatchNormalization())\r\n",
        "    model.add(keras.layers.Activation(\"elu\"))\r\n",
        "model.add(keras.layers.Dense(10, activation=\"softmax\"))"
      ],
      "execution_count": null,
      "outputs": []
    },
    {
      "cell_type": "markdown",
      "metadata": {
        "id": "ZxzEqmcI1nw3"
      },
      "source": [
        "Again, we'll start by using the performance learning rate scheduler to select an appropriate learning rate. "
      ]
    },
    {
      "cell_type": "code",
      "metadata": {
        "colab": {
          "base_uri": "https://localhost:8080/"
        },
        "id": "byIBW4lUpKfp",
        "outputId": "a2a4ec73-4a40-4e62-f1b1-be837205690a"
      },
      "source": [
        "# Performance learning rate scheduler\r\n",
        "lr_scheduler = keras.callbacks.ReduceLROnPlateau(factor=0.5, patience=3)\r\n",
        "\r\n",
        "model = model\r\n",
        "\r\n",
        "optimizer = keras.optimizers.Nadam(lr=5e-4)\r\n",
        "model.compile(loss=\"sparse_categorical_crossentropy\", optimizer=optimizer, metrics=[\"accuracy\"])\r\n",
        "n_epochs = 50\r\n",
        "history = model.fit(X_train, y_train, epochs=n_epochs,\r\n",
        "                    validation_data=(X_val, y_val),\r\n",
        "                    callbacks=[lr_scheduler])"
      ],
      "execution_count": null,
      "outputs": [
        {
          "output_type": "stream",
          "text": [
            "Epoch 1/50\n",
            "1407/1407 [==============================] - 35s 20ms/step - loss: 1.9730 - accuracy: 0.2927 - val_loss: 1.6479 - val_accuracy: 0.4100\n",
            "Epoch 2/50\n",
            "1407/1407 [==============================] - 27s 19ms/step - loss: 1.6775 - accuracy: 0.4065 - val_loss: 1.5967 - val_accuracy: 0.4274\n",
            "Epoch 3/50\n",
            "1407/1407 [==============================] - 27s 19ms/step - loss: 1.6030 - accuracy: 0.4280 - val_loss: 1.5350 - val_accuracy: 0.4594\n",
            "Epoch 4/50\n",
            "1407/1407 [==============================] - 27s 19ms/step - loss: 1.5493 - accuracy: 0.4499 - val_loss: 1.4797 - val_accuracy: 0.4708\n",
            "Epoch 5/50\n",
            "1407/1407 [==============================] - 27s 19ms/step - loss: 1.5024 - accuracy: 0.4647 - val_loss: 1.4524 - val_accuracy: 0.4814\n",
            "Epoch 6/50\n",
            "1407/1407 [==============================] - 27s 19ms/step - loss: 1.4537 - accuracy: 0.4851 - val_loss: 1.4646 - val_accuracy: 0.4784\n",
            "Epoch 7/50\n",
            "1407/1407 [==============================] - 27s 19ms/step - loss: 1.4435 - accuracy: 0.4869 - val_loss: 1.4177 - val_accuracy: 0.5032\n",
            "Epoch 8/50\n",
            "1407/1407 [==============================] - 27s 19ms/step - loss: 1.4034 - accuracy: 0.5050 - val_loss: 1.4146 - val_accuracy: 0.5028\n",
            "Epoch 9/50\n",
            "1407/1407 [==============================] - 27s 19ms/step - loss: 1.3743 - accuracy: 0.5173 - val_loss: 1.3957 - val_accuracy: 0.4964\n",
            "Epoch 10/50\n",
            "1407/1407 [==============================] - 27s 19ms/step - loss: 1.3527 - accuracy: 0.5239 - val_loss: 1.3950 - val_accuracy: 0.5144\n",
            "Epoch 11/50\n",
            "1407/1407 [==============================] - 27s 19ms/step - loss: 1.3411 - accuracy: 0.5235 - val_loss: 1.3825 - val_accuracy: 0.5164\n",
            "Epoch 12/50\n",
            "1407/1407 [==============================] - 27s 19ms/step - loss: 1.3254 - accuracy: 0.5337 - val_loss: 1.3693 - val_accuracy: 0.5154\n",
            "Epoch 13/50\n",
            "1407/1407 [==============================] - 27s 19ms/step - loss: 1.2911 - accuracy: 0.5445 - val_loss: 1.3415 - val_accuracy: 0.5326\n",
            "Epoch 14/50\n",
            "1407/1407 [==============================] - 27s 19ms/step - loss: 1.2704 - accuracy: 0.5479 - val_loss: 1.3605 - val_accuracy: 0.5276\n",
            "Epoch 15/50\n",
            "1407/1407 [==============================] - 27s 19ms/step - loss: 1.2632 - accuracy: 0.5536 - val_loss: 1.3465 - val_accuracy: 0.5256\n",
            "Epoch 16/50\n",
            "1407/1407 [==============================] - 27s 19ms/step - loss: 1.2359 - accuracy: 0.5613 - val_loss: 1.3297 - val_accuracy: 0.5316\n",
            "Epoch 17/50\n",
            "1407/1407 [==============================] - 27s 19ms/step - loss: 1.2185 - accuracy: 0.5694 - val_loss: 1.3135 - val_accuracy: 0.5382\n",
            "Epoch 18/50\n",
            "1407/1407 [==============================] - 27s 19ms/step - loss: 1.2034 - accuracy: 0.5743 - val_loss: 1.3267 - val_accuracy: 0.5350\n",
            "Epoch 19/50\n",
            "1407/1407 [==============================] - 27s 19ms/step - loss: 1.1841 - accuracy: 0.5817 - val_loss: 1.3704 - val_accuracy: 0.5272\n",
            "Epoch 20/50\n",
            "1407/1407 [==============================] - 27s 19ms/step - loss: 1.1795 - accuracy: 0.5851 - val_loss: 1.3203 - val_accuracy: 0.5382\n",
            "Epoch 21/50\n",
            "1407/1407 [==============================] - 27s 19ms/step - loss: 1.1027 - accuracy: 0.6108 - val_loss: 1.2836 - val_accuracy: 0.5600\n",
            "Epoch 22/50\n",
            "1407/1407 [==============================] - 27s 19ms/step - loss: 1.0786 - accuracy: 0.6216 - val_loss: 1.3048 - val_accuracy: 0.5514\n",
            "Epoch 23/50\n",
            "1407/1407 [==============================] - 27s 19ms/step - loss: 1.0619 - accuracy: 0.6249 - val_loss: 1.3091 - val_accuracy: 0.5510\n",
            "Epoch 24/50\n",
            "1407/1407 [==============================] - 27s 19ms/step - loss: 1.0620 - accuracy: 0.6256 - val_loss: 1.3124 - val_accuracy: 0.5474\n",
            "Epoch 25/50\n",
            "1407/1407 [==============================] - 27s 19ms/step - loss: 1.0164 - accuracy: 0.6415 - val_loss: 1.2913 - val_accuracy: 0.5596\n",
            "Epoch 26/50\n",
            "1407/1407 [==============================] - 27s 19ms/step - loss: 0.9975 - accuracy: 0.6468 - val_loss: 1.2912 - val_accuracy: 0.5624\n",
            "Epoch 27/50\n",
            "1407/1407 [==============================] - 27s 19ms/step - loss: 0.9899 - accuracy: 0.6493 - val_loss: 1.2956 - val_accuracy: 0.5608\n",
            "Epoch 28/50\n",
            "1407/1407 [==============================] - 27s 19ms/step - loss: 0.9641 - accuracy: 0.6597 - val_loss: 1.2941 - val_accuracy: 0.5644\n",
            "Epoch 29/50\n",
            "1407/1407 [==============================] - 27s 19ms/step - loss: 0.9608 - accuracy: 0.6591 - val_loss: 1.2926 - val_accuracy: 0.5654\n",
            "Epoch 30/50\n",
            "1407/1407 [==============================] - 27s 19ms/step - loss: 0.9577 - accuracy: 0.6616 - val_loss: 1.2940 - val_accuracy: 0.5650\n",
            "Epoch 31/50\n",
            "1407/1407 [==============================] - 27s 19ms/step - loss: 0.9482 - accuracy: 0.6662 - val_loss: 1.2992 - val_accuracy: 0.5644\n",
            "Epoch 32/50\n",
            "1407/1407 [==============================] - 27s 19ms/step - loss: 0.9374 - accuracy: 0.6679 - val_loss: 1.2982 - val_accuracy: 0.5634\n",
            "Epoch 33/50\n",
            "1407/1407 [==============================] - 27s 19ms/step - loss: 0.9370 - accuracy: 0.6660 - val_loss: 1.3033 - val_accuracy: 0.5614\n",
            "Epoch 34/50\n",
            "1407/1407 [==============================] - 27s 19ms/step - loss: 0.9254 - accuracy: 0.6706 - val_loss: 1.3000 - val_accuracy: 0.5662\n",
            "Epoch 35/50\n",
            "1407/1407 [==============================] - 27s 19ms/step - loss: 0.9279 - accuracy: 0.6704 - val_loss: 1.3015 - val_accuracy: 0.5678\n",
            "Epoch 36/50\n",
            "1407/1407 [==============================] - 27s 19ms/step - loss: 0.9184 - accuracy: 0.6776 - val_loss: 1.3027 - val_accuracy: 0.5650\n",
            "Epoch 37/50\n",
            "1407/1407 [==============================] - 27s 19ms/step - loss: 0.9316 - accuracy: 0.6658 - val_loss: 1.3074 - val_accuracy: 0.5650\n",
            "Epoch 38/50\n",
            "1407/1407 [==============================] - 27s 19ms/step - loss: 0.9129 - accuracy: 0.6767 - val_loss: 1.3094 - val_accuracy: 0.5654\n",
            "Epoch 39/50\n",
            "1407/1407 [==============================] - 27s 19ms/step - loss: 0.9118 - accuracy: 0.6719 - val_loss: 1.3064 - val_accuracy: 0.5644\n",
            "Epoch 40/50\n",
            "1407/1407 [==============================] - 27s 19ms/step - loss: 0.9183 - accuracy: 0.6754 - val_loss: 1.3055 - val_accuracy: 0.5660\n",
            "Epoch 41/50\n",
            "1407/1407 [==============================] - 27s 19ms/step - loss: 0.9105 - accuracy: 0.6790 - val_loss: 1.3075 - val_accuracy: 0.5644\n",
            "Epoch 42/50\n",
            "1407/1407 [==============================] - 27s 19ms/step - loss: 0.9177 - accuracy: 0.6763 - val_loss: 1.3052 - val_accuracy: 0.5662\n",
            "Epoch 43/50\n",
            "1407/1407 [==============================] - 27s 19ms/step - loss: 0.9146 - accuracy: 0.6759 - val_loss: 1.3096 - val_accuracy: 0.5652\n",
            "Epoch 44/50\n",
            "1407/1407 [==============================] - 27s 19ms/step - loss: 0.9163 - accuracy: 0.6740 - val_loss: 1.3079 - val_accuracy: 0.5656\n",
            "Epoch 45/50\n",
            "1407/1407 [==============================] - 27s 19ms/step - loss: 0.9080 - accuracy: 0.6744 - val_loss: 1.3076 - val_accuracy: 0.5652\n",
            "Epoch 46/50\n",
            "1407/1407 [==============================] - 27s 19ms/step - loss: 0.9317 - accuracy: 0.6709 - val_loss: 1.3077 - val_accuracy: 0.5670\n",
            "Epoch 47/50\n",
            "1407/1407 [==============================] - 27s 19ms/step - loss: 0.9168 - accuracy: 0.6708 - val_loss: 1.3075 - val_accuracy: 0.5678\n",
            "Epoch 48/50\n",
            "1407/1407 [==============================] - 27s 19ms/step - loss: 0.9124 - accuracy: 0.6793 - val_loss: 1.3058 - val_accuracy: 0.5684\n",
            "Epoch 49/50\n",
            "1407/1407 [==============================] - 27s 19ms/step - loss: 0.9153 - accuracy: 0.6759 - val_loss: 1.3077 - val_accuracy: 0.5686\n",
            "Epoch 50/50\n",
            "1407/1407 [==============================] - 27s 19ms/step - loss: 0.9187 - accuracy: 0.6730 - val_loss: 1.3052 - val_accuracy: 0.5658\n"
          ],
          "name": "stdout"
        }
      ]
    },
    {
      "cell_type": "code",
      "metadata": {
        "colab": {
          "base_uri": "https://localhost:8080/",
          "height": 351
        },
        "id": "BJqSpSJno6uh",
        "outputId": "bf2c48b9-df4c-4bb3-e61c-0f27fe721247"
      },
      "source": [
        "plt.figure(figsize=(10,5))\r\n",
        "plt.plot(history.epoch, history.history[\"lr\"], \"bo-\")\r\n",
        "plt.xlabel(\"Epoch\")\r\n",
        "plt.ylabel(\"Learning Rate\", color='b')\r\n",
        "plt.tick_params('y', colors='b')\r\n",
        "plt.gca().set_xlim(0, n_epochs - 1)\r\n",
        "plt.grid(True)\r\n",
        "\r\n",
        "ax2 = plt.gca().twinx()\r\n",
        "ax2.plot(history.epoch, history.history[\"val_loss\"], \"r^-\")\r\n",
        "ax2.set_ylabel('Validation Loss', color='r')\r\n",
        "ax2.tick_params('y', colors='r')\r\n",
        "\r\n",
        "plt.title(\"Reduce LR on Plateau\", fontsize=14)\r\n",
        "plt.show()"
      ],
      "execution_count": null,
      "outputs": [
        {
          "output_type": "display_data",
          "data": {
            "image/png": "[encoded data removed]",
            "text/plain": [
              "<Figure size 720x360 with 2 Axes>"
            ]
          },
          "metadata": {
            "tags": [],
            "needs_background": "light"
          }
        }
      ]
    },
    {
      "cell_type": "code",
      "metadata": {
        "id": "r6t1FR_Eo6yK"
      },
      "source": [
        "keras.backend.clear_session()\r\n",
        "from numpy.random import seed\r\n",
        "seed(999)\r\n",
        "tf.random.set_seed(999) "
      ],
      "execution_count": null,
      "outputs": []
    },
    {
      "cell_type": "markdown",
      "metadata": {
        "id": "C7NJ3fs7_psI"
      },
      "source": [
        "The learning rate is fairly close to the author's 5e-4, but slightly smaller."
      ]
    },
    {
      "cell_type": "code",
      "metadata": {
        "id": "tqV5xhBS_m6R"
      },
      "source": [
        "model.compile(loss=\"sparse_categorical_crossentropy\",\r\n",
        "              optimizer=keras.optimizers.Nadam(lr=2.5e-4),\r\n",
        "              metrics=[\"accuracy\"])"
      ],
      "execution_count": null,
      "outputs": []
    },
    {
      "cell_type": "code",
      "metadata": {
        "id": "kJcMw48t_7G3"
      },
      "source": [
        "cifar10_bn_callbacks = [\r\n",
        "    tf.keras.callbacks.EarlyStopping(patience=20, restore_best_weights=True),\r\n",
        "    tf.keras.callbacks.ModelCheckpoint(filepath='cifar10_bn.h5', save_best_only=True)\r\n",
        "]   "
      ],
      "execution_count": null,
      "outputs": []
    },
    {
      "cell_type": "code",
      "metadata": {
        "colab": {
          "base_uri": "https://localhost:8080/"
        },
        "id": "E5MSkqXw_8AT",
        "outputId": "ef9ff89d-0f8c-44c1-d83b-a7194d1e7448"
      },
      "source": [
        "%%time\r\n",
        "\r\n",
        "history = model.fit(X_train, y_train, epochs=50,\r\n",
        "          validation_data=(X_val, y_val),\r\n",
        "          callbacks=cifar10_bn_callbacks, \r\n",
        "          verbose=1)"
      ],
      "execution_count": null,
      "outputs": [
        {
          "output_type": "stream",
          "text": [
            "Epoch 1/50\n",
            "1407/1407 [==============================] - 35s 20ms/step - loss: 0.9793 - accuracy: 0.6507 - val_loss: 1.3618 - val_accuracy: 0.5488\n",
            "Epoch 2/50\n",
            "1407/1407 [==============================] - 27s 19ms/step - loss: 0.9969 - accuracy: 0.6484 - val_loss: 1.3299 - val_accuracy: 0.5430\n",
            "Epoch 3/50\n",
            "1407/1407 [==============================] - 27s 19ms/step - loss: 0.9888 - accuracy: 0.6480 - val_loss: 1.3327 - val_accuracy: 0.5570\n",
            "Epoch 4/50\n",
            "1407/1407 [==============================] - 28s 20ms/step - loss: 0.9802 - accuracy: 0.6497 - val_loss: 1.3475 - val_accuracy: 0.5466\n",
            "Epoch 5/50\n",
            "1407/1407 [==============================] - 27s 19ms/step - loss: 0.9724 - accuracy: 0.6532 - val_loss: 1.3735 - val_accuracy: 0.5420\n",
            "Epoch 6/50\n",
            "1407/1407 [==============================] - 27s 19ms/step - loss: 0.9564 - accuracy: 0.6608 - val_loss: 1.3355 - val_accuracy: 0.5476\n",
            "Epoch 7/50\n",
            "1407/1407 [==============================] - 27s 19ms/step - loss: 0.9576 - accuracy: 0.6618 - val_loss: 1.3713 - val_accuracy: 0.5430\n",
            "Epoch 8/50\n",
            "1407/1407 [==============================] - 27s 19ms/step - loss: 0.9581 - accuracy: 0.6636 - val_loss: 1.3582 - val_accuracy: 0.5538\n",
            "Epoch 9/50\n",
            "1407/1407 [==============================] - 27s 19ms/step - loss: 0.9332 - accuracy: 0.6717 - val_loss: 1.3522 - val_accuracy: 0.5526\n",
            "Epoch 10/50\n",
            "1407/1407 [==============================] - 27s 20ms/step - loss: 0.9351 - accuracy: 0.6725 - val_loss: 1.3663 - val_accuracy: 0.5520\n",
            "Epoch 11/50\n",
            "1407/1407 [==============================] - 27s 19ms/step - loss: 0.9342 - accuracy: 0.6660 - val_loss: 1.3452 - val_accuracy: 0.5572\n",
            "Epoch 12/50\n",
            "1407/1407 [==============================] - 27s 19ms/step - loss: 0.9291 - accuracy: 0.6708 - val_loss: 1.3480 - val_accuracy: 0.5544\n",
            "Epoch 13/50\n",
            "1407/1407 [==============================] - 27s 19ms/step - loss: 0.9120 - accuracy: 0.6772 - val_loss: 1.3800 - val_accuracy: 0.5450\n",
            "Epoch 14/50\n",
            "1407/1407 [==============================] - 27s 19ms/step - loss: 0.9030 - accuracy: 0.6792 - val_loss: 1.3831 - val_accuracy: 0.5524\n",
            "Epoch 15/50\n",
            "1407/1407 [==============================] - 27s 19ms/step - loss: 0.9093 - accuracy: 0.6794 - val_loss: 1.3786 - val_accuracy: 0.5464\n",
            "Epoch 16/50\n",
            "1407/1407 [==============================] - 27s 19ms/step - loss: 0.8919 - accuracy: 0.6816 - val_loss: 1.3935 - val_accuracy: 0.5452\n",
            "Epoch 17/50\n",
            "1407/1407 [==============================] - 27s 19ms/step - loss: 0.8840 - accuracy: 0.6867 - val_loss: 1.4079 - val_accuracy: 0.5396\n",
            "Epoch 18/50\n",
            "1407/1407 [==============================] - 27s 19ms/step - loss: 0.8733 - accuracy: 0.6920 - val_loss: 1.3944 - val_accuracy: 0.5456\n",
            "Epoch 19/50\n",
            "1407/1407 [==============================] - 27s 19ms/step - loss: 0.8645 - accuracy: 0.6948 - val_loss: 1.4039 - val_accuracy: 0.5452\n",
            "Epoch 20/50\n",
            "1407/1407 [==============================] - 27s 19ms/step - loss: 0.8684 - accuracy: 0.6905 - val_loss: 1.3922 - val_accuracy: 0.5438\n",
            "Epoch 21/50\n",
            "1407/1407 [==============================] - 27s 19ms/step - loss: 0.8645 - accuracy: 0.6959 - val_loss: 1.3794 - val_accuracy: 0.5468\n",
            "Epoch 22/50\n",
            "1407/1407 [==============================] - 27s 19ms/step - loss: 0.8615 - accuracy: 0.6945 - val_loss: 1.4034 - val_accuracy: 0.5464\n",
            "CPU times: user 11min 41s, sys: 45.7 s, total: 12min 27s\n",
            "Wall time: 10min 5s\n"
          ],
          "name": "stdout"
        }
      ]
    },
    {
      "cell_type": "code",
      "metadata": {
        "colab": {
          "base_uri": "https://localhost:8080/",
          "height": 683
        },
        "id": "kTGBCKo8IlbA",
        "outputId": "0dd83a57-cdbf-4961-b06f-17a733bf705d"
      },
      "source": [
        "plot_graphs(history, \"accuracy\")\r\n",
        "plot_graphs(history, \"loss\")"
      ],
      "execution_count": null,
      "outputs": [
        {
          "output_type": "display_data",
          "data": {
            "image/png": "[encoded data removed]",
            "text/plain": [
              "<Figure size 864x360 with 1 Axes>"
            ]
          },
          "metadata": {
            "tags": [],
            "needs_background": "light"
          }
        },
        {
          "output_type": "display_data",
          "data": {
            "image/png": "[encoded data removed]",
            "text/plain": [
              "<Figure size 864x360 with 1 Axes>"
            ]
          },
          "metadata": {
            "tags": [],
            "needs_background": "light"
          }
        }
      ]
    },
    {
      "cell_type": "code",
      "metadata": {
        "colab": {
          "base_uri": "https://localhost:8080/"
        },
        "id": "2NpPtLBPKaLH",
        "outputId": "b733cc3d-86d4-48b6-afa2-91c254408217"
      },
      "source": [
        "model = keras.models.load_model(\"cifar10_bn.h5\")\r\n",
        "model.evaluate(X_val, y_val)"
      ],
      "execution_count": null,
      "outputs": [
        {
          "output_type": "stream",
          "text": [
            "157/157 [==============================] - 1s 3ms/step - loss: 1.3299 - accuracy: 0.5430\n"
          ],
          "name": "stdout"
        },
        {
          "output_type": "execute_result",
          "data": {
            "text/plain": [
              "[1.3299379348754883, 0.5429999828338623]"
            ]
          },
          "metadata": {
            "tags": []
          },
          "execution_count": 25
        }
      ]
    },
    {
      "cell_type": "code",
      "metadata": {
        "colab": {
          "base_uri": "https://localhost:8080/"
        },
        "id": "jWKwPjKgKaZe",
        "outputId": "7b871651-5b0f-4b48-f0f3-d142a874c2d2"
      },
      "source": [
        "model.evaluate(X_test, y_test)"
      ],
      "execution_count": null,
      "outputs": [
        {
          "output_type": "stream",
          "text": [
            "313/313 [==============================] - 1s 3ms/step - loss: 1.3613 - accuracy: 0.5286\n"
          ],
          "name": "stdout"
        },
        {
          "output_type": "execute_result",
          "data": {
            "text/plain": [
              "[1.361257553100586, 0.5285999774932861]"
            ]
          },
          "metadata": {
            "tags": []
          },
          "execution_count": 26
        }
      ]
    },
    {
      "cell_type": "markdown",
      "metadata": {
        "id": "17JlcdZ8Kccy"
      },
      "source": [
        "To answer the author's questions:\r\n",
        "\r\n",
        "*Is it converging faster than before?*  \r\n",
        "\r\n",
        "Unlike the author's finding's batch normalization was just as fast in converging as the previous model, with both taking 5 epochs to reach the lowest validation loss. It was expected that batch would be faster. \r\n",
        "\r\n",
        "*Does it produce a better model?* \r\n",
        "\r\n",
        "Yes, it produces a model with a 52% test accuracy verses 47% for the previous model.\r\n",
        "\r\n",
        "*How does it affect training speed?*\r\n",
        "\r\n",
        "Batch was considerably slower, as expected, at just over 11 minutes versus 3 minutes. "
      ]
    },
    {
      "cell_type": "markdown",
      "metadata": {
        "id": "OeDkdJDldJRU"
      },
      "source": [
        "##SELU\r\n",
        "\r\n",
        "*d. Try replacing Batch Normalization with SELU, and make the necessary adjust elements to ensure the network self-normalizes (i.e., standardize the input features, use LeCun normal initialization, make sure the DNN contains only a\r\n",
        "sequence of dense layers, etc.).*"
      ]
    },
    {
      "cell_type": "code",
      "metadata": {
        "id": "qxJgO2V0JG2a"
      },
      "source": [
        "keras.backend.clear_session()\r\n",
        "from numpy.random import seed\r\n",
        "seed(999)\r\n",
        "tf.random.set_seed(999) "
      ],
      "execution_count": null,
      "outputs": []
    },
    {
      "cell_type": "markdown",
      "metadata": {
        "id": "HU0HlnHOVcLR"
      },
      "source": [
        "In order to use SELU, we need to standardize the feature inputs, as the author suggested. That involves subtracting the mean of the training set from each of our sets and then dividing by the standard deviation of the training set."
      ]
    },
    {
      "cell_type": "code",
      "metadata": {
        "id": "MKwhPRlZVvOw"
      },
      "source": [
        "# Standardizing the input features for SELU\r\n",
        "X_mean = X_train.mean(axis=0)\r\n",
        "X_std = X_train.std(axis=0)\r\n",
        "X_train_scaled = (X_train - X_mean) / X_std\r\n",
        "X_val_scaled = (X_val - X_mean) / X_std\r\n",
        "X_test_scaled = (X_test - X_mean) / X_std"
      ],
      "execution_count": null,
      "outputs": []
    },
    {
      "cell_type": "markdown",
      "metadata": {
        "id": "lKt0_MN2JHuz"
      },
      "source": [
        "We'll now reset our model, in a sense, by taking out all of the BatchNormalization layers and using SELU for our 20 hidden activation layers. We'll also replace He with LeCun for the kernel initializer. "
      ]
    },
    {
      "cell_type": "code",
      "metadata": {
        "id": "VjwXmBi0J5Ny"
      },
      "source": [
        "model = keras.models.Sequential()\r\n",
        "model.add(keras.layers.Flatten(input_shape=[32, 32, 3]))\r\n",
        "for _ in range(20):\r\n",
        "    model.add(keras.layers.Dense(100,\r\n",
        "                                 kernel_initializer=\"lecun_normal\",\r\n",
        "                                 activation=\"selu\"))\r\n",
        "model.add(keras.layers.Dense(10, activation=\"softmax\"))"
      ],
      "execution_count": null,
      "outputs": []
    },
    {
      "cell_type": "code",
      "metadata": {
        "colab": {
          "base_uri": "https://localhost:8080/"
        },
        "id": "5b2Q45B-tw_s",
        "outputId": "5e268022-97c1-40ff-9433-7f55562e2120"
      },
      "source": [
        "# Power rate scheduler\r\n",
        "lr_scheduler = keras.callbacks.ReduceLROnPlateau(factor=0.5, patience=3)\r\n",
        "\r\n",
        "model = model\r\n",
        "\r\n",
        "optimizer = keras.optimizers.Nadam(lr=8e-4)\r\n",
        "model.compile(loss=\"sparse_categorical_crossentropy\", optimizer=optimizer, metrics=[\"accuracy\"])\r\n",
        "n_epochs = 50\r\n",
        "history = model.fit(X_train_scaled, y_train, epochs=n_epochs,\r\n",
        "                    validation_data=(X_val_scaled, y_val),\r\n",
        "                    callbacks=[lr_scheduler])"
      ],
      "execution_count": null,
      "outputs": [
        {
          "output_type": "stream",
          "text": [
            "Epoch 1/50\n",
            "1407/1407 [==============================] - 13s 8ms/step - loss: 2.0958 - accuracy: 0.2532 - val_loss: 1.9276 - val_accuracy: 0.3272\n",
            "Epoch 2/50\n",
            "1407/1407 [==============================] - 10s 7ms/step - loss: 1.7733 - accuracy: 0.3708 - val_loss: 1.7836 - val_accuracy: 0.3870\n",
            "Epoch 3/50\n",
            "1407/1407 [==============================] - 10s 7ms/step - loss: 1.6567 - accuracy: 0.4131 - val_loss: 1.6448 - val_accuracy: 0.4212\n",
            "Epoch 4/50\n",
            "1407/1407 [==============================] - 10s 7ms/step - loss: 1.5752 - accuracy: 0.4439 - val_loss: 1.6069 - val_accuracy: 0.4362\n",
            "Epoch 5/50\n",
            "1407/1407 [==============================] - 10s 7ms/step - loss: 1.5164 - accuracy: 0.4641 - val_loss: 1.5888 - val_accuracy: 0.4460\n",
            "Epoch 6/50\n",
            "1407/1407 [==============================] - 10s 7ms/step - loss: 1.4735 - accuracy: 0.4802 - val_loss: 1.5917 - val_accuracy: 0.4438\n",
            "Epoch 7/50\n",
            "1407/1407 [==============================] - 10s 7ms/step - loss: 1.4281 - accuracy: 0.4981 - val_loss: 1.5832 - val_accuracy: 0.4554\n",
            "Epoch 8/50\n",
            "1407/1407 [==============================] - 10s 7ms/step - loss: 1.3964 - accuracy: 0.5125 - val_loss: 1.5165 - val_accuracy: 0.4716\n",
            "Epoch 9/50\n",
            "1407/1407 [==============================] - 10s 7ms/step - loss: 1.3527 - accuracy: 0.5291 - val_loss: 1.5657 - val_accuracy: 0.4650\n",
            "Epoch 10/50\n",
            "1407/1407 [==============================] - 10s 7ms/step - loss: 1.3262 - accuracy: 0.5393 - val_loss: 1.5731 - val_accuracy: 0.4724\n",
            "Epoch 11/50\n",
            "1407/1407 [==============================] - 10s 7ms/step - loss: 1.3013 - accuracy: 0.5475 - val_loss: 1.5174 - val_accuracy: 0.4872\n",
            "Epoch 12/50\n",
            "1407/1407 [==============================] - 10s 7ms/step - loss: 1.1888 - accuracy: 0.5868 - val_loss: 1.4400 - val_accuracy: 0.4998\n",
            "Epoch 13/50\n",
            "1407/1407 [==============================] - 10s 7ms/step - loss: 1.1259 - accuracy: 0.6072 - val_loss: 1.4299 - val_accuracy: 0.5142\n",
            "Epoch 14/50\n",
            "1407/1407 [==============================] - 10s 7ms/step - loss: 1.0728 - accuracy: 0.6281 - val_loss: 1.4955 - val_accuracy: 0.5066\n",
            "Epoch 15/50\n",
            "1407/1407 [==============================] - 10s 7ms/step - loss: 1.0533 - accuracy: 0.6358 - val_loss: 1.4500 - val_accuracy: 0.5204\n",
            "Epoch 16/50\n",
            "1407/1407 [==============================] - 10s 7ms/step - loss: 1.0255 - accuracy: 0.6440 - val_loss: 1.5162 - val_accuracy: 0.5234\n",
            "Epoch 17/50\n",
            "1407/1407 [==============================] - 10s 7ms/step - loss: 0.9321 - accuracy: 0.6766 - val_loss: 1.5051 - val_accuracy: 0.5266\n",
            "Epoch 18/50\n",
            "1407/1407 [==============================] - 10s 7ms/step - loss: 0.8815 - accuracy: 0.6985 - val_loss: 1.5067 - val_accuracy: 0.5244\n",
            "Epoch 19/50\n",
            "1407/1407 [==============================] - 10s 7ms/step - loss: 0.8534 - accuracy: 0.7088 - val_loss: 1.5468 - val_accuracy: 0.5240\n",
            "Epoch 20/50\n",
            "1407/1407 [==============================] - 10s 7ms/step - loss: 0.8083 - accuracy: 0.7249 - val_loss: 1.5950 - val_accuracy: 0.5216\n",
            "Epoch 21/50\n",
            "1407/1407 [==============================] - 11s 8ms/step - loss: 0.7774 - accuracy: 0.7349 - val_loss: 1.6329 - val_accuracy: 0.5254\n",
            "Epoch 22/50\n",
            "1407/1407 [==============================] - 10s 7ms/step - loss: 0.7543 - accuracy: 0.7435 - val_loss: 1.6424 - val_accuracy: 0.5222\n",
            "Epoch 23/50\n",
            "1407/1407 [==============================] - 10s 7ms/step - loss: 0.7197 - accuracy: 0.7599 - val_loss: 1.6792 - val_accuracy: 0.5250\n",
            "Epoch 24/50\n",
            "1407/1407 [==============================] - 11s 7ms/step - loss: 0.7066 - accuracy: 0.7669 - val_loss: 1.6968 - val_accuracy: 0.5254\n",
            "Epoch 25/50\n",
            "1407/1407 [==============================] - 10s 7ms/step - loss: 0.6811 - accuracy: 0.7735 - val_loss: 1.7214 - val_accuracy: 0.5248\n",
            "Epoch 26/50\n",
            "1407/1407 [==============================] - 10s 7ms/step - loss: 0.6555 - accuracy: 0.7850 - val_loss: 1.7407 - val_accuracy: 0.5258\n",
            "Epoch 27/50\n",
            "1407/1407 [==============================] - 10s 7ms/step - loss: 0.6548 - accuracy: 0.7867 - val_loss: 1.7593 - val_accuracy: 0.5250\n",
            "Epoch 28/50\n",
            "1407/1407 [==============================] - 10s 7ms/step - loss: 0.6479 - accuracy: 0.7926 - val_loss: 1.7827 - val_accuracy: 0.5218\n",
            "Epoch 29/50\n",
            "1407/1407 [==============================] - 10s 7ms/step - loss: 0.6376 - accuracy: 0.7952 - val_loss: 1.8074 - val_accuracy: 0.5216\n",
            "Epoch 30/50\n",
            "1407/1407 [==============================] - 10s 7ms/step - loss: 0.6231 - accuracy: 0.7992 - val_loss: 1.8101 - val_accuracy: 0.5206\n",
            "Epoch 31/50\n",
            "1407/1407 [==============================] - 11s 8ms/step - loss: 0.6201 - accuracy: 0.7997 - val_loss: 1.8181 - val_accuracy: 0.5218\n",
            "Epoch 32/50\n",
            "1407/1407 [==============================] - 10s 7ms/step - loss: 0.6145 - accuracy: 0.8044 - val_loss: 1.8182 - val_accuracy: 0.5220\n",
            "Epoch 33/50\n",
            "1407/1407 [==============================] - 11s 8ms/step - loss: 0.6178 - accuracy: 0.7995 - val_loss: 1.8289 - val_accuracy: 0.5208\n",
            "Epoch 34/50\n",
            "1407/1407 [==============================] - 10s 7ms/step - loss: 0.6095 - accuracy: 0.8054 - val_loss: 1.8327 - val_accuracy: 0.5210\n",
            "Epoch 35/50\n",
            "1407/1407 [==============================] - 11s 8ms/step - loss: 0.5974 - accuracy: 0.8091 - val_loss: 1.8365 - val_accuracy: 0.5206\n",
            "Epoch 36/50\n",
            "1407/1407 [==============================] - 10s 7ms/step - loss: 0.6061 - accuracy: 0.8061 - val_loss: 1.8403 - val_accuracy: 0.5210\n",
            "Epoch 37/50\n",
            "1407/1407 [==============================] - 10s 7ms/step - loss: 0.6075 - accuracy: 0.8084 - val_loss: 1.8435 - val_accuracy: 0.5208\n",
            "Epoch 38/50\n",
            "1407/1407 [==============================] - 10s 7ms/step - loss: 0.5954 - accuracy: 0.8114 - val_loss: 1.8442 - val_accuracy: 0.5212\n",
            "Epoch 39/50\n",
            "1407/1407 [==============================] - 11s 7ms/step - loss: 0.5915 - accuracy: 0.8147 - val_loss: 1.8465 - val_accuracy: 0.5202\n",
            "Epoch 40/50\n",
            "1407/1407 [==============================] - 10s 7ms/step - loss: 0.6022 - accuracy: 0.8077 - val_loss: 1.8483 - val_accuracy: 0.5204\n",
            "Epoch 41/50\n",
            "1407/1407 [==============================] - 10s 7ms/step - loss: 0.5947 - accuracy: 0.8106 - val_loss: 1.8490 - val_accuracy: 0.5200\n",
            "Epoch 42/50\n",
            "1407/1407 [==============================] - 10s 7ms/step - loss: 0.5934 - accuracy: 0.8119 - val_loss: 1.8497 - val_accuracy: 0.5200\n",
            "Epoch 43/50\n",
            "1407/1407 [==============================] - 11s 7ms/step - loss: 0.5933 - accuracy: 0.8122 - val_loss: 1.8507 - val_accuracy: 0.5202\n",
            "Epoch 44/50\n",
            "1407/1407 [==============================] - 10s 7ms/step - loss: 0.6017 - accuracy: 0.8107 - val_loss: 1.8512 - val_accuracy: 0.5200\n",
            "Epoch 45/50\n",
            "1407/1407 [==============================] - 10s 7ms/step - loss: 0.5918 - accuracy: 0.8126 - val_loss: 1.8516 - val_accuracy: 0.5200\n",
            "Epoch 46/50\n",
            "1407/1407 [==============================] - 10s 7ms/step - loss: 0.6064 - accuracy: 0.8076 - val_loss: 1.8521 - val_accuracy: 0.5200\n",
            "Epoch 47/50\n",
            "1407/1407 [==============================] - 10s 7ms/step - loss: 0.5994 - accuracy: 0.8098 - val_loss: 1.8523 - val_accuracy: 0.5200\n",
            "Epoch 48/50\n",
            "1407/1407 [==============================] - 10s 7ms/step - loss: 0.5984 - accuracy: 0.8105 - val_loss: 1.8525 - val_accuracy: 0.5200\n",
            "Epoch 49/50\n",
            "1407/1407 [==============================] - 11s 7ms/step - loss: 0.5954 - accuracy: 0.8126 - val_loss: 1.8527 - val_accuracy: 0.5200\n",
            "Epoch 50/50\n",
            "1407/1407 [==============================] - 10s 7ms/step - loss: 0.5954 - accuracy: 0.8130 - val_loss: 1.8527 - val_accuracy: 0.5200\n"
          ],
          "name": "stdout"
        }
      ]
    },
    {
      "cell_type": "code",
      "metadata": {
        "colab": {
          "base_uri": "https://localhost:8080/",
          "height": 351
        },
        "id": "3zJFPYY4txC-",
        "outputId": "06a2c0d1-1713-4a55-c252-199806051729"
      },
      "source": [
        "plt.figure(figsize=(10,5))\r\n",
        "plt.plot(history.epoch, history.history[\"lr\"], \"bo-\")\r\n",
        "plt.xlabel(\"Epoch\")\r\n",
        "plt.ylabel(\"Learning Rate\", color='b')\r\n",
        "plt.tick_params('y', colors='b')\r\n",
        "plt.gca().set_xlim(0, n_epochs - 1)\r\n",
        "plt.grid(True)\r\n",
        "\r\n",
        "ax2 = plt.gca().twinx()\r\n",
        "ax2.plot(history.epoch, history.history[\"val_loss\"], \"r^-\")\r\n",
        "ax2.set_ylabel('Validation Loss', color='r')\r\n",
        "ax2.tick_params('y', colors='r')\r\n",
        "\r\n",
        "plt.title(\"Reduce LR on Plateau\", fontsize=14)\r\n",
        "plt.show()"
      ],
      "execution_count": null,
      "outputs": [
        {
          "output_type": "display_data",
          "data": {
            "image/png": "[encoded data removed]",
            "text/plain": [
              "<Figure size 720x360 with 2 Axes>"
            ]
          },
          "metadata": {
            "tags": [],
            "needs_background": "light"
          }
        }
      ]
    },
    {
      "cell_type": "markdown",
      "metadata": {
        "id": "PZ1f7oEW3Zs6"
      },
      "source": [
        "Again, the learning rate is similar to the author's 7e-4, though just slightly smaller."
      ]
    },
    {
      "cell_type": "code",
      "metadata": {
        "id": "84mQfysetxZL"
      },
      "source": [
        "keras.backend.clear_session()\r\n",
        "from numpy.random import seed\r\n",
        "seed(999)\r\n",
        "tf.random.set_seed(999) "
      ],
      "execution_count": null,
      "outputs": []
    },
    {
      "cell_type": "code",
      "metadata": {
        "id": "PzTHTwg3K6Na"
      },
      "source": [
        "model.compile(loss=\"sparse_categorical_crossentropy\",\r\n",
        "              optimizer=keras.optimizers.Nadam(lr=4e-4),\r\n",
        "              metrics=[\"accuracy\"])"
      ],
      "execution_count": null,
      "outputs": []
    },
    {
      "cell_type": "code",
      "metadata": {
        "id": "OfvgPu-iLDa_"
      },
      "source": [
        "cifar10_selu_callbacks = [\r\n",
        "    tf.keras.callbacks.EarlyStopping(patience=20, restore_best_weights=True),\r\n",
        "    tf.keras.callbacks.ModelCheckpoint(filepath='cifar10_selu.h5', save_best_only=True)\r\n",
        "]   "
      ],
      "execution_count": null,
      "outputs": []
    },
    {
      "cell_type": "code",
      "metadata": {
        "colab": {
          "base_uri": "https://localhost:8080/"
        },
        "id": "XIcOW4ByLDe2",
        "outputId": "2fba8f16-7176-45ec-dc20-eb5d2d3f9afb"
      },
      "source": [
        "%%time\r\n",
        "\r\n",
        "history = model.fit(X_train_scaled, y_train, epochs=50,\r\n",
        "          validation_data=(X_val_scaled, y_val),\r\n",
        "          callbacks=cifar10_selu_callbacks, \r\n",
        "          verbose=1)"
      ],
      "execution_count": null,
      "outputs": [
        {
          "output_type": "stream",
          "text": [
            "Epoch 1/50\n",
            "1407/1407 [==============================] - 13s 8ms/step - loss: 0.8168 - accuracy: 0.7253 - val_loss: 1.6408 - val_accuracy: 0.5114\n",
            "Epoch 2/50\n",
            "1407/1407 [==============================] - 11s 8ms/step - loss: 0.8451 - accuracy: 0.7147 - val_loss: 1.6215 - val_accuracy: 0.5104\n",
            "Epoch 3/50\n",
            "1407/1407 [==============================] - 10s 7ms/step - loss: 0.8394 - accuracy: 0.7140 - val_loss: 1.6530 - val_accuracy: 0.5084\n",
            "Epoch 4/50\n",
            "1407/1407 [==============================] - 11s 7ms/step - loss: 0.8260 - accuracy: 0.7201 - val_loss: 1.6556 - val_accuracy: 0.5160\n",
            "Epoch 5/50\n",
            "1407/1407 [==============================] - 11s 8ms/step - loss: 0.8166 - accuracy: 0.7243 - val_loss: 1.6339 - val_accuracy: 0.5144\n",
            "Epoch 6/50\n",
            "1407/1407 [==============================] - 11s 7ms/step - loss: 0.8034 - accuracy: 0.7305 - val_loss: 1.6657 - val_accuracy: 0.5076\n",
            "Epoch 7/50\n",
            "1407/1407 [==============================] - 11s 7ms/step - loss: 0.7855 - accuracy: 0.7364 - val_loss: 1.6864 - val_accuracy: 0.5076\n",
            "Epoch 8/50\n",
            "1407/1407 [==============================] - 11s 7ms/step - loss: 0.7799 - accuracy: 0.7401 - val_loss: 1.7625 - val_accuracy: 0.5066\n",
            "Epoch 9/50\n",
            "1407/1407 [==============================] - 11s 7ms/step - loss: 0.7615 - accuracy: 0.7470 - val_loss: 1.7215 - val_accuracy: 0.4978\n",
            "Epoch 10/50\n",
            "1407/1407 [==============================] - 11s 8ms/step - loss: 0.7488 - accuracy: 0.7510 - val_loss: 1.7347 - val_accuracy: 0.5122\n",
            "Epoch 11/50\n",
            "1407/1407 [==============================] - 11s 8ms/step - loss: 0.7446 - accuracy: 0.7516 - val_loss: 1.8589 - val_accuracy: 0.5064\n",
            "Epoch 12/50\n",
            "1407/1407 [==============================] - 11s 8ms/step - loss: 0.7207 - accuracy: 0.7631 - val_loss: 1.7387 - val_accuracy: 0.5106\n",
            "Epoch 13/50\n",
            "1407/1407 [==============================] - 11s 8ms/step - loss: 0.7165 - accuracy: 0.7595 - val_loss: 1.7090 - val_accuracy: 0.5040\n",
            "Epoch 14/50\n",
            "1407/1407 [==============================] - 11s 8ms/step - loss: 0.6930 - accuracy: 0.7710 - val_loss: 1.7012 - val_accuracy: 0.5130\n",
            "Epoch 15/50\n",
            "1407/1407 [==============================] - 10s 7ms/step - loss: 0.6922 - accuracy: 0.7707 - val_loss: 1.8064 - val_accuracy: 0.5112\n",
            "Epoch 16/50\n",
            "1407/1407 [==============================] - 10s 7ms/step - loss: 0.6827 - accuracy: 0.7788 - val_loss: 1.8936 - val_accuracy: 0.5094\n",
            "Epoch 17/50\n",
            "1407/1407 [==============================] - 11s 8ms/step - loss: 0.6666 - accuracy: 0.7822 - val_loss: 1.8198 - val_accuracy: 0.5108\n",
            "Epoch 18/50\n",
            "1407/1407 [==============================] - 10s 7ms/step - loss: 0.6449 - accuracy: 0.7884 - val_loss: 1.8292 - val_accuracy: 0.5118\n",
            "Epoch 19/50\n",
            "1407/1407 [==============================] - 11s 8ms/step - loss: 0.6468 - accuracy: 0.7902 - val_loss: 1.8166 - val_accuracy: 0.5006\n",
            "Epoch 20/50\n",
            "1407/1407 [==============================] - 11s 8ms/step - loss: 0.6368 - accuracy: 0.7937 - val_loss: 1.8981 - val_accuracy: 0.5042\n",
            "Epoch 21/50\n",
            "1407/1407 [==============================] - 11s 8ms/step - loss: 0.6238 - accuracy: 0.7965 - val_loss: 1.8811 - val_accuracy: 0.5134\n",
            "Epoch 22/50\n",
            "1407/1407 [==============================] - 10s 7ms/step - loss: 0.6143 - accuracy: 0.8020 - val_loss: 1.8864 - val_accuracy: 0.5052\n",
            "CPU times: user 4min 20s, sys: 22.3 s, total: 4min 42s\n",
            "Wall time: 3min 55s\n"
          ],
          "name": "stdout"
        }
      ]
    },
    {
      "cell_type": "code",
      "metadata": {
        "colab": {
          "base_uri": "https://localhost:8080/",
          "height": 683
        },
        "id": "DqnejHkZLDq8",
        "outputId": "f6b714ae-7632-4f1c-d91a-36c21d15dc3e"
      },
      "source": [
        "plot_graphs(history, \"accuracy\")\r\n",
        "plot_graphs(history, \"loss\")"
      ],
      "execution_count": null,
      "outputs": [
        {
          "output_type": "display_data",
          "data": {
            "image/png": "[encoded data removed]",
            "text/plain": [
              "<Figure size 864x360 with 1 Axes>"
            ]
          },
          "metadata": {
            "tags": [],
            "needs_background": "light"
          }
        },
        {
          "output_type": "display_data",
          "data": {
            "image/png": "[encoded data removed]",
            "text/plain": [
              "<Figure size 864x360 with 1 Axes>"
            ]
          },
          "metadata": {
            "tags": [],
            "needs_background": "light"
          }
        }
      ]
    },
    {
      "cell_type": "code",
      "metadata": {
        "colab": {
          "base_uri": "https://localhost:8080/"
        },
        "id": "mlQ3i7JQLDyK",
        "outputId": "fd0b5059-526e-4339-934e-22258d732e85"
      },
      "source": [
        "model = keras.models.load_model(\"cifar10_selu.h5\")\r\n",
        "model.evaluate(X_val_scaled, y_val)"
      ],
      "execution_count": null,
      "outputs": [
        {
          "output_type": "stream",
          "text": [
            "157/157 [==============================] - 1s 2ms/step - loss: 1.6215 - accuracy: 0.5104\n"
          ],
          "name": "stdout"
        },
        {
          "output_type": "execute_result",
          "data": {
            "text/plain": [
              "[1.6214789152145386, 0.5103999972343445]"
            ]
          },
          "metadata": {
            "tags": []
          },
          "execution_count": 37
        }
      ]
    },
    {
      "cell_type": "code",
      "metadata": {
        "colab": {
          "base_uri": "https://localhost:8080/"
        },
        "id": "a0U2YXQoMEuL",
        "outputId": "04fbc5a6-a458-44aa-8ed4-b4f29df56087"
      },
      "source": [
        "model.evaluate(X_test_scaled, y_test)"
      ],
      "execution_count": null,
      "outputs": [
        {
          "output_type": "stream",
          "text": [
            "313/313 [==============================] - 1s 2ms/step - loss: 1.6224 - accuracy: 0.5030\n"
          ],
          "name": "stdout"
        },
        {
          "output_type": "execute_result",
          "data": {
            "text/plain": [
              "[1.6224108934402466, 0.503000020980835]"
            ]
          },
          "metadata": {
            "tags": []
          },
          "execution_count": 38
        }
      ]
    },
    {
      "cell_type": "markdown",
      "metadata": {
        "id": "YX2xuAJMJCXD"
      },
      "source": [
        "The accuracy was not as high as the batch normalization model, though it was considerably faster."
      ]
    },
    {
      "cell_type": "markdown",
      "metadata": {
        "id": "6Joyan4OdJYB"
      },
      "source": [
        "##Alpha and MC Dropout \r\n",
        "\r\n",
        "*e. Try regularizing the model with alpha dropout. Then, without retraining your\r\n",
        "model, see if you can achieve better accuracy using MC Dropout.*"
      ]
    },
    {
      "cell_type": "code",
      "metadata": {
        "id": "xjSAju0qNwnl"
      },
      "source": [
        "keras.backend.clear_session()\r\n",
        "from numpy.random import seed\r\n",
        "seed(999)\r\n",
        "tf.random.set_seed(999) "
      ],
      "execution_count": null,
      "outputs": []
    },
    {
      "cell_type": "markdown",
      "metadata": {
        "id": "EZHnSBLnNNna"
      },
      "source": [
        "We'll keep the same model that we used in part e, but we'll now add an AlphaDropout layer between the Dense layers and the output layer."
      ]
    },
    {
      "cell_type": "code",
      "metadata": {
        "id": "kaQCI6SWMZjZ"
      },
      "source": [
        "model = keras.models.Sequential()\r\n",
        "model.add(keras.layers.Flatten(input_shape=[32, 32, 3]))\r\n",
        "for _ in range(20):\r\n",
        "    model.add(keras.layers.Dense(100,\r\n",
        "                                 kernel_initializer=\"lecun_normal\",\r\n",
        "                                 activation=\"selu\"))\r\n",
        "\r\n",
        "model.add(keras.layers.AlphaDropout(rate=0.1))\r\n",
        "model.add(keras.layers.Dense(10, activation=\"softmax\"))"
      ],
      "execution_count": null,
      "outputs": []
    },
    {
      "cell_type": "code",
      "metadata": {
        "colab": {
          "base_uri": "https://localhost:8080/"
        },
        "id": "9SAhf2FtuiOQ",
        "outputId": "4364bcee-1c26-470b-af2c-349ffe1e6b63"
      },
      "source": [
        "# Performance learning rate scheduler\r\n",
        "lr_scheduler = keras.callbacks.ReduceLROnPlateau(factor=0.5, patience=3)\r\n",
        "\r\n",
        "model = model\r\n",
        "\r\n",
        "optimizer = keras.optimizers.Nadam(lr=6e-4)\r\n",
        "model.compile(loss=\"sparse_categorical_crossentropy\", optimizer=optimizer, metrics=[\"accuracy\"])\r\n",
        "n_epochs = 50\r\n",
        "history = model.fit(X_train_scaled, y_train, epochs=n_epochs,\r\n",
        "                    validation_data=(X_val_scaled, y_val),\r\n",
        "                    callbacks=[lr_scheduler])"
      ],
      "execution_count": null,
      "outputs": [
        {
          "output_type": "stream",
          "text": [
            "Epoch 1/50\n",
            "1407/1407 [==============================] - 13s 8ms/step - loss: 2.0836 - accuracy: 0.2647 - val_loss: 1.7635 - val_accuracy: 0.3750\n",
            "Epoch 2/50\n",
            "1407/1407 [==============================] - 11s 8ms/step - loss: 1.7046 - accuracy: 0.4008 - val_loss: 1.6967 - val_accuracy: 0.4138\n",
            "Epoch 3/50\n",
            "1407/1407 [==============================] - 11s 8ms/step - loss: 1.6004 - accuracy: 0.4351 - val_loss: 1.6579 - val_accuracy: 0.4304\n",
            "Epoch 4/50\n",
            "1407/1407 [==============================] - 11s 8ms/step - loss: 1.5320 - accuracy: 0.4642 - val_loss: 1.5605 - val_accuracy: 0.4498\n",
            "Epoch 5/50\n",
            "1407/1407 [==============================] - 11s 8ms/step - loss: 1.4679 - accuracy: 0.4838 - val_loss: 1.5834 - val_accuracy: 0.4692\n",
            "Epoch 6/50\n",
            "1407/1407 [==============================] - 11s 8ms/step - loss: 1.4207 - accuracy: 0.5051 - val_loss: 1.5651 - val_accuracy: 0.4680\n",
            "Epoch 7/50\n",
            "1407/1407 [==============================] - 11s 8ms/step - loss: 1.3834 - accuracy: 0.5168 - val_loss: 1.5385 - val_accuracy: 0.4734\n",
            "Epoch 8/50\n",
            "1407/1407 [==============================] - 11s 7ms/step - loss: 1.3414 - accuracy: 0.5348 - val_loss: 1.6184 - val_accuracy: 0.4872\n",
            "Epoch 9/50\n",
            "1407/1407 [==============================] - 11s 8ms/step - loss: 1.3085 - accuracy: 0.5451 - val_loss: 1.5642 - val_accuracy: 0.4878\n",
            "Epoch 10/50\n",
            "1407/1407 [==============================] - 11s 8ms/step - loss: 1.2804 - accuracy: 0.5547 - val_loss: 1.5662 - val_accuracy: 0.4880\n",
            "Epoch 11/50\n",
            "1407/1407 [==============================] - 11s 8ms/step - loss: 1.1690 - accuracy: 0.5973 - val_loss: 1.5767 - val_accuracy: 0.5096\n",
            "Epoch 12/50\n",
            "1407/1407 [==============================] - 11s 8ms/step - loss: 1.0987 - accuracy: 0.6165 - val_loss: 1.5206 - val_accuracy: 0.5066\n",
            "Epoch 13/50\n",
            "1407/1407 [==============================] - 11s 8ms/step - loss: 1.0690 - accuracy: 0.6287 - val_loss: 1.5571 - val_accuracy: 0.5100\n",
            "Epoch 14/50\n",
            "1407/1407 [==============================] - 11s 8ms/step - loss: 1.0220 - accuracy: 0.6417 - val_loss: 1.5807 - val_accuracy: 0.5128\n",
            "Epoch 15/50\n",
            "1407/1407 [==============================] - 11s 8ms/step - loss: 1.0034 - accuracy: 0.6541 - val_loss: 1.5564 - val_accuracy: 0.5126\n",
            "Epoch 16/50\n",
            "1407/1407 [==============================] - 11s 8ms/step - loss: 0.9182 - accuracy: 0.6835 - val_loss: 1.7026 - val_accuracy: 0.5158\n",
            "Epoch 17/50\n",
            "1407/1407 [==============================] - 11s 8ms/step - loss: 0.8643 - accuracy: 0.7008 - val_loss: 1.6895 - val_accuracy: 0.5136\n",
            "Epoch 18/50\n",
            "1407/1407 [==============================] - 11s 8ms/step - loss: 0.8326 - accuracy: 0.7112 - val_loss: 1.7098 - val_accuracy: 0.5176\n",
            "Epoch 19/50\n",
            "1407/1407 [==============================] - 11s 8ms/step - loss: 0.7775 - accuracy: 0.7308 - val_loss: 1.8752 - val_accuracy: 0.5134\n",
            "Epoch 20/50\n",
            "1407/1407 [==============================] - 11s 8ms/step - loss: 0.7474 - accuracy: 0.7393 - val_loss: 1.8697 - val_accuracy: 0.5190\n",
            "Epoch 21/50\n",
            "1407/1407 [==============================] - 11s 8ms/step - loss: 0.7260 - accuracy: 0.7505 - val_loss: 1.9083 - val_accuracy: 0.5188\n",
            "Epoch 22/50\n",
            "1407/1407 [==============================] - 11s 8ms/step - loss: 0.6919 - accuracy: 0.7626 - val_loss: 2.0058 - val_accuracy: 0.5096\n",
            "Epoch 23/50\n",
            "1407/1407 [==============================] - 11s 8ms/step - loss: 0.6808 - accuracy: 0.7679 - val_loss: 2.0639 - val_accuracy: 0.5142\n",
            "Epoch 24/50\n",
            "1407/1407 [==============================] - 11s 8ms/step - loss: 0.6594 - accuracy: 0.7752 - val_loss: 2.1102 - val_accuracy: 0.5160\n",
            "Epoch 25/50\n",
            "1407/1407 [==============================] - 11s 8ms/step - loss: 0.6369 - accuracy: 0.7831 - val_loss: 2.1417 - val_accuracy: 0.5146\n",
            "Epoch 26/50\n",
            "1407/1407 [==============================] - 11s 8ms/step - loss: 0.6150 - accuracy: 0.7915 - val_loss: 2.1751 - val_accuracy: 0.5144\n",
            "Epoch 27/50\n",
            "1407/1407 [==============================] - 11s 8ms/step - loss: 0.6288 - accuracy: 0.7865 - val_loss: 2.1811 - val_accuracy: 0.5130\n",
            "Epoch 28/50\n",
            "1407/1407 [==============================] - 11s 8ms/step - loss: 0.6074 - accuracy: 0.7963 - val_loss: 2.2180 - val_accuracy: 0.5132\n",
            "Epoch 29/50\n",
            "1407/1407 [==============================] - 11s 8ms/step - loss: 0.6059 - accuracy: 0.7974 - val_loss: 2.2412 - val_accuracy: 0.5116\n",
            "Epoch 30/50\n",
            "1407/1407 [==============================] - 11s 8ms/step - loss: 0.6024 - accuracy: 0.7952 - val_loss: 2.2597 - val_accuracy: 0.5132\n",
            "Epoch 31/50\n",
            "1407/1407 [==============================] - 11s 8ms/step - loss: 0.5934 - accuracy: 0.8002 - val_loss: 2.2692 - val_accuracy: 0.5106\n",
            "Epoch 32/50\n",
            "1407/1407 [==============================] - 11s 8ms/step - loss: 0.5915 - accuracy: 0.8006 - val_loss: 2.2772 - val_accuracy: 0.5096\n",
            "Epoch 33/50\n",
            "1407/1407 [==============================] - 11s 8ms/step - loss: 0.5931 - accuracy: 0.7994 - val_loss: 2.2878 - val_accuracy: 0.5112\n",
            "Epoch 34/50\n",
            "1407/1407 [==============================] - 11s 8ms/step - loss: 0.5895 - accuracy: 0.8034 - val_loss: 2.2907 - val_accuracy: 0.5120\n",
            "Epoch 35/50\n",
            "1407/1407 [==============================] - 11s 8ms/step - loss: 0.5806 - accuracy: 0.8066 - val_loss: 2.2953 - val_accuracy: 0.5108\n",
            "Epoch 36/50\n",
            "1407/1407 [==============================] - 11s 8ms/step - loss: 0.5934 - accuracy: 0.8017 - val_loss: 2.2993 - val_accuracy: 0.5106\n",
            "Epoch 37/50\n",
            "1407/1407 [==============================] - 11s 8ms/step - loss: 0.5913 - accuracy: 0.8025 - val_loss: 2.3032 - val_accuracy: 0.5106\n",
            "Epoch 38/50\n",
            "1407/1407 [==============================] - 11s 8ms/step - loss: 0.5776 - accuracy: 0.8084 - val_loss: 2.3049 - val_accuracy: 0.5104\n",
            "Epoch 39/50\n",
            "1407/1407 [==============================] - 11s 8ms/step - loss: 0.5820 - accuracy: 0.8065 - val_loss: 2.3085 - val_accuracy: 0.5098\n",
            "Epoch 40/50\n",
            "1407/1407 [==============================] - 11s 8ms/step - loss: 0.5812 - accuracy: 0.8052 - val_loss: 2.3101 - val_accuracy: 0.5104\n",
            "Epoch 41/50\n",
            "1407/1407 [==============================] - 11s 8ms/step - loss: 0.5787 - accuracy: 0.8073 - val_loss: 2.3111 - val_accuracy: 0.5106\n",
            "Epoch 42/50\n",
            "1407/1407 [==============================] - 11s 8ms/step - loss: 0.5815 - accuracy: 0.8062 - val_loss: 2.3123 - val_accuracy: 0.5098\n",
            "Epoch 43/50\n",
            "1407/1407 [==============================] - 11s 8ms/step - loss: 0.5788 - accuracy: 0.8071 - val_loss: 2.3129 - val_accuracy: 0.5100\n",
            "Epoch 44/50\n",
            "1407/1407 [==============================] - 11s 8ms/step - loss: 0.5838 - accuracy: 0.8038 - val_loss: 2.3137 - val_accuracy: 0.5100\n",
            "Epoch 45/50\n",
            "1407/1407 [==============================] - 11s 8ms/step - loss: 0.5751 - accuracy: 0.8062 - val_loss: 2.3140 - val_accuracy: 0.5100\n",
            "Epoch 46/50\n",
            "1407/1407 [==============================] - 11s 8ms/step - loss: 0.5794 - accuracy: 0.8049 - val_loss: 2.3144 - val_accuracy: 0.5102\n",
            "Epoch 47/50\n",
            "1407/1407 [==============================] - 11s 8ms/step - loss: 0.5786 - accuracy: 0.8053 - val_loss: 2.3147 - val_accuracy: 0.5100\n",
            "Epoch 48/50\n",
            "1407/1407 [==============================] - 11s 8ms/step - loss: 0.5894 - accuracy: 0.8027 - val_loss: 2.3148 - val_accuracy: 0.5100\n",
            "Epoch 49/50\n",
            "1407/1407 [==============================] - 11s 8ms/step - loss: 0.5807 - accuracy: 0.8050 - val_loss: 2.3151 - val_accuracy: 0.5100\n",
            "Epoch 50/50\n",
            "1407/1407 [==============================] - 11s 8ms/step - loss: 0.5757 - accuracy: 0.8088 - val_loss: 2.3153 - val_accuracy: 0.5102\n"
          ],
          "name": "stdout"
        }
      ]
    },
    {
      "cell_type": "code",
      "metadata": {
        "colab": {
          "base_uri": "https://localhost:8080/",
          "height": 351
        },
        "id": "RiWyQcS7uiRt",
        "outputId": "6dee4c05-213b-4637-847c-a39d7da108f5"
      },
      "source": [
        "plt.figure(figsize=(10,5))\r\n",
        "plt.plot(history.epoch, history.history[\"lr\"], \"bo-\")\r\n",
        "plt.xlabel(\"Epoch\")\r\n",
        "plt.ylabel(\"Learning Rate\", color='b')\r\n",
        "plt.tick_params('y', colors='b')\r\n",
        "plt.gca().set_xlim(0, n_epochs - 1)\r\n",
        "plt.grid(True)\r\n",
        "\r\n",
        "ax2 = plt.gca().twinx()\r\n",
        "ax2.plot(history.epoch, history.history[\"val_loss\"], \"r^-\")\r\n",
        "ax2.set_ylabel('Validation Loss', color='r')\r\n",
        "ax2.tick_params('y', colors='r')\r\n",
        "\r\n",
        "plt.title(\"Reduce LR on Plateau\", fontsize=14)\r\n",
        "plt.show()"
      ],
      "execution_count": null,
      "outputs": [
        {
          "output_type": "display_data",
          "data": {
            "image/png": "[encoded data removed]",
            "text/plain": [
              "<Figure size 720x360 with 2 Axes>"
            ]
          },
          "metadata": {
            "tags": [],
            "needs_background": "light"
          }
        }
      ]
    },
    {
      "cell_type": "markdown",
      "metadata": {
        "id": "6n5c8Kdw30a9"
      },
      "source": [
        "The author used a learning rate of 5e-4, and our learning rate is close to that. Though it is interesting to note that, unlike our other models, the validation loss increases dramatically after a certain learning rate. Perhaps a larger learning rate is just not able to find the ideal minimum. "
      ]
    },
    {
      "cell_type": "code",
      "metadata": {
        "id": "ueh5MCehRV3m"
      },
      "source": [
        "keras.backend.clear_session()\r\n",
        "from numpy.random import seed\r\n",
        "seed(999)\r\n",
        "tf.random.set_seed(999) "
      ],
      "execution_count": null,
      "outputs": []
    },
    {
      "cell_type": "code",
      "metadata": {
        "id": "tCH2J_f6N4ov"
      },
      "source": [
        "model.compile(loss=\"sparse_categorical_crossentropy\",\r\n",
        "              optimizer=keras.optimizers.Nadam(lr=3e-4),\r\n",
        "              metrics=[\"accuracy\"])"
      ],
      "execution_count": null,
      "outputs": []
    },
    {
      "cell_type": "code",
      "metadata": {
        "id": "x7lP-Fc_N4vL"
      },
      "source": [
        "cifar10_alpha_callbacks = [\r\n",
        "    tf.keras.callbacks.EarlyStopping(patience=20, restore_best_weights=True),\r\n",
        "    tf.keras.callbacks.ModelCheckpoint(filepath='cifar10_alpha.h5', save_best_only=True)\r\n",
        "]   "
      ],
      "execution_count": null,
      "outputs": []
    },
    {
      "cell_type": "code",
      "metadata": {
        "colab": {
          "base_uri": "https://localhost:8080/"
        },
        "id": "mvTPBUIeN400",
        "outputId": "b8b7bff4-e457-4290-c5af-a7747c170ca0"
      },
      "source": [
        "%%time\r\n",
        "\r\n",
        "history = model.fit(X_train_scaled, y_train, epochs=50,\r\n",
        "          validation_data=(X_val_scaled, y_val),\r\n",
        "          callbacks=cifar10_alpha_callbacks, \r\n",
        "          verbose=1)"
      ],
      "execution_count": null,
      "outputs": [
        {
          "output_type": "stream",
          "text": [
            "Epoch 1/50\n",
            "1407/1407 [==============================] - 13s 8ms/step - loss: 0.7875 - accuracy: 0.7323 - val_loss: 1.9019 - val_accuracy: 0.5068\n",
            "Epoch 2/50\n",
            "1407/1407 [==============================] - 10s 7ms/step - loss: 0.8120 - accuracy: 0.7234 - val_loss: 1.8533 - val_accuracy: 0.5070\n",
            "Epoch 3/50\n",
            "1407/1407 [==============================] - 11s 7ms/step - loss: 0.7974 - accuracy: 0.7261 - val_loss: 2.0019 - val_accuracy: 0.5162\n",
            "Epoch 4/50\n",
            "1407/1407 [==============================] - 11s 8ms/step - loss: 0.7898 - accuracy: 0.7333 - val_loss: 1.8190 - val_accuracy: 0.5098\n",
            "Epoch 5/50\n",
            "1407/1407 [==============================] - 10s 7ms/step - loss: 0.7618 - accuracy: 0.7408 - val_loss: 1.9113 - val_accuracy: 0.5128\n",
            "Epoch 6/50\n",
            "1407/1407 [==============================] - 10s 7ms/step - loss: 0.7510 - accuracy: 0.7471 - val_loss: 2.0283 - val_accuracy: 0.5054\n",
            "Epoch 7/50\n",
            "1407/1407 [==============================] - 10s 7ms/step - loss: 0.7398 - accuracy: 0.7504 - val_loss: 1.9378 - val_accuracy: 0.5126\n",
            "Epoch 8/50\n",
            "1407/1407 [==============================] - 10s 7ms/step - loss: 0.7322 - accuracy: 0.7515 - val_loss: 2.0794 - val_accuracy: 0.5102\n",
            "Epoch 9/50\n",
            "1407/1407 [==============================] - 10s 7ms/step - loss: 0.7127 - accuracy: 0.7593 - val_loss: 1.9666 - val_accuracy: 0.5056\n",
            "Epoch 10/50\n",
            "1407/1407 [==============================] - 10s 7ms/step - loss: 0.7011 - accuracy: 0.7665 - val_loss: 2.1244 - val_accuracy: 0.5048\n",
            "Epoch 11/50\n",
            "1407/1407 [==============================] - 10s 7ms/step - loss: 0.6878 - accuracy: 0.7662 - val_loss: 2.1749 - val_accuracy: 0.5026\n",
            "Epoch 12/50\n",
            "1407/1407 [==============================] - 10s 7ms/step - loss: 0.6750 - accuracy: 0.7760 - val_loss: 2.1308 - val_accuracy: 0.5042\n",
            "Epoch 13/50\n",
            "1407/1407 [==============================] - 10s 7ms/step - loss: 0.6620 - accuracy: 0.7773 - val_loss: 2.0677 - val_accuracy: 0.5046\n",
            "Epoch 14/50\n",
            "1407/1407 [==============================] - 10s 7ms/step - loss: 0.6440 - accuracy: 0.7840 - val_loss: 2.2172 - val_accuracy: 0.5080\n",
            "Epoch 15/50\n",
            "1407/1407 [==============================] - 10s 7ms/step - loss: 0.6338 - accuracy: 0.7896 - val_loss: 2.2024 - val_accuracy: 0.5046\n",
            "Epoch 16/50\n",
            "1407/1407 [==============================] - 10s 7ms/step - loss: 0.6356 - accuracy: 0.7876 - val_loss: 2.2336 - val_accuracy: 0.5100\n",
            "Epoch 17/50\n",
            "1407/1407 [==============================] - 10s 7ms/step - loss: 0.6051 - accuracy: 0.8015 - val_loss: 2.1546 - val_accuracy: 0.5020\n",
            "Epoch 18/50\n",
            "1407/1407 [==============================] - 10s 7ms/step - loss: 0.5991 - accuracy: 0.7999 - val_loss: 2.3759 - val_accuracy: 0.5010\n",
            "Epoch 19/50\n",
            "1407/1407 [==============================] - 10s 7ms/step - loss: 0.5785 - accuracy: 0.8095 - val_loss: 2.3469 - val_accuracy: 0.4980\n",
            "Epoch 20/50\n",
            "1407/1407 [==============================] - 10s 7ms/step - loss: 0.6774 - accuracy: 0.7778 - val_loss: 2.2615 - val_accuracy: 0.5012\n",
            "Epoch 21/50\n",
            "1407/1407 [==============================] - 10s 7ms/step - loss: 0.5554 - accuracy: 0.8189 - val_loss: 2.3360 - val_accuracy: 0.5052\n",
            "Epoch 22/50\n",
            "1407/1407 [==============================] - 11s 7ms/step - loss: 0.5454 - accuracy: 0.8228 - val_loss: 2.4045 - val_accuracy: 0.5028\n",
            "Epoch 23/50\n",
            "1407/1407 [==============================] - 11s 7ms/step - loss: 0.5374 - accuracy: 0.8219 - val_loss: 2.5448 - val_accuracy: 0.5002\n",
            "Epoch 24/50\n",
            "1407/1407 [==============================] - 10s 7ms/step - loss: 0.5458 - accuracy: 0.8210 - val_loss: 2.5638 - val_accuracy: 0.5012\n",
            "CPU times: user 4min 34s, sys: 17 s, total: 4min 51s\n",
            "Wall time: 4min 13s\n"
          ],
          "name": "stdout"
        }
      ]
    },
    {
      "cell_type": "code",
      "metadata": {
        "colab": {
          "base_uri": "https://localhost:8080/",
          "height": 683
        },
        "id": "GcQ4WBGnN43v",
        "outputId": "9a29e25b-cb3a-41c4-9392-7bb78b789064"
      },
      "source": [
        "plot_graphs(history, \"accuracy\")\r\n",
        "plot_graphs(history, \"loss\")"
      ],
      "execution_count": null,
      "outputs": [
        {
          "output_type": "display_data",
          "data": {
            "image/png": "[encoded data removed]",
            "text/plain": [
              "<Figure size 864x360 with 1 Axes>"
            ]
          },
          "metadata": {
            "tags": [],
            "needs_background": "light"
          }
        },
        {
          "output_type": "display_data",
          "data": {
            "image/png": "[encoded data removed]",
            "text/plain": [
              "<Figure size 864x360 with 1 Axes>"
            ]
          },
          "metadata": {
            "tags": [],
            "needs_background": "light"
          }
        }
      ]
    },
    {
      "cell_type": "code",
      "metadata": {
        "colab": {
          "base_uri": "https://localhost:8080/"
        },
        "id": "C0NXS8YZN463",
        "outputId": "2cb2325f-78b7-4d65-9844-aa03d4adaf0f"
      },
      "source": [
        "model = keras.models.load_model(\"cifar10_alpha.h5\")\r\n",
        "model.evaluate(X_val_scaled, y_val)"
      ],
      "execution_count": null,
      "outputs": [
        {
          "output_type": "stream",
          "text": [
            "157/157 [==============================] - 1s 2ms/step - loss: 1.8190 - accuracy: 0.5098\n"
          ],
          "name": "stdout"
        },
        {
          "output_type": "execute_result",
          "data": {
            "text/plain": [
              "[1.8190052509307861, 0.5098000168800354]"
            ]
          },
          "metadata": {
            "tags": []
          },
          "execution_count": 49
        }
      ]
    },
    {
      "cell_type": "code",
      "metadata": {
        "colab": {
          "base_uri": "https://localhost:8080/"
        },
        "id": "in04oC2QOTCd",
        "outputId": "7ea8647a-a6f5-4d21-9602-cda47017e029"
      },
      "source": [
        "model.evaluate(X_test_scaled, y_test)"
      ],
      "execution_count": null,
      "outputs": [
        {
          "output_type": "stream",
          "text": [
            "313/313 [==============================] - 1s 2ms/step - loss: 1.7976 - accuracy: 0.5130\n"
          ],
          "name": "stdout"
        },
        {
          "output_type": "execute_result",
          "data": {
            "text/plain": [
              "[1.7976340055465698, 0.5130000114440918]"
            ]
          },
          "metadata": {
            "tags": []
          },
          "execution_count": 50
        }
      ]
    },
    {
      "cell_type": "markdown",
      "metadata": {
        "id": "8vVV0ihOTb53"
      },
      "source": [
        "Our results didn't improve much by adding AlphaDropout. In fact, the accuracy is still below what we achieved with BatchNormalization. Next, we'll implement MC Dropout without retraining the model. We'll have to use a for loop to replace the AlphaDropout layer with MC Dropout. "
      ]
    },
    {
      "cell_type": "code",
      "metadata": {
        "id": "JHx3l-E3X4fS"
      },
      "source": [
        "\r\n",
        "class MCAlphaDropout(keras.layers.AlphaDropout):\r\n",
        "    def call(self, inputs):\r\n",
        "        return super().call(inputs, training=True)"
      ],
      "execution_count": null,
      "outputs": []
    },
    {
      "cell_type": "code",
      "metadata": {
        "id": "b2HFEUWTX4iD"
      },
      "source": [
        "mc_model = keras.models.Sequential([\r\n",
        "    MCAlphaDropout(layer.rate) if isinstance(layer, keras.layers.AlphaDropout) else layer\r\n",
        "    for layer in model.layers\r\n",
        "])"
      ],
      "execution_count": null,
      "outputs": []
    },
    {
      "cell_type": "code",
      "metadata": {
        "id": "mWJjysO0X4lU"
      },
      "source": [
        "mc_model.compile(loss=\"sparse_categorical_crossentropy\",\r\n",
        "              optimizer=keras.optimizers.Nadam(lr=3e-4),\r\n",
        "              metrics=[\"accuracy\"])"
      ],
      "execution_count": null,
      "outputs": []
    },
    {
      "cell_type": "code",
      "metadata": {
        "id": "cif9DCa1X4oE"
      },
      "source": [
        "cifar10_mcalpha_callbacks = [\r\n",
        "    tf.keras.callbacks.EarlyStopping(patience=20, restore_best_weights=True),\r\n",
        "    tf.keras.callbacks.ModelCheckpoint(filepath='cifar10_mcalpha.h5', save_best_only=True)\r\n",
        "]    "
      ],
      "execution_count": null,
      "outputs": []
    },
    {
      "cell_type": "code",
      "metadata": {
        "id": "CfRkhU4YX4qt",
        "colab": {
          "base_uri": "https://localhost:8080/"
        },
        "outputId": "f4e4321b-b721-41ac-e350-1f4586793f53"
      },
      "source": [
        "%%time\r\n",
        "\r\n",
        "history = mc_model.fit(X_train_scaled, y_train, epochs=50,\r\n",
        "          validation_data=(X_val_scaled, y_val),\r\n",
        "          callbacks=cifar10_mcalpha_callbacks, \r\n",
        "          verbose=1)"
      ],
      "execution_count": null,
      "outputs": [
        {
          "output_type": "stream",
          "text": [
            "Epoch 1/50\n",
            "1407/1407 [==============================] - 13s 8ms/step - loss: 0.7116 - accuracy: 0.7595 - val_loss: 1.8241 - val_accuracy: 0.5094\n",
            "Epoch 2/50\n",
            "1407/1407 [==============================] - 11s 8ms/step - loss: 0.6886 - accuracy: 0.7730 - val_loss: 1.8457 - val_accuracy: 0.5030\n",
            "Epoch 3/50\n",
            "1407/1407 [==============================] - 11s 8ms/step - loss: 0.6755 - accuracy: 0.7740 - val_loss: 2.0206 - val_accuracy: 0.5096\n",
            "Epoch 4/50\n",
            "1407/1407 [==============================] - 11s 8ms/step - loss: 0.6686 - accuracy: 0.7756 - val_loss: 1.8547 - val_accuracy: 0.5038\n",
            "Epoch 5/50\n",
            "1407/1407 [==============================] - 11s 8ms/step - loss: 0.6474 - accuracy: 0.7839 - val_loss: 1.8839 - val_accuracy: 0.5024\n",
            "Epoch 6/50\n",
            "1407/1407 [==============================] - 11s 8ms/step - loss: 0.6395 - accuracy: 0.7867 - val_loss: 1.9581 - val_accuracy: 0.5106\n",
            "Epoch 7/50\n",
            "1407/1407 [==============================] - 11s 8ms/step - loss: 0.6219 - accuracy: 0.7914 - val_loss: 1.9683 - val_accuracy: 0.5072\n",
            "Epoch 8/50\n",
            "1407/1407 [==============================] - 11s 8ms/step - loss: 0.6301 - accuracy: 0.7906 - val_loss: 1.9919 - val_accuracy: 0.5076\n",
            "Epoch 9/50\n",
            "1407/1407 [==============================] - 11s 8ms/step - loss: 0.6098 - accuracy: 0.7967 - val_loss: 1.9883 - val_accuracy: 0.5068\n",
            "Epoch 10/50\n",
            "1407/1407 [==============================] - 11s 8ms/step - loss: 0.6099 - accuracy: 0.7962 - val_loss: 2.0680 - val_accuracy: 0.5060\n",
            "Epoch 11/50\n",
            "1407/1407 [==============================] - 11s 8ms/step - loss: 0.5885 - accuracy: 0.8054 - val_loss: 2.1526 - val_accuracy: 0.5090\n",
            "Epoch 12/50\n",
            "1407/1407 [==============================] - 11s 8ms/step - loss: 0.5821 - accuracy: 0.8088 - val_loss: 2.0158 - val_accuracy: 0.4962\n",
            "Epoch 13/50\n",
            "1407/1407 [==============================] - 11s 8ms/step - loss: 0.5669 - accuracy: 0.8132 - val_loss: 2.0488 - val_accuracy: 0.5068\n",
            "Epoch 14/50\n",
            "1407/1407 [==============================] - 11s 8ms/step - loss: 0.5457 - accuracy: 0.8173 - val_loss: 2.1833 - val_accuracy: 0.5042\n",
            "Epoch 15/50\n",
            "1407/1407 [==============================] - 11s 8ms/step - loss: 0.5539 - accuracy: 0.8184 - val_loss: 2.1297 - val_accuracy: 0.5066\n",
            "Epoch 16/50\n",
            "1407/1407 [==============================] - 11s 8ms/step - loss: 0.5432 - accuracy: 0.8215 - val_loss: 2.2384 - val_accuracy: 0.5018\n",
            "Epoch 17/50\n",
            "1407/1407 [==============================] - 11s 8ms/step - loss: 0.5192 - accuracy: 0.8302 - val_loss: 2.1928 - val_accuracy: 0.5042\n",
            "Epoch 18/50\n",
            "1407/1407 [==============================] - 11s 8ms/step - loss: 0.5453 - accuracy: 0.8253 - val_loss: 1.6921 - val_accuracy: 0.4918\n",
            "Epoch 19/50\n",
            "1407/1407 [==============================] - 11s 8ms/step - loss: 0.7812 - accuracy: 0.7456 - val_loss: 2.0075 - val_accuracy: 0.4926\n",
            "Epoch 20/50\n",
            "1407/1407 [==============================] - 11s 8ms/step - loss: 0.5546 - accuracy: 0.8171 - val_loss: 2.1080 - val_accuracy: 0.5000\n",
            "Epoch 21/50\n",
            "1407/1407 [==============================] - 11s 8ms/step - loss: 0.4933 - accuracy: 0.8399 - val_loss: 2.2112 - val_accuracy: 0.5066\n",
            "Epoch 22/50\n",
            "1407/1407 [==============================] - 11s 8ms/step - loss: 0.4818 - accuracy: 0.8445 - val_loss: 2.1628 - val_accuracy: 0.4984\n",
            "Epoch 23/50\n",
            "1407/1407 [==============================] - 11s 8ms/step - loss: 0.4904 - accuracy: 0.8402 - val_loss: 2.3539 - val_accuracy: 0.4920\n",
            "Epoch 24/50\n",
            "1407/1407 [==============================] - 11s 8ms/step - loss: 0.4810 - accuracy: 0.8445 - val_loss: 2.2570 - val_accuracy: 0.4992\n",
            "Epoch 25/50\n",
            "1407/1407 [==============================] - 11s 8ms/step - loss: 0.4697 - accuracy: 0.8488 - val_loss: 2.2272 - val_accuracy: 0.4924\n",
            "Epoch 26/50\n",
            "1407/1407 [==============================] - 11s 8ms/step - loss: 0.4672 - accuracy: 0.8498 - val_loss: 2.1800 - val_accuracy: 0.4982\n",
            "Epoch 27/50\n",
            "1407/1407 [==============================] - 11s 8ms/step - loss: 0.4721 - accuracy: 0.8468 - val_loss: 2.3827 - val_accuracy: 0.4912\n",
            "Epoch 28/50\n",
            "1407/1407 [==============================] - 11s 8ms/step - loss: 0.4590 - accuracy: 0.8532 - val_loss: 2.3693 - val_accuracy: 0.5006\n",
            "Epoch 29/50\n",
            "1407/1407 [==============================] - 11s 8ms/step - loss: 0.4459 - accuracy: 0.8562 - val_loss: 2.3831 - val_accuracy: 0.5022\n",
            "Epoch 30/50\n",
            "1407/1407 [==============================] - 11s 8ms/step - loss: 0.4365 - accuracy: 0.8612 - val_loss: 2.3616 - val_accuracy: 0.4994\n",
            "Epoch 31/50\n",
            "1407/1407 [==============================] - 11s 8ms/step - loss: 0.4290 - accuracy: 0.8605 - val_loss: 2.4002 - val_accuracy: 0.4994\n",
            "Epoch 32/50\n",
            "1407/1407 [==============================] - 11s 8ms/step - loss: 0.4341 - accuracy: 0.8587 - val_loss: 2.4578 - val_accuracy: 0.4944\n",
            "Epoch 33/50\n",
            "1407/1407 [==============================] - 11s 8ms/step - loss: 0.4274 - accuracy: 0.8638 - val_loss: 2.3897 - val_accuracy: 0.4970\n",
            "Epoch 34/50\n",
            "1407/1407 [==============================] - 11s 8ms/step - loss: 0.4142 - accuracy: 0.8686 - val_loss: 2.4567 - val_accuracy: 0.4958\n",
            "Epoch 35/50\n",
            "1407/1407 [==============================] - 11s 8ms/step - loss: 0.4058 - accuracy: 0.8701 - val_loss: 2.5062 - val_accuracy: 0.4882\n",
            "Epoch 36/50\n",
            "1407/1407 [==============================] - 11s 8ms/step - loss: 0.4210 - accuracy: 0.8651 - val_loss: 2.5029 - val_accuracy: 0.4952\n",
            "Epoch 37/50\n",
            "1407/1407 [==============================] - 11s 8ms/step - loss: 0.4012 - accuracy: 0.8712 - val_loss: 2.5064 - val_accuracy: 0.4914\n",
            "Epoch 38/50\n",
            "1407/1407 [==============================] - 11s 8ms/step - loss: 0.3932 - accuracy: 0.8760 - val_loss: 2.3511 - val_accuracy: 0.4992\n",
            "CPU times: user 7min 32s, sys: 37.3 s, total: 8min 10s\n",
            "Wall time: 6min 50s\n"
          ],
          "name": "stdout"
        }
      ]
    },
    {
      "cell_type": "code",
      "metadata": {
        "id": "lYuD4SGYxhrj",
        "colab": {
          "base_uri": "https://localhost:8080/",
          "height": 683
        },
        "outputId": "18f7ac66-28b3-488e-dde8-e721f820a98a"
      },
      "source": [
        "plot_graphs(history, \"accuracy\")\r\n",
        "plot_graphs(history, \"loss\")"
      ],
      "execution_count": null,
      "outputs": [
        {
          "output_type": "display_data",
          "data": {
            "image/png": "[encoded data removed]",
            "text/plain": [
              "<Figure size 864x360 with 1 Axes>"
            ]
          },
          "metadata": {
            "tags": [],
            "needs_background": "light"
          }
        },
        {
          "output_type": "display_data",
          "data": {
            "image/png": "[encoded data removed]",
            "text/plain": [
              "<Figure size 864x360 with 1 Axes>"
            ]
          },
          "metadata": {
            "tags": [],
            "needs_background": "light"
          }
        }
      ]
    },
    {
      "cell_type": "code",
      "metadata": {
        "id": "Gem2xNB-xivv"
      },
      "source": [
        "def mc_dropout_predict_probas(mc_model, X, n_samples=10):\r\n",
        "    Y_probas = [mc_model.predict(X) for sample in range(n_samples)]\r\n",
        "    return np.mean(Y_probas, axis=0)\r\n",
        "\r\n",
        "def mc_dropout_predict_classes(mc_model, X, n_samples=10):\r\n",
        "    Y_probas = mc_dropout_predict_probas(mc_model, X, n_samples)\r\n",
        "    return np.argmax(Y_probas, axis=1)"
      ],
      "execution_count": null,
      "outputs": []
    },
    {
      "cell_type": "code",
      "metadata": {
        "id": "9dX0t2BrXlam"
      },
      "source": [
        "keras.backend.clear_session()\r\n",
        "from numpy.random import seed\r\n",
        "seed(999)\r\n",
        "tf.random.set_seed(999) "
      ],
      "execution_count": null,
      "outputs": []
    },
    {
      "cell_type": "code",
      "metadata": {
        "colab": {
          "base_uri": "https://localhost:8080/"
        },
        "id": "t61V8vvzXl0C",
        "outputId": "7f07f8b3-6d39-433e-e470-e9253e1277f4"
      },
      "source": [
        "y_pred = mc_dropout_predict_classes(mc_model, X_val_scaled)\r\n",
        "accuracy = np.mean(y_pred == y_val[:, 0])\r\n",
        "accuracy"
      ],
      "execution_count": null,
      "outputs": [
        {
          "output_type": "execute_result",
          "data": {
            "text/plain": [
              "0.4948"
            ]
          },
          "metadata": {
            "tags": []
          },
          "execution_count": 67
        }
      ]
    },
    {
      "cell_type": "code",
      "metadata": {
        "id": "x8TohPqzX4zE",
        "colab": {
          "base_uri": "https://localhost:8080/"
        },
        "outputId": "6d0b569e-e4a8-4c4f-959f-4aa38589a4cd"
      },
      "source": [
        "y_pred_test = mc_dropout_predict_classes(mc_model, X_test_scaled)\r\n",
        "accuracy_test = np.mean(y_pred_test == y_test[:, 0])\r\n",
        "accuracy_test"
      ],
      "execution_count": null,
      "outputs": [
        {
          "output_type": "execute_result",
          "data": {
            "text/plain": [
              "0.4923"
            ]
          },
          "metadata": {
            "tags": []
          },
          "execution_count": 68
        }
      ]
    },
    {
      "cell_type": "markdown",
      "metadata": {
        "id": "oqHO77XDf0sR"
      },
      "source": [
        "The accuracy for MCDropout is slightly lower than AlphaDropout, but not significantly so. Batch normalization is still our best model."
      ]
    },
    {
      "cell_type": "markdown",
      "metadata": {
        "id": "lQ-nPWqndJc_"
      },
      "source": [
        "##1cycle Scheduling\r\n",
        "\r\n",
        "*f. Retrain your model using 1cycle scheduling and see if it improves training\r\n",
        "speed and model accuracy*"
      ]
    },
    {
      "cell_type": "code",
      "metadata": {
        "id": "g_jBtHWLXHY9"
      },
      "source": [
        "keras.backend.clear_session()\r\n",
        "from numpy.random import seed\r\n",
        "seed(999)\r\n",
        "tf.random.set_seed(999) "
      ],
      "execution_count": null,
      "outputs": []
    },
    {
      "cell_type": "markdown",
      "metadata": {
        "id": "KtmQnBrddKoP"
      },
      "source": [
        "In order to use 1cycle scheduling, we'll first need to implement an exponential learning rate class to determine an ideal learning rate. "
      ]
    },
    {
      "cell_type": "code",
      "metadata": {
        "id": "DdCiiSF9XKks"
      },
      "source": [
        "import math\r\n",
        "\r\n",
        "K = keras.backend\r\n",
        "\r\n",
        "# Exponential learning rate class\r\n",
        "\r\n",
        "class ExponentialLearningRate(keras.callbacks.Callback):\r\n",
        "    def __init__(self, factor):\r\n",
        "        self.factor = factor\r\n",
        "        self.rates = []\r\n",
        "        self.losses = []\r\n",
        "    def on_batch_end(self, batch, logs):\r\n",
        "        self.rates.append(K.get_value(self.model.optimizer.lr))\r\n",
        "        self.losses.append(logs[\"loss\"])\r\n",
        "        K.set_value(self.model.optimizer.lr, self.model.optimizer.lr * self.factor)\r\n",
        "\r\n",
        "def find_learning_rate(model, X, y, epochs=1, batch_size=32, min_rate=10**-5, max_rate=10):\r\n",
        "    init_weights = model.get_weights()\r\n",
        "    iterations = math.ceil(len(X) / batch_size) * epochs\r\n",
        "    factor = np.exp(np.log(max_rate / min_rate) / iterations)\r\n",
        "    init_lr = K.get_value(model.optimizer.lr)\r\n",
        "    K.set_value(model.optimizer.lr, min_rate)\r\n",
        "    exp_lr = ExponentialLearningRate(factor)\r\n",
        "    history = model.fit(X, y, epochs=epochs, batch_size=batch_size,\r\n",
        "                        callbacks=[exp_lr])\r\n",
        "    K.set_value(model.optimizer.lr, init_lr)\r\n",
        "    model.set_weights(init_weights)\r\n",
        "    return exp_lr.rates, exp_lr.losses\r\n",
        "\r\n",
        "def plot_lr_vs_loss(rates, losses):\r\n",
        "    plt.plot(rates, losses)\r\n",
        "    plt.gca().set_xscale('log')\r\n",
        "    plt.hlines(min(losses), min(rates), max(rates))\r\n",
        "    plt.axis([min(rates), max(rates), min(losses), (losses[0] + min(losses)) / 2])\r\n",
        "    plt.xlabel(\"Learning rate\")\r\n",
        "    plt.ylabel(\"Loss\")"
      ],
      "execution_count": null,
      "outputs": []
    },
    {
      "cell_type": "code",
      "metadata": {
        "id": "1Wy4YfMnWZLQ"
      },
      "source": [
        "model = keras.models.Sequential()\r\n",
        "model.add(keras.layers.Flatten(input_shape=[32, 32, 3]))\r\n",
        "for _ in range(20):\r\n",
        "    model.add(keras.layers.Dense(100,\r\n",
        "                                 kernel_initializer=\"lecun_normal\",\r\n",
        "                                 activation=\"selu\"))\r\n"
      ],
      "execution_count": null,
      "outputs": []
    },
    {
      "cell_type": "markdown",
      "metadata": {
        "id": "rCdMFkpLf9gd"
      },
      "source": [
        "Here, we're using an SGD optimizer rather than Nadam as with our prervious models. The author fails to state why, but it may be because using Nadam doesn't produce the necessary training loss spike below."
      ]
    },
    {
      "cell_type": "code",
      "metadata": {
        "id": "q9XMk1moXKhd"
      },
      "source": [
        "model.compile(loss=\"sparse_categorical_crossentropy\",\r\n",
        "              optimizer=keras.optimizers.SGD(lr=1e-3),\r\n",
        "              metrics=[\"accuracy\"])"
      ],
      "execution_count": null,
      "outputs": []
    },
    {
      "cell_type": "code",
      "metadata": {
        "id": "b8sTqyKlXKZt",
        "colab": {
          "base_uri": "https://localhost:8080/",
          "height": 300
        },
        "outputId": "0b0bae8b-bf18-48a7-a26a-9dc1936c727c"
      },
      "source": [
        "batch_size = 128\r\n",
        "rates, losses = find_learning_rate(model, X_train_scaled, y_train, epochs=1, batch_size=batch_size)\r\n",
        "plot_lr_vs_loss(rates, losses)"
      ],
      "execution_count": null,
      "outputs": [
        {
          "output_type": "stream",
          "text": [
            "352/352 [==============================] - 2s 5ms/step - loss: 8.6633 - accuracy: 0.0340\n"
          ],
          "name": "stdout"
        },
        {
          "output_type": "display_data",
          "data": {
            "image/png": "[encoded data removed]",
            "text/plain": [
              "<Figure size 432x288 with 1 Axes>"
            ]
          },
          "metadata": {
            "tags": [],
            "needs_background": "light"
          }
        }
      ]
    },
    {
      "cell_type": "markdown",
      "metadata": {
        "id": "58yJ6eqn4qA8"
      },
      "source": [
        "Now, let's create the 1cycle scheduler class. Our loss is around 3e-1. Taking the author's advice from the previous chapter, we'll double it to 6e-1 when implementing it in our model."
      ]
    },
    {
      "cell_type": "code",
      "metadata": {
        "id": "4aMPnlo0XKWk"
      },
      "source": [
        "# 1cycle scheduler\r\n",
        "class OneCycleScheduler(keras.callbacks.Callback):\r\n",
        "    def __init__(self, iterations, max_rate, start_rate=None,\r\n",
        "                 last_iterations=None, last_rate=None):\r\n",
        "        self.iterations = iterations\r\n",
        "        self.max_rate = max_rate\r\n",
        "        self.start_rate = start_rate or max_rate / 10\r\n",
        "        self.last_iterations = last_iterations or iterations // 10 + 1\r\n",
        "        self.half_iteration = (iterations - self.last_iterations) // 2\r\n",
        "        self.last_rate = last_rate or self.start_rate / 1000\r\n",
        "        self.iteration = 0\r\n",
        "    def _interpolate(self, iter1, iter2, rate1, rate2):\r\n",
        "        return ((rate2 - rate1) * (self.iteration - iter1)\r\n",
        "                / (iter2 - iter1) + rate1)\r\n",
        "    def on_batch_begin(self, batch, logs):\r\n",
        "        if self.iteration < self.half_iteration:\r\n",
        "            rate = self._interpolate(0, self.half_iteration, self.start_rate, self.max_rate)\r\n",
        "        elif self.iteration < 2 * self.half_iteration:\r\n",
        "            rate = self._interpolate(self.half_iteration, 2 * self.half_iteration,\r\n",
        "                                     self.max_rate, self.start_rate)\r\n",
        "        else:\r\n",
        "            rate = self._interpolate(2 * self.half_iteration, self.iterations,\r\n",
        "                                     self.start_rate, self.last_rate)\r\n",
        "        self.iteration += 1\r\n",
        "        K.set_value(self.model.optimizer.lr, rate)"
      ],
      "execution_count": null,
      "outputs": []
    },
    {
      "cell_type": "code",
      "metadata": {
        "id": "qmQfyXMPWmZ4"
      },
      "source": [
        "keras.backend.clear_session()\r\n",
        "from numpy.random import seed\r\n",
        "seed(999)\r\n",
        "tf.random.set_seed(999) "
      ],
      "execution_count": null,
      "outputs": []
    },
    {
      "cell_type": "code",
      "metadata": {
        "id": "fMgybRUxXKTr"
      },
      "source": [
        "model = keras.models.Sequential()\r\n",
        "model.add(keras.layers.Flatten(input_shape=[32, 32, 3]))\r\n",
        "for _ in range(20):\r\n",
        "    model.add(keras.layers.Dense(100,\r\n",
        "                                 kernel_initializer=\"lecun_normal\",\r\n",
        "                                 activation=\"selu\"))\r\n",
        "\r\n",
        "model.add(keras.layers.AlphaDropout(rate=0.1))\r\n",
        "model.add(keras.layers.Dense(10, activation=\"softmax\"))\r\n"
      ],
      "execution_count": null,
      "outputs": []
    },
    {
      "cell_type": "code",
      "metadata": {
        "id": "8HYQzIrrV9ig"
      },
      "source": [
        "model.compile(loss=\"sparse_categorical_crossentropy\",\r\n",
        "              optimizer=keras.optimizers.SGD(lr=6e-1),\r\n",
        "              metrics=[\"accuracy\"])"
      ],
      "execution_count": null,
      "outputs": []
    },
    {
      "cell_type": "code",
      "metadata": {
        "id": "MKkHozq8Z9ux"
      },
      "source": [
        "cifar10_1cycle_callbacks = [\r\n",
        "    tf.keras.callbacks.EarlyStopping(patience=20, restore_best_weights=True),\r\n",
        "    tf.keras.callbacks.ModelCheckpoint(filepath='cifar10_1cycle.h5', save_best_only=True)\r\n",
        "]    "
      ],
      "execution_count": null,
      "outputs": []
    },
    {
      "cell_type": "code",
      "metadata": {
        "id": "kuKWtG7DXKMR",
        "colab": {
          "base_uri": "https://localhost:8080/"
        },
        "outputId": "bcc2979c-b5c6-4318-c01d-fc3a2613fff5"
      },
      "source": [
        "\r\n",
        "n_epochs = 50\r\n",
        "onecycle = OneCycleScheduler(math.ceil(len(X_train_scaled) / batch_size) * n_epochs, max_rate=0.05)\r\n",
        "history = model.fit(X_train_scaled, y_train, epochs=n_epochs, batch_size=batch_size,\r\n",
        "                    validation_data=(X_val_scaled, y_val),\r\n",
        "                    callbacks=[onecycle, cifar10_1cycle_callbacks])"
      ],
      "execution_count": null,
      "outputs": [
        {
          "output_type": "stream",
          "text": [
            "Epoch 1/50\n",
            "352/352 [==============================] - 3s 5ms/step - loss: 2.2085 - accuracy: 0.2457 - val_loss: 1.7759 - val_accuracy: 0.3836\n",
            "Epoch 2/50\n",
            "352/352 [==============================] - 2s 5ms/step - loss: 1.8300 - accuracy: 0.3600 - val_loss: 1.7050 - val_accuracy: 0.3980\n",
            "Epoch 3/50\n",
            "352/352 [==============================] - 2s 4ms/step - loss: 1.6877 - accuracy: 0.4013 - val_loss: 1.6252 - val_accuracy: 0.4316\n",
            "Epoch 4/50\n",
            "352/352 [==============================] - 2s 4ms/step - loss: 1.5776 - accuracy: 0.4419 - val_loss: 1.6148 - val_accuracy: 0.4372\n",
            "Epoch 5/50\n",
            "352/352 [==============================] - 2s 5ms/step - loss: 1.5009 - accuracy: 0.4691 - val_loss: 1.5837 - val_accuracy: 0.4508\n",
            "Epoch 6/50\n",
            "352/352 [==============================] - 2s 4ms/step - loss: 1.4441 - accuracy: 0.4821 - val_loss: 1.6256 - val_accuracy: 0.4518\n",
            "Epoch 7/50\n",
            "352/352 [==============================] - 2s 4ms/step - loss: 1.4033 - accuracy: 0.4962 - val_loss: 1.5479 - val_accuracy: 0.4704\n",
            "Epoch 8/50\n",
            "352/352 [==============================] - 2s 4ms/step - loss: 1.3664 - accuracy: 0.5162 - val_loss: 1.5460 - val_accuracy: 0.4758\n",
            "Epoch 9/50\n",
            "352/352 [==============================] - 2s 4ms/step - loss: 1.3319 - accuracy: 0.5297 - val_loss: 1.6064 - val_accuracy: 0.4592\n",
            "Epoch 10/50\n",
            "352/352 [==============================] - 2s 4ms/step - loss: 1.2979 - accuracy: 0.5425 - val_loss: 1.5779 - val_accuracy: 0.4648\n",
            "Epoch 11/50\n",
            "352/352 [==============================] - 2s 4ms/step - loss: 1.2804 - accuracy: 0.5412 - val_loss: 1.6655 - val_accuracy: 0.4678\n",
            "Epoch 12/50\n",
            "352/352 [==============================] - 2s 4ms/step - loss: 1.2538 - accuracy: 0.5580 - val_loss: 1.5078 - val_accuracy: 0.4884\n",
            "Epoch 13/50\n",
            "352/352 [==============================] - 2s 4ms/step - loss: 1.2218 - accuracy: 0.5663 - val_loss: 1.5635 - val_accuracy: 0.4816\n",
            "Epoch 14/50\n",
            "352/352 [==============================] - 2s 4ms/step - loss: 1.1957 - accuracy: 0.5759 - val_loss: 1.6433 - val_accuracy: 0.4714\n",
            "Epoch 15/50\n",
            "352/352 [==============================] - 2s 5ms/step - loss: 1.1819 - accuracy: 0.5811 - val_loss: 1.6183 - val_accuracy: 0.4740\n",
            "Epoch 16/50\n",
            "352/352 [==============================] - 2s 4ms/step - loss: 1.1554 - accuracy: 0.5904 - val_loss: 1.5756 - val_accuracy: 0.4930\n",
            "Epoch 17/50\n",
            "352/352 [==============================] - 2s 4ms/step - loss: 1.1424 - accuracy: 0.5944 - val_loss: 1.7374 - val_accuracy: 0.4622\n",
            "Epoch 18/50\n",
            "352/352 [==============================] - 2s 4ms/step - loss: 1.1247 - accuracy: 0.5991 - val_loss: 1.6094 - val_accuracy: 0.4688\n",
            "Epoch 19/50\n",
            "352/352 [==============================] - 2s 5ms/step - loss: 1.0931 - accuracy: 0.6072 - val_loss: 1.6870 - val_accuracy: 0.4598\n",
            "Epoch 20/50\n",
            "352/352 [==============================] - 2s 4ms/step - loss: 1.0817 - accuracy: 0.6154 - val_loss: 1.6414 - val_accuracy: 0.4714\n",
            "Epoch 21/50\n",
            "352/352 [==============================] - 2s 5ms/step - loss: 1.0641 - accuracy: 0.6232 - val_loss: 1.7312 - val_accuracy: 0.4682\n",
            "Epoch 22/50\n",
            "352/352 [==============================] - 2s 5ms/step - loss: 1.0530 - accuracy: 0.6229 - val_loss: 1.6690 - val_accuracy: 0.4852\n",
            "Epoch 23/50\n",
            "352/352 [==============================] - 2s 4ms/step - loss: 1.0331 - accuracy: 0.6325 - val_loss: 1.6382 - val_accuracy: 0.4936\n",
            "Epoch 24/50\n",
            "352/352 [==============================] - 2s 4ms/step - loss: 1.0031 - accuracy: 0.6420 - val_loss: 1.6923 - val_accuracy: 0.4844\n",
            "Epoch 25/50\n",
            "352/352 [==============================] - 2s 4ms/step - loss: 0.9572 - accuracy: 0.6583 - val_loss: 1.7285 - val_accuracy: 0.4982\n",
            "Epoch 26/50\n",
            "352/352 [==============================] - 2s 4ms/step - loss: 0.9173 - accuracy: 0.6703 - val_loss: 1.7666 - val_accuracy: 0.4910\n",
            "Epoch 27/50\n",
            "352/352 [==============================] - 2s 4ms/step - loss: 0.8936 - accuracy: 0.6797 - val_loss: 1.6841 - val_accuracy: 0.4972\n",
            "Epoch 28/50\n",
            "352/352 [==============================] - 2s 4ms/step - loss: 0.8462 - accuracy: 0.6969 - val_loss: 1.7116 - val_accuracy: 0.4984\n",
            "Epoch 29/50\n",
            "352/352 [==============================] - 2s 4ms/step - loss: 0.8170 - accuracy: 0.7045 - val_loss: 1.7916 - val_accuracy: 0.4950\n",
            "Epoch 30/50\n",
            "352/352 [==============================] - 2s 4ms/step - loss: 0.7684 - accuracy: 0.7247 - val_loss: 1.8217 - val_accuracy: 0.4898\n",
            "Epoch 31/50\n",
            "352/352 [==============================] - 2s 4ms/step - loss: 0.7476 - accuracy: 0.7298 - val_loss: 1.8868 - val_accuracy: 0.5030\n",
            "Epoch 32/50\n",
            "352/352 [==============================] - 2s 4ms/step - loss: 0.7065 - accuracy: 0.7447 - val_loss: 1.9917 - val_accuracy: 0.4914\n"
          ],
          "name": "stdout"
        }
      ]
    },
    {
      "cell_type": "code",
      "metadata": {
        "id": "V_NXidx1XJ6V",
        "colab": {
          "base_uri": "https://localhost:8080/"
        },
        "outputId": "a11e9656-3fea-4eae-a762-cc15797e0146"
      },
      "source": [
        "model = keras.models.load_model(\"cifar10_1cycle.h5\")\r\n",
        "model.evaluate(X_val_scaled, y_val)"
      ],
      "execution_count": null,
      "outputs": [
        {
          "output_type": "stream",
          "text": [
            "157/157 [==============================] - 1s 2ms/step - loss: 1.5078 - accuracy: 0.4884\n"
          ],
          "name": "stdout"
        },
        {
          "output_type": "execute_result",
          "data": {
            "text/plain": [
              "[1.5077800750732422, 0.48840001225471497]"
            ]
          },
          "metadata": {
            "tags": []
          },
          "execution_count": 92
        }
      ]
    },
    {
      "cell_type": "code",
      "metadata": {
        "colab": {
          "base_uri": "https://localhost:8080/"
        },
        "id": "w2EX4o3ZaZzB",
        "outputId": "74dc07f5-cd55-4254-e307-5a548064a362"
      },
      "source": [
        "model.evaluate(X_test_scaled, y_test)"
      ],
      "execution_count": null,
      "outputs": [
        {
          "output_type": "stream",
          "text": [
            "313/313 [==============================] - 1s 2ms/step - loss: 1.5236 - accuracy: 0.4902\n"
          ],
          "name": "stdout"
        },
        {
          "output_type": "execute_result",
          "data": {
            "text/plain": [
              "[1.5236462354660034, 0.490200012922287]"
            ]
          },
          "metadata": {
            "tags": []
          },
          "execution_count": 93
        }
      ]
    },
    {
      "cell_type": "markdown",
      "metadata": {
        "id": "j9Y98WkXheAt"
      },
      "source": [
        "The accuracy is still higher than our initial model's but lower than the batch  model. As expected, batch normalization has a higher accuracy than all of the other models, though it is notably slower than all of them as well. However, all of the models seem to be overfitting quite a bit.\r\n",
        "\r\n",
        "In an exercise like this, it's worth going with batch over the other models because while the training time is higher, it's still only a difference of a few minutes. On a larger dataset and/or deeper model, such a decision may not be easy. It becomes a matter of weighing improved accuracy versus increased training time. In some cases, an improved accuracy of a few percentage points may not warrant an increased training time of hours or even days."
      ]
    },
    {
      "cell_type": "code",
      "metadata": {
        "id": "K9JZ7JPgiUTn"
      },
      "source": [
        ""
      ],
      "execution_count": null,
      "outputs": []
    }
  ]
}